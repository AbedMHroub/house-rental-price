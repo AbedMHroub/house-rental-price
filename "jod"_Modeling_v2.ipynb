{
  "nbformat": 4,
  "nbformat_minor": 0,
  "metadata": {
    "colab": {
      "name": "\"jod\" Modeling_v2.ipynb",
      "provenance": [],
      "collapsed_sections": [],
      "include_colab_link": true
    },
    "kernelspec": {
      "name": "python3",
      "display_name": "Python 3"
    }
  },
  "cells": [
    {
      "cell_type": "markdown",
      "metadata": {
        "id": "view-in-github",
        "colab_type": "text"
      },
      "source": [
        "<a href=\"https://colab.research.google.com/github/AbedMHroub/house-rental-price/blob/Modeling/%22jod%22_Modeling_v2.ipynb\" target=\"_parent\"><img src=\"https://colab.research.google.com/assets/colab-badge.svg\" alt=\"Open In Colab\"/></a>"
      ]
    },
    {
      "cell_type": "code",
      "metadata": {
        "id": "ytCTiZWJe3ri",
        "colab": {
          "base_uri": "https://localhost:8080/"
        },
        "outputId": "627b2a34-5eff-4493-9d09-025fe287385a"
      },
      "source": [
        "#!pip install category-encoders\n",
        "import os\n",
        "import warnings\n",
        "from pathlib import Path\n",
        "\n",
        "import matplotlib.pyplot as plt\n",
        "import numpy as np\n",
        "import pandas as pd\n",
        "import seaborn as sns\n",
        "from IPython.display import display\n",
        "from pandas.api.types import CategoricalDtype\n",
        "\n",
        "#from category_encoders import MEstimateEncoder\n",
        "from sklearn.cluster import KMeans\n",
        "from sklearn.decomposition import PCA\n",
        "from sklearn.feature_selection import mutual_info_regression\n",
        "from sklearn.model_selection import KFold, cross_val_score\n",
        "from xgboost import XGBRegressor\n",
        "from sklearn.linear_model import LinearRegression\n",
        "from sklearn.ensemble import RandomForestRegressor\n",
        "from sklearn.linear_model import Ridge\n",
        "\n",
        "# Set Matplotlib defaults\n",
        "plt.style.use(\"seaborn-whitegrid\")\n",
        "plt.rc(\"figure\", autolayout=True)\n",
        "plt.rc(\n",
        "    \"axes\",\n",
        "    labelweight=\"bold\",\n",
        "    labelsize=\"large\",\n",
        "    titleweight=\"bold\",\n",
        "    titlesize=14,\n",
        "    titlepad=10,\n",
        ")\n",
        "\n",
        "# Mute warnings\n",
        "warnings.filterwarnings('ignore')"
      ],
      "execution_count": 1,
      "outputs": [
        {
          "output_type": "stream",
          "text": [
            "Collecting category-encoders\n",
            "\u001b[?25l  Downloading https://files.pythonhosted.org/packages/44/57/fcef41c248701ee62e8325026b90c432adea35555cbc870aff9cfba23727/category_encoders-2.2.2-py2.py3-none-any.whl (80kB)\n",
            "\r\u001b[K     |████                            | 10kB 12.1MB/s eta 0:00:01\r\u001b[K     |████████▏                       | 20kB 17.6MB/s eta 0:00:01\r\u001b[K     |████████████▏                   | 30kB 9.0MB/s eta 0:00:01\r\u001b[K     |████████████████▎               | 40kB 8.0MB/s eta 0:00:01\r\u001b[K     |████████████████████▎           | 51kB 4.4MB/s eta 0:00:01\r\u001b[K     |████████████████████████▍       | 61kB 5.1MB/s eta 0:00:01\r\u001b[K     |████████████████████████████▍   | 71kB 5.2MB/s eta 0:00:01\r\u001b[K     |████████████████████████████████| 81kB 3.5MB/s \n",
            "\u001b[?25hRequirement already satisfied: numpy>=1.14.0 in /usr/local/lib/python3.7/dist-packages (from category-encoders) (1.19.5)\n",
            "Requirement already satisfied: pandas>=0.21.1 in /usr/local/lib/python3.7/dist-packages (from category-encoders) (1.1.5)\n",
            "Requirement already satisfied: scikit-learn>=0.20.0 in /usr/local/lib/python3.7/dist-packages (from category-encoders) (0.22.2.post1)\n",
            "Requirement already satisfied: statsmodels>=0.9.0 in /usr/local/lib/python3.7/dist-packages (from category-encoders) (0.10.2)\n",
            "Requirement already satisfied: patsy>=0.5.1 in /usr/local/lib/python3.7/dist-packages (from category-encoders) (0.5.1)\n",
            "Requirement already satisfied: scipy>=1.0.0 in /usr/local/lib/python3.7/dist-packages (from category-encoders) (1.4.1)\n",
            "Requirement already satisfied: pytz>=2017.2 in /usr/local/lib/python3.7/dist-packages (from pandas>=0.21.1->category-encoders) (2018.9)\n",
            "Requirement already satisfied: python-dateutil>=2.7.3 in /usr/local/lib/python3.7/dist-packages (from pandas>=0.21.1->category-encoders) (2.8.1)\n",
            "Requirement already satisfied: joblib>=0.11 in /usr/local/lib/python3.7/dist-packages (from scikit-learn>=0.20.0->category-encoders) (1.0.1)\n",
            "Requirement already satisfied: six in /usr/local/lib/python3.7/dist-packages (from patsy>=0.5.1->category-encoders) (1.15.0)\n",
            "Installing collected packages: category-encoders\n",
            "Successfully installed category-encoders-2.2.2\n"
          ],
          "name": "stdout"
        }
      ]
    },
    {
      "cell_type": "code",
      "metadata": {
        "colab": {
          "base_uri": "https://localhost:8080/",
          "height": 422
        },
        "id": "2Vo0XdSTgdXz",
        "outputId": "df6447cd-689b-4ce0-fbc3-cb0d62e1ef35"
      },
      "source": [
        "data_dir = Path(\"/content/dfFE11-v2.csv\")\n",
        "df = pd.read_csv(data_dir)\n",
        "df"
      ],
      "execution_count": 3,
      "outputs": [
        {
          "output_type": "execute_result",
          "data": {
            "text/html": [
              "<div>\n",
              "<style scoped>\n",
              "    .dataframe tbody tr th:only-of-type {\n",
              "        vertical-align: middle;\n",
              "    }\n",
              "\n",
              "    .dataframe tbody tr th {\n",
              "        vertical-align: top;\n",
              "    }\n",
              "\n",
              "    .dataframe thead th {\n",
              "        text-align: right;\n",
              "    }\n",
              "</style>\n",
              "<table border=\"1\" class=\"dataframe\">\n",
              "  <thead>\n",
              "    <tr style=\"text-align: right;\">\n",
              "      <th></th>\n",
              "      <th>city</th>\n",
              "      <th>status</th>\n",
              "      <th>numberRooms</th>\n",
              "      <th>numberBathrooms</th>\n",
              "      <th>numberBalconies</th>\n",
              "      <th>elevator</th>\n",
              "      <th>carParking</th>\n",
              "      <th>heating</th>\n",
              "      <th>houseSpace</th>\n",
              "      <th>PriceType_JOD</th>\n",
              "      <th>PriceType_NIS</th>\n",
              "      <th>PriceType_USD</th>\n",
              "      <th>featurePlus</th>\n",
              "      <th>Bldg_A</th>\n",
              "      <th>Bldg_B</th>\n",
              "      <th>Bldg_C</th>\n",
              "      <th>MedstatusHouseSpace</th>\n",
              "      <th>city_encoded</th>\n",
              "      <th>price</th>\n",
              "    </tr>\n",
              "  </thead>\n",
              "  <tbody>\n",
              "    <tr>\n",
              "      <th>0</th>\n",
              "      <td>1</td>\n",
              "      <td>1</td>\n",
              "      <td>1</td>\n",
              "      <td>1</td>\n",
              "      <td>0</td>\n",
              "      <td>1</td>\n",
              "      <td>1</td>\n",
              "      <td>0</td>\n",
              "      <td>140.0</td>\n",
              "      <td>0</td>\n",
              "      <td>1</td>\n",
              "      <td>0</td>\n",
              "      <td>1.000000</td>\n",
              "      <td>0</td>\n",
              "      <td>0</td>\n",
              "      <td>0</td>\n",
              "      <td>140.0</td>\n",
              "      <td>2179.295502</td>\n",
              "      <td>1300</td>\n",
              "    </tr>\n",
              "    <tr>\n",
              "      <th>1</th>\n",
              "      <td>1</td>\n",
              "      <td>1</td>\n",
              "      <td>1</td>\n",
              "      <td>1</td>\n",
              "      <td>1</td>\n",
              "      <td>1</td>\n",
              "      <td>1</td>\n",
              "      <td>0</td>\n",
              "      <td>80.0</td>\n",
              "      <td>0</td>\n",
              "      <td>0</td>\n",
              "      <td>1</td>\n",
              "      <td>1.000000</td>\n",
              "      <td>1</td>\n",
              "      <td>0</td>\n",
              "      <td>0</td>\n",
              "      <td>140.0</td>\n",
              "      <td>2179.295502</td>\n",
              "      <td>550</td>\n",
              "    </tr>\n",
              "    <tr>\n",
              "      <th>2</th>\n",
              "      <td>1</td>\n",
              "      <td>1</td>\n",
              "      <td>3</td>\n",
              "      <td>3</td>\n",
              "      <td>2</td>\n",
              "      <td>1</td>\n",
              "      <td>1</td>\n",
              "      <td>1</td>\n",
              "      <td>190.0</td>\n",
              "      <td>0</td>\n",
              "      <td>0</td>\n",
              "      <td>1</td>\n",
              "      <td>1.000000</td>\n",
              "      <td>2</td>\n",
              "      <td>0</td>\n",
              "      <td>0</td>\n",
              "      <td>140.0</td>\n",
              "      <td>2179.295502</td>\n",
              "      <td>1000</td>\n",
              "    </tr>\n",
              "    <tr>\n",
              "      <th>3</th>\n",
              "      <td>1</td>\n",
              "      <td>1</td>\n",
              "      <td>3</td>\n",
              "      <td>3</td>\n",
              "      <td>1</td>\n",
              "      <td>1</td>\n",
              "      <td>1</td>\n",
              "      <td>1</td>\n",
              "      <td>190.0</td>\n",
              "      <td>0</td>\n",
              "      <td>0</td>\n",
              "      <td>1</td>\n",
              "      <td>1.000000</td>\n",
              "      <td>1</td>\n",
              "      <td>0</td>\n",
              "      <td>0</td>\n",
              "      <td>140.0</td>\n",
              "      <td>2179.295502</td>\n",
              "      <td>950</td>\n",
              "    </tr>\n",
              "    <tr>\n",
              "      <th>4</th>\n",
              "      <td>1</td>\n",
              "      <td>1</td>\n",
              "      <td>3</td>\n",
              "      <td>3</td>\n",
              "      <td>3</td>\n",
              "      <td>1</td>\n",
              "      <td>1</td>\n",
              "      <td>0</td>\n",
              "      <td>160.0</td>\n",
              "      <td>0</td>\n",
              "      <td>0</td>\n",
              "      <td>1</td>\n",
              "      <td>1.000000</td>\n",
              "      <td>3</td>\n",
              "      <td>0</td>\n",
              "      <td>0</td>\n",
              "      <td>140.0</td>\n",
              "      <td>2179.295502</td>\n",
              "      <td>800</td>\n",
              "    </tr>\n",
              "    <tr>\n",
              "      <th>...</th>\n",
              "      <td>...</td>\n",
              "      <td>...</td>\n",
              "      <td>...</td>\n",
              "      <td>...</td>\n",
              "      <td>...</td>\n",
              "      <td>...</td>\n",
              "      <td>...</td>\n",
              "      <td>...</td>\n",
              "      <td>...</td>\n",
              "      <td>...</td>\n",
              "      <td>...</td>\n",
              "      <td>...</td>\n",
              "      <td>...</td>\n",
              "      <td>...</td>\n",
              "      <td>...</td>\n",
              "      <td>...</td>\n",
              "      <td>...</td>\n",
              "      <td>...</td>\n",
              "      <td>...</td>\n",
              "    </tr>\n",
              "    <tr>\n",
              "      <th>7561</th>\n",
              "      <td>1</td>\n",
              "      <td>1</td>\n",
              "      <td>2</td>\n",
              "      <td>2</td>\n",
              "      <td>1</td>\n",
              "      <td>1</td>\n",
              "      <td>1</td>\n",
              "      <td>0</td>\n",
              "      <td>120.0</td>\n",
              "      <td>0</td>\n",
              "      <td>0</td>\n",
              "      <td>1</td>\n",
              "      <td>1.000000</td>\n",
              "      <td>1</td>\n",
              "      <td>0</td>\n",
              "      <td>0</td>\n",
              "      <td>140.0</td>\n",
              "      <td>1789.162426</td>\n",
              "      <td>600</td>\n",
              "    </tr>\n",
              "    <tr>\n",
              "      <th>7562</th>\n",
              "      <td>1</td>\n",
              "      <td>2</td>\n",
              "      <td>3</td>\n",
              "      <td>2</td>\n",
              "      <td>1</td>\n",
              "      <td>1</td>\n",
              "      <td>1</td>\n",
              "      <td>0</td>\n",
              "      <td>140.0</td>\n",
              "      <td>0</td>\n",
              "      <td>0</td>\n",
              "      <td>1</td>\n",
              "      <td>0.666667</td>\n",
              "      <td>0</td>\n",
              "      <td>1</td>\n",
              "      <td>0</td>\n",
              "      <td>140.0</td>\n",
              "      <td>1789.162426</td>\n",
              "      <td>500</td>\n",
              "    </tr>\n",
              "    <tr>\n",
              "      <th>7563</th>\n",
              "      <td>5</td>\n",
              "      <td>2</td>\n",
              "      <td>3</td>\n",
              "      <td>2</td>\n",
              "      <td>2</td>\n",
              "      <td>0</td>\n",
              "      <td>0</td>\n",
              "      <td>0</td>\n",
              "      <td>150.0</td>\n",
              "      <td>0</td>\n",
              "      <td>1</td>\n",
              "      <td>0</td>\n",
              "      <td>0.666667</td>\n",
              "      <td>0</td>\n",
              "      <td>2</td>\n",
              "      <td>0</td>\n",
              "      <td>140.0</td>\n",
              "      <td>4696.623612</td>\n",
              "      <td>1600</td>\n",
              "    </tr>\n",
              "    <tr>\n",
              "      <th>7564</th>\n",
              "      <td>4</td>\n",
              "      <td>1</td>\n",
              "      <td>1</td>\n",
              "      <td>1</td>\n",
              "      <td>1</td>\n",
              "      <td>1</td>\n",
              "      <td>1</td>\n",
              "      <td>1</td>\n",
              "      <td>70.0</td>\n",
              "      <td>0</td>\n",
              "      <td>1</td>\n",
              "      <td>0</td>\n",
              "      <td>1.000000</td>\n",
              "      <td>1</td>\n",
              "      <td>0</td>\n",
              "      <td>0</td>\n",
              "      <td>140.0</td>\n",
              "      <td>3882.401112</td>\n",
              "      <td>1000</td>\n",
              "    </tr>\n",
              "    <tr>\n",
              "      <th>7565</th>\n",
              "      <td>1</td>\n",
              "      <td>1</td>\n",
              "      <td>2</td>\n",
              "      <td>2</td>\n",
              "      <td>0</td>\n",
              "      <td>0</td>\n",
              "      <td>0</td>\n",
              "      <td>0</td>\n",
              "      <td>120.0</td>\n",
              "      <td>0</td>\n",
              "      <td>1</td>\n",
              "      <td>0</td>\n",
              "      <td>1.000000</td>\n",
              "      <td>0</td>\n",
              "      <td>0</td>\n",
              "      <td>0</td>\n",
              "      <td>140.0</td>\n",
              "      <td>1789.162426</td>\n",
              "      <td>1750</td>\n",
              "    </tr>\n",
              "  </tbody>\n",
              "</table>\n",
              "<p>7566 rows × 19 columns</p>\n",
              "</div>"
            ],
            "text/plain": [
              "      city  status  numberRooms  ...  MedstatusHouseSpace  city_encoded  price\n",
              "0        1       1            1  ...                140.0   2179.295502   1300\n",
              "1        1       1            1  ...                140.0   2179.295502    550\n",
              "2        1       1            3  ...                140.0   2179.295502   1000\n",
              "3        1       1            3  ...                140.0   2179.295502    950\n",
              "4        1       1            3  ...                140.0   2179.295502    800\n",
              "...    ...     ...          ...  ...                  ...           ...    ...\n",
              "7561     1       1            2  ...                140.0   1789.162426    600\n",
              "7562     1       2            3  ...                140.0   1789.162426    500\n",
              "7563     5       2            3  ...                140.0   4696.623612   1600\n",
              "7564     4       1            1  ...                140.0   3882.401112   1000\n",
              "7565     1       1            2  ...                140.0   1789.162426   1750\n",
              "\n",
              "[7566 rows x 19 columns]"
            ]
          },
          "metadata": {
            "tags": []
          },
          "execution_count": 3
        }
      ]
    },
    {
      "cell_type": "code",
      "metadata": {
        "id": "qeaIYLT4cWna"
      },
      "source": [
        "index_names = df[ df['PriceType_JOD'] == 0  ].index \n",
        "index_names\n",
        "# drop these row indexes \n",
        "# from dataFrame \n",
        "df.drop(index_names, inplace = True)\n"
      ],
      "execution_count": 4,
      "outputs": []
    },
    {
      "cell_type": "code",
      "metadata": {
        "colab": {
          "base_uri": "https://localhost:8080/",
          "height": 386
        },
        "id": "dOzjukK7kd2y",
        "outputId": "67c0890f-bada-44f3-8d56-1378bd025aa7"
      },
      "source": [
        "sns.relplot(x=\"city\", y=\"price\", data=df)"
      ],
      "execution_count": 6,
      "outputs": [
        {
          "output_type": "execute_result",
          "data": {
            "text/plain": [
              "<seaborn.axisgrid.FacetGrid at 0x7f6fe7b98790>"
            ]
          },
          "metadata": {
            "tags": []
          },
          "execution_count": 6
        },
        {
          "output_type": "display_data",
          "data": {
            "image/png": "[encoded data removed]",
            "text/plain": [
              "<Figure size 360x360 with 1 Axes>"
            ]
          },
          "metadata": {
            "tags": [],
            "needs_background": "light"
          }
        }
      ]
    },
    {
      "cell_type": "code",
      "metadata": {
        "colab": {
          "base_uri": "https://localhost:8080/",
          "height": 422
        },
        "id": "EfJgmW6xzYx5",
        "outputId": "33e34f2c-5728-4eeb-979c-2730fcf4743a"
      },
      "source": [
        "X = df.drop(\"price\", axis=1)\n",
        "X = X.drop(\"MedstatusHouseSpace\", axis=1)\n",
        "X = X.drop(\"PriceType_JOD\", axis=1)\n",
        "X = X.drop(\"PriceType_NIS\", axis=1)\n",
        "X = X.drop(\"PriceType_USD\", axis=1)\n",
        "\n",
        "Y = df[\"price\"].copy()\n",
        "X"
      ],
      "execution_count": 7,
      "outputs": [
        {
          "output_type": "execute_result",
          "data": {
            "text/html": [
              "<div>\n",
              "<style scoped>\n",
              "    .dataframe tbody tr th:only-of-type {\n",
              "        vertical-align: middle;\n",
              "    }\n",
              "\n",
              "    .dataframe tbody tr th {\n",
              "        vertical-align: top;\n",
              "    }\n",
              "\n",
              "    .dataframe thead th {\n",
              "        text-align: right;\n",
              "    }\n",
              "</style>\n",
              "<table border=\"1\" class=\"dataframe\">\n",
              "  <thead>\n",
              "    <tr style=\"text-align: right;\">\n",
              "      <th></th>\n",
              "      <th>city</th>\n",
              "      <th>status</th>\n",
              "      <th>numberRooms</th>\n",
              "      <th>numberBathrooms</th>\n",
              "      <th>numberBalconies</th>\n",
              "      <th>elevator</th>\n",
              "      <th>carParking</th>\n",
              "      <th>heating</th>\n",
              "      <th>houseSpace</th>\n",
              "      <th>featurePlus</th>\n",
              "      <th>Bldg_A</th>\n",
              "      <th>Bldg_B</th>\n",
              "      <th>Bldg_C</th>\n",
              "      <th>city_encoded</th>\n",
              "    </tr>\n",
              "  </thead>\n",
              "  <tbody>\n",
              "    <tr>\n",
              "      <th>17</th>\n",
              "      <td>4</td>\n",
              "      <td>2</td>\n",
              "      <td>3</td>\n",
              "      <td>1</td>\n",
              "      <td>0</td>\n",
              "      <td>0</td>\n",
              "      <td>0</td>\n",
              "      <td>0</td>\n",
              "      <td>90.0</td>\n",
              "      <td>0.333333</td>\n",
              "      <td>0</td>\n",
              "      <td>0</td>\n",
              "      <td>0</td>\n",
              "      <td>5829.754817</td>\n",
              "    </tr>\n",
              "    <tr>\n",
              "      <th>30</th>\n",
              "      <td>4</td>\n",
              "      <td>2</td>\n",
              "      <td>2</td>\n",
              "      <td>2</td>\n",
              "      <td>1</td>\n",
              "      <td>0</td>\n",
              "      <td>0</td>\n",
              "      <td>0</td>\n",
              "      <td>150.0</td>\n",
              "      <td>1.000000</td>\n",
              "      <td>0</td>\n",
              "      <td>1</td>\n",
              "      <td>0</td>\n",
              "      <td>5829.754817</td>\n",
              "    </tr>\n",
              "    <tr>\n",
              "      <th>31</th>\n",
              "      <td>5</td>\n",
              "      <td>3</td>\n",
              "      <td>2</td>\n",
              "      <td>2</td>\n",
              "      <td>1</td>\n",
              "      <td>0</td>\n",
              "      <td>0</td>\n",
              "      <td>0</td>\n",
              "      <td>125.0</td>\n",
              "      <td>1.000000</td>\n",
              "      <td>0</td>\n",
              "      <td>0</td>\n",
              "      <td>1</td>\n",
              "      <td>4500.664105</td>\n",
              "    </tr>\n",
              "    <tr>\n",
              "      <th>32</th>\n",
              "      <td>1</td>\n",
              "      <td>2</td>\n",
              "      <td>3</td>\n",
              "      <td>3</td>\n",
              "      <td>0</td>\n",
              "      <td>1</td>\n",
              "      <td>1</td>\n",
              "      <td>0</td>\n",
              "      <td>130.0</td>\n",
              "      <td>1.000000</td>\n",
              "      <td>0</td>\n",
              "      <td>0</td>\n",
              "      <td>0</td>\n",
              "      <td>2179.295502</td>\n",
              "    </tr>\n",
              "    <tr>\n",
              "      <th>37</th>\n",
              "      <td>4</td>\n",
              "      <td>2</td>\n",
              "      <td>3</td>\n",
              "      <td>2</td>\n",
              "      <td>1</td>\n",
              "      <td>1</td>\n",
              "      <td>1</td>\n",
              "      <td>0</td>\n",
              "      <td>150.0</td>\n",
              "      <td>0.666667</td>\n",
              "      <td>0</td>\n",
              "      <td>1</td>\n",
              "      <td>0</td>\n",
              "      <td>5829.754817</td>\n",
              "    </tr>\n",
              "    <tr>\n",
              "      <th>...</th>\n",
              "      <td>...</td>\n",
              "      <td>...</td>\n",
              "      <td>...</td>\n",
              "      <td>...</td>\n",
              "      <td>...</td>\n",
              "      <td>...</td>\n",
              "      <td>...</td>\n",
              "      <td>...</td>\n",
              "      <td>...</td>\n",
              "      <td>...</td>\n",
              "      <td>...</td>\n",
              "      <td>...</td>\n",
              "      <td>...</td>\n",
              "      <td>...</td>\n",
              "    </tr>\n",
              "    <tr>\n",
              "      <th>7515</th>\n",
              "      <td>5</td>\n",
              "      <td>2</td>\n",
              "      <td>2</td>\n",
              "      <td>1</td>\n",
              "      <td>0</td>\n",
              "      <td>0</td>\n",
              "      <td>0</td>\n",
              "      <td>0</td>\n",
              "      <td>140.0</td>\n",
              "      <td>0.500000</td>\n",
              "      <td>0</td>\n",
              "      <td>0</td>\n",
              "      <td>0</td>\n",
              "      <td>4696.623612</td>\n",
              "    </tr>\n",
              "    <tr>\n",
              "      <th>7522</th>\n",
              "      <td>5</td>\n",
              "      <td>2</td>\n",
              "      <td>3</td>\n",
              "      <td>2</td>\n",
              "      <td>1</td>\n",
              "      <td>0</td>\n",
              "      <td>1</td>\n",
              "      <td>0</td>\n",
              "      <td>130.0</td>\n",
              "      <td>0.666667</td>\n",
              "      <td>0</td>\n",
              "      <td>1</td>\n",
              "      <td>0</td>\n",
              "      <td>4696.623612</td>\n",
              "    </tr>\n",
              "    <tr>\n",
              "      <th>7525</th>\n",
              "      <td>4</td>\n",
              "      <td>3</td>\n",
              "      <td>2</td>\n",
              "      <td>2</td>\n",
              "      <td>2</td>\n",
              "      <td>0</td>\n",
              "      <td>0</td>\n",
              "      <td>0</td>\n",
              "      <td>150.0</td>\n",
              "      <td>1.000000</td>\n",
              "      <td>0</td>\n",
              "      <td>0</td>\n",
              "      <td>2</td>\n",
              "      <td>3882.401112</td>\n",
              "    </tr>\n",
              "    <tr>\n",
              "      <th>7540</th>\n",
              "      <td>5</td>\n",
              "      <td>2</td>\n",
              "      <td>3</td>\n",
              "      <td>2</td>\n",
              "      <td>0</td>\n",
              "      <td>0</td>\n",
              "      <td>0</td>\n",
              "      <td>0</td>\n",
              "      <td>100.0</td>\n",
              "      <td>0.666667</td>\n",
              "      <td>0</td>\n",
              "      <td>0</td>\n",
              "      <td>0</td>\n",
              "      <td>4696.623612</td>\n",
              "    </tr>\n",
              "    <tr>\n",
              "      <th>7546</th>\n",
              "      <td>4</td>\n",
              "      <td>1</td>\n",
              "      <td>2</td>\n",
              "      <td>1</td>\n",
              "      <td>1</td>\n",
              "      <td>0</td>\n",
              "      <td>0</td>\n",
              "      <td>0</td>\n",
              "      <td>90.0</td>\n",
              "      <td>0.500000</td>\n",
              "      <td>1</td>\n",
              "      <td>0</td>\n",
              "      <td>0</td>\n",
              "      <td>3882.401112</td>\n",
              "    </tr>\n",
              "  </tbody>\n",
              "</table>\n",
              "<p>721 rows × 14 columns</p>\n",
              "</div>"
            ],
            "text/plain": [
              "      city  status  numberRooms  ...  Bldg_B  Bldg_C  city_encoded\n",
              "17       4       2            3  ...       0       0   5829.754817\n",
              "30       4       2            2  ...       1       0   5829.754817\n",
              "31       5       3            2  ...       0       1   4500.664105\n",
              "32       1       2            3  ...       0       0   2179.295502\n",
              "37       4       2            3  ...       1       0   5829.754817\n",
              "...    ...     ...          ...  ...     ...     ...           ...\n",
              "7515     5       2            2  ...       0       0   4696.623612\n",
              "7522     5       2            3  ...       1       0   4696.623612\n",
              "7525     4       3            2  ...       0       2   3882.401112\n",
              "7540     5       2            3  ...       0       0   4696.623612\n",
              "7546     4       1            2  ...       0       0   3882.401112\n",
              "\n",
              "[721 rows x 14 columns]"
            ]
          },
          "metadata": {
            "tags": []
          },
          "execution_count": 7
        }
      ]
    },
    {
      "cell_type": "code",
      "metadata": {
        "id": "-SBZxI7g0IUV"
      },
      "source": [
        "from sklearn.model_selection import train_test_split\n",
        "x_train, x_test, y_train, y_test = train_test_split(X,Y, test_size = .2, random_state= 42)"
      ],
      "execution_count": 8,
      "outputs": []
    },
    {
      "cell_type": "code",
      "metadata": {
        "colab": {
          "base_uri": "https://localhost:8080/"
        },
        "id": "YqRZmHUz0XZh",
        "outputId": "9a6547d8-37d8-430d-c31e-9887f435b188"
      },
      "source": [
        "from sklearn.tree import DecisionTreeRegressor\n",
        "#fit decision tree\n",
        "tree = DecisionTreeRegressor()\n",
        "tree.fit(x_train, y_train)\n",
        "#fit random forest\n",
        "forest = RandomForestRegressor(n_jobs=-1)\n",
        "forest.fit(x_train, y_train)\n",
        "#fit regression\n",
        "lin_reg = LinearRegression(n_jobs=-1)\n",
        "lin_reg.fit(x_train, y_train)"
      ],
      "execution_count": 9,
      "outputs": [
        {
          "output_type": "execute_result",
          "data": {
            "text/plain": [
              "LinearRegression(copy_X=True, fit_intercept=True, n_jobs=-1, normalize=False)"
            ]
          },
          "metadata": {
            "tags": []
          },
          "execution_count": 9
        }
      ]
    },
    {
      "cell_type": "code",
      "metadata": {
        "colab": {
          "base_uri": "https://localhost:8080/"
        },
        "id": "tRu4C6gX0q2B",
        "outputId": "45da7bf7-ede5-4bd6-e417-f4a7ef40eae1"
      },
      "source": [
        "models= [('lin_reg', lin_reg), ('random forest', forest), ('decision tree', tree)]\n",
        "from sklearn.metrics import mean_squared_error\n",
        "for i, model in models:    \n",
        "    predictions = model.predict(x_train)\n",
        "    MSE = mean_squared_error(y_train, predictions)\n",
        "    RMSE = np.sqrt(MSE)\n",
        "    msg = \"%s = %.2f\" % (i, round(RMSE, 2))\n",
        "    print('RMSE of', msg)"
      ],
      "execution_count": 10,
      "outputs": [
        {
          "output_type": "stream",
          "text": [
            "RMSE of lin_reg = 955.94\n",
            "RMSE of random forest = 253.58\n",
            "RMSE of decision tree = 58.44\n"
          ],
          "name": "stdout"
        }
      ]
    },
    {
      "cell_type": "code",
      "metadata": {
        "colab": {
          "base_uri": "https://localhost:8080/"
        },
        "id": "TCPJIYR31AAn",
        "outputId": "0c8e7d0a-234c-4585-b42f-54eaa96730fe"
      },
      "source": [
        "for i, model in models:\n",
        "    # Make predictions on train data\n",
        "    predictions = model.predict(x_train)\n",
        "    # Performance metrics\n",
        "    errors = abs(predictions - y_train)\n",
        "    # Calculate mean absolute percentage error (MAPE)\n",
        "    mape = np.mean(100 * (errors / y_train))\n",
        "    # Calculate and display accuracy\n",
        "    accuracy = 100 - mape    \n",
        "    #print result\n",
        "    msg = \"%s= %.2f\"% (i, round(accuracy, 2))\n",
        "    print('Accuracy of', msg,'%')"
      ],
      "execution_count": 11,
      "outputs": [
        {
          "output_type": "stream",
          "text": [
            "Accuracy of lin_reg= -21.25 %\n",
            "Accuracy of random forest= 81.54 %\n",
            "Accuracy of decision tree= 99.49 %\n"
          ],
          "name": "stdout"
        }
      ]
    },
    {
      "cell_type": "code",
      "metadata": {
        "id": "uSExpY_x1VH5"
      },
      "source": [
        "from sklearn.model_selection import cross_validate\n",
        "models= [('lin_reg', lin_reg), ('forest', forest), ('dt', tree)]\n",
        "scoring = ['neg_mean_squared_error', 'neg_mean_absolute_error', 'r2']\n",
        "\n",
        "\n",
        "results= []\n",
        "metric= []\n",
        "for name, model in models:\n",
        "    for i in scoring:\n",
        "        scores = cross_validate(model, x_train, y_train, scoring=i, cv=10, return_train_score=True)\n",
        "        results.append(scores)"
      ],
      "execution_count": 12,
      "outputs": []
    },
    {
      "cell_type": "code",
      "metadata": {
        "id": "klaHTFwc12HA"
      },
      "source": [
        "\n"
      ],
      "execution_count": 12,
      "outputs": []
    },
    {
      "cell_type": "code",
      "metadata": {
        "id": "84MId-6Z2IJP"
      },
      "source": [
        "#THIS IS FOR Linear regression\n",
        "#RMSE\n",
        "LR_RMSE_mean = np.sqrt(-results[0]['test_score'].mean())\n",
        "LR_RMSE_std= results[0]['test_score'].std()\n",
        "# I changed the sign, as the result is originally a negative number for ease of computation\n",
        "LR_MAE_mean = -results[1]['test_score'].mean()\n",
        "LR_MAE_std= results[1]['test_score'].std()\n",
        "LR_r2_mean = results[2]['test_score'].mean()\n",
        "LR_r2_std = results[2]['test_score'].std()\n",
        "\n",
        "#THIS IS FOR RF\n",
        "RF_RMSE_mean = np.sqrt(-results[3]['test_score'].mean())\n",
        "RF_RMSE_std= results[3]['test_score'].std()\n",
        "RF_MAE_mean = -results[4]['test_score'].mean()\n",
        "RF_MAE_std= results[4]['test_score'].std()\n",
        "RF_r2_mean = results[5]['test_score'].mean()\n",
        "RF_r2_std = results[5]['test_score'].std()\n",
        "\n",
        "#THIS IS FOR DT\n",
        "DT_RMSE_mean = np.sqrt(-results[6]['test_score'].mean())\n",
        "DT_RMSE_std= results[6]['test_score'].std()\n",
        "DT_MAE_mean = -results[7]['test_score'].mean()\n",
        "DT_MAE_std= results[7]['test_score'].std()\n",
        "DT_r2_mean = results[8]['test_score'].mean()\n",
        "DT_r2_std = results[8]['test_score'].std()"
      ],
      "execution_count": 13,
      "outputs": []
    },
    {
      "cell_type": "code",
      "metadata": {
        "colab": {
          "base_uri": "https://localhost:8080/",
          "height": 136
        },
        "id": "sEXyfmYx2c5I",
        "outputId": "2d8c6c9d-61e8-4a00-c39b-91c329b2c816"
      },
      "source": [
        "modelDF = pd.DataFrame({\n",
        "    'Model'       : ['Linear Regression', 'Random Forest', 'Decision Trees'],\n",
        "    'RMSE_mean'    : [LR_RMSE_mean, RF_RMSE_mean, DT_RMSE_mean],\n",
        "    'RMSE_std'    : [LR_RMSE_std, RF_RMSE_std, DT_RMSE_std],\n",
        "    'MAE_mean'   : [LR_MAE_mean, RF_MAE_mean, DT_MAE_mean],\n",
        "    'MAE_std'   : [LR_MAE_std, RF_MAE_std, DT_MAE_std],\n",
        "    'r2_mean'      : [LR_r2_mean, RF_r2_mean, DT_r2_mean],\n",
        "    'r2_std'      : [LR_r2_std, RF_r2_std, DT_r2_std],\n",
        "    }, columns = ['Model', 'RMSE_mean', 'RMSE_std', 'MAE_mean', 'MAE_std', 'r2_mean', 'r2_std'])\n",
        "\n",
        "modelDF.sort_values(by='r2_mean', ascending=False)"
      ],
      "execution_count": 14,
      "outputs": [
        {
          "output_type": "execute_result",
          "data": {
            "text/html": [
              "<div>\n",
              "<style scoped>\n",
              "    .dataframe tbody tr th:only-of-type {\n",
              "        vertical-align: middle;\n",
              "    }\n",
              "\n",
              "    .dataframe tbody tr th {\n",
              "        vertical-align: top;\n",
              "    }\n",
              "\n",
              "    .dataframe thead th {\n",
              "        text-align: right;\n",
              "    }\n",
              "</style>\n",
              "<table border=\"1\" class=\"dataframe\">\n",
              "  <thead>\n",
              "    <tr style=\"text-align: right;\">\n",
              "      <th></th>\n",
              "      <th>Model</th>\n",
              "      <th>RMSE_mean</th>\n",
              "      <th>RMSE_std</th>\n",
              "      <th>MAE_mean</th>\n",
              "      <th>MAE_std</th>\n",
              "      <th>r2_mean</th>\n",
              "      <th>r2_std</th>\n",
              "    </tr>\n",
              "  </thead>\n",
              "  <tbody>\n",
              "    <tr>\n",
              "      <th>1</th>\n",
              "      <td>Random Forest</td>\n",
              "      <td>671.580509</td>\n",
              "      <td>131254.747821</td>\n",
              "      <td>436.965435</td>\n",
              "      <td>52.268559</td>\n",
              "      <td>0.635934</td>\n",
              "      <td>0.092788</td>\n",
              "    </tr>\n",
              "    <tr>\n",
              "      <th>2</th>\n",
              "      <td>Decision Trees</td>\n",
              "      <td>902.198677</td>\n",
              "      <td>307357.217389</td>\n",
              "      <td>553.607784</td>\n",
              "      <td>91.644744</td>\n",
              "      <td>0.379280</td>\n",
              "      <td>0.160088</td>\n",
              "    </tr>\n",
              "    <tr>\n",
              "      <th>0</th>\n",
              "      <td>Linear Regression</td>\n",
              "      <td>989.463246</td>\n",
              "      <td>167910.952626</td>\n",
              "      <td>806.950508</td>\n",
              "      <td>72.894993</td>\n",
              "      <td>0.174936</td>\n",
              "      <td>0.165010</td>\n",
              "    </tr>\n",
              "  </tbody>\n",
              "</table>\n",
              "</div>"
            ],
            "text/plain": [
              "               Model   RMSE_mean       RMSE_std  ...    MAE_std   r2_mean    r2_std\n",
              "1      Random Forest  671.580509  131254.747821  ...  52.268559  0.635934  0.092788\n",
              "2     Decision Trees  902.198677  307357.217389  ...  91.644744  0.379280  0.160088\n",
              "0  Linear Regression  989.463246  167910.952626  ...  72.894993  0.174936  0.165010\n",
              "\n",
              "[3 rows x 7 columns]"
            ]
          },
          "metadata": {
            "tags": []
          },
          "execution_count": 14
        }
      ]
    },
    {
      "cell_type": "code",
      "metadata": {
        "colab": {
          "base_uri": "https://localhost:8080/",
          "height": 386
        },
        "id": "OSCt-PWJ2d_T",
        "outputId": "0f0a630b-8f06-4a2f-cc37-199993568b45"
      },
      "source": [
        "sns.factorplot(x= 'Model', y= 'RMSE_mean', data= modelDF, kind='bar', legend='True')"
      ],
      "execution_count": 15,
      "outputs": [
        {
          "output_type": "execute_result",
          "data": {
            "text/plain": [
              "<seaborn.axisgrid.FacetGrid at 0x7f6fddd6f2d0>"
            ]
          },
          "metadata": {
            "tags": []
          },
          "execution_count": 15
        },
        {
          "output_type": "display_data",
          "data": {
            "image/png": "[encoded data removed]",
            "text/plain": [
              "<Figure size 360x360 with 1 Axes>"
            ]
          },
          "metadata": {
            "tags": [],
            "needs_background": "light"
          }
        }
      ]
    },
    {
      "cell_type": "code",
      "metadata": {
        "colab": {
          "base_uri": "https://localhost:8080/"
        },
        "id": "kKaMf2YV2rk3",
        "outputId": "fd38c742-bd16-471f-9c46-7427d3dd1c13"
      },
      "source": [
        "from sklearn.model_selection import GridSearchCV\n",
        "\n",
        "param_grid = [\n",
        "{'n_estimators': [10, 25], 'max_features': [5, 10], \n",
        " 'max_depth': [10, 50, None], 'bootstrap': [True, False]}\n",
        "]\n",
        "\n",
        "grid_search_forest = GridSearchCV(forest, param_grid, cv=10, scoring='neg_mean_squared_error')\n",
        "grid_search_forest.fit(x_train, y_train)"
      ],
      "execution_count": 16,
      "outputs": [
        {
          "output_type": "execute_result",
          "data": {
            "text/plain": [
              "GridSearchCV(cv=10, error_score=nan,\n",
              "             estimator=RandomForestRegressor(bootstrap=True, ccp_alpha=0.0,\n",
              "                                             criterion='mse', max_depth=None,\n",
              "                                             max_features='auto',\n",
              "                                             max_leaf_nodes=None,\n",
              "                                             max_samples=None,\n",
              "                                             min_impurity_decrease=0.0,\n",
              "                                             min_impurity_split=None,\n",
              "                                             min_samples_leaf=1,\n",
              "                                             min_samples_split=2,\n",
              "                                             min_weight_fraction_leaf=0.0,\n",
              "                                             n_estimators=100, n_jobs=-1,\n",
              "                                             oob_score=False, random_state=None,\n",
              "                                             verbose=0, warm_start=False),\n",
              "             iid='deprecated', n_jobs=None,\n",
              "             param_grid=[{'bootstrap': [True, False],\n",
              "                          'max_depth': [10, 50, None], 'max_features': [5, 10],\n",
              "                          'n_estimators': [10, 25]}],\n",
              "             pre_dispatch='2*n_jobs', refit=True, return_train_score=False,\n",
              "             scoring='neg_mean_squared_error', verbose=0)"
            ]
          },
          "metadata": {
            "tags": []
          },
          "execution_count": 16
        }
      ]
    },
    {
      "cell_type": "code",
      "metadata": {
        "colab": {
          "base_uri": "https://localhost:8080/"
        },
        "id": "jJHbiqZf7Nb8",
        "outputId": "afae7765-be89-4ab6-968e-8147745647d2"
      },
      "source": [
        "#now let's how the RMSE changes for each parameter configuration\n",
        "cvres = grid_search_forest.cv_results_\n",
        "for mean_score, params in zip(cvres[\"mean_test_score\"], cvres[\"params\"]):\n",
        "    print(np.sqrt(-mean_score), params)"
      ],
      "execution_count": 17,
      "outputs": [
        {
          "output_type": "stream",
          "text": [
            "678.4172592865242 {'bootstrap': True, 'max_depth': 10, 'max_features': 5, 'n_estimators': 10}\n",
            "675.5503968911779 {'bootstrap': True, 'max_depth': 10, 'max_features': 5, 'n_estimators': 25}\n",
            "669.1705893728821 {'bootstrap': True, 'max_depth': 10, 'max_features': 10, 'n_estimators': 10}\n",
            "659.6206311909315 {'bootstrap': True, 'max_depth': 10, 'max_features': 10, 'n_estimators': 25}\n",
            "681.9523201519811 {'bootstrap': True, 'max_depth': 50, 'max_features': 5, 'n_estimators': 10}\n",
            "661.9507293609863 {'bootstrap': True, 'max_depth': 50, 'max_features': 5, 'n_estimators': 25}\n",
            "672.2576804063488 {'bootstrap': True, 'max_depth': 50, 'max_features': 10, 'n_estimators': 10}\n",
            "658.7592680930858 {'bootstrap': True, 'max_depth': 50, 'max_features': 10, 'n_estimators': 25}\n",
            "680.9681089995566 {'bootstrap': True, 'max_depth': None, 'max_features': 5, 'n_estimators': 10}\n",
            "674.4656437955085 {'bootstrap': True, 'max_depth': None, 'max_features': 5, 'n_estimators': 25}\n",
            "674.8654325213079 {'bootstrap': True, 'max_depth': None, 'max_features': 10, 'n_estimators': 10}\n",
            "689.1370291132627 {'bootstrap': True, 'max_depth': None, 'max_features': 10, 'n_estimators': 25}\n",
            "665.9140818991109 {'bootstrap': False, 'max_depth': 10, 'max_features': 5, 'n_estimators': 10}\n",
            "653.2818601212732 {'bootstrap': False, 'max_depth': 10, 'max_features': 5, 'n_estimators': 25}\n",
            "709.8494283537162 {'bootstrap': False, 'max_depth': 10, 'max_features': 10, 'n_estimators': 10}\n",
            "684.7477538403965 {'bootstrap': False, 'max_depth': 10, 'max_features': 10, 'n_estimators': 25}\n",
            "657.6465364951796 {'bootstrap': False, 'max_depth': 50, 'max_features': 5, 'n_estimators': 10}\n",
            "656.0244510838318 {'bootstrap': False, 'max_depth': 50, 'max_features': 5, 'n_estimators': 25}\n",
            "722.2714616232539 {'bootstrap': False, 'max_depth': 50, 'max_features': 10, 'n_estimators': 10}\n",
            "704.3606738708125 {'bootstrap': False, 'max_depth': 50, 'max_features': 10, 'n_estimators': 25}\n",
            "672.9479346401464 {'bootstrap': False, 'max_depth': None, 'max_features': 5, 'n_estimators': 10}\n",
            "651.6046167352167 {'bootstrap': False, 'max_depth': None, 'max_features': 5, 'n_estimators': 25}\n",
            "730.8430162701377 {'bootstrap': False, 'max_depth': None, 'max_features': 10, 'n_estimators': 10}\n",
            "705.8315163193861 {'bootstrap': False, 'max_depth': None, 'max_features': 10, 'n_estimators': 25}\n"
          ],
          "name": "stdout"
        }
      ]
    },
    {
      "cell_type": "code",
      "metadata": {
        "colab": {
          "base_uri": "https://localhost:8080/"
        },
        "id": "_AbwKyug7cgj",
        "outputId": "26c4f5a5-b83d-4706-b758-01148ed34f87"
      },
      "source": [
        "#find the best model of grid search\n",
        "grid_search_forest.best_estimator_"
      ],
      "execution_count": 18,
      "outputs": [
        {
          "output_type": "execute_result",
          "data": {
            "text/plain": [
              "RandomForestRegressor(bootstrap=False, ccp_alpha=0.0, criterion='mse',\n",
              "                      max_depth=None, max_features=5, max_leaf_nodes=None,\n",
              "                      max_samples=None, min_impurity_decrease=0.0,\n",
              "                      min_impurity_split=None, min_samples_leaf=1,\n",
              "                      min_samples_split=2, min_weight_fraction_leaf=0.0,\n",
              "                      n_estimators=25, n_jobs=-1, oob_score=False,\n",
              "                      random_state=None, verbose=0, warm_start=False)"
            ]
          },
          "metadata": {
            "tags": []
          },
          "execution_count": 18
        }
      ]
    },
    {
      "cell_type": "code",
      "metadata": {
        "colab": {
          "base_uri": "https://localhost:8080/"
        },
        "id": "lYUg3XDO7jgD",
        "outputId": "918ee0bf-fb0f-4afc-9ffb-0b2268e6b1f3"
      },
      "source": [
        "grid_best= grid_search_forest.best_estimator_.predict(x_train)\n",
        "errors = abs(grid_best - y_train)\n",
        "# Calculate mean absolute percentage error (MAPE)\n",
        "mape = np.mean(100 * (errors / y_train))\n",
        "accuracy = 100 - mape    \n",
        "#print result\n",
        "print('The best model from grid-search has an accuracy of', round(accuracy, 2),'%')"
      ],
      "execution_count": 19,
      "outputs": [
        {
          "output_type": "stream",
          "text": [
            "The best model from grid-search has an accuracy of 99.47 %\n"
          ],
          "name": "stdout"
        }
      ]
    },
    {
      "cell_type": "code",
      "metadata": {
        "colab": {
          "base_uri": "https://localhost:8080/"
        },
        "id": "EA5nDwa57vsK",
        "outputId": "2160c4e4-6907-4dce-c7b2-f73162d4a20c"
      },
      "source": [
        "#RMSE\n",
        "grid_mse = mean_squared_error(y_train, grid_best)\n",
        "grid_rmse = np.sqrt(grid_mse)\n",
        "print('The best model from the grid search has a RMSE of', round(grid_rmse, 2))"
      ],
      "execution_count": 20,
      "outputs": [
        {
          "output_type": "stream",
          "text": [
            "The best model from the grid search has a RMSE of 58.51\n"
          ],
          "name": "stdout"
        }
      ]
    },
    {
      "cell_type": "code",
      "metadata": {
        "colab": {
          "base_uri": "https://localhost:8080/"
        },
        "id": "lYOJ3cDu71Qm",
        "outputId": "25a1f5f9-2dd5-4185-df6e-fc8cf0352561"
      },
      "source": [
        "from sklearn.model_selection import RandomizedSearchCV\n",
        "from pprint import pprint\n",
        "\n",
        "# Number of trees in random forest\n",
        "n_estimators = [int(x) for x in np.linspace(start = 20, stop = 200, num = 5)]\n",
        "# Number of features to consider at every split\n",
        "max_features = ['auto', 'sqrt']\n",
        "# Maximum number of levels in tree\n",
        "max_depth = [int(x) for x in np.linspace(1, 45, num = 3)]\n",
        "# Minimum number of samples required to split a node\n",
        "min_samples_split = [5, 10]\n",
        "\n",
        "# Create the random grid\n",
        "random_grid = {'n_estimators': n_estimators,\n",
        "               'max_features': max_features,\n",
        "               'max_depth': max_depth,\n",
        "               'min_samples_split': min_samples_split}\n",
        "\n",
        "pprint(random_grid)"
      ],
      "execution_count": 21,
      "outputs": [
        {
          "output_type": "stream",
          "text": [
            "{'max_depth': [1, 23, 45],\n",
            " 'max_features': ['auto', 'sqrt'],\n",
            " 'min_samples_split': [5, 10],\n",
            " 'n_estimators': [20, 65, 110, 155, 200]}\n"
          ],
          "name": "stdout"
        }
      ]
    },
    {
      "cell_type": "code",
      "metadata": {
        "colab": {
          "base_uri": "https://localhost:8080/"
        },
        "id": "VmrsJ90r7_Im",
        "outputId": "fd2d82ec-a0a2-428d-be42-c5f6be827d7d"
      },
      "source": [
        "\n",
        "# Random search of parameters, using 3 fold cross validation, \n",
        "# search across 100 different combinations\n",
        "rf_random = RandomizedSearchCV(estimator = forest, param_distributions = random_grid, n_iter = 10, cv = 10, verbose=2, random_state=42, n_jobs = -1, scoring='neg_mean_squared_error')\n",
        "# Fit the random search model\n",
        "rf_random.fit(x_train, y_train)"
      ],
      "execution_count": 22,
      "outputs": [
        {
          "output_type": "stream",
          "text": [
            "Fitting 10 folds for each of 10 candidates, totalling 100 fits\n"
          ],
          "name": "stdout"
        },
        {
          "output_type": "stream",
          "text": [
            "[Parallel(n_jobs=-1)]: Using backend LokyBackend with 2 concurrent workers.\n",
            "[Parallel(n_jobs=-1)]: Done  37 tasks      | elapsed:    5.2s\n",
            "[Parallel(n_jobs=-1)]: Done 100 out of 100 | elapsed:   20.9s finished\n"
          ],
          "name": "stderr"
        },
        {
          "output_type": "execute_result",
          "data": {
            "text/plain": [
              "RandomizedSearchCV(cv=10, error_score=nan,\n",
              "                   estimator=RandomForestRegressor(bootstrap=True,\n",
              "                                                   ccp_alpha=0.0,\n",
              "                                                   criterion='mse',\n",
              "                                                   max_depth=None,\n",
              "                                                   max_features='auto',\n",
              "                                                   max_leaf_nodes=None,\n",
              "                                                   max_samples=None,\n",
              "                                                   min_impurity_decrease=0.0,\n",
              "                                                   min_impurity_split=None,\n",
              "                                                   min_samples_leaf=1,\n",
              "                                                   min_samples_split=2,\n",
              "                                                   min_weight_fraction_leaf=0.0,\n",
              "                                                   n_estimators=100, n_jobs=-1,\n",
              "                                                   oob_score=False,\n",
              "                                                   random_state=None, verbose=0,\n",
              "                                                   warm_start=False),\n",
              "                   iid='deprecated', n_iter=10, n_jobs=-1,\n",
              "                   param_distributions={'max_depth': [1, 23, 45],\n",
              "                                        'max_features': ['auto', 'sqrt'],\n",
              "                                        'min_samples_split': [5, 10],\n",
              "                                        'n_estimators': [20, 65, 110, 155,\n",
              "                                                         200]},\n",
              "                   pre_dispatch='2*n_jobs', random_state=42, refit=True,\n",
              "                   return_train_score=False, scoring='neg_mean_squared_error',\n",
              "                   verbose=2)"
            ]
          },
          "metadata": {
            "tags": []
          },
          "execution_count": 22
        }
      ]
    },
    {
      "cell_type": "code",
      "metadata": {
        "colab": {
          "base_uri": "https://localhost:8080/"
        },
        "id": "u8OUjBWO8XEL",
        "outputId": "2d77b203-210f-4d68-9ba4-f854e5e144ad"
      },
      "source": [
        "#now let's how the RMSE changes for each parameter configuration\n",
        "cvres2 = rf_random.cv_results_\n",
        "for mean_score, params in zip(cvres2[\"mean_test_score\"], cvres2[\"params\"]):\n",
        "    print(np.sqrt(-mean_score), params)"
      ],
      "execution_count": 23,
      "outputs": [
        {
          "output_type": "stream",
          "text": [
            "923.0493506688638 {'n_estimators': 20, 'min_samples_split': 5, 'max_features': 'auto', 'max_depth': 1}\n",
            "916.595001529269 {'n_estimators': 20, 'min_samples_split': 10, 'max_features': 'auto', 'max_depth': 1}\n",
            "698.3827282805667 {'n_estimators': 65, 'min_samples_split': 10, 'max_features': 'sqrt', 'max_depth': 23}\n",
            "676.5716731377219 {'n_estimators': 20, 'min_samples_split': 10, 'max_features': 'auto', 'max_depth': 45}\n",
            "998.3913497230859 {'n_estimators': 155, 'min_samples_split': 5, 'max_features': 'sqrt', 'max_depth': 1}\n",
            "679.5780919648104 {'n_estimators': 200, 'min_samples_split': 5, 'max_features': 'sqrt', 'max_depth': 45}\n",
            "675.0060651938 {'n_estimators': 155, 'min_samples_split': 5, 'max_features': 'sqrt', 'max_depth': 23}\n",
            "674.0342499874894 {'n_estimators': 155, 'min_samples_split': 10, 'max_features': 'auto', 'max_depth': 45}\n",
            "989.6368987134771 {'n_estimators': 110, 'min_samples_split': 5, 'max_features': 'sqrt', 'max_depth': 1}\n",
            "690.0115300574099 {'n_estimators': 110, 'min_samples_split': 10, 'max_features': 'sqrt', 'max_depth': 45}\n"
          ],
          "name": "stdout"
        }
      ]
    },
    {
      "cell_type": "code",
      "metadata": {
        "colab": {
          "base_uri": "https://localhost:8080/"
        },
        "id": "R6xcnUqd8YDs",
        "outputId": "5981be77-acff-4982-e188-7469b6f50e30"
      },
      "source": [
        "# best random model \n",
        "rf_random.best_estimator_"
      ],
      "execution_count": 24,
      "outputs": [
        {
          "output_type": "execute_result",
          "data": {
            "text/plain": [
              "RandomForestRegressor(bootstrap=True, ccp_alpha=0.0, criterion='mse',\n",
              "                      max_depth=45, max_features='auto', max_leaf_nodes=None,\n",
              "                      max_samples=None, min_impurity_decrease=0.0,\n",
              "                      min_impurity_split=None, min_samples_leaf=1,\n",
              "                      min_samples_split=10, min_weight_fraction_leaf=0.0,\n",
              "                      n_estimators=155, n_jobs=-1, oob_score=False,\n",
              "                      random_state=None, verbose=0, warm_start=False)"
            ]
          },
          "metadata": {
            "tags": []
          },
          "execution_count": 24
        }
      ]
    },
    {
      "cell_type": "code",
      "metadata": {
        "colab": {
          "base_uri": "https://localhost:8080/"
        },
        "id": "re1CbSxn8gMD",
        "outputId": "52e3b463-827c-4af2-e397-af55f9a3e21a"
      },
      "source": [
        "# best combination of parameters of random search\n",
        "rf_random.best_params_"
      ],
      "execution_count": 25,
      "outputs": [
        {
          "output_type": "execute_result",
          "data": {
            "text/plain": [
              "{'max_depth': 45,\n",
              " 'max_features': 'auto',\n",
              " 'min_samples_split': 10,\n",
              " 'n_estimators': 155}"
            ]
          },
          "metadata": {
            "tags": []
          },
          "execution_count": 25
        }
      ]
    },
    {
      "cell_type": "code",
      "metadata": {
        "colab": {
          "base_uri": "https://localhost:8080/"
        },
        "id": "Lzb_MXBq8ncE",
        "outputId": "95bede40-da32-49c9-a878-e342bc02c457"
      },
      "source": [
        "rf_random.best_estimator_"
      ],
      "execution_count": 26,
      "outputs": [
        {
          "output_type": "execute_result",
          "data": {
            "text/plain": [
              "RandomForestRegressor(bootstrap=True, ccp_alpha=0.0, criterion='mse',\n",
              "                      max_depth=45, max_features='auto', max_leaf_nodes=None,\n",
              "                      max_samples=None, min_impurity_decrease=0.0,\n",
              "                      min_impurity_split=None, min_samples_leaf=1,\n",
              "                      min_samples_split=10, min_weight_fraction_leaf=0.0,\n",
              "                      n_estimators=155, n_jobs=-1, oob_score=False,\n",
              "                      random_state=None, verbose=0, warm_start=False)"
            ]
          },
          "metadata": {
            "tags": []
          },
          "execution_count": 26
        }
      ]
    },
    {
      "cell_type": "code",
      "metadata": {
        "colab": {
          "base_uri": "https://localhost:8080/"
        },
        "id": "Aje1i8Bl8oGW",
        "outputId": "cc2171e0-8f13-4cfc-efbb-18b244e065a0"
      },
      "source": [
        "# Performance metrics (MAPE)\n",
        "random_best= rf_random.best_estimator_.predict(x_train)\n",
        "errors = abs(random_best - y_train)\n",
        "# Calculate mean absolute percentage error (MAPE)\n",
        "mape = np.mean(100 * (errors / y_train))\n",
        "accuracy = 100 - mape    \n",
        "#print result\n",
        "print('The best model from the randomized search has an accuracy of', round(accuracy, 2),'%')"
      ],
      "execution_count": 27,
      "outputs": [
        {
          "output_type": "stream",
          "text": [
            "The best model from the randomized search has an accuracy of 63.5 %\n"
          ],
          "name": "stdout"
        }
      ]
    },
    {
      "cell_type": "code",
      "metadata": {
        "colab": {
          "base_uri": "https://localhost:8080/"
        },
        "id": "ndsr3Afm8xJE",
        "outputId": "291e1040-d92a-466c-d646-91ca35c7eb25"
      },
      "source": [
        "#this is the RMSE\n",
        "final_mse = mean_squared_error(y_train, random_best)\n",
        "final_rmse = np.sqrt(final_mse)\n",
        "print('The best model from the randomized search has a RMSE of', round(final_rmse, 2))"
      ],
      "execution_count": 28,
      "outputs": [
        {
          "output_type": "stream",
          "text": [
            "The best model from the randomized search has a RMSE of 450.98\n"
          ],
          "name": "stdout"
        }
      ]
    },
    {
      "cell_type": "code",
      "metadata": {
        "colab": {
          "base_uri": "https://localhost:8080/"
        },
        "id": "S4q2PzuX9ApD",
        "outputId": "ac6781a9-5df8-4102-aa95-02fff697436b"
      },
      "source": [
        "# extract the numerical values of feature importance from the grid search\n",
        "importances = rf_random.best_estimator_.feature_importances_\n",
        "\n",
        "#create a feature list from the original dataset (list of columns)\n",
        "feature_list = list(X.columns)\n",
        "\n",
        "#create a list of tuples\n",
        "feature_importance= sorted(zip(importances, feature_list), reverse=True)\n",
        "\n",
        "#create two lists from the previous list of tuples\n",
        "df2 = pd.DataFrame(feature_importance, columns=['importance', 'feature'])\n",
        "importance= list(df2['importance'])\n",
        "feature= list(df2['feature'])\n",
        "\n",
        "print(df2)"
      ],
      "execution_count": 29,
      "outputs": [
        {
          "output_type": "stream",
          "text": [
            "    importance          feature\n",
            "0     0.402861     city_encoded\n",
            "1     0.241355             city\n",
            "2     0.142961       houseSpace\n",
            "3     0.053150  numberBathrooms\n",
            "4     0.031717         elevator\n",
            "5     0.025791      featurePlus\n",
            "6     0.021110       carParking\n",
            "7     0.018519           status\n",
            "8     0.018109  numberBalconies\n",
            "9     0.014941      numberRooms\n",
            "10    0.013510           Bldg_B\n",
            "11    0.010603           Bldg_A\n",
            "12    0.004129           Bldg_C\n",
            "13    0.001243          heating\n"
          ],
          "name": "stdout"
        }
      ]
    },
    {
      "cell_type": "code",
      "metadata": {
        "colab": {
          "base_uri": "https://localhost:8080/",
          "height": 729
        },
        "id": "xGF4z2kD9Si8",
        "outputId": "9c4e0be1-fe1f-4d67-df3c-bf0ea628525d"
      },
      "source": [
        "# Set the style\n",
        "plt.style.use('bmh')\n",
        "# list of x locations for plotting\n",
        "x_values = list(range(len(feature_importance)))\n",
        "\n",
        "# Make a bar chart\n",
        "plt.figure(figsize=(15,10))\n",
        "plt.bar(x_values, importance, orientation = 'vertical')\n",
        "plt.xticks(x_values, feature, rotation='vertical')\n",
        "plt.ylabel('Importance'); plt.xlabel('Variable'); plt.title('Variable Importances');"
      ],
      "execution_count": 30,
      "outputs": [
        {
          "output_type": "display_data",
          "data": {
            "image/png": "[encoded data removed]",
            "text/plain": [
              "<Figure size 1080x720 with 1 Axes>"
            ]
          },
          "metadata": {
            "tags": [],
            "needs_background": "light"
          }
        }
      ]
    },
    {
      "cell_type": "code",
      "metadata": {
        "colab": {
          "base_uri": "https://localhost:8080/"
        },
        "id": "Q4scLTzZ96eu",
        "outputId": "257957f6-786f-4ee2-ca68-b8274e2cff26"
      },
      "source": [
        "final_model = rf_random.best_estimator_\n",
        "# Predicting test set results\n",
        "final_pred = final_model.predict(x_test)\n",
        "final_mse = mean_squared_error(y_test, final_pred)\n",
        "final_rmse = np.sqrt(final_mse)\n",
        "print('The final RMSE on the test set is', round(final_rmse, 2))"
      ],
      "execution_count": 31,
      "outputs": [
        {
          "output_type": "stream",
          "text": [
            "The final RMSE on the test set is 796.61\n"
          ],
          "name": "stdout"
        }
      ]
    },
    {
      "cell_type": "code",
      "metadata": {
        "colab": {
          "base_uri": "https://localhost:8080/"
        },
        "id": "ebjsZCni998U",
        "outputId": "9ae722ad-a3a7-4a5e-81f3-04e64ff15e08"
      },
      "source": [
        "\n",
        "errors = abs(final_pred - y_test)\n",
        "# Calculate mean absolute percentage error (MAPE)\n",
        "mape = np.mean(100 * (errors / y_test))\n",
        "# Calculate and display accuracy\n",
        "accuracy = 100 - mape    \n",
        "#print result\n",
        "print('The best model achieves on the test set an accuracy of', round(accuracy, 2),'%')"
      ],
      "execution_count": 32,
      "outputs": [
        {
          "output_type": "stream",
          "text": [
            "The best model achieves on the test set an accuracy of 34.61 %\n"
          ],
          "name": "stdout"
        }
      ]
    },
    {
      "cell_type": "code",
      "metadata": {
        "id": "HoHjN1ldFmcx"
      },
      "source": [
        "from joblib import dump,load\n",
        "#dump(rf_random,'priceprediction.joblib')"
      ],
      "execution_count": 33,
      "outputs": []
    },
    {
      "cell_type": "code",
      "metadata": {
        "colab": {
          "base_uri": "https://localhost:8080/",
          "height": 402
        },
        "id": "-CDiwoOI6vW3",
        "outputId": "eebbf9f8-62f0-4c95-cd85-5084ef5b8fea"
      },
      "source": [
        "s=y_train.reset_index() \n",
        "df = pd.DataFrame(random_best, columns = ['Column_A'])\n",
        "result = pd.concat([df, s], axis=1)\n",
        "result = result.sort_values(by=['Column_A'])\n",
        "result = result.reset_index() \n",
        "\n",
        "result"
      ],
      "execution_count": 35,
      "outputs": [
        {
          "output_type": "execute_result",
          "data": {
            "text/html": [
              "<div>\n",
              "<style scoped>\n",
              "    .dataframe tbody tr th:only-of-type {\n",
              "        vertical-align: middle;\n",
              "    }\n",
              "\n",
              "    .dataframe tbody tr th {\n",
              "        vertical-align: top;\n",
              "    }\n",
              "\n",
              "    .dataframe thead th {\n",
              "        text-align: right;\n",
              "    }\n",
              "</style>\n",
              "<table border=\"1\" class=\"dataframe\">\n",
              "  <thead>\n",
              "    <tr style=\"text-align: right;\">\n",
              "      <th></th>\n",
              "      <th>level_0</th>\n",
              "      <th>Column_A</th>\n",
              "      <th>index</th>\n",
              "      <th>price</th>\n",
              "    </tr>\n",
              "  </thead>\n",
              "  <tbody>\n",
              "    <tr>\n",
              "      <th>0</th>\n",
              "      <td>364</td>\n",
              "      <td>238.005993</td>\n",
              "      <td>4414</td>\n",
              "      <td>200</td>\n",
              "    </tr>\n",
              "    <tr>\n",
              "      <th>1</th>\n",
              "      <td>573</td>\n",
              "      <td>240.569545</td>\n",
              "      <td>3168</td>\n",
              "      <td>200</td>\n",
              "    </tr>\n",
              "    <tr>\n",
              "      <th>2</th>\n",
              "      <td>114</td>\n",
              "      <td>248.056785</td>\n",
              "      <td>4474</td>\n",
              "      <td>250</td>\n",
              "    </tr>\n",
              "    <tr>\n",
              "      <th>3</th>\n",
              "      <td>256</td>\n",
              "      <td>249.605356</td>\n",
              "      <td>5675</td>\n",
              "      <td>250</td>\n",
              "    </tr>\n",
              "    <tr>\n",
              "      <th>4</th>\n",
              "      <td>302</td>\n",
              "      <td>249.605356</td>\n",
              "      <td>5211</td>\n",
              "      <td>250</td>\n",
              "    </tr>\n",
              "    <tr>\n",
              "      <th>...</th>\n",
              "      <td>...</td>\n",
              "      <td>...</td>\n",
              "      <td>...</td>\n",
              "      <td>...</td>\n",
              "    </tr>\n",
              "    <tr>\n",
              "      <th>571</th>\n",
              "      <td>79</td>\n",
              "      <td>3610.896848</td>\n",
              "      <td>93</td>\n",
              "      <td>4000</td>\n",
              "    </tr>\n",
              "    <tr>\n",
              "      <th>572</th>\n",
              "      <td>168</td>\n",
              "      <td>3616.255596</td>\n",
              "      <td>1932</td>\n",
              "      <td>3800</td>\n",
              "    </tr>\n",
              "    <tr>\n",
              "      <th>573</th>\n",
              "      <td>65</td>\n",
              "      <td>3629.027926</td>\n",
              "      <td>4103</td>\n",
              "      <td>4000</td>\n",
              "    </tr>\n",
              "    <tr>\n",
              "      <th>574</th>\n",
              "      <td>178</td>\n",
              "      <td>3685.137375</td>\n",
              "      <td>3089</td>\n",
              "      <td>4000</td>\n",
              "    </tr>\n",
              "    <tr>\n",
              "      <th>575</th>\n",
              "      <td>240</td>\n",
              "      <td>3729.352041</td>\n",
              "      <td>2715</td>\n",
              "      <td>4000</td>\n",
              "    </tr>\n",
              "  </tbody>\n",
              "</table>\n",
              "<p>576 rows × 4 columns</p>\n",
              "</div>"
            ],
            "text/plain": [
              "     level_0     Column_A  index  price\n",
              "0        364   238.005993   4414    200\n",
              "1        573   240.569545   3168    200\n",
              "2        114   248.056785   4474    250\n",
              "3        256   249.605356   5675    250\n",
              "4        302   249.605356   5211    250\n",
              "..       ...          ...    ...    ...\n",
              "571       79  3610.896848     93   4000\n",
              "572      168  3616.255596   1932   3800\n",
              "573       65  3629.027926   4103   4000\n",
              "574      178  3685.137375   3089   4000\n",
              "575      240  3729.352041   2715   4000\n",
              "\n",
              "[576 rows x 4 columns]"
            ]
          },
          "metadata": {
            "tags": []
          },
          "execution_count": 35
        }
      ]
    },
    {
      "cell_type": "code",
      "metadata": {
        "id": "mimO5Hpx6vf0",
        "colab": {
          "base_uri": "https://localhost:8080/",
          "height": 236
        },
        "outputId": "8f61bbb6-eca8-4ddc-b9fb-92946cbb4722"
      },
      "source": [
        "plt.figure(figsize=(25, 5))\n",
        "plt.plot(result.index,result.Column_A,label='Predict line')\n",
        "plt.scatter(result.index,result.price,s=10, c='#ff0000',label='Original test values')\n",
        "plt.legend()\n",
        "plt.xlabel('index ')\n",
        "plt.ylabel('value ')\n",
        "plt.show()"
      ],
      "execution_count": 36,
      "outputs": [
        {
          "output_type": "display_data",
          "data": {
            "image/png": "[encoded data removed]",
            "text/plain": [
              "<Figure size 1800x360 with 1 Axes>"
            ]
          },
          "metadata": {
            "tags": [],
            "needs_background": "light"
          }
        }
      ]
    },
    {
      "cell_type": "code",
      "metadata": {
        "id": "xrJfdlux6vor"
      },
      "source": [
        ""
      ],
      "execution_count": null,
      "outputs": []
    },
    {
      "cell_type": "code",
      "metadata": {
        "id": "IhOXKd3H1StK"
      },
      "source": [
        ""
      ],
      "execution_count": null,
      "outputs": []
    }
  ]
}