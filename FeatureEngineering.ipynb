{
  "nbformat": 4,
  "nbformat_minor": 0,
  "metadata": {
    "colab": {
      "name": "df27.ipynb",
      "provenance": []
    },
    "kernelspec": {
      "name": "python3",
      "display_name": "Python 3",
      "language": "python"
    }
  },
  "cells": [
    {
      "cell_type": "code",
      "metadata": {
        "id": "hQh7ZN9Xdb6c"
      },
      "source": [
        "#!pip install category-encoders\n",
        "import os\n",
        "import warnings\n",
        "from pathlib import Path\n",
        "\n",
        "#import matplotlib.pyplot as plt\n",
        "import numpy as np\n",
        "import pandas as pd\n",
        "#import seaborn as sns\n",
        "from IPython.display import display\n",
        "from pandas.api.types import CategoricalDtype\n",
        "\n",
        "from category_encoders import MEstimateEncoder\n",
        "from sklearn.cluster import KMeans\n",
        "from sklearn.decomposition import PCA\n",
        "from sklearn.feature_selection import mutual_info_regression\n",
        "from sklearn.model_selection import KFold, cross_val_score\n",
        "#from xgboost import XGBRegressor\n",
        "from sklearn.linear_model import LinearRegression\n",
        "from sklearn.ensemble import RandomForestRegressor\n",
        "\n",
        "'''\n",
        "# Set Matplotlib defaults\n",
        "plt.style.use(\"seaborn-whitegrid\")\n",
        "plt.rc(\"figure\", autolayout=True)\n",
        "plt.rc(\n",
        "    \"axes\",\n",
        "    labelweight=\"bold\",\n",
        "    labelsize=\"large\",\n",
        "    titleweight=\"bold\",\n",
        "    titlesize=14,\n",
        "    titlepad=10,\n",
        ")\n",
        "'''\n",
        "# Mute warnings\n",
        "warnings.filterwarnings('ignore')"
      ],
      "execution_count": 129,
      "outputs": []
    },
    {
      "cell_type": "code",
      "metadata": {
        "id": "qLeQppUseEtT"
      },
      "source": [],
      "execution_count": null,
      "outputs": []
    },
    {
      "cell_type": "code",
      "metadata": {
        "colab": {
          "base_uri": "https://localhost:8080/",
          "height": 592
        },
        "id": "Wqfo4onueUnJ",
        "outputId": "f5e91394-ea7c-4aab-e473-ab194f2623ad"
      },
      "source": [
        "data_dir = Path(\"dfC.csv\")\n",
        "df = pd.read_csv(data_dir)\n",
        "df"
      ],
      "execution_count": 130,
      "outputs": [
        {
          "output_type": "execute_result",
          "data": {
            "text/plain": [
              "            date city  houseType status  numberRooms  numberBathrooms  \\\n",
              "0     2020-01-29   RB  apartment      A            1                1   \n",
              "1     2020-01-29   RB  apartment      A            1                1   \n",
              "2     2020-01-29   RB  apartment      A            3                3   \n",
              "3     2020-01-29   RB  apartment      A            3                3   \n",
              "4     2020-01-29   RB  apartment      A            3                3   \n",
              "...          ...  ...        ...    ...          ...              ...   \n",
              "8128  2021-03-03   RB  apartment      A            2                2   \n",
              "8129  2021-03-03   RB  apartment      B            3                2   \n",
              "8130  2021-03-03    H  apartment      B            3                2   \n",
              "8131  2021-03-03    N  apartment      A            1                1   \n",
              "8132  2021-03-03   RB  apartment      A            2                2   \n",
              "\n",
              "      numberKitchens  numberBalconies  elevator  carParking  heating  \\\n",
              "0                  1                0         1           1        0   \n",
              "1                  1                1         1           1        0   \n",
              "2                  1                2         1           1        1   \n",
              "3                  1                1         1           1        1   \n",
              "4                  1                3         1           1        0   \n",
              "...              ...              ...       ...         ...      ...   \n",
              "8128               1                1         1           1        0   \n",
              "8129               1                1         1           1        0   \n",
              "8130               1                2         0           0        0   \n",
              "8131               1                1         1           1        1   \n",
              "8132               1                0         0           0        0   \n",
              "\n",
              "      houseSpace  PriceType_JOD  PriceType_NIS  PriceType_USD  price  \n",
              "0          140.0              0              1              0   1300  \n",
              "1           80.0              0              0              1    550  \n",
              "2          190.0              0              0              1   1000  \n",
              "3          190.0              0              0              1    950  \n",
              "4          160.0              0              0              1    800  \n",
              "...          ...            ...            ...            ...    ...  \n",
              "8128       120.0              0              0              1    600  \n",
              "8129       140.0              0              0              1    500  \n",
              "8130       150.0              0              1              0   1600  \n",
              "8131        70.0              0              1              0   1000  \n",
              "8132       120.0              0              1              0   1750  \n",
              "\n",
              "[8133 rows x 16 columns]"
            ],
            "text/html": "<div>\n<style scoped>\n    .dataframe tbody tr th:only-of-type {\n        vertical-align: middle;\n    }\n\n    .dataframe tbody tr th {\n        vertical-align: top;\n    }\n\n    .dataframe thead th {\n        text-align: right;\n    }\n</style>\n<table border=\"1\" class=\"dataframe\">\n  <thead>\n    <tr style=\"text-align: right;\">\n      <th></th>\n      <th>date</th>\n      <th>city</th>\n      <th>houseType</th>\n      <th>status</th>\n      <th>numberRooms</th>\n      <th>numberBathrooms</th>\n      <th>numberKitchens</th>\n      <th>numberBalconies</th>\n      <th>elevator</th>\n      <th>carParking</th>\n      <th>heating</th>\n      <th>houseSpace</th>\n      <th>PriceType_JOD</th>\n      <th>PriceType_NIS</th>\n      <th>PriceType_USD</th>\n      <th>price</th>\n    </tr>\n  </thead>\n  <tbody>\n    <tr>\n      <th>0</th>\n      <td>2020-01-29</td>\n      <td>RB</td>\n      <td>apartment</td>\n      <td>A</td>\n      <td>1</td>\n      <td>1</td>\n      <td>1</td>\n      <td>0</td>\n      <td>1</td>\n      <td>1</td>\n      <td>0</td>\n      <td>140.0</td>\n      <td>0</td>\n      <td>1</td>\n      <td>0</td>\n      <td>1300</td>\n    </tr>\n    <tr>\n      <th>1</th>\n      <td>2020-01-29</td>\n      <td>RB</td>\n      <td>apartment</td>\n      <td>A</td>\n      <td>1</td>\n      <td>1</td>\n      <td>1</td>\n      <td>1</td>\n      <td>1</td>\n      <td>1</td>\n      <td>0</td>\n      <td>80.0</td>\n      <td>0</td>\n      <td>0</td>\n      <td>1</td>\n      <td>550</td>\n    </tr>\n    <tr>\n      <th>2</th>\n      <td>2020-01-29</td>\n      <td>RB</td>\n      <td>apartment</td>\n      <td>A</td>\n      <td>3</td>\n      <td>3</td>\n      <td>1</td>\n      <td>2</td>\n      <td>1</td>\n      <td>1</td>\n      <td>1</td>\n      <td>190.0</td>\n      <td>0</td>\n      <td>0</td>\n      <td>1</td>\n      <td>1000</td>\n    </tr>\n    <tr>\n      <th>3</th>\n      <td>2020-01-29</td>\n      <td>RB</td>\n      <td>apartment</td>\n      <td>A</td>\n      <td>3</td>\n      <td>3</td>\n      <td>1</td>\n      <td>1</td>\n      <td>1</td>\n      <td>1</td>\n      <td>1</td>\n      <td>190.0</td>\n      <td>0</td>\n      <td>0</td>\n      <td>1</td>\n      <td>950</td>\n    </tr>\n    <tr>\n      <th>4</th>\n      <td>2020-01-29</td>\n      <td>RB</td>\n      <td>apartment</td>\n      <td>A</td>\n      <td>3</td>\n      <td>3</td>\n      <td>1</td>\n      <td>3</td>\n      <td>1</td>\n      <td>1</td>\n      <td>0</td>\n      <td>160.0</td>\n      <td>0</td>\n      <td>0</td>\n      <td>1</td>\n      <td>800</td>\n    </tr>\n    <tr>\n      <th>...</th>\n      <td>...</td>\n      <td>...</td>\n      <td>...</td>\n      <td>...</td>\n      <td>...</td>\n      <td>...</td>\n      <td>...</td>\n      <td>...</td>\n      <td>...</td>\n      <td>...</td>\n      <td>...</td>\n      <td>...</td>\n      <td>...</td>\n      <td>...</td>\n      <td>...</td>\n      <td>...</td>\n    </tr>\n    <tr>\n      <th>8128</th>\n      <td>2021-03-03</td>\n      <td>RB</td>\n      <td>apartment</td>\n      <td>A</td>\n      <td>2</td>\n      <td>2</td>\n      <td>1</td>\n      <td>1</td>\n      <td>1</td>\n      <td>1</td>\n      <td>0</td>\n      <td>120.0</td>\n      <td>0</td>\n      <td>0</td>\n      <td>1</td>\n      <td>600</td>\n    </tr>\n    <tr>\n      <th>8129</th>\n      <td>2021-03-03</td>\n      <td>RB</td>\n      <td>apartment</td>\n      <td>B</td>\n      <td>3</td>\n      <td>2</td>\n      <td>1</td>\n      <td>1</td>\n      <td>1</td>\n      <td>1</td>\n      <td>0</td>\n      <td>140.0</td>\n      <td>0</td>\n      <td>0</td>\n      <td>1</td>\n      <td>500</td>\n    </tr>\n    <tr>\n      <th>8130</th>\n      <td>2021-03-03</td>\n      <td>H</td>\n      <td>apartment</td>\n      <td>B</td>\n      <td>3</td>\n      <td>2</td>\n      <td>1</td>\n      <td>2</td>\n      <td>0</td>\n      <td>0</td>\n      <td>0</td>\n      <td>150.0</td>\n      <td>0</td>\n      <td>1</td>\n      <td>0</td>\n      <td>1600</td>\n    </tr>\n    <tr>\n      <th>8131</th>\n      <td>2021-03-03</td>\n      <td>N</td>\n      <td>apartment</td>\n      <td>A</td>\n      <td>1</td>\n      <td>1</td>\n      <td>1</td>\n      <td>1</td>\n      <td>1</td>\n      <td>1</td>\n      <td>1</td>\n      <td>70.0</td>\n      <td>0</td>\n      <td>1</td>\n      <td>0</td>\n      <td>1000</td>\n    </tr>\n    <tr>\n      <th>8132</th>\n      <td>2021-03-03</td>\n      <td>RB</td>\n      <td>apartment</td>\n      <td>A</td>\n      <td>2</td>\n      <td>2</td>\n      <td>1</td>\n      <td>0</td>\n      <td>0</td>\n      <td>0</td>\n      <td>0</td>\n      <td>120.0</td>\n      <td>0</td>\n      <td>1</td>\n      <td>0</td>\n      <td>1750</td>\n    </tr>\n  </tbody>\n</table>\n<p>8133 rows × 16 columns</p>\n</div>"
          },
          "metadata": {},
          "execution_count": 130
        }
      ]
    },
    {
      "cell_type": "code",
      "metadata": {
        "colab": {
          "base_uri": "https://localhost:8080/",
          "height": 592
        },
        "id": "DcY3C2dYomHa",
        "outputId": "c4cd4880-fc19-451d-85af-b4be7175bfb3"
      },
      "source": [
        "def impute(df):\n",
        "    for name in df.select_dtypes(\"number\"):\n",
        "        df[name] = df[name].fillna(0)\n",
        "    for name in df.select_dtypes(\"category\"):\n",
        "        df[name] = df[name].fillna(\"None\")\n",
        "    return df\n",
        "\n",
        "\n",
        "\n",
        "impute(df)\n",
        "\n"
      ],
      "execution_count": 131,
      "outputs": [
        {
          "output_type": "execute_result",
          "data": {
            "text/plain": [
              "            date city  houseType status  numberRooms  numberBathrooms  \\\n",
              "0     2020-01-29   RB  apartment      A            1                1   \n",
              "1     2020-01-29   RB  apartment      A            1                1   \n",
              "2     2020-01-29   RB  apartment      A            3                3   \n",
              "3     2020-01-29   RB  apartment      A            3                3   \n",
              "4     2020-01-29   RB  apartment      A            3                3   \n",
              "...          ...  ...        ...    ...          ...              ...   \n",
              "8128  2021-03-03   RB  apartment      A            2                2   \n",
              "8129  2021-03-03   RB  apartment      B            3                2   \n",
              "8130  2021-03-03    H  apartment      B            3                2   \n",
              "8131  2021-03-03    N  apartment      A            1                1   \n",
              "8132  2021-03-03   RB  apartment      A            2                2   \n",
              "\n",
              "      numberKitchens  numberBalconies  elevator  carParking  heating  \\\n",
              "0                  1                0         1           1        0   \n",
              "1                  1                1         1           1        0   \n",
              "2                  1                2         1           1        1   \n",
              "3                  1                1         1           1        1   \n",
              "4                  1                3         1           1        0   \n",
              "...              ...              ...       ...         ...      ...   \n",
              "8128               1                1         1           1        0   \n",
              "8129               1                1         1           1        0   \n",
              "8130               1                2         0           0        0   \n",
              "8131               1                1         1           1        1   \n",
              "8132               1                0         0           0        0   \n",
              "\n",
              "      houseSpace  PriceType_JOD  PriceType_NIS  PriceType_USD  price  \n",
              "0          140.0              0              1              0   1300  \n",
              "1           80.0              0              0              1    550  \n",
              "2          190.0              0              0              1   1000  \n",
              "3          190.0              0              0              1    950  \n",
              "4          160.0              0              0              1    800  \n",
              "...          ...            ...            ...            ...    ...  \n",
              "8128       120.0              0              0              1    600  \n",
              "8129       140.0              0              0              1    500  \n",
              "8130       150.0              0              1              0   1600  \n",
              "8131        70.0              0              1              0   1000  \n",
              "8132       120.0              0              1              0   1750  \n",
              "\n",
              "[8133 rows x 16 columns]"
            ],
            "text/html": "<div>\n<style scoped>\n    .dataframe tbody tr th:only-of-type {\n        vertical-align: middle;\n    }\n\n    .dataframe tbody tr th {\n        vertical-align: top;\n    }\n\n    .dataframe thead th {\n        text-align: right;\n    }\n</style>\n<table border=\"1\" class=\"dataframe\">\n  <thead>\n    <tr style=\"text-align: right;\">\n      <th></th>\n      <th>date</th>\n      <th>city</th>\n      <th>houseType</th>\n      <th>status</th>\n      <th>numberRooms</th>\n      <th>numberBathrooms</th>\n      <th>numberKitchens</th>\n      <th>numberBalconies</th>\n      <th>elevator</th>\n      <th>carParking</th>\n      <th>heating</th>\n      <th>houseSpace</th>\n      <th>PriceType_JOD</th>\n      <th>PriceType_NIS</th>\n      <th>PriceType_USD</th>\n      <th>price</th>\n    </tr>\n  </thead>\n  <tbody>\n    <tr>\n      <th>0</th>\n      <td>2020-01-29</td>\n      <td>RB</td>\n      <td>apartment</td>\n      <td>A</td>\n      <td>1</td>\n      <td>1</td>\n      <td>1</td>\n      <td>0</td>\n      <td>1</td>\n      <td>1</td>\n      <td>0</td>\n      <td>140.0</td>\n      <td>0</td>\n      <td>1</td>\n      <td>0</td>\n      <td>1300</td>\n    </tr>\n    <tr>\n      <th>1</th>\n      <td>2020-01-29</td>\n      <td>RB</td>\n      <td>apartment</td>\n      <td>A</td>\n      <td>1</td>\n      <td>1</td>\n      <td>1</td>\n      <td>1</td>\n      <td>1</td>\n      <td>1</td>\n      <td>0</td>\n      <td>80.0</td>\n      <td>0</td>\n      <td>0</td>\n      <td>1</td>\n      <td>550</td>\n    </tr>\n    <tr>\n      <th>2</th>\n      <td>2020-01-29</td>\n      <td>RB</td>\n      <td>apartment</td>\n      <td>A</td>\n      <td>3</td>\n      <td>3</td>\n      <td>1</td>\n      <td>2</td>\n      <td>1</td>\n      <td>1</td>\n      <td>1</td>\n      <td>190.0</td>\n      <td>0</td>\n      <td>0</td>\n      <td>1</td>\n      <td>1000</td>\n    </tr>\n    <tr>\n      <th>3</th>\n      <td>2020-01-29</td>\n      <td>RB</td>\n      <td>apartment</td>\n      <td>A</td>\n      <td>3</td>\n      <td>3</td>\n      <td>1</td>\n      <td>1</td>\n      <td>1</td>\n      <td>1</td>\n      <td>1</td>\n      <td>190.0</td>\n      <td>0</td>\n      <td>0</td>\n      <td>1</td>\n      <td>950</td>\n    </tr>\n    <tr>\n      <th>4</th>\n      <td>2020-01-29</td>\n      <td>RB</td>\n      <td>apartment</td>\n      <td>A</td>\n      <td>3</td>\n      <td>3</td>\n      <td>1</td>\n      <td>3</td>\n      <td>1</td>\n      <td>1</td>\n      <td>0</td>\n      <td>160.0</td>\n      <td>0</td>\n      <td>0</td>\n      <td>1</td>\n      <td>800</td>\n    </tr>\n    <tr>\n      <th>...</th>\n      <td>...</td>\n      <td>...</td>\n      <td>...</td>\n      <td>...</td>\n      <td>...</td>\n      <td>...</td>\n      <td>...</td>\n      <td>...</td>\n      <td>...</td>\n      <td>...</td>\n      <td>...</td>\n      <td>...</td>\n      <td>...</td>\n      <td>...</td>\n      <td>...</td>\n      <td>...</td>\n    </tr>\n    <tr>\n      <th>8128</th>\n      <td>2021-03-03</td>\n      <td>RB</td>\n      <td>apartment</td>\n      <td>A</td>\n      <td>2</td>\n      <td>2</td>\n      <td>1</td>\n      <td>1</td>\n      <td>1</td>\n      <td>1</td>\n      <td>0</td>\n      <td>120.0</td>\n      <td>0</td>\n      <td>0</td>\n      <td>1</td>\n      <td>600</td>\n    </tr>\n    <tr>\n      <th>8129</th>\n      <td>2021-03-03</td>\n      <td>RB</td>\n      <td>apartment</td>\n      <td>B</td>\n      <td>3</td>\n      <td>2</td>\n      <td>1</td>\n      <td>1</td>\n      <td>1</td>\n      <td>1</td>\n      <td>0</td>\n      <td>140.0</td>\n      <td>0</td>\n      <td>0</td>\n      <td>1</td>\n      <td>500</td>\n    </tr>\n    <tr>\n      <th>8130</th>\n      <td>2021-03-03</td>\n      <td>H</td>\n      <td>apartment</td>\n      <td>B</td>\n      <td>3</td>\n      <td>2</td>\n      <td>1</td>\n      <td>2</td>\n      <td>0</td>\n      <td>0</td>\n      <td>0</td>\n      <td>150.0</td>\n      <td>0</td>\n      <td>1</td>\n      <td>0</td>\n      <td>1600</td>\n    </tr>\n    <tr>\n      <th>8131</th>\n      <td>2021-03-03</td>\n      <td>N</td>\n      <td>apartment</td>\n      <td>A</td>\n      <td>1</td>\n      <td>1</td>\n      <td>1</td>\n      <td>1</td>\n      <td>1</td>\n      <td>1</td>\n      <td>1</td>\n      <td>70.0</td>\n      <td>0</td>\n      <td>1</td>\n      <td>0</td>\n      <td>1000</td>\n    </tr>\n    <tr>\n      <th>8132</th>\n      <td>2021-03-03</td>\n      <td>RB</td>\n      <td>apartment</td>\n      <td>A</td>\n      <td>2</td>\n      <td>2</td>\n      <td>1</td>\n      <td>0</td>\n      <td>0</td>\n      <td>0</td>\n      <td>0</td>\n      <td>120.0</td>\n      <td>0</td>\n      <td>1</td>\n      <td>0</td>\n      <td>1750</td>\n    </tr>\n  </tbody>\n</table>\n<p>8133 rows × 16 columns</p>\n</div>"
          },
          "metadata": {},
          "execution_count": 131
        }
      ]
    },
    {
      "cell_type": "code",
      "metadata": {
        "colab": {
          "base_uri": "https://localhost:8080/",
          "height": 383
        },
        "id": "6vnq9rZlor4W",
        "outputId": "47630a5d-c241-42fd-9951-8cea874e411d"
      },
      "source": [
        "# Peek at the values\n",
        "#display(df)\n",
        "\n",
        "# Display information about dtypes and missing values\n",
        "\n",
        "display(df.info())"
      ],
      "execution_count": 132,
      "outputs": [
        {
          "output_type": "stream",
          "name": "stdout",
          "text": [
            "<class 'pandas.core.frame.DataFrame'>\nRangeIndex: 8133 entries, 0 to 8132\nData columns (total 16 columns):\n #   Column           Non-Null Count  Dtype  \n---  ------           --------------  -----  \n 0   date             8133 non-null   object \n 1   city             8133 non-null   object \n 2   houseType        8133 non-null   object \n 3   status           8133 non-null   object \n 4   numberRooms      8133 non-null   int64  \n 5   numberBathrooms  8133 non-null   int64  \n 6   numberKitchens   8133 non-null   int64  \n 7   numberBalconies  8133 non-null   int64  \n 8   elevator         8133 non-null   int64  \n 9   carParking       8133 non-null   int64  \n 10  heating          8133 non-null   int64  \n 11  houseSpace       8133 non-null   float64\n 12  PriceType_JOD    8133 non-null   int64  \n 13  PriceType_NIS    8133 non-null   int64  \n 14  PriceType_USD    8133 non-null   int64  \n 15  price            8133 non-null   int64  \ndtypes: float64(1), int64(11), object(4)\nmemory usage: 1016.8+ KB\n"
          ]
        },
        {
          "output_type": "display_data",
          "data": {
            "text/plain": "None"
          },
          "metadata": {}
        }
      ]
    },
    {
      "cell_type": "code",
      "metadata": {
        "id": "Dcrbox4srbU7"
      },
      "source": [],
      "execution_count": null,
      "outputs": []
    },
    {
      "cell_type": "code",
      "metadata": {
        "id": "ot_sjhlrumS7"
      },
      "source": [],
      "execution_count": null,
      "outputs": []
    },
    {
      "cell_type": "code",
      "metadata": {
        "id": "upyPlasQrs7B"
      },
      "source": [
        "def make_mi_scores(X, y):\n",
        "    X = X.copy()\n",
        "    for colname in X.select_dtypes([\"object\", \"category\"]):\n",
        "        X[colname], _ = X[colname].factorize()\n",
        "    # All discrete features should now have integer dtypes\n",
        "    discrete_features = [pd.api.types.is_integer_dtype(t) for t in X.dtypes]\n",
        "    mi_scores = mutual_info_regression(X, y, discrete_features=discrete_features, random_state=0)\n",
        "    mi_scores = pd.Series(mi_scores, name=\"MI Scores\", index=X.columns)\n",
        "    mi_scores = mi_scores.sort_values(ascending=False)\n",
        "    return mi_scores\n",
        "\n",
        "\n",
        "def plot_mi_scores(scores):\n",
        "    scores = scores.sort_values(ascending=True)\n",
        "    width = np.arange(len(scores))\n",
        "    ticks = list(scores.index)\n",
        "    plt.barh(width, scores)\n",
        "    plt.yticks(width, ticks)\n",
        "    plt.title(\"Mutual Information Scores\")"
      ],
      "execution_count": 133,
      "outputs": []
    },
    {
      "cell_type": "code",
      "metadata": {
        "colab": {
          "base_uri": "https://localhost:8080/"
        },
        "id": "dAMQo9s3wBX6",
        "outputId": "c1caff61-89f4-4034-dab7-6bf66677bcc0"
      },
      "source": [
        "X = df.copy()\n",
        "y = X.pop(\"price\")\n",
        "\n",
        "mi_scores = make_mi_scores(X, y)\n",
        "mi_scores"
      ],
      "execution_count": 134,
      "outputs": [
        {
          "output_type": "execute_result",
          "data": {
            "text/plain": [
              "PriceType_USD      0.373450\n",
              "PriceType_NIS      0.289018\n",
              "city               0.228781\n",
              "houseSpace         0.191795\n",
              "PriceType_JOD      0.174511\n",
              "numberRooms        0.111146\n",
              "numberBathrooms    0.105612\n",
              "status             0.096369\n",
              "elevator           0.060125\n",
              "heating            0.054981\n",
              "carParking         0.046087\n",
              "numberBalconies    0.039944\n",
              "date               0.036985\n",
              "numberKitchens     0.004049\n",
              "houseType          0.003666\n",
              "Name: MI Scores, dtype: float64"
            ]
          },
          "metadata": {},
          "execution_count": 134
        }
      ]
    },
    {
      "cell_type": "code",
      "metadata": {
        "id": "eH--7mv2wYA_"
      },
      "source": [
        "def drop_uninformative(df, mi_scores):\n",
        "    return df.loc[:, mi_scores > 0.006]"
      ],
      "execution_count": 135,
      "outputs": []
    },
    {
      "cell_type": "code",
      "metadata": {
        "colab": {
          "base_uri": "https://localhost:8080/"
        },
        "id": "OSw337mTwd9e",
        "outputId": "0216afe3-eb75-410e-f01f-182ff6a8b195"
      },
      "source": [
        "X = df.copy()\n",
        "y = X.pop(\"price\")\n",
        "X = drop_uninformative(X, mi_scores)\n",
        "\n",
        "mi_scores = make_mi_scores(X, y)\n",
        "mi_scores"
      ],
      "execution_count": 136,
      "outputs": [
        {
          "output_type": "execute_result",
          "data": {
            "text/plain": [
              "PriceType_USD      0.373450\n",
              "PriceType_NIS      0.289018\n",
              "city               0.228781\n",
              "houseSpace         0.191795\n",
              "PriceType_JOD      0.174511\n",
              "numberRooms        0.111146\n",
              "numberBathrooms    0.105612\n",
              "status             0.096369\n",
              "elevator           0.060125\n",
              "heating            0.054981\n",
              "carParking         0.046087\n",
              "numberBalconies    0.039944\n",
              "date               0.036985\n",
              "Name: MI Scores, dtype: float64"
            ]
          },
          "metadata": {},
          "execution_count": 136
        }
      ]
    },
    {
      "cell_type": "code",
      "metadata": {
        "id": "-mx1tGguw4xi"
      },
      "source": [
        "def create_features(df):\n",
        "    X = df.copy()\n",
        "    y = X.pop(\"price\")\n",
        "    X = X.join(create_features_1(X))\n",
        "    X = X.join(create_features_2(X))\n",
        "    X = X.join(create_features_3(X))\n",
        "    # ...\n",
        "    return X\n",
        "\n",
        "\n",
        "def label_encode(df):\n",
        "    X = df.copy()\n",
        "    for colname in X.select_dtypes([\"category\"]):\n",
        "        X[colname] = X[colname].cat.codes\n",
        "    return X\n",
        "\n",
        "\n",
        "\n"
      ],
      "execution_count": 137,
      "outputs": []
    },
    {
      "cell_type": "code",
      "metadata": {
        "id": "4MRq8UJUxrJ7"
      },
      "source": [
        "def mathematical_transforms(df):\n",
        "    X = pd.DataFrame()  # dataframe to hold new features\n",
        "    X[\"featurePlus\"] = df.numberBathrooms / df.numberRooms\n",
        "    #X[\"featurePlus2\"] = (df.numberBalconies + df.numberBathrooms) / df.numberRooms\n",
        "    # This feature ended up not helping performance\n",
        "    \n",
        "    return X\n",
        "\n",
        "\n",
        "def interactions(df):\n",
        "    X = pd.get_dummies(df.status, prefix=\"Bldg\")\n",
        "    X = X.mul(df.numberBalconies, axis=0)\n",
        "\n",
        "    return X\n",
        "\n",
        "\n",
        "def group_transforms(df):\n",
        "    X = pd.DataFrame()\n",
        "    X[\"MedstatusHouseSpace\"] = df.groupby(\"status\")[\"houseSpace\"].transform(\"median\")\n",
        "    return X"
      ],
      "execution_count": 138,
      "outputs": []
    },
    {
      "cell_type": "code",
      "metadata": {
        "id": "Q-jyGxqD5kSV"
      },
      "source": [],
      "execution_count": null,
      "outputs": []
    },
    {
      "cell_type": "code",
      "metadata": {
        "id": "c7mUTc0V55hq"
      },
      "source": [],
      "execution_count": null,
      "outputs": []
    },
    {
      "cell_type": "code",
      "metadata": {
        "id": "fNJQk_U957M6"
      },
      "source": [
        "def corrplot(df, method=\"pearson\", annot=True, **kwargs):\n",
        "    sns.clustermap(\n",
        "        df.corr(method),\n",
        "        vmin=-1.0,\n",
        "        vmax=1.0,\n",
        "        cmap=\"icefire\",\n",
        "        method=\"complete\",\n",
        "        annot=annot,\n",
        "        **kwargs,\n",
        "    )"
      ],
      "execution_count": 139,
      "outputs": []
    },
    {
      "cell_type": "code",
      "metadata": {
        "id": "rmUT6UhS5_97"
      },
      "source": [
        "class CrossFoldEncoder:\n",
        "    def __init__(self, encoder, **kwargs):\n",
        "        self.encoder_ = encoder\n",
        "        self.kwargs_ = kwargs  # keyword arguments for the encoder\n",
        "        self.cv_ = KFold(n_splits=5)\n",
        "\n",
        "    def fit_transform(self, X, y, cols):\n",
        "        self.fitted_encoders_ = []\n",
        "        self.cols_ = cols\n",
        "        X_encoded = []\n",
        "        for idx_encode, idx_train in self.cv_.split(X):\n",
        "            fitted_encoder = self.encoder_(cols=cols, **self.kwargs_)\n",
        "            fitted_encoder.fit(\n",
        "                X.iloc[idx_encode, :], y.iloc[idx_encode],\n",
        "            )\n",
        "            X_encoded.append(fitted_encoder.transform(X.iloc[idx_train, :])[cols])\n",
        "            self.fitted_encoders_.append(fitted_encoder)\n",
        "        X_encoded = pd.concat(X_encoded)\n",
        "        X_encoded.columns = [name + \"_encoded\" for name in X_encoded.columns]\n",
        "        return X_encoded\n",
        "\n",
        "    \n",
        "    def transform(self, X):\n",
        "        from functools import reduce\n",
        "\n",
        "        X_encoded_list = []\n",
        "        for fitted_encoder in self.fitted_encoders_:\n",
        "            X_encoded = fitted_encoder.transform(X)\n",
        "            X_encoded_list.append(X_encoded[self.cols_])\n",
        "        X_encoded = reduce(\n",
        "            lambda x, y: x.add(y, fill_value=0), X_encoded_list\n",
        "        ) / len(X_encoded_list)\n",
        "        X_encoded.columns = [name + \"_encoded\" for name in X_encoded.columns]\n",
        "        return X_encoded"
      ],
      "execution_count": 140,
      "outputs": []
    },
    {
      "cell_type": "code",
      "metadata": {
        "colab": {
          "base_uri": "https://localhost:8080/"
        },
        "id": "vdUSct0E8U2Y",
        "outputId": "25d7a9d8-19a2-40ee-aa1d-2e2d2ce469b5"
      },
      "source": [
        "def create_features(df, df_test=None):\n",
        "    X = df.copy()\n",
        "    y = X.pop(\"price\")\n",
        "    mi_scores = make_mi_scores(X, y)\n",
        "\n",
        "    if df_test is not None:\n",
        "        X_test = df_test.copy()\n",
        "        X_test.pop(\"SalePrice\")\n",
        "        X = pd.concat([X, X_test])\n",
        "\n",
        "    #Mutual Information\n",
        "    X = drop_uninformative(X, mi_scores)\n",
        "\n",
        "    #Transformations\n",
        "    X = X.join(mathematical_transforms(X))\n",
        "    X = X.join(interactions(X))\n",
        " \n",
        "    X = X.join(group_transforms(X))\n",
        "\n",
        "    # Reform splits\n",
        "    if df_test is not None:\n",
        "        X_test = X.loc[df_test.index, :]\n",
        "        X.drop(df_test.index, inplace=True)\n",
        "\n",
        "    # Encoder\n",
        "    encoder = CrossFoldEncoder(MEstimateEncoder, m=1)\n",
        "    X = X.join(encoder.fit_transform(X, y, cols=[\"city\"]))\n",
        "    if df_test is not None:\n",
        "        X_test = X_test.join(encoder.transform(X_test))\n",
        "\n",
        "    if df_test is not None:\n",
        "        return X, X_test\n",
        "    else:\n",
        "        return X\n",
        "\n",
        "\n",
        "#df_train, df_test = load_data()\n",
        "X = create_features(df)\n",
        "y = df.loc[:, \"price\"]\n"
      ],
      "execution_count": 141,
      "outputs": []
    },
    {
      "cell_type": "code",
      "metadata": {
        "id": "w_-fQ9Mm80Vk"
      },
      "source": [],
      "execution_count": null,
      "outputs": []
    },
    {
      "cell_type": "code",
      "metadata": {
        "id": "OdCSTSnVCt8u"
      },
      "source": [
        "result = pd.concat([X, y], axis=1)"
      ],
      "execution_count": 239,
      "outputs": []
    },
    {
      "cell_type": "code",
      "metadata": {
        "colab": {
          "base_uri": "https://localhost:8080/",
          "height": 424
        },
        "id": "zGA7BtauCxen",
        "outputId": "20378dcb-9e47-439b-e056-2a6fc3a35fda"
      },
      "source": [
        "result"
      ],
      "execution_count": 240,
      "outputs": [
        {
          "output_type": "execute_result",
          "data": {
            "text/plain": [
              "            date city status  numberRooms  numberBathrooms  numberBalconies  \\\n",
              "0     2020-01-29   RB      A            1                1                0   \n",
              "1     2020-01-29   RB      A            1                1                1   \n",
              "2     2020-01-29   RB      A            3                3                2   \n",
              "3     2020-01-29   RB      A            3                3                1   \n",
              "4     2020-01-29   RB      A            3                3                3   \n",
              "...          ...  ...    ...          ...              ...              ...   \n",
              "8128  2021-03-03   RB      A            2                2                1   \n",
              "8129  2021-03-03   RB      B            3                2                1   \n",
              "8130  2021-03-03    H      B            3                2                2   \n",
              "8131  2021-03-03    N      A            1                1                1   \n",
              "8132  2021-03-03   RB      A            2                2                0   \n",
              "\n",
              "      elevator  carParking  heating  houseSpace  ...  PriceType_USD  \\\n",
              "0            1           1        0       140.0  ...              0   \n",
              "1            1           1        0        80.0  ...              1   \n",
              "2            1           1        1       190.0  ...              1   \n",
              "3            1           1        1       190.0  ...              1   \n",
              "4            1           1        0       160.0  ...              1   \n",
              "...        ...         ...      ...         ...  ...            ...   \n",
              "8128         1           1        0       120.0  ...              1   \n",
              "8129         1           1        0       140.0  ...              1   \n",
              "8130         0           0        0       150.0  ...              0   \n",
              "8131         1           1        1        70.0  ...              0   \n",
              "8132         0           0        0       120.0  ...              0   \n",
              "\n",
              "      featurePlus  Bldg_A  Bldg_B  Bldg_C  Bldg_D  Bldg_E  \\\n",
              "0        1.000000       0       0       0       0       0   \n",
              "1        1.000000       1       0       0       0       0   \n",
              "2        1.000000       2       0       0       0       0   \n",
              "3        1.000000       1       0       0       0       0   \n",
              "4        1.000000       3       0       0       0       0   \n",
              "...           ...     ...     ...     ...     ...     ...   \n",
              "8128     1.000000       1       0       0       0       0   \n",
              "8129     0.666667       0       1       0       0       0   \n",
              "8130     0.666667       0       2       0       0       0   \n",
              "8131     1.000000       1       0       0       0       0   \n",
              "8132     1.000000       0       0       0       0       0   \n",
              "\n",
              "      MedstatusHouseSpace  city_encoded  price  \n",
              "0                   140.0   2179.295502   1300  \n",
              "1                   140.0   2179.295502    550  \n",
              "2                   140.0   2179.295502   1000  \n",
              "3                   140.0   2179.295502    950  \n",
              "4                   140.0   2179.295502    800  \n",
              "...                   ...           ...    ...  \n",
              "8128                140.0   1789.162426    600  \n",
              "8129                140.0   1789.162426    500  \n",
              "8130                140.0   4696.623612   1600  \n",
              "8131                140.0   3882.401112   1000  \n",
              "8132                140.0   1789.162426   1750  \n",
              "\n",
              "[8133 rows x 22 columns]"
            ],
            "text/html": "<div>\n<style scoped>\n    .dataframe tbody tr th:only-of-type {\n        vertical-align: middle;\n    }\n\n    .dataframe tbody tr th {\n        vertical-align: top;\n    }\n\n    .dataframe thead th {\n        text-align: right;\n    }\n</style>\n<table border=\"1\" class=\"dataframe\">\n  <thead>\n    <tr style=\"text-align: right;\">\n      <th></th>\n      <th>date</th>\n      <th>city</th>\n      <th>status</th>\n      <th>numberRooms</th>\n      <th>numberBathrooms</th>\n      <th>numberBalconies</th>\n      <th>elevator</th>\n      <th>carParking</th>\n      <th>heating</th>\n      <th>houseSpace</th>\n      <th>...</th>\n      <th>PriceType_USD</th>\n      <th>featurePlus</th>\n      <th>Bldg_A</th>\n      <th>Bldg_B</th>\n      <th>Bldg_C</th>\n      <th>Bldg_D</th>\n      <th>Bldg_E</th>\n      <th>MedstatusHouseSpace</th>\n      <th>city_encoded</th>\n      <th>price</th>\n    </tr>\n  </thead>\n  <tbody>\n    <tr>\n      <th>0</th>\n      <td>2020-01-29</td>\n      <td>RB</td>\n      <td>A</td>\n      <td>1</td>\n      <td>1</td>\n      <td>0</td>\n      <td>1</td>\n      <td>1</td>\n      <td>0</td>\n      <td>140.0</td>\n      <td>...</td>\n      <td>0</td>\n      <td>1.000000</td>\n      <td>0</td>\n      <td>0</td>\n      <td>0</td>\n      <td>0</td>\n      <td>0</td>\n      <td>140.0</td>\n      <td>2179.295502</td>\n      <td>1300</td>\n    </tr>\n    <tr>\n      <th>1</th>\n      <td>2020-01-29</td>\n      <td>RB</td>\n      <td>A</td>\n      <td>1</td>\n      <td>1</td>\n      <td>1</td>\n      <td>1</td>\n      <td>1</td>\n      <td>0</td>\n      <td>80.0</td>\n      <td>...</td>\n      <td>1</td>\n      <td>1.000000</td>\n      <td>1</td>\n      <td>0</td>\n      <td>0</td>\n      <td>0</td>\n      <td>0</td>\n      <td>140.0</td>\n      <td>2179.295502</td>\n      <td>550</td>\n    </tr>\n    <tr>\n      <th>2</th>\n      <td>2020-01-29</td>\n      <td>RB</td>\n      <td>A</td>\n      <td>3</td>\n      <td>3</td>\n      <td>2</td>\n      <td>1</td>\n      <td>1</td>\n      <td>1</td>\n      <td>190.0</td>\n      <td>...</td>\n      <td>1</td>\n      <td>1.000000</td>\n      <td>2</td>\n      <td>0</td>\n      <td>0</td>\n      <td>0</td>\n      <td>0</td>\n      <td>140.0</td>\n      <td>2179.295502</td>\n      <td>1000</td>\n    </tr>\n    <tr>\n      <th>3</th>\n      <td>2020-01-29</td>\n      <td>RB</td>\n      <td>A</td>\n      <td>3</td>\n      <td>3</td>\n      <td>1</td>\n      <td>1</td>\n      <td>1</td>\n      <td>1</td>\n      <td>190.0</td>\n      <td>...</td>\n      <td>1</td>\n      <td>1.000000</td>\n      <td>1</td>\n      <td>0</td>\n      <td>0</td>\n      <td>0</td>\n      <td>0</td>\n      <td>140.0</td>\n      <td>2179.295502</td>\n      <td>950</td>\n    </tr>\n    <tr>\n      <th>4</th>\n      <td>2020-01-29</td>\n      <td>RB</td>\n      <td>A</td>\n      <td>3</td>\n      <td>3</td>\n      <td>3</td>\n      <td>1</td>\n      <td>1</td>\n      <td>0</td>\n      <td>160.0</td>\n      <td>...</td>\n      <td>1</td>\n      <td>1.000000</td>\n      <td>3</td>\n      <td>0</td>\n      <td>0</td>\n      <td>0</td>\n      <td>0</td>\n      <td>140.0</td>\n      <td>2179.295502</td>\n      <td>800</td>\n    </tr>\n    <tr>\n      <th>...</th>\n      <td>...</td>\n      <td>...</td>\n      <td>...</td>\n      <td>...</td>\n      <td>...</td>\n      <td>...</td>\n      <td>...</td>\n      <td>...</td>\n      <td>...</td>\n      <td>...</td>\n      <td>...</td>\n      <td>...</td>\n      <td>...</td>\n      <td>...</td>\n      <td>...</td>\n      <td>...</td>\n      <td>...</td>\n      <td>...</td>\n      <td>...</td>\n      <td>...</td>\n      <td>...</td>\n    </tr>\n    <tr>\n      <th>8128</th>\n      <td>2021-03-03</td>\n      <td>RB</td>\n      <td>A</td>\n      <td>2</td>\n      <td>2</td>\n      <td>1</td>\n      <td>1</td>\n      <td>1</td>\n      <td>0</td>\n      <td>120.0</td>\n      <td>...</td>\n      <td>1</td>\n      <td>1.000000</td>\n      <td>1</td>\n      <td>0</td>\n      <td>0</td>\n      <td>0</td>\n      <td>0</td>\n      <td>140.0</td>\n      <td>1789.162426</td>\n      <td>600</td>\n    </tr>\n    <tr>\n      <th>8129</th>\n      <td>2021-03-03</td>\n      <td>RB</td>\n      <td>B</td>\n      <td>3</td>\n      <td>2</td>\n      <td>1</td>\n      <td>1</td>\n      <td>1</td>\n      <td>0</td>\n      <td>140.0</td>\n      <td>...</td>\n      <td>1</td>\n      <td>0.666667</td>\n      <td>0</td>\n      <td>1</td>\n      <td>0</td>\n      <td>0</td>\n      <td>0</td>\n      <td>140.0</td>\n      <td>1789.162426</td>\n      <td>500</td>\n    </tr>\n    <tr>\n      <th>8130</th>\n      <td>2021-03-03</td>\n      <td>H</td>\n      <td>B</td>\n      <td>3</td>\n      <td>2</td>\n      <td>2</td>\n      <td>0</td>\n      <td>0</td>\n      <td>0</td>\n      <td>150.0</td>\n      <td>...</td>\n      <td>0</td>\n      <td>0.666667</td>\n      <td>0</td>\n      <td>2</td>\n      <td>0</td>\n      <td>0</td>\n      <td>0</td>\n      <td>140.0</td>\n      <td>4696.623612</td>\n      <td>1600</td>\n    </tr>\n    <tr>\n      <th>8131</th>\n      <td>2021-03-03</td>\n      <td>N</td>\n      <td>A</td>\n      <td>1</td>\n      <td>1</td>\n      <td>1</td>\n      <td>1</td>\n      <td>1</td>\n      <td>1</td>\n      <td>70.0</td>\n      <td>...</td>\n      <td>0</td>\n      <td>1.000000</td>\n      <td>1</td>\n      <td>0</td>\n      <td>0</td>\n      <td>0</td>\n      <td>0</td>\n      <td>140.0</td>\n      <td>3882.401112</td>\n      <td>1000</td>\n    </tr>\n    <tr>\n      <th>8132</th>\n      <td>2021-03-03</td>\n      <td>RB</td>\n      <td>A</td>\n      <td>2</td>\n      <td>2</td>\n      <td>0</td>\n      <td>0</td>\n      <td>0</td>\n      <td>0</td>\n      <td>120.0</td>\n      <td>...</td>\n      <td>0</td>\n      <td>1.000000</td>\n      <td>0</td>\n      <td>0</td>\n      <td>0</td>\n      <td>0</td>\n      <td>0</td>\n      <td>140.0</td>\n      <td>1789.162426</td>\n      <td>1750</td>\n    </tr>\n  </tbody>\n</table>\n<p>8133 rows × 22 columns</p>\n</div>"
          },
          "metadata": {},
          "execution_count": 240
        }
      ]
    },
    {
      "cell_type": "code",
      "metadata": {
        "colab": {
          "base_uri": "https://localhost:8080/"
        },
        "id": "_petZ2nX9hyT",
        "outputId": "19588c94-a25e-4b4d-c453-fe14aebe83e1"
      },
      "source": [
        "mi_scores = make_mi_scores(X, y)\n",
        "mi_scores"
      ],
      "execution_count": 241,
      "outputs": [
        {
          "output_type": "execute_result",
          "data": {
            "text/plain": [
              "PriceType_USD          0.366945\n",
              "PriceType_NIS          0.281812\n",
              "city_encoded           0.258938\n",
              "city                   0.233117\n",
              "houseSpace             0.194606\n",
              "PriceType_JOD          0.176285\n",
              "numberRooms            0.117014\n",
              "numberBathrooms        0.101102\n",
              "status                 0.082846\n",
              "featurePlus            0.075259\n",
              "elevator               0.063515\n",
              "Bldg_A                 0.060133\n",
              "carParking             0.051842\n",
              "heating                0.049441\n",
              "Bldg_B                 0.047798\n",
              "date                   0.041258\n",
              "numberBalconies        0.040540\n",
              "Bldg_C                 0.028869\n",
              "MedstatusHouseSpace    0.010620\n",
              "Bldg_D                 0.005140\n",
              "Bldg_E                 0.004738\n",
              "Name: MI Scores, dtype: float64"
            ]
          },
          "metadata": {},
          "execution_count": 241
        }
      ]
    },
    {
      "cell_type": "code",
      "metadata": {
        "colab": {
          "base_uri": "https://localhost:8080/",
          "height": 306
        },
        "id": "3_rDVocIDVne",
        "outputId": "c2b3a082-93bc-4a63-c653-dd1bd6ed94a4"
      },
      "source": [
        "#result.to_csv (r'dfFE.csv', index = False, header=True)\n",
        "\n",
        "result.describe()"
      ],
      "execution_count": 242,
      "outputs": [
        {
          "output_type": "execute_result",
          "data": {
            "text/plain": [
              "       numberRooms  numberBathrooms  numberBalconies     elevator  \\\n",
              "count  8133.000000      8133.000000      8133.000000  8133.000000   \n",
              "mean      2.491209         1.860445         1.022747     0.599656   \n",
              "std       0.864293         0.738796         0.739643     0.489998   \n",
              "min       1.000000         0.000000         0.000000     0.000000   \n",
              "25%       2.000000         1.000000         1.000000     0.000000   \n",
              "50%       3.000000         2.000000         1.000000     1.000000   \n",
              "75%       3.000000         2.000000         1.000000     1.000000   \n",
              "max       6.000000         4.000000         5.000000     1.000000   \n",
              "\n",
              "        carParking      heating     houseSpace  PriceType_JOD  PriceType_NIS  \\\n",
              "count  8133.000000  8133.000000    8133.000000    8133.000000    8133.000000   \n",
              "mean      0.654002     0.221812     180.747572       0.100209       0.410427   \n",
              "std       0.475722     0.415491    2818.908055       0.300297       0.491941   \n",
              "min       0.000000     0.000000    -140.000000       0.000000       0.000000   \n",
              "25%       0.000000     0.000000     120.000000       0.000000       0.000000   \n",
              "50%       1.000000     0.000000     140.000000       0.000000       0.000000   \n",
              "75%       1.000000     0.000000     150.000000       0.000000       1.000000   \n",
              "max       1.000000     1.000000  190000.000000       1.000000       1.000000   \n",
              "\n",
              "       PriceType_USD  featurePlus       Bldg_A       Bldg_B       Bldg_C  \\\n",
              "count    8133.000000  8133.000000  8133.000000  8133.000000  8133.000000   \n",
              "mean        0.489241     0.787071     0.387065     0.557728     0.070454   \n",
              "std         0.499915     0.283813     0.644466     0.761221     0.345484   \n",
              "min         0.000000     0.000000     0.000000     0.000000     0.000000   \n",
              "25%         0.000000     0.500000     0.000000     0.000000     0.000000   \n",
              "50%         0.000000     0.666667     0.000000     0.000000     0.000000   \n",
              "75%         1.000000     1.000000     1.000000     1.000000     0.000000   \n",
              "max         1.000000     3.000000     4.000000     5.000000     5.000000   \n",
              "\n",
              "            Bldg_D       Bldg_E  MedstatusHouseSpace  city_encoded  \\\n",
              "count  8133.000000  8133.000000          8133.000000   8133.000000   \n",
              "mean      0.004672     0.002828           140.023362   2697.913941   \n",
              "std       0.087192     0.074335             0.482803   1588.000928   \n",
              "min       0.000000     0.000000           140.000000    975.620530   \n",
              "25%       0.000000     0.000000           140.000000   2036.092525   \n",
              "50%       0.000000     0.000000           140.000000   2179.295502   \n",
              "75%       0.000000     0.000000           140.000000   2333.598953   \n",
              "max       2.000000     3.000000           150.000000  24291.482826   \n",
              "\n",
              "                price  \n",
              "count     8133.000000  \n",
              "mean      2720.654986  \n",
              "std      22107.738119  \n",
              "min          1.000000  \n",
              "25%        500.000000  \n",
              "50%        800.000000  \n",
              "75%       1400.000000  \n",
              "max    1000000.000000  "
            ],
            "text/html": "<div>\n<style scoped>\n    .dataframe tbody tr th:only-of-type {\n        vertical-align: middle;\n    }\n\n    .dataframe tbody tr th {\n        vertical-align: top;\n    }\n\n    .dataframe thead th {\n        text-align: right;\n    }\n</style>\n<table border=\"1\" class=\"dataframe\">\n  <thead>\n    <tr style=\"text-align: right;\">\n      <th></th>\n      <th>numberRooms</th>\n      <th>numberBathrooms</th>\n      <th>numberBalconies</th>\n      <th>elevator</th>\n      <th>carParking</th>\n      <th>heating</th>\n      <th>houseSpace</th>\n      <th>PriceType_JOD</th>\n      <th>PriceType_NIS</th>\n      <th>PriceType_USD</th>\n      <th>featurePlus</th>\n      <th>Bldg_A</th>\n      <th>Bldg_B</th>\n      <th>Bldg_C</th>\n      <th>Bldg_D</th>\n      <th>Bldg_E</th>\n      <th>MedstatusHouseSpace</th>\n      <th>city_encoded</th>\n      <th>price</th>\n    </tr>\n  </thead>\n  <tbody>\n    <tr>\n      <th>count</th>\n      <td>8133.000000</td>\n      <td>8133.000000</td>\n      <td>8133.000000</td>\n      <td>8133.000000</td>\n      <td>8133.000000</td>\n      <td>8133.000000</td>\n      <td>8133.000000</td>\n      <td>8133.000000</td>\n      <td>8133.000000</td>\n      <td>8133.000000</td>\n      <td>8133.000000</td>\n      <td>8133.000000</td>\n      <td>8133.000000</td>\n      <td>8133.000000</td>\n      <td>8133.000000</td>\n      <td>8133.000000</td>\n      <td>8133.000000</td>\n      <td>8133.000000</td>\n      <td>8133.000000</td>\n    </tr>\n    <tr>\n      <th>mean</th>\n      <td>2.491209</td>\n      <td>1.860445</td>\n      <td>1.022747</td>\n      <td>0.599656</td>\n      <td>0.654002</td>\n      <td>0.221812</td>\n      <td>180.747572</td>\n      <td>0.100209</td>\n      <td>0.410427</td>\n      <td>0.489241</td>\n      <td>0.787071</td>\n      <td>0.387065</td>\n      <td>0.557728</td>\n      <td>0.070454</td>\n      <td>0.004672</td>\n      <td>0.002828</td>\n      <td>140.023362</td>\n      <td>2697.913941</td>\n      <td>2720.654986</td>\n    </tr>\n    <tr>\n      <th>std</th>\n      <td>0.864293</td>\n      <td>0.738796</td>\n      <td>0.739643</td>\n      <td>0.489998</td>\n      <td>0.475722</td>\n      <td>0.415491</td>\n      <td>2818.908055</td>\n      <td>0.300297</td>\n      <td>0.491941</td>\n      <td>0.499915</td>\n      <td>0.283813</td>\n      <td>0.644466</td>\n      <td>0.761221</td>\n      <td>0.345484</td>\n      <td>0.087192</td>\n      <td>0.074335</td>\n      <td>0.482803</td>\n      <td>1588.000928</td>\n      <td>22107.738119</td>\n    </tr>\n    <tr>\n      <th>min</th>\n      <td>1.000000</td>\n      <td>0.000000</td>\n      <td>0.000000</td>\n      <td>0.000000</td>\n      <td>0.000000</td>\n      <td>0.000000</td>\n      <td>-140.000000</td>\n      <td>0.000000</td>\n      <td>0.000000</td>\n      <td>0.000000</td>\n      <td>0.000000</td>\n      <td>0.000000</td>\n      <td>0.000000</td>\n      <td>0.000000</td>\n      <td>0.000000</td>\n      <td>0.000000</td>\n      <td>140.000000</td>\n      <td>975.620530</td>\n      <td>1.000000</td>\n    </tr>\n    <tr>\n      <th>25%</th>\n      <td>2.000000</td>\n      <td>1.000000</td>\n      <td>1.000000</td>\n      <td>0.000000</td>\n      <td>0.000000</td>\n      <td>0.000000</td>\n      <td>120.000000</td>\n      <td>0.000000</td>\n      <td>0.000000</td>\n      <td>0.000000</td>\n      <td>0.500000</td>\n      <td>0.000000</td>\n      <td>0.000000</td>\n      <td>0.000000</td>\n      <td>0.000000</td>\n      <td>0.000000</td>\n      <td>140.000000</td>\n      <td>2036.092525</td>\n      <td>500.000000</td>\n    </tr>\n    <tr>\n      <th>50%</th>\n      <td>3.000000</td>\n      <td>2.000000</td>\n      <td>1.000000</td>\n      <td>1.000000</td>\n      <td>1.000000</td>\n      <td>0.000000</td>\n      <td>140.000000</td>\n      <td>0.000000</td>\n      <td>0.000000</td>\n      <td>0.000000</td>\n      <td>0.666667</td>\n      <td>0.000000</td>\n      <td>0.000000</td>\n      <td>0.000000</td>\n      <td>0.000000</td>\n      <td>0.000000</td>\n      <td>140.000000</td>\n      <td>2179.295502</td>\n      <td>800.000000</td>\n    </tr>\n    <tr>\n      <th>75%</th>\n      <td>3.000000</td>\n      <td>2.000000</td>\n      <td>1.000000</td>\n      <td>1.000000</td>\n      <td>1.000000</td>\n      <td>0.000000</td>\n      <td>150.000000</td>\n      <td>0.000000</td>\n      <td>1.000000</td>\n      <td>1.000000</td>\n      <td>1.000000</td>\n      <td>1.000000</td>\n      <td>1.000000</td>\n      <td>0.000000</td>\n      <td>0.000000</td>\n      <td>0.000000</td>\n      <td>140.000000</td>\n      <td>2333.598953</td>\n      <td>1400.000000</td>\n    </tr>\n    <tr>\n      <th>max</th>\n      <td>6.000000</td>\n      <td>4.000000</td>\n      <td>5.000000</td>\n      <td>1.000000</td>\n      <td>1.000000</td>\n      <td>1.000000</td>\n      <td>190000.000000</td>\n      <td>1.000000</td>\n      <td>1.000000</td>\n      <td>1.000000</td>\n      <td>3.000000</td>\n      <td>4.000000</td>\n      <td>5.000000</td>\n      <td>5.000000</td>\n      <td>2.000000</td>\n      <td>3.000000</td>\n      <td>150.000000</td>\n      <td>24291.482826</td>\n      <td>1000000.000000</td>\n    </tr>\n  </tbody>\n</table>\n</div>"
          },
          "metadata": {},
          "execution_count": 242
        }
      ]
    },
    {
      "cell_type": "code",
      "metadata": {
        "id": "uhUTaZe1E8CW"
      },
      "source": [
        "#drop extreme data\n",
        "index_names = result[ result['city'] == 'TB' ].index \n",
        "index_names\n",
        "# drop these row indexes \n",
        "# from dataFrame \n",
        "result.drop(index_names, inplace = True) "
      ],
      "execution_count": 243,
      "outputs": []
    },
    {
      "cell_type": "code",
      "metadata": {
        "id": "-nerAQ0nfV81"
      },
      "source": [
        "#drop extreme data\n",
        "index_names = result[ result['city'] == 'S' ].index \n",
        "index_names\n",
        "# drop these row indexes \n",
        "# from dataFrame \n",
        "result.drop(index_names, inplace = True) "
      ],
      "execution_count": 244,
      "outputs": []
    },
    {
      "cell_type": "code",
      "metadata": {
        "id": "aJEayH_ifWkZ"
      },
      "source": [
        "#drop extreme data\n",
        "index_names = result[ result['price'] < 200 ].index \n",
        "index_names\n",
        "# drop these row indexes \n",
        "# from dataFrame \n",
        "result.drop(index_names, inplace = True) "
      ],
      "execution_count": 245,
      "outputs": []
    },
    {
      "cell_type": "code",
      "metadata": {
        "id": "zU2swszffXUu"
      },
      "source": [
        "#drop extreme data\n",
        "index_names = result[ result['price'] > 4000 ].index \n",
        "index_names\n",
        "# drop these row indexes \n",
        "# from dataFrame \n",
        "result.drop(index_names, inplace = True) "
      ],
      "execution_count": 246,
      "outputs": []
    },
    {
      "cell_type": "code",
      "execution_count": 247,
      "metadata": {},
      "outputs": [],
      "source": [
        "#drop extreme data\n",
        "index_names = result[ result['city_encoded'] < 1600 ].index \n",
        "index_names\n",
        "# drop these row indexes \n",
        "# from dataFrame \n",
        "result.drop(index_names, inplace = True) "
      ]
    },
    {
      "cell_type": "code",
      "execution_count": 248,
      "metadata": {},
      "outputs": [],
      "source": [
        "#drop extreme data\n",
        "index_names = result[ result['city_encoded'] > 10000 ].index \n",
        "index_names\n",
        "# drop these row indexes \n",
        "# from dataFrame \n",
        "result.drop(index_names, inplace = True) "
      ]
    },
    {
      "cell_type": "code",
      "execution_count": 249,
      "metadata": {},
      "outputs": [],
      "source": [
        "#drop extreme data\n",
        "index_names = result[ result['Bldg_C'] > 2 ].index \n",
        "index_names\n",
        "# drop these row indexes \n",
        "# from dataFrame \n",
        "result.drop(index_names, inplace = True) "
      ]
    },
    {
      "source": [
        "#drop extreme data\n",
        "index_names = result[ result['Bldg_B'] > 3 ].index \n",
        "index_names\n",
        "# drop these row indexes \n",
        "# from dataFrame \n",
        "result.drop(index_names, inplace = True) "
      ],
      "cell_type": "code",
      "metadata": {},
      "execution_count": 250,
      "outputs": []
    },
    {
      "cell_type": "code",
      "execution_count": null,
      "metadata": {},
      "outputs": [],
      "source": []
    },
    {
      "cell_type": "code",
      "execution_count": 251,
      "metadata": {},
      "outputs": [],
      "source": [
        "#drop extreme data\n",
        "index_names = result[ result['Bldg_A'] > 3 ].index \n",
        "index_names\n",
        "# drop these row indexes \n",
        "# from dataFrame \n",
        "result.drop(index_names, inplace = True)"
      ]
    },
    {
      "cell_type": "code",
      "execution_count": 252,
      "metadata": {},
      "outputs": [],
      "source": [
        "#drop extreme data\n",
        "index_names = result[ result['featurePlus'] > 2 ].index \n",
        "index_names\n",
        "# drop these row indexes \n",
        "# from dataFrame \n",
        "result.drop(index_names, inplace = True)"
      ]
    },
    {
      "cell_type": "code",
      "execution_count": 253,
      "metadata": {},
      "outputs": [],
      "source": [
        "#drop extreme data\n",
        "index_names = result[ result['featurePlus'] < 0.2 ].index \n",
        "index_names\n",
        "# drop these row indexes \n",
        "# from dataFrame \n",
        "result.drop(index_names, inplace = True)"
      ]
    },
    {
      "cell_type": "code",
      "execution_count": 254,
      "metadata": {},
      "outputs": [],
      "source": [
        "#drop extreme data\n",
        "index_names = result[ result['houseSpace'] > 250 ].index \n",
        "index_names\n",
        "# drop these row indexes \n",
        "# from dataFrame \n",
        "result.drop(index_names, inplace = True)"
      ]
    },
    {
      "cell_type": "code",
      "execution_count": 255,
      "metadata": {},
      "outputs": [],
      "source": [
        "#drop extreme data\n",
        "index_names = result[ result['houseSpace'] < 20 ].index \n",
        "index_names\n",
        "# drop these row indexes \n",
        "# from dataFrame \n",
        "result.drop(index_names, inplace = True)"
      ]
    },
    {
      "cell_type": "code",
      "execution_count": 256,
      "metadata": {},
      "outputs": [],
      "source": [
        "#drop extreme data\n",
        "index_names = result[ result['numberBathrooms'] > 3 ].index \n",
        "index_names\n",
        "# drop these row indexes \n",
        "# from dataFrame \n",
        "result.drop(index_names, inplace = True)"
      ]
    },
    {
      "cell_type": "code",
      "execution_count": 268,
      "metadata": {},
      "outputs": [
        {
          "output_type": "execute_result",
          "data": {
            "text/plain": [
              "      city  status  numberRooms  numberBathrooms  numberBalconies  elevator  \\\n",
              "0        1       1            1                1                0         1   \n",
              "1        1       1            1                1                1         1   \n",
              "2        1       1            3                3                2         1   \n",
              "3        1       1            3                3                1         1   \n",
              "4        1       1            3                3                3         1   \n",
              "...    ...     ...          ...              ...              ...       ...   \n",
              "8128     1       1            2                2                1         1   \n",
              "8129     1       2            3                2                1         1   \n",
              "8130     5       2            3                2                2         0   \n",
              "8131     4       1            1                1                1         1   \n",
              "8132     1       1            2                2                0         0   \n",
              "\n",
              "      carParking  heating  houseSpace  PriceType_JOD  PriceType_NIS  \\\n",
              "0              1        0       140.0              0              1   \n",
              "1              1        0        80.0              0              0   \n",
              "2              1        1       190.0              0              0   \n",
              "3              1        1       190.0              0              0   \n",
              "4              1        0       160.0              0              0   \n",
              "...          ...      ...         ...            ...            ...   \n",
              "8128           1        0       120.0              0              0   \n",
              "8129           1        0       140.0              0              0   \n",
              "8130           0        0       150.0              0              1   \n",
              "8131           1        1        70.0              0              1   \n",
              "8132           0        0       120.0              0              1   \n",
              "\n",
              "      PriceType_USD  featurePlus  Bldg_A  Bldg_B  Bldg_C  MedstatusHouseSpace  \\\n",
              "0                 0     1.000000       0       0       0                140.0   \n",
              "1                 1     1.000000       1       0       0                140.0   \n",
              "2                 1     1.000000       2       0       0                140.0   \n",
              "3                 1     1.000000       1       0       0                140.0   \n",
              "4                 1     1.000000       3       0       0                140.0   \n",
              "...             ...          ...     ...     ...     ...                  ...   \n",
              "8128              1     1.000000       1       0       0                140.0   \n",
              "8129              1     0.666667       0       1       0                140.0   \n",
              "8130              0     0.666667       0       2       0                140.0   \n",
              "8131              0     1.000000       1       0       0                140.0   \n",
              "8132              0     1.000000       0       0       0                140.0   \n",
              "\n",
              "      city_encoded  price  \n",
              "0      2179.295502   1300  \n",
              "1      2179.295502    550  \n",
              "2      2179.295502   1000  \n",
              "3      2179.295502    950  \n",
              "4      2179.295502    800  \n",
              "...            ...    ...  \n",
              "8128   1789.162426    600  \n",
              "8129   1789.162426    500  \n",
              "8130   4696.623612   1600  \n",
              "8131   3882.401112   1000  \n",
              "8132   1789.162426   1750  \n",
              "\n",
              "[7566 rows x 19 columns]"
            ],
            "text/html": "<div>\n<style scoped>\n    .dataframe tbody tr th:only-of-type {\n        vertical-align: middle;\n    }\n\n    .dataframe tbody tr th {\n        vertical-align: top;\n    }\n\n    .dataframe thead th {\n        text-align: right;\n    }\n</style>\n<table border=\"1\" class=\"dataframe\">\n  <thead>\n    <tr style=\"text-align: right;\">\n      <th></th>\n      <th>city</th>\n      <th>status</th>\n      <th>numberRooms</th>\n      <th>numberBathrooms</th>\n      <th>numberBalconies</th>\n      <th>elevator</th>\n      <th>carParking</th>\n      <th>heating</th>\n      <th>houseSpace</th>\n      <th>PriceType_JOD</th>\n      <th>PriceType_NIS</th>\n      <th>PriceType_USD</th>\n      <th>featurePlus</th>\n      <th>Bldg_A</th>\n      <th>Bldg_B</th>\n      <th>Bldg_C</th>\n      <th>MedstatusHouseSpace</th>\n      <th>city_encoded</th>\n      <th>price</th>\n    </tr>\n  </thead>\n  <tbody>\n    <tr>\n      <th>0</th>\n      <td>1</td>\n      <td>1</td>\n      <td>1</td>\n      <td>1</td>\n      <td>0</td>\n      <td>1</td>\n      <td>1</td>\n      <td>0</td>\n      <td>140.0</td>\n      <td>0</td>\n      <td>1</td>\n      <td>0</td>\n      <td>1.000000</td>\n      <td>0</td>\n      <td>0</td>\n      <td>0</td>\n      <td>140.0</td>\n      <td>2179.295502</td>\n      <td>1300</td>\n    </tr>\n    <tr>\n      <th>1</th>\n      <td>1</td>\n      <td>1</td>\n      <td>1</td>\n      <td>1</td>\n      <td>1</td>\n      <td>1</td>\n      <td>1</td>\n      <td>0</td>\n      <td>80.0</td>\n      <td>0</td>\n      <td>0</td>\n      <td>1</td>\n      <td>1.000000</td>\n      <td>1</td>\n      <td>0</td>\n      <td>0</td>\n      <td>140.0</td>\n      <td>2179.295502</td>\n      <td>550</td>\n    </tr>\n    <tr>\n      <th>2</th>\n      <td>1</td>\n      <td>1</td>\n      <td>3</td>\n      <td>3</td>\n      <td>2</td>\n      <td>1</td>\n      <td>1</td>\n      <td>1</td>\n      <td>190.0</td>\n      <td>0</td>\n      <td>0</td>\n      <td>1</td>\n      <td>1.000000</td>\n      <td>2</td>\n      <td>0</td>\n      <td>0</td>\n      <td>140.0</td>\n      <td>2179.295502</td>\n      <td>1000</td>\n    </tr>\n    <tr>\n      <th>3</th>\n      <td>1</td>\n      <td>1</td>\n      <td>3</td>\n      <td>3</td>\n      <td>1</td>\n      <td>1</td>\n      <td>1</td>\n      <td>1</td>\n      <td>190.0</td>\n      <td>0</td>\n      <td>0</td>\n      <td>1</td>\n      <td>1.000000</td>\n      <td>1</td>\n      <td>0</td>\n      <td>0</td>\n      <td>140.0</td>\n      <td>2179.295502</td>\n      <td>950</td>\n    </tr>\n    <tr>\n      <th>4</th>\n      <td>1</td>\n      <td>1</td>\n      <td>3</td>\n      <td>3</td>\n      <td>3</td>\n      <td>1</td>\n      <td>1</td>\n      <td>0</td>\n      <td>160.0</td>\n      <td>0</td>\n      <td>0</td>\n      <td>1</td>\n      <td>1.000000</td>\n      <td>3</td>\n      <td>0</td>\n      <td>0</td>\n      <td>140.0</td>\n      <td>2179.295502</td>\n      <td>800</td>\n    </tr>\n    <tr>\n      <th>...</th>\n      <td>...</td>\n      <td>...</td>\n      <td>...</td>\n      <td>...</td>\n      <td>...</td>\n      <td>...</td>\n      <td>...</td>\n      <td>...</td>\n      <td>...</td>\n      <td>...</td>\n      <td>...</td>\n      <td>...</td>\n      <td>...</td>\n      <td>...</td>\n      <td>...</td>\n      <td>...</td>\n      <td>...</td>\n      <td>...</td>\n      <td>...</td>\n    </tr>\n    <tr>\n      <th>8128</th>\n      <td>1</td>\n      <td>1</td>\n      <td>2</td>\n      <td>2</td>\n      <td>1</td>\n      <td>1</td>\n      <td>1</td>\n      <td>0</td>\n      <td>120.0</td>\n      <td>0</td>\n      <td>0</td>\n      <td>1</td>\n      <td>1.000000</td>\n      <td>1</td>\n      <td>0</td>\n      <td>0</td>\n      <td>140.0</td>\n      <td>1789.162426</td>\n      <td>600</td>\n    </tr>\n    <tr>\n      <th>8129</th>\n      <td>1</td>\n      <td>2</td>\n      <td>3</td>\n      <td>2</td>\n      <td>1</td>\n      <td>1</td>\n      <td>1</td>\n      <td>0</td>\n      <td>140.0</td>\n      <td>0</td>\n      <td>0</td>\n      <td>1</td>\n      <td>0.666667</td>\n      <td>0</td>\n      <td>1</td>\n      <td>0</td>\n      <td>140.0</td>\n      <td>1789.162426</td>\n      <td>500</td>\n    </tr>\n    <tr>\n      <th>8130</th>\n      <td>5</td>\n      <td>2</td>\n      <td>3</td>\n      <td>2</td>\n      <td>2</td>\n      <td>0</td>\n      <td>0</td>\n      <td>0</td>\n      <td>150.0</td>\n      <td>0</td>\n      <td>1</td>\n      <td>0</td>\n      <td>0.666667</td>\n      <td>0</td>\n      <td>2</td>\n      <td>0</td>\n      <td>140.0</td>\n      <td>4696.623612</td>\n      <td>1600</td>\n    </tr>\n    <tr>\n      <th>8131</th>\n      <td>4</td>\n      <td>1</td>\n      <td>1</td>\n      <td>1</td>\n      <td>1</td>\n      <td>1</td>\n      <td>1</td>\n      <td>1</td>\n      <td>70.0</td>\n      <td>0</td>\n      <td>1</td>\n      <td>0</td>\n      <td>1.000000</td>\n      <td>1</td>\n      <td>0</td>\n      <td>0</td>\n      <td>140.0</td>\n      <td>3882.401112</td>\n      <td>1000</td>\n    </tr>\n    <tr>\n      <th>8132</th>\n      <td>1</td>\n      <td>1</td>\n      <td>2</td>\n      <td>2</td>\n      <td>0</td>\n      <td>0</td>\n      <td>0</td>\n      <td>0</td>\n      <td>120.0</td>\n      <td>0</td>\n      <td>1</td>\n      <td>0</td>\n      <td>1.000000</td>\n      <td>0</td>\n      <td>0</td>\n      <td>0</td>\n      <td>140.0</td>\n      <td>1789.162426</td>\n      <td>1750</td>\n    </tr>\n  </tbody>\n</table>\n<p>7566 rows × 19 columns</p>\n</div>"
          },
          "metadata": {},
          "execution_count": 268
        }
      ],
      "source": [
        "result"
      ]
    },
    {
      "cell_type": "code",
      "metadata": {
        "id": "9M9Gy03fktdp"
      },
      "source": [
        "result['city'] = result['city'].replace(['RB'],'1')\n",
        "result['city'] = result['city'].replace(['T'],'2')\n",
        "result['city'] = result['city'].replace(['B'],'3')\n",
        "result['city'] = result['city'].replace(['N'],'4')\n",
        "result['city'] = result['city'].replace(['H'],'5')\n",
        "result['city'] = result['city'].replace(['J'],'6')\n",
        "result['city'] = result['city'].replace(['JN'],'7')\n",
        "result['city'] = result['city'].replace(['JR'],'8')\n",
        "result['city'] = result['city'].replace(['Q'],'9')"
      ],
      "execution_count": 258,
      "outputs": []
    },
    {
      "cell_type": "code",
      "metadata": {
        "id": "DBOfTlKajhrA"
      },
      "source": [
        "result['status'] = result['status'].replace(['A'],'1')\n",
        "result['status'] = result['status'].replace(['B'],'2')\n",
        "result['status'] = result['status'].replace(['C'],'3')\n",
        "result['status'] = result['status'].replace(['D'],'4')\n",
        "result['status'] = result['status'].replace(['E'],'5')"
      ],
      "execution_count": 259,
      "outputs": []
    },
    {
      "cell_type": "code",
      "metadata": {
        "id": "iSUJkBO3kqiT"
      },
      "source": [
        "result = result.drop(['Bldg_D', 'Bldg_E'], axis=1)\n",
        "result = result.drop(['date'], axis=1)\n",
        "result"
      ],
      "execution_count": 260,
      "outputs": [
        {
          "output_type": "execute_result",
          "data": {
            "text/plain": [
              "     city status  numberRooms  numberBathrooms  numberBalconies  elevator  \\\n",
              "0       1      1            1                1                0         1   \n",
              "1       1      1            1                1                1         1   \n",
              "2       1      1            3                3                2         1   \n",
              "3       1      1            3                3                1         1   \n",
              "4       1      1            3                3                3         1   \n",
              "...   ...    ...          ...              ...              ...       ...   \n",
              "8128    1      1            2                2                1         1   \n",
              "8129    1      2            3                2                1         1   \n",
              "8130    5      2            3                2                2         0   \n",
              "8131    4      1            1                1                1         1   \n",
              "8132    1      1            2                2                0         0   \n",
              "\n",
              "      carParking  heating  houseSpace  PriceType_JOD  PriceType_NIS  \\\n",
              "0              1        0       140.0              0              1   \n",
              "1              1        0        80.0              0              0   \n",
              "2              1        1       190.0              0              0   \n",
              "3              1        1       190.0              0              0   \n",
              "4              1        0       160.0              0              0   \n",
              "...          ...      ...         ...            ...            ...   \n",
              "8128           1        0       120.0              0              0   \n",
              "8129           1        0       140.0              0              0   \n",
              "8130           0        0       150.0              0              1   \n",
              "8131           1        1        70.0              0              1   \n",
              "8132           0        0       120.0              0              1   \n",
              "\n",
              "      PriceType_USD  featurePlus  Bldg_A  Bldg_B  Bldg_C  MedstatusHouseSpace  \\\n",
              "0                 0     1.000000       0       0       0                140.0   \n",
              "1                 1     1.000000       1       0       0                140.0   \n",
              "2                 1     1.000000       2       0       0                140.0   \n",
              "3                 1     1.000000       1       0       0                140.0   \n",
              "4                 1     1.000000       3       0       0                140.0   \n",
              "...             ...          ...     ...     ...     ...                  ...   \n",
              "8128              1     1.000000       1       0       0                140.0   \n",
              "8129              1     0.666667       0       1       0                140.0   \n",
              "8130              0     0.666667       0       2       0                140.0   \n",
              "8131              0     1.000000       1       0       0                140.0   \n",
              "8132              0     1.000000       0       0       0                140.0   \n",
              "\n",
              "      city_encoded  price  \n",
              "0      2179.295502   1300  \n",
              "1      2179.295502    550  \n",
              "2      2179.295502   1000  \n",
              "3      2179.295502    950  \n",
              "4      2179.295502    800  \n",
              "...            ...    ...  \n",
              "8128   1789.162426    600  \n",
              "8129   1789.162426    500  \n",
              "8130   4696.623612   1600  \n",
              "8131   3882.401112   1000  \n",
              "8132   1789.162426   1750  \n",
              "\n",
              "[7584 rows x 19 columns]"
            ],
            "text/html": "<div>\n<style scoped>\n    .dataframe tbody tr th:only-of-type {\n        vertical-align: middle;\n    }\n\n    .dataframe tbody tr th {\n        vertical-align: top;\n    }\n\n    .dataframe thead th {\n        text-align: right;\n    }\n</style>\n<table border=\"1\" class=\"dataframe\">\n  <thead>\n    <tr style=\"text-align: right;\">\n      <th></th>\n      <th>city</th>\n      <th>status</th>\n      <th>numberRooms</th>\n      <th>numberBathrooms</th>\n      <th>numberBalconies</th>\n      <th>elevator</th>\n      <th>carParking</th>\n      <th>heating</th>\n      <th>houseSpace</th>\n      <th>PriceType_JOD</th>\n      <th>PriceType_NIS</th>\n      <th>PriceType_USD</th>\n      <th>featurePlus</th>\n      <th>Bldg_A</th>\n      <th>Bldg_B</th>\n      <th>Bldg_C</th>\n      <th>MedstatusHouseSpace</th>\n      <th>city_encoded</th>\n      <th>price</th>\n    </tr>\n  </thead>\n  <tbody>\n    <tr>\n      <th>0</th>\n      <td>1</td>\n      <td>1</td>\n      <td>1</td>\n      <td>1</td>\n      <td>0</td>\n      <td>1</td>\n      <td>1</td>\n      <td>0</td>\n      <td>140.0</td>\n      <td>0</td>\n      <td>1</td>\n      <td>0</td>\n      <td>1.000000</td>\n      <td>0</td>\n      <td>0</td>\n      <td>0</td>\n      <td>140.0</td>\n      <td>2179.295502</td>\n      <td>1300</td>\n    </tr>\n    <tr>\n      <th>1</th>\n      <td>1</td>\n      <td>1</td>\n      <td>1</td>\n      <td>1</td>\n      <td>1</td>\n      <td>1</td>\n      <td>1</td>\n      <td>0</td>\n      <td>80.0</td>\n      <td>0</td>\n      <td>0</td>\n      <td>1</td>\n      <td>1.000000</td>\n      <td>1</td>\n      <td>0</td>\n      <td>0</td>\n      <td>140.0</td>\n      <td>2179.295502</td>\n      <td>550</td>\n    </tr>\n    <tr>\n      <th>2</th>\n      <td>1</td>\n      <td>1</td>\n      <td>3</td>\n      <td>3</td>\n      <td>2</td>\n      <td>1</td>\n      <td>1</td>\n      <td>1</td>\n      <td>190.0</td>\n      <td>0</td>\n      <td>0</td>\n      <td>1</td>\n      <td>1.000000</td>\n      <td>2</td>\n      <td>0</td>\n      <td>0</td>\n      <td>140.0</td>\n      <td>2179.295502</td>\n      <td>1000</td>\n    </tr>\n    <tr>\n      <th>3</th>\n      <td>1</td>\n      <td>1</td>\n      <td>3</td>\n      <td>3</td>\n      <td>1</td>\n      <td>1</td>\n      <td>1</td>\n      <td>1</td>\n      <td>190.0</td>\n      <td>0</td>\n      <td>0</td>\n      <td>1</td>\n      <td>1.000000</td>\n      <td>1</td>\n      <td>0</td>\n      <td>0</td>\n      <td>140.0</td>\n      <td>2179.295502</td>\n      <td>950</td>\n    </tr>\n    <tr>\n      <th>4</th>\n      <td>1</td>\n      <td>1</td>\n      <td>3</td>\n      <td>3</td>\n      <td>3</td>\n      <td>1</td>\n      <td>1</td>\n      <td>0</td>\n      <td>160.0</td>\n      <td>0</td>\n      <td>0</td>\n      <td>1</td>\n      <td>1.000000</td>\n      <td>3</td>\n      <td>0</td>\n      <td>0</td>\n      <td>140.0</td>\n      <td>2179.295502</td>\n      <td>800</td>\n    </tr>\n    <tr>\n      <th>...</th>\n      <td>...</td>\n      <td>...</td>\n      <td>...</td>\n      <td>...</td>\n      <td>...</td>\n      <td>...</td>\n      <td>...</td>\n      <td>...</td>\n      <td>...</td>\n      <td>...</td>\n      <td>...</td>\n      <td>...</td>\n      <td>...</td>\n      <td>...</td>\n      <td>...</td>\n      <td>...</td>\n      <td>...</td>\n      <td>...</td>\n      <td>...</td>\n    </tr>\n    <tr>\n      <th>8128</th>\n      <td>1</td>\n      <td>1</td>\n      <td>2</td>\n      <td>2</td>\n      <td>1</td>\n      <td>1</td>\n      <td>1</td>\n      <td>0</td>\n      <td>120.0</td>\n      <td>0</td>\n      <td>0</td>\n      <td>1</td>\n      <td>1.000000</td>\n      <td>1</td>\n      <td>0</td>\n      <td>0</td>\n      <td>140.0</td>\n      <td>1789.162426</td>\n      <td>600</td>\n    </tr>\n    <tr>\n      <th>8129</th>\n      <td>1</td>\n      <td>2</td>\n      <td>3</td>\n      <td>2</td>\n      <td>1</td>\n      <td>1</td>\n      <td>1</td>\n      <td>0</td>\n      <td>140.0</td>\n      <td>0</td>\n      <td>0</td>\n      <td>1</td>\n      <td>0.666667</td>\n      <td>0</td>\n      <td>1</td>\n      <td>0</td>\n      <td>140.0</td>\n      <td>1789.162426</td>\n      <td>500</td>\n    </tr>\n    <tr>\n      <th>8130</th>\n      <td>5</td>\n      <td>2</td>\n      <td>3</td>\n      <td>2</td>\n      <td>2</td>\n      <td>0</td>\n      <td>0</td>\n      <td>0</td>\n      <td>150.0</td>\n      <td>0</td>\n      <td>1</td>\n      <td>0</td>\n      <td>0.666667</td>\n      <td>0</td>\n      <td>2</td>\n      <td>0</td>\n      <td>140.0</td>\n      <td>4696.623612</td>\n      <td>1600</td>\n    </tr>\n    <tr>\n      <th>8131</th>\n      <td>4</td>\n      <td>1</td>\n      <td>1</td>\n      <td>1</td>\n      <td>1</td>\n      <td>1</td>\n      <td>1</td>\n      <td>1</td>\n      <td>70.0</td>\n      <td>0</td>\n      <td>1</td>\n      <td>0</td>\n      <td>1.000000</td>\n      <td>1</td>\n      <td>0</td>\n      <td>0</td>\n      <td>140.0</td>\n      <td>3882.401112</td>\n      <td>1000</td>\n    </tr>\n    <tr>\n      <th>8132</th>\n      <td>1</td>\n      <td>1</td>\n      <td>2</td>\n      <td>2</td>\n      <td>0</td>\n      <td>0</td>\n      <td>0</td>\n      <td>0</td>\n      <td>120.0</td>\n      <td>0</td>\n      <td>1</td>\n      <td>0</td>\n      <td>1.000000</td>\n      <td>0</td>\n      <td>0</td>\n      <td>0</td>\n      <td>140.0</td>\n      <td>1789.162426</td>\n      <td>1750</td>\n    </tr>\n  </tbody>\n</table>\n<p>7584 rows × 19 columns</p>\n</div>"
          },
          "metadata": {},
          "execution_count": 260
        }
      ]
    },
    {
      "cell_type": "code",
      "metadata": {
        "colab": {
          "base_uri": "https://localhost:8080/",
          "height": 369
        },
        "id": "Y04Q-PLREPpA",
        "outputId": "e550f9a1-4cec-4a1d-e782-7383210bf799"
      },
      "source": [
        "#sns.relplot(x=\"city\", y=\"price\", data=result);\n",
        "#drop extreme data\n",
        "index_names = result[ result['city'] == '8' ].index \n",
        "index_names\n",
        "# drop these row indexes \n",
        "# from dataFrame \n",
        "result.drop(index_names, inplace = True)\n"
      ],
      "execution_count": 261,
      "outputs": []
    },
    {
      "cell_type": "code",
      "execution_count": 262,
      "metadata": {},
      "outputs": [],
      "source": [
        "#sns.relplot(x=\"city\", y=\"price\", data=result);\n",
        "#drop extreme data\n",
        "index_names = result[ result['status'] == '5' ].index \n",
        "index_names\n",
        "# drop these row indexes \n",
        "# from dataFrame \n",
        "result.drop(index_names, inplace = True)\n"
      ]
    },
    {
      "cell_type": "code",
      "execution_count": 267,
      "metadata": {},
      "outputs": [
        {
          "output_type": "stream",
          "name": "stdout",
          "text": [
            "<class 'pandas.core.frame.DataFrame'>\nInt64Index: 7566 entries, 0 to 8132\nData columns (total 19 columns):\n #   Column               Non-Null Count  Dtype  \n---  ------               --------------  -----  \n 0   city                 7566 non-null   int32  \n 1   status               7566 non-null   int32  \n 2   numberRooms          7566 non-null   int64  \n 3   numberBathrooms      7566 non-null   int64  \n 4   numberBalconies      7566 non-null   int64  \n 5   elevator             7566 non-null   int64  \n 6   carParking           7566 non-null   int64  \n 7   heating              7566 non-null   int64  \n 8   houseSpace           7566 non-null   float64\n 9   PriceType_JOD        7566 non-null   int64  \n 10  PriceType_NIS        7566 non-null   int64  \n 11  PriceType_USD        7566 non-null   int64  \n 12  featurePlus          7566 non-null   float64\n 13  Bldg_A               7566 non-null   int64  \n 14  Bldg_B               7566 non-null   int64  \n 15  Bldg_C               7566 non-null   int64  \n 16  MedstatusHouseSpace  7566 non-null   float64\n 17  city_encoded         7566 non-null   float64\n 18  price                7566 non-null   int64  \ndtypes: float64(4), int32(2), int64(13)\nmemory usage: 1.1 MB\n"
          ]
        }
      ],
      "source": [
        "result.info()"
      ]
    },
    {
      "cell_type": "code",
      "execution_count": 266,
      "metadata": {},
      "outputs": [],
      "source": [
        "result[\"status\"] = result[\"status\"].astype(str).astype(int)\n",
        "result[\"city\"] = result[\"city\"].astype(str).astype(int)"
      ]
    },
    {
      "cell_type": "code",
      "metadata": {
        "id": "tes03vNcGYVU"
      },
      "source": [
        "result.to_csv (r'dfFE11.csv', index = False, header=True)"
      ],
      "execution_count": 269,
      "outputs": []
    },
    {
      "cell_type": "code",
      "execution_count": null,
      "metadata": {},
      "outputs": [],
      "source": []
    }
  ]
}