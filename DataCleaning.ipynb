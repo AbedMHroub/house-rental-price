{
 "metadata": {
  "language_info": {
   "codemirror_mode": {
    "name": "ipython",
    "version": 3
   },
   "file_extension": ".py",
   "mimetype": "text/x-python",
   "name": "python",
   "nbconvert_exporter": "python",
   "pygments_lexer": "ipython3",
   "version": "3.8.3-final"
  },
  "orig_nbformat": 2,
  "kernelspec": {
   "name": "python3",
   "display_name": "Python 3",
   "language": "python"
  }
 },
 "nbformat": 4,
 "nbformat_minor": 2,
 "cells": [
  {
   "cell_type": "code",
   "execution_count": 7,
   "metadata": {},
   "outputs": [],
   "source": [
    "import os\n",
    "import warnings\n",
    "from pathlib import Path\n",
    "\n",
    "import matplotlib.pyplot as plt\n",
    "import numpy as np\n",
    "import pandas as pd\n",
    "import seaborn as sns\n",
    "from IPython.display import display\n",
    "from pandas.api.types import CategoricalDtype\n",
    "\n",
    "from category_encoders import MEstimateEncoder\n",
    "from sklearn.cluster import KMeans\n",
    "from sklearn.decomposition import PCA\n",
    "from sklearn.feature_selection import mutual_info_regression\n",
    "from sklearn.model_selection import KFold, cross_val_score\n",
    "#from xgboost import XGBRegressor\n",
    "\n",
    "\n",
    "# Set Matplotlib defaults\n",
    "plt.style.use(\"seaborn-whitegrid\")\n",
    "plt.rc(\"figure\", autolayout=True)\n",
    "plt.rc(\n",
    "    \"axes\",\n",
    "    labelweight=\"bold\",\n",
    "    labelsize=\"large\",\n",
    "    titleweight=\"bold\",\n",
    "    titlesize=14,\n",
    "    titlepad=10,\n",
    ")\n",
    "\n",
    "# Mute warnings\n",
    "warnings.filterwarnings('ignore')"
   ]
  },
  {
   "cell_type": "code",
   "execution_count": 39,
   "metadata": {},
   "outputs": [
    {
     "output_type": "execute_result",
     "data": {
      "text/plain": [
       "            date  houseId city            address  houseType status  \\\n",
       "0     2020-01-29   240003   RB          - بيتونيا  apartment      A   \n",
       "1     2020-01-29   240005   RB  -  مدينة رام الله  apartment      A   \n",
       "2     2020-01-29   240006   RB  -  مدينة رام الله  apartment      A   \n",
       "3     2020-01-29   240007   RB  -  مدينة رام الله  apartment      A   \n",
       "4     2020-01-29   240008   RB  -  مدينة رام الله  apartment      A   \n",
       "...          ...      ...  ...                ...        ...    ...   \n",
       "8156  2021-03-03   260069   RB    -  مدينة البيرة  apartment      A   \n",
       "8157  2021-03-03   260076   RB    -  مدينة البيرة  apartment      B   \n",
       "8158  2021-03-03   260079    H    -  مدينة الخليل  apartment      B   \n",
       "8159  2021-03-03   260080    N     -  مدينة نابلس  apartment      A   \n",
       "8160  2021-03-03   260085   RB    -  مدينة البيرة  apartment      A   \n",
       "\n",
       "      numberRooms numberBathrooms1 numberBathrooms numberKitchens1  ...  \\\n",
       "0               1                0             NaN               0  ...   \n",
       "1               1                1               1               1  ...   \n",
       "2               3                3               3               0  ...   \n",
       "3               3                3               3               1  ...   \n",
       "4               3                3               3               0  ...   \n",
       "...           ...              ...             ...             ...  ...   \n",
       "8156            2                2               2               1  ...   \n",
       "8157            3                2               2               1  ...   \n",
       "8158            3                2               2               1  ...   \n",
       "8159            1                1               1               1  ...   \n",
       "8160            2                2               2               1  ...   \n",
       "\n",
       "     landArea elevator1 elevator carParking1 carParking  heating1  heating  \\\n",
       "0         NaN         1      نعم           1        نعم         0      NaN   \n",
       "1         NaN         1      نعم           1        نعم         0      NaN   \n",
       "2       100.0         1      نعم           1        نعم         1      نعم   \n",
       "3         NaN         1      نعم           1        نعم         1      نعم   \n",
       "4         NaN         1      نعم           1        نعم         0      NaN   \n",
       "...       ...       ...      ...         ...        ...       ...      ...   \n",
       "8156      NaN         1      نعم           1        نعم         0      NaN   \n",
       "8157      NaN         1      نعم           1        نعم         0      NaN   \n",
       "8158      NaN         0      NaN           0        NaN         0      NaN   \n",
       "8159   3500.0         1      نعم           1        نعم         1      نعم   \n",
       "8160      NaN         0      NaN           0        NaN         0      NaN   \n",
       "\n",
       "     price  priceType priceUS  \n",
       "0     1300       شيكل     390  \n",
       "1      550      دولار     550  \n",
       "2     1000      دولار    1000  \n",
       "3      950      دولار     950  \n",
       "4      800      دولار     800  \n",
       "...    ...        ...     ...  \n",
       "8156   600      دولار     600  \n",
       "8157   500      دولار     500  \n",
       "8158  1600       شيكل     480  \n",
       "8159  1000       شيكل     300  \n",
       "8160  1750       شيكل     525  \n",
       "\n",
       "[8161 rows x 25 columns]"
      ],
      "text/html": "<div>\n<style scoped>\n    .dataframe tbody tr th:only-of-type {\n        vertical-align: middle;\n    }\n\n    .dataframe tbody tr th {\n        vertical-align: top;\n    }\n\n    .dataframe thead th {\n        text-align: right;\n    }\n</style>\n<table border=\"1\" class=\"dataframe\">\n  <thead>\n    <tr style=\"text-align: right;\">\n      <th></th>\n      <th>date</th>\n      <th>houseId</th>\n      <th>city</th>\n      <th>address</th>\n      <th>houseType</th>\n      <th>status</th>\n      <th>numberRooms</th>\n      <th>numberBathrooms1</th>\n      <th>numberBathrooms</th>\n      <th>numberKitchens1</th>\n      <th>...</th>\n      <th>landArea</th>\n      <th>elevator1</th>\n      <th>elevator</th>\n      <th>carParking1</th>\n      <th>carParking</th>\n      <th>heating1</th>\n      <th>heating</th>\n      <th>price</th>\n      <th>priceType</th>\n      <th>priceUS</th>\n    </tr>\n  </thead>\n  <tbody>\n    <tr>\n      <th>0</th>\n      <td>2020-01-29</td>\n      <td>240003</td>\n      <td>RB</td>\n      <td>- بيتونيا</td>\n      <td>apartment</td>\n      <td>A</td>\n      <td>1</td>\n      <td>0</td>\n      <td>NaN</td>\n      <td>0</td>\n      <td>...</td>\n      <td>NaN</td>\n      <td>1</td>\n      <td>نعم</td>\n      <td>1</td>\n      <td>نعم</td>\n      <td>0</td>\n      <td>NaN</td>\n      <td>1300</td>\n      <td>شيكل</td>\n      <td>390</td>\n    </tr>\n    <tr>\n      <th>1</th>\n      <td>2020-01-29</td>\n      <td>240005</td>\n      <td>RB</td>\n      <td>-  مدينة رام الله</td>\n      <td>apartment</td>\n      <td>A</td>\n      <td>1</td>\n      <td>1</td>\n      <td>1</td>\n      <td>1</td>\n      <td>...</td>\n      <td>NaN</td>\n      <td>1</td>\n      <td>نعم</td>\n      <td>1</td>\n      <td>نعم</td>\n      <td>0</td>\n      <td>NaN</td>\n      <td>550</td>\n      <td>دولار</td>\n      <td>550</td>\n    </tr>\n    <tr>\n      <th>2</th>\n      <td>2020-01-29</td>\n      <td>240006</td>\n      <td>RB</td>\n      <td>-  مدينة رام الله</td>\n      <td>apartment</td>\n      <td>A</td>\n      <td>3</td>\n      <td>3</td>\n      <td>3</td>\n      <td>0</td>\n      <td>...</td>\n      <td>100.0</td>\n      <td>1</td>\n      <td>نعم</td>\n      <td>1</td>\n      <td>نعم</td>\n      <td>1</td>\n      <td>نعم</td>\n      <td>1000</td>\n      <td>دولار</td>\n      <td>1000</td>\n    </tr>\n    <tr>\n      <th>3</th>\n      <td>2020-01-29</td>\n      <td>240007</td>\n      <td>RB</td>\n      <td>-  مدينة رام الله</td>\n      <td>apartment</td>\n      <td>A</td>\n      <td>3</td>\n      <td>3</td>\n      <td>3</td>\n      <td>1</td>\n      <td>...</td>\n      <td>NaN</td>\n      <td>1</td>\n      <td>نعم</td>\n      <td>1</td>\n      <td>نعم</td>\n      <td>1</td>\n      <td>نعم</td>\n      <td>950</td>\n      <td>دولار</td>\n      <td>950</td>\n    </tr>\n    <tr>\n      <th>4</th>\n      <td>2020-01-29</td>\n      <td>240008</td>\n      <td>RB</td>\n      <td>-  مدينة رام الله</td>\n      <td>apartment</td>\n      <td>A</td>\n      <td>3</td>\n      <td>3</td>\n      <td>3</td>\n      <td>0</td>\n      <td>...</td>\n      <td>NaN</td>\n      <td>1</td>\n      <td>نعم</td>\n      <td>1</td>\n      <td>نعم</td>\n      <td>0</td>\n      <td>NaN</td>\n      <td>800</td>\n      <td>دولار</td>\n      <td>800</td>\n    </tr>\n    <tr>\n      <th>...</th>\n      <td>...</td>\n      <td>...</td>\n      <td>...</td>\n      <td>...</td>\n      <td>...</td>\n      <td>...</td>\n      <td>...</td>\n      <td>...</td>\n      <td>...</td>\n      <td>...</td>\n      <td>...</td>\n      <td>...</td>\n      <td>...</td>\n      <td>...</td>\n      <td>...</td>\n      <td>...</td>\n      <td>...</td>\n      <td>...</td>\n      <td>...</td>\n      <td>...</td>\n      <td>...</td>\n    </tr>\n    <tr>\n      <th>8156</th>\n      <td>2021-03-03</td>\n      <td>260069</td>\n      <td>RB</td>\n      <td>-  مدينة البيرة</td>\n      <td>apartment</td>\n      <td>A</td>\n      <td>2</td>\n      <td>2</td>\n      <td>2</td>\n      <td>1</td>\n      <td>...</td>\n      <td>NaN</td>\n      <td>1</td>\n      <td>نعم</td>\n      <td>1</td>\n      <td>نعم</td>\n      <td>0</td>\n      <td>NaN</td>\n      <td>600</td>\n      <td>دولار</td>\n      <td>600</td>\n    </tr>\n    <tr>\n      <th>8157</th>\n      <td>2021-03-03</td>\n      <td>260076</td>\n      <td>RB</td>\n      <td>-  مدينة البيرة</td>\n      <td>apartment</td>\n      <td>B</td>\n      <td>3</td>\n      <td>2</td>\n      <td>2</td>\n      <td>1</td>\n      <td>...</td>\n      <td>NaN</td>\n      <td>1</td>\n      <td>نعم</td>\n      <td>1</td>\n      <td>نعم</td>\n      <td>0</td>\n      <td>NaN</td>\n      <td>500</td>\n      <td>دولار</td>\n      <td>500</td>\n    </tr>\n    <tr>\n      <th>8158</th>\n      <td>2021-03-03</td>\n      <td>260079</td>\n      <td>H</td>\n      <td>-  مدينة الخليل</td>\n      <td>apartment</td>\n      <td>B</td>\n      <td>3</td>\n      <td>2</td>\n      <td>2</td>\n      <td>1</td>\n      <td>...</td>\n      <td>NaN</td>\n      <td>0</td>\n      <td>NaN</td>\n      <td>0</td>\n      <td>NaN</td>\n      <td>0</td>\n      <td>NaN</td>\n      <td>1600</td>\n      <td>شيكل</td>\n      <td>480</td>\n    </tr>\n    <tr>\n      <th>8159</th>\n      <td>2021-03-03</td>\n      <td>260080</td>\n      <td>N</td>\n      <td>-  مدينة نابلس</td>\n      <td>apartment</td>\n      <td>A</td>\n      <td>1</td>\n      <td>1</td>\n      <td>1</td>\n      <td>1</td>\n      <td>...</td>\n      <td>3500.0</td>\n      <td>1</td>\n      <td>نعم</td>\n      <td>1</td>\n      <td>نعم</td>\n      <td>1</td>\n      <td>نعم</td>\n      <td>1000</td>\n      <td>شيكل</td>\n      <td>300</td>\n    </tr>\n    <tr>\n      <th>8160</th>\n      <td>2021-03-03</td>\n      <td>260085</td>\n      <td>RB</td>\n      <td>-  مدينة البيرة</td>\n      <td>apartment</td>\n      <td>A</td>\n      <td>2</td>\n      <td>2</td>\n      <td>2</td>\n      <td>1</td>\n      <td>...</td>\n      <td>NaN</td>\n      <td>0</td>\n      <td>NaN</td>\n      <td>0</td>\n      <td>NaN</td>\n      <td>0</td>\n      <td>NaN</td>\n      <td>1750</td>\n      <td>شيكل</td>\n      <td>525</td>\n    </tr>\n  </tbody>\n</table>\n<p>8161 rows × 25 columns</p>\n</div>"
     },
     "metadata": {},
     "execution_count": 39
    }
   ],
   "source": [
    "df = pd.read_csv(\"newDataFrame.csv\", error_bad_lines=False)\n",
    "df"
   ]
  },
  {
   "cell_type": "code",
   "execution_count": 3,
   "metadata": {},
   "outputs": [
    {
     "output_type": "execute_result",
     "data": {
      "text/plain": [
       "<bound method DataFrame.info of             date  houseId city            address  houseType status  \\\n",
       "0     2020-01-29   240003   RB          - بيتونيا  apartment      A   \n",
       "1     2020-01-29   240005   RB  -  مدينة رام الله  apartment      A   \n",
       "2     2020-01-29   240006   RB  -  مدينة رام الله  apartment      A   \n",
       "3     2020-01-29   240007   RB  -  مدينة رام الله  apartment      A   \n",
       "4     2020-01-29   240008   RB  -  مدينة رام الله  apartment      A   \n",
       "...          ...      ...  ...                ...        ...    ...   \n",
       "8156  2021-03-03   260069   RB    -  مدينة البيرة  apartment      A   \n",
       "8157  2021-03-03   260076   RB    -  مدينة البيرة  apartment      B   \n",
       "8158  2021-03-03   260079    H    -  مدينة الخليل  apartment      B   \n",
       "8159  2021-03-03   260080    N     -  مدينة نابلس  apartment      A   \n",
       "8160  2021-03-03   260085   RB    -  مدينة البيرة  apartment      A   \n",
       "\n",
       "      numberRooms numberBathrooms1 numberBathrooms numberKitchens1  ...  \\\n",
       "0               1                0             NaN               0  ...   \n",
       "1               1                1               1               1  ...   \n",
       "2               3                3               3               0  ...   \n",
       "3               3                3               3               1  ...   \n",
       "4               3                3               3               0  ...   \n",
       "...           ...              ...             ...             ...  ...   \n",
       "8156            2                2               2               1  ...   \n",
       "8157            3                2               2               1  ...   \n",
       "8158            3                2               2               1  ...   \n",
       "8159            1                1               1               1  ...   \n",
       "8160            2                2               2               1  ...   \n",
       "\n",
       "     landArea elevator1 elevator carParking1 carParking  heating1  heating  \\\n",
       "0         NaN         1      نعم           1        نعم         0      NaN   \n",
       "1         NaN         1      نعم           1        نعم         0      NaN   \n",
       "2       100.0         1      نعم           1        نعم         1      نعم   \n",
       "3         NaN         1      نعم           1        نعم         1      نعم   \n",
       "4         NaN         1      نعم           1        نعم         0      NaN   \n",
       "...       ...       ...      ...         ...        ...       ...      ...   \n",
       "8156      NaN         1      نعم           1        نعم         0      NaN   \n",
       "8157      NaN         1      نعم           1        نعم         0      NaN   \n",
       "8158      NaN         0      NaN           0        NaN         0      NaN   \n",
       "8159   3500.0         1      نعم           1        نعم         1      نعم   \n",
       "8160      NaN         0      NaN           0        NaN         0      NaN   \n",
       "\n",
       "     price  priceType priceUS  \n",
       "0     1300       شيكل     390  \n",
       "1      550      دولار     550  \n",
       "2     1000      دولار    1000  \n",
       "3      950      دولار     950  \n",
       "4      800      دولار     800  \n",
       "...    ...        ...     ...  \n",
       "8156   600      دولار     600  \n",
       "8157   500      دولار     500  \n",
       "8158  1600       شيكل     480  \n",
       "8159  1000       شيكل     300  \n",
       "8160  1750       شيكل     525  \n",
       "\n",
       "[8161 rows x 25 columns]>"
      ]
     },
     "metadata": {},
     "execution_count": 3
    }
   ],
   "source": [
    "df.info"
   ]
  },
  {
   "cell_type": "code",
   "execution_count": 40,
   "metadata": {},
   "outputs": [
    {
     "output_type": "execute_result",
     "data": {
      "text/plain": [
       "date                   0\n",
       "houseId                0\n",
       "city                   0\n",
       "address               55\n",
       "houseType             17\n",
       "status                 0\n",
       "numberRooms            0\n",
       "numberBathrooms1       0\n",
       "numberBathrooms      272\n",
       "numberKitchens1        0\n",
       "numberKitchens       364\n",
       "numberBalconies1       0\n",
       "numberBalconies     1322\n",
       "loungeType           851\n",
       "houseSpace          2085\n",
       "landArea            5709\n",
       "elevator1              0\n",
       "elevator            3273\n",
       "carParking1            0\n",
       "carParking          2828\n",
       "heating1               0\n",
       "heating             6350\n",
       "price                  0\n",
       "priceType              1\n",
       "priceUS                0\n",
       "dtype: int64"
      ]
     },
     "metadata": {},
     "execution_count": 40
    }
   ],
   "source": [
    "#Handling Missing Values\n",
    "# get the number of missing data points per column\n",
    "missing_values = df.isnull().sum()\n",
    "# look at the # of missing points in the first 25 columns\n",
    "missing_values[0:25]"
   ]
  },
  {
   "cell_type": "code",
   "execution_count": 41,
   "metadata": {},
   "outputs": [
    {
     "output_type": "stream",
     "name": "stdout",
     "text": [
      "11.335375566719765\n"
     ]
    }
   ],
   "source": [
    "#total missing values do we have\n",
    "total_cells = np.product(df.shape)\n",
    "total_missing = missing_values.sum()\n",
    "# percent of data that is missing\n",
    "percent_missing = (total_missing/total_cells) * 100\n",
    "print(percent_missing)"
   ]
  },
  {
   "cell_type": "code",
   "execution_count": 42,
   "metadata": {},
   "outputs": [
    {
     "output_type": "execute_result",
     "data": {
      "text/plain": [
       "23127"
      ]
     },
     "metadata": {},
     "execution_count": 42
    }
   ],
   "source": [
    "total_missing"
   ]
  },
  {
   "cell_type": "code",
   "execution_count": 43,
   "metadata": {},
   "outputs": [
    {
     "output_type": "execute_result",
     "data": {
      "text/plain": [
       "204025"
      ]
     },
     "metadata": {},
     "execution_count": 43
    }
   ],
   "source": [
    "total_cells"
   ]
  },
  {
   "cell_type": "code",
   "execution_count": 44,
   "metadata": {},
   "outputs": [
    {
     "output_type": "execute_result",
     "data": {
      "text/plain": [
       "0"
      ]
     },
     "metadata": {},
     "execution_count": 44
    }
   ],
   "source": [
    "# replace all NA's the value that comes directly after it in the same column,\n",
    "numberBathroomsNew = df.numberBathrooms\n",
    "df.numberBathrooms = numberBathroomsNew.fillna(method='bfill', axis=0)\n",
    "df.numberBathrooms.isnull().sum()\n"
   ]
  },
  {
   "cell_type": "code",
   "execution_count": 45,
   "metadata": {},
   "outputs": [
    {
     "output_type": "execute_result",
     "data": {
      "text/plain": [
       "0"
      ]
     },
     "metadata": {},
     "execution_count": 45
    }
   ],
   "source": [
    "houseTypeNew = df.houseType\n",
    "df.houseType = houseTypeNew.fillna(method='bfill')\n",
    "df.houseType.isnull().sum()"
   ]
  },
  {
   "cell_type": "code",
   "execution_count": 46,
   "metadata": {},
   "outputs": [
    {
     "output_type": "execute_result",
     "data": {
      "text/plain": [
       "0"
      ]
     },
     "metadata": {},
     "execution_count": 46
    }
   ],
   "source": [
    "addressNew = df.address\n",
    "df.address = addressNew.fillna(method='bfill')\n",
    "df.address.isnull().sum()"
   ]
  },
  {
   "cell_type": "code",
   "execution_count": 47,
   "metadata": {},
   "outputs": [
    {
     "output_type": "execute_result",
     "data": {
      "text/plain": [
       "0"
      ]
     },
     "metadata": {},
     "execution_count": 47
    }
   ],
   "source": [
    "numberKitchensNew = df.numberKitchens\n",
    "df.numberKitchens = numberKitchensNew.fillna(method='bfill')\n",
    "df.numberKitchens.isnull().sum()"
   ]
  },
  {
   "cell_type": "code",
   "execution_count": 48,
   "metadata": {},
   "outputs": [
    {
     "output_type": "execute_result",
     "data": {
      "text/plain": [
       "0"
      ]
     },
     "metadata": {},
     "execution_count": 48
    }
   ],
   "source": [
    "# replace all NA's with 0\n",
    "numberBalconiesNew = df.numberBalconies\n",
    "df.numberBalconies = numberBalconiesNew.fillna(0)\n",
    "df.numberBalconies.isnull().sum()"
   ]
  },
  {
   "cell_type": "code",
   "execution_count": 50,
   "metadata": {},
   "outputs": [],
   "source": [
    "df.elevator = df.elevator1\n",
    "df.carParking = df.carParking1\n",
    "df.heating = df.heating1\n"
   ]
  },
  {
   "cell_type": "code",
   "execution_count": 51,
   "metadata": {},
   "outputs": [
    {
     "output_type": "execute_result",
     "data": {
      "text/plain": [
       "date                   0\n",
       "houseId                0\n",
       "city                   0\n",
       "address                0\n",
       "houseType              0\n",
       "status                 0\n",
       "numberRooms            0\n",
       "numberBathrooms1       0\n",
       "numberBathrooms        0\n",
       "numberKitchens1        0\n",
       "numberKitchens         0\n",
       "numberBalconies1       0\n",
       "numberBalconies        0\n",
       "loungeType           851\n",
       "houseSpace          2085\n",
       "landArea            5709\n",
       "elevator1              0\n",
       "elevator               0\n",
       "carParking1            0\n",
       "carParking             0\n",
       "heating1               0\n",
       "heating                0\n",
       "price                  0\n",
       "priceType              1\n",
       "priceUS                0\n",
       "dtype: int64"
      ]
     },
     "metadata": {},
     "execution_count": 51
    }
   ],
   "source": [
    "missing_values = df.isnull().sum()\n",
    "missing_values[0:25]"
   ]
  },
  {
   "cell_type": "code",
   "execution_count": 55,
   "metadata": {},
   "outputs": [],
   "source": [
    "# get all the unique values in the 'loungeType , city ' column\n",
    "lounge = df['loungeType'].unique()\n"
   ]
  },
  {
   "cell_type": "code",
   "execution_count": 60,
   "metadata": {},
   "outputs": [],
   "source": [
    "#city\n",
    "city = df['priceUS'].unique()\n"
   ]
  },
  {
   "cell_type": "code",
   "execution_count": 61,
   "metadata": {},
   "outputs": [
    {
     "output_type": "execute_result",
     "data": {
      "text/plain": [
       "            date city  houseType status  numberRooms numberBathrooms  \\\n",
       "0     2020-01-29   RB  apartment      A            1               1   \n",
       "1     2020-01-29   RB  apartment      A            1               1   \n",
       "2     2020-01-29   RB  apartment      A            3               3   \n",
       "3     2020-01-29   RB  apartment      A            3               3   \n",
       "4     2020-01-29   RB  apartment      A            3               3   \n",
       "...          ...  ...        ...    ...          ...             ...   \n",
       "8156  2021-03-03   RB  apartment      A            2               2   \n",
       "8157  2021-03-03   RB  apartment      B            3               2   \n",
       "8158  2021-03-03    H  apartment      B            3               2   \n",
       "8159  2021-03-03    N  apartment      A            1               1   \n",
       "8160  2021-03-03   RB  apartment      A            2               2   \n",
       "\n",
       "     numberKitchens numberBalconies houseSpace  elevator  carParking  heating  \\\n",
       "0                 1               0        NaN         1           1        0   \n",
       "1                 1               1         80         1           1        0   \n",
       "2                 1               2        190         1           1        1   \n",
       "3                 1               1        190         1           1        1   \n",
       "4                 1               3        160         1           1        0   \n",
       "...             ...             ...        ...       ...         ...      ...   \n",
       "8156              1               1        120         1           1        0   \n",
       "8157              1               1        140         1           1        0   \n",
       "8158              1               2        150         0           0        0   \n",
       "8159              1               1         70         1           1        1   \n",
       "8160              1               0        120         0           0        0   \n",
       "\n",
       "     priceUS  \n",
       "0        390  \n",
       "1        550  \n",
       "2       1000  \n",
       "3        950  \n",
       "4        800  \n",
       "...      ...  \n",
       "8156     600  \n",
       "8157     500  \n",
       "8158     480  \n",
       "8159     300  \n",
       "8160     525  \n",
       "\n",
       "[8161 rows x 13 columns]"
      ],
      "text/html": "<div>\n<style scoped>\n    .dataframe tbody tr th:only-of-type {\n        vertical-align: middle;\n    }\n\n    .dataframe tbody tr th {\n        vertical-align: top;\n    }\n\n    .dataframe thead th {\n        text-align: right;\n    }\n</style>\n<table border=\"1\" class=\"dataframe\">\n  <thead>\n    <tr style=\"text-align: right;\">\n      <th></th>\n      <th>date</th>\n      <th>city</th>\n      <th>houseType</th>\n      <th>status</th>\n      <th>numberRooms</th>\n      <th>numberBathrooms</th>\n      <th>numberKitchens</th>\n      <th>numberBalconies</th>\n      <th>houseSpace</th>\n      <th>elevator</th>\n      <th>carParking</th>\n      <th>heating</th>\n      <th>priceUS</th>\n    </tr>\n  </thead>\n  <tbody>\n    <tr>\n      <th>0</th>\n      <td>2020-01-29</td>\n      <td>RB</td>\n      <td>apartment</td>\n      <td>A</td>\n      <td>1</td>\n      <td>1</td>\n      <td>1</td>\n      <td>0</td>\n      <td>NaN</td>\n      <td>1</td>\n      <td>1</td>\n      <td>0</td>\n      <td>390</td>\n    </tr>\n    <tr>\n      <th>1</th>\n      <td>2020-01-29</td>\n      <td>RB</td>\n      <td>apartment</td>\n      <td>A</td>\n      <td>1</td>\n      <td>1</td>\n      <td>1</td>\n      <td>1</td>\n      <td>80</td>\n      <td>1</td>\n      <td>1</td>\n      <td>0</td>\n      <td>550</td>\n    </tr>\n    <tr>\n      <th>2</th>\n      <td>2020-01-29</td>\n      <td>RB</td>\n      <td>apartment</td>\n      <td>A</td>\n      <td>3</td>\n      <td>3</td>\n      <td>1</td>\n      <td>2</td>\n      <td>190</td>\n      <td>1</td>\n      <td>1</td>\n      <td>1</td>\n      <td>1000</td>\n    </tr>\n    <tr>\n      <th>3</th>\n      <td>2020-01-29</td>\n      <td>RB</td>\n      <td>apartment</td>\n      <td>A</td>\n      <td>3</td>\n      <td>3</td>\n      <td>1</td>\n      <td>1</td>\n      <td>190</td>\n      <td>1</td>\n      <td>1</td>\n      <td>1</td>\n      <td>950</td>\n    </tr>\n    <tr>\n      <th>4</th>\n      <td>2020-01-29</td>\n      <td>RB</td>\n      <td>apartment</td>\n      <td>A</td>\n      <td>3</td>\n      <td>3</td>\n      <td>1</td>\n      <td>3</td>\n      <td>160</td>\n      <td>1</td>\n      <td>1</td>\n      <td>0</td>\n      <td>800</td>\n    </tr>\n    <tr>\n      <th>...</th>\n      <td>...</td>\n      <td>...</td>\n      <td>...</td>\n      <td>...</td>\n      <td>...</td>\n      <td>...</td>\n      <td>...</td>\n      <td>...</td>\n      <td>...</td>\n      <td>...</td>\n      <td>...</td>\n      <td>...</td>\n      <td>...</td>\n    </tr>\n    <tr>\n      <th>8156</th>\n      <td>2021-03-03</td>\n      <td>RB</td>\n      <td>apartment</td>\n      <td>A</td>\n      <td>2</td>\n      <td>2</td>\n      <td>1</td>\n      <td>1</td>\n      <td>120</td>\n      <td>1</td>\n      <td>1</td>\n      <td>0</td>\n      <td>600</td>\n    </tr>\n    <tr>\n      <th>8157</th>\n      <td>2021-03-03</td>\n      <td>RB</td>\n      <td>apartment</td>\n      <td>B</td>\n      <td>3</td>\n      <td>2</td>\n      <td>1</td>\n      <td>1</td>\n      <td>140</td>\n      <td>1</td>\n      <td>1</td>\n      <td>0</td>\n      <td>500</td>\n    </tr>\n    <tr>\n      <th>8158</th>\n      <td>2021-03-03</td>\n      <td>H</td>\n      <td>apartment</td>\n      <td>B</td>\n      <td>3</td>\n      <td>2</td>\n      <td>1</td>\n      <td>2</td>\n      <td>150</td>\n      <td>0</td>\n      <td>0</td>\n      <td>0</td>\n      <td>480</td>\n    </tr>\n    <tr>\n      <th>8159</th>\n      <td>2021-03-03</td>\n      <td>N</td>\n      <td>apartment</td>\n      <td>A</td>\n      <td>1</td>\n      <td>1</td>\n      <td>1</td>\n      <td>1</td>\n      <td>70</td>\n      <td>1</td>\n      <td>1</td>\n      <td>1</td>\n      <td>300</td>\n    </tr>\n    <tr>\n      <th>8160</th>\n      <td>2021-03-03</td>\n      <td>RB</td>\n      <td>apartment</td>\n      <td>A</td>\n      <td>2</td>\n      <td>2</td>\n      <td>1</td>\n      <td>0</td>\n      <td>120</td>\n      <td>0</td>\n      <td>0</td>\n      <td>0</td>\n      <td>525</td>\n    </tr>\n  </tbody>\n</table>\n<p>8161 rows × 13 columns</p>\n</div>"
     },
     "metadata": {},
     "execution_count": 61
    }
   ],
   "source": [
    "#drop extra columns\n",
    "newdf = df.drop(['houseId', 'address', 'numberBathrooms1','numberKitchens1','numberBalconies1','loungeType','landArea','elevator1','carParking1','heating1','priceType','price'], axis=1)\n",
    "newdf"
   ]
  },
  {
   "cell_type": "code",
   "execution_count": 63,
   "metadata": {},
   "outputs": [
    {
     "output_type": "execute_result",
     "data": {
      "text/plain": [
       "date                  0\n",
       "city                  0\n",
       "houseType             0\n",
       "status                0\n",
       "numberRooms           0\n",
       "numberBathrooms       0\n",
       "numberKitchens        0\n",
       "numberBalconies       0\n",
       "houseSpace         2085\n",
       "elevator              0\n",
       "carParking            0\n",
       "heating               0\n",
       "priceUS               0\n",
       "dtype: int64"
      ]
     },
     "metadata": {},
     "execution_count": 63
    }
   ],
   "source": [
    "missing_values = newdf.isnull().sum()\n",
    "missing_values[0:13]"
   ]
  },
  {
   "cell_type": "code",
   "execution_count": 65,
   "metadata": {},
   "outputs": [
    {
     "output_type": "stream",
     "name": "stdout",
     "text": [
      "<class 'pandas.core.frame.DataFrame'>\nRangeIndex: 8161 entries, 0 to 8160\nData columns (total 13 columns):\n #   Column           Non-Null Count  Dtype \n---  ------           --------------  ----- \n 0   date             8161 non-null   object\n 1   city             8161 non-null   object\n 2   houseType        8161 non-null   object\n 3   status           8161 non-null   object\n 4   numberRooms      8161 non-null   int64 \n 5   numberBathrooms  8161 non-null   object\n 6   numberKitchens   8161 non-null   object\n 7   numberBalconies  8161 non-null   object\n 8   houseSpace       6076 non-null   object\n 9   elevator         8161 non-null   int64 \n 10  carParking       8161 non-null   int64 \n 11  heating          8161 non-null   int64 \n 12  priceUS          8161 non-null   object\ndtypes: int64(4), object(9)\nmemory usage: 829.0+ KB\n"
     ]
    }
   ],
   "source": [
    "newdf.info()"
   ]
  },
  {
   "cell_type": "code",
   "execution_count": 77,
   "metadata": {},
   "outputs": [
    {
     "output_type": "execute_result",
     "data": {
      "text/plain": [
       "array(['1', '3', '2', '-2', '-1', '-3', '-4', '2 حمام', '4', '0', '5',\n",
       "       '6'], dtype=object)"
      ]
     },
     "metadata": {},
     "execution_count": 77
    }
   ],
   "source": [
    "#Handling unique data\n",
    "uniqueBathrooms = newdf['numberBathrooms'].unique()\n",
    "uniqueBathrooms"
   ]
  },
  {
   "cell_type": "code",
   "execution_count": 89,
   "metadata": {},
   "outputs": [],
   "source": [
    "#Handling unique data\n",
    "newdf['numberBathrooms'] = newdf['numberBathrooms'].replace(['حمامين'],'2')\n",
    "newdf['numberBathrooms'] = newdf['numberBathrooms'].replace(['-1'],'1')\n",
    "newdf['numberBathrooms'] = newdf['numberBathrooms'].replace(['-2'],'2')\n",
    "newdf['numberBathrooms'] = newdf['numberBathrooms'].replace(['-3'],'3')\n",
    "newdf['numberBathrooms'] = newdf['numberBathrooms'].replace(['-4'],'4')\n",
    "newdf['numberBathrooms'] = newdf['numberBathrooms'].replace(['حمام'],'1')"
   ]
  },
  {
   "cell_type": "code",
   "execution_count": 108,
   "metadata": {},
   "outputs": [
    {
     "output_type": "execute_result",
     "data": {
      "text/plain": [
       "array([0, '1', '2', '3', '4', '0', '5', '2 برنده', '120', '100', '12',\n",
       "       '21', '150', '180', '6', '14'], dtype=object)"
      ]
     },
     "metadata": {},
     "execution_count": 108
    }
   ],
   "source": [
    "uniqueBalconies = newdf['numberBalconies'].unique()\n",
    "uniqueBalconies"
   ]
  },
  {
   "cell_type": "code",
   "execution_count": 92,
   "metadata": {},
   "outputs": [],
   "source": [
    "newdf['numberKitchens'] = newdf['numberKitchens'].replace(['واجد'],'1')"
   ]
  },
  {
   "cell_type": "code",
   "execution_count": 95,
   "metadata": {},
   "outputs": [],
   "source": [
    "newdf['numberBalconies'] = newdf['numberBalconies'].replace(['واجده'],'1')"
   ]
  },
  {
   "cell_type": "code",
   "execution_count": 101,
   "metadata": {},
   "outputs": [],
   "source": [
    "newdf['numberBalconies'] = newdf['numberBalconies'].replace(['-2'],'2')"
   ]
  },
  {
   "cell_type": "code",
   "execution_count": 103,
   "metadata": {},
   "outputs": [],
   "source": [
    "newdf['numberBalconies'] = newdf['numberBalconies'].replace(['-1'],'1')"
   ]
  },
  {
   "cell_type": "code",
   "execution_count": 105,
   "metadata": {},
   "outputs": [],
   "source": [
    "newdf['numberBalconies'] = newdf['numberBalconies'].replace(['-3'],'3')"
   ]
  },
  {
   "cell_type": "code",
   "execution_count": 113,
   "metadata": {},
   "outputs": [
    {
     "output_type": "execute_result",
     "data": {
      "text/plain": [
       "array([nan, '80', '190', '160', '150', '200', '130', '175', '135', '210',\n",
       "       '120', '220', '90', '119', '140', '125', '174', '145', '50', '70',\n",
       "       '195', '116', '-110', '165', '180', '170', '155', '20', '185',\n",
       "       '100', '110', '25', '115', '300', '-150', '0', '280', '45', '124',\n",
       "       '127', '144', '162', '123', '16', '172', '148', '122', '88', '118',\n",
       "       '60', '138', '1', '85', '40', '26', '215', '166', '168', '1000',\n",
       "       '132', '260', '270', '30', '75', '139', '169', '250', '-140',\n",
       "       '350', '187', '1150', '105', '-115', '117', '230', '21', '32',\n",
       "       '95', '420', '225', '107', '65', '89', '136', '500', '240', '153',\n",
       "       '149', '28', '450', '-60', '35', '82', '86', '133', '57', '205',\n",
       "       '147', '126', '167', '109', '2', '163', '183', '192', '178', '15',\n",
       "       '-155', '3', '55', '176', '154', '235', '75متر', '157', '156',\n",
       "       '128', '184', '750', '193', '152', '159', '142', '158', '54', '37',\n",
       "       '131', '1100', '84', '400', '6', '216', '266', '191', '58', '18',\n",
       "       '190000', '800', '92', '93', '-1', '81', '56', '29', '255', '1200',\n",
       "       '360', '52', '34', '-130', '188', '169160', '650', '470', '106',\n",
       "       '600', '137', '47', '108', '-120', '189', '370', '330', '78'],\n",
       "      dtype=object)"
      ]
     },
     "metadata": {},
     "execution_count": 113
    }
   ],
   "source": [
    "uniqueSpace = newdf['houseSpace'].unique()\n",
    "uniqueSpace"
   ]
  },
  {
   "cell_type": "code",
   "execution_count": 112,
   "metadata": {},
   "outputs": [],
   "source": [
    "newdf['houseSpace'] = newdf['houseSpace'].replace(['متر'],'1')"
   ]
  },
  {
   "cell_type": "code",
   "execution_count": null,
   "metadata": {},
   "outputs": [],
   "source": [
    "houseSpaceNew = df.houseSpace\n",
    "df.houseSpace = houseSpaceNew.fillna(0)\n",
    "df.houseSpace.isnull().sum()"
   ]
  },
  {
   "cell_type": "code",
   "execution_count": 111,
   "metadata": {},
   "outputs": [
    {
     "output_type": "execute_result",
     "data": {
      "text/plain": [
       "array(['apartment', 'Roof', 'villa'], dtype=object)"
      ]
     },
     "metadata": {},
     "execution_count": 111
    }
   ],
   "source": [
    "uniquehouseType = newdf['houseType'].unique()\n",
    "uniquehouseType"
   ]
  },
  {
   "cell_type": "code",
   "execution_count": 114,
   "metadata": {},
   "outputs": [],
   "source": [
    "newdf.to_csv (r'df.csv', index = False, header=True)"
   ]
  },
  {
   "cell_type": "code",
   "execution_count": 3,
   "metadata": {},
   "outputs": [
    {
     "output_type": "execute_result",
     "data": {
      "text/plain": [
       "            date city  houseType status  numberRooms  numberBathrooms  \\\n",
       "0     2020-01-29   RB  apartment      A            1                1   \n",
       "1     2020-01-29   RB  apartment      A            1                1   \n",
       "2     2020-01-29   RB  apartment      A            3                3   \n",
       "3     2020-01-29   RB  apartment      A            3                3   \n",
       "4     2020-01-29   RB  apartment      A            3                3   \n",
       "...          ...  ...        ...    ...          ...              ...   \n",
       "8140  2021-03-03   RB  apartment      A            2                2   \n",
       "8141  2021-03-03   RB  apartment      B            3                2   \n",
       "8142  2021-03-03    H  apartment      B            3                2   \n",
       "8143  2021-03-03    N  apartment      A            1                1   \n",
       "8144  2021-03-03   RB  apartment      A            2                2   \n",
       "\n",
       "      numberKitchens  numberBalconies  houseSpace  elevator  carParking  \\\n",
       "0                  1                0         NaN         1         1.0   \n",
       "1                  1                1        80.0         1         1.0   \n",
       "2                  1                2       190.0         1         1.0   \n",
       "3                  1                1       190.0         1         1.0   \n",
       "4                  1                3       160.0         1         1.0   \n",
       "...              ...              ...         ...       ...         ...   \n",
       "8140               1                1       120.0         1         1.0   \n",
       "8141               1                1       140.0         1         1.0   \n",
       "8142               1                2       150.0         0         0.0   \n",
       "8143               1                1        70.0         1         1.0   \n",
       "8144               1                0       120.0         0         0.0   \n",
       "\n",
       "      heating  priceUS  \n",
       "0         0.0    390.0  \n",
       "1         0.0    550.0  \n",
       "2         1.0   1000.0  \n",
       "3         1.0    950.0  \n",
       "4         0.0    800.0  \n",
       "...       ...      ...  \n",
       "8140      0.0    600.0  \n",
       "8141      0.0    500.0  \n",
       "8142      0.0    480.0  \n",
       "8143      1.0    300.0  \n",
       "8144      0.0    525.0  \n",
       "\n",
       "[8145 rows x 13 columns]"
      ],
      "text/html": "<div>\n<style scoped>\n    .dataframe tbody tr th:only-of-type {\n        vertical-align: middle;\n    }\n\n    .dataframe tbody tr th {\n        vertical-align: top;\n    }\n\n    .dataframe thead th {\n        text-align: right;\n    }\n</style>\n<table border=\"1\" class=\"dataframe\">\n  <thead>\n    <tr style=\"text-align: right;\">\n      <th></th>\n      <th>date</th>\n      <th>city</th>\n      <th>houseType</th>\n      <th>status</th>\n      <th>numberRooms</th>\n      <th>numberBathrooms</th>\n      <th>numberKitchens</th>\n      <th>numberBalconies</th>\n      <th>houseSpace</th>\n      <th>elevator</th>\n      <th>carParking</th>\n      <th>heating</th>\n      <th>priceUS</th>\n    </tr>\n  </thead>\n  <tbody>\n    <tr>\n      <th>0</th>\n      <td>2020-01-29</td>\n      <td>RB</td>\n      <td>apartment</td>\n      <td>A</td>\n      <td>1</td>\n      <td>1</td>\n      <td>1</td>\n      <td>0</td>\n      <td>NaN</td>\n      <td>1</td>\n      <td>1.0</td>\n      <td>0.0</td>\n      <td>390.0</td>\n    </tr>\n    <tr>\n      <th>1</th>\n      <td>2020-01-29</td>\n      <td>RB</td>\n      <td>apartment</td>\n      <td>A</td>\n      <td>1</td>\n      <td>1</td>\n      <td>1</td>\n      <td>1</td>\n      <td>80.0</td>\n      <td>1</td>\n      <td>1.0</td>\n      <td>0.0</td>\n      <td>550.0</td>\n    </tr>\n    <tr>\n      <th>2</th>\n      <td>2020-01-29</td>\n      <td>RB</td>\n      <td>apartment</td>\n      <td>A</td>\n      <td>3</td>\n      <td>3</td>\n      <td>1</td>\n      <td>2</td>\n      <td>190.0</td>\n      <td>1</td>\n      <td>1.0</td>\n      <td>1.0</td>\n      <td>1000.0</td>\n    </tr>\n    <tr>\n      <th>3</th>\n      <td>2020-01-29</td>\n      <td>RB</td>\n      <td>apartment</td>\n      <td>A</td>\n      <td>3</td>\n      <td>3</td>\n      <td>1</td>\n      <td>1</td>\n      <td>190.0</td>\n      <td>1</td>\n      <td>1.0</td>\n      <td>1.0</td>\n      <td>950.0</td>\n    </tr>\n    <tr>\n      <th>4</th>\n      <td>2020-01-29</td>\n      <td>RB</td>\n      <td>apartment</td>\n      <td>A</td>\n      <td>3</td>\n      <td>3</td>\n      <td>1</td>\n      <td>3</td>\n      <td>160.0</td>\n      <td>1</td>\n      <td>1.0</td>\n      <td>0.0</td>\n      <td>800.0</td>\n    </tr>\n    <tr>\n      <th>...</th>\n      <td>...</td>\n      <td>...</td>\n      <td>...</td>\n      <td>...</td>\n      <td>...</td>\n      <td>...</td>\n      <td>...</td>\n      <td>...</td>\n      <td>...</td>\n      <td>...</td>\n      <td>...</td>\n      <td>...</td>\n      <td>...</td>\n    </tr>\n    <tr>\n      <th>8140</th>\n      <td>2021-03-03</td>\n      <td>RB</td>\n      <td>apartment</td>\n      <td>A</td>\n      <td>2</td>\n      <td>2</td>\n      <td>1</td>\n      <td>1</td>\n      <td>120.0</td>\n      <td>1</td>\n      <td>1.0</td>\n      <td>0.0</td>\n      <td>600.0</td>\n    </tr>\n    <tr>\n      <th>8141</th>\n      <td>2021-03-03</td>\n      <td>RB</td>\n      <td>apartment</td>\n      <td>B</td>\n      <td>3</td>\n      <td>2</td>\n      <td>1</td>\n      <td>1</td>\n      <td>140.0</td>\n      <td>1</td>\n      <td>1.0</td>\n      <td>0.0</td>\n      <td>500.0</td>\n    </tr>\n    <tr>\n      <th>8142</th>\n      <td>2021-03-03</td>\n      <td>H</td>\n      <td>apartment</td>\n      <td>B</td>\n      <td>3</td>\n      <td>2</td>\n      <td>1</td>\n      <td>2</td>\n      <td>150.0</td>\n      <td>0</td>\n      <td>0.0</td>\n      <td>0.0</td>\n      <td>480.0</td>\n    </tr>\n    <tr>\n      <th>8143</th>\n      <td>2021-03-03</td>\n      <td>N</td>\n      <td>apartment</td>\n      <td>A</td>\n      <td>1</td>\n      <td>1</td>\n      <td>1</td>\n      <td>1</td>\n      <td>70.0</td>\n      <td>1</td>\n      <td>1.0</td>\n      <td>1.0</td>\n      <td>300.0</td>\n    </tr>\n    <tr>\n      <th>8144</th>\n      <td>2021-03-03</td>\n      <td>RB</td>\n      <td>apartment</td>\n      <td>A</td>\n      <td>2</td>\n      <td>2</td>\n      <td>1</td>\n      <td>0</td>\n      <td>120.0</td>\n      <td>0</td>\n      <td>0.0</td>\n      <td>0.0</td>\n      <td>525.0</td>\n    </tr>\n  </tbody>\n</table>\n<p>8145 rows × 13 columns</p>\n</div>"
     },
     "metadata": {},
     "execution_count": 3
    }
   ],
   "source": [
    "df = pd.read_csv(\"df.csv\", error_bad_lines=False)\n",
    "df"
   ]
  },
  {
   "cell_type": "code",
   "execution_count": 4,
   "metadata": {},
   "outputs": [
    {
     "output_type": "stream",
     "name": "stdout",
     "text": [
      "<class 'pandas.core.frame.DataFrame'>\nRangeIndex: 8145 entries, 0 to 8144\nData columns (total 13 columns):\n #   Column           Non-Null Count  Dtype  \n---  ------           --------------  -----  \n 0   date             8145 non-null   object \n 1   city             8145 non-null   object \n 2   houseType        8145 non-null   object \n 3   status           8145 non-null   object \n 4   numberRooms      8145 non-null   int64  \n 5   numberBathrooms  8145 non-null   int64  \n 6   numberKitchens   8145 non-null   int64  \n 7   numberBalconies  8145 non-null   int64  \n 8   houseSpace       6063 non-null   float64\n 9   elevator         8145 non-null   int64  \n 10  carParking       8145 non-null   float64\n 11  heating          8145 non-null   float64\n 12  priceUS          8145 non-null   float64\ndtypes: float64(4), int64(5), object(4)\nmemory usage: 827.4+ KB\n"
     ]
    }
   ],
   "source": [
    "df.info()"
   ]
  },
  {
   "cell_type": "code",
   "execution_count": 5,
   "metadata": {},
   "outputs": [
    {
     "output_type": "display_data",
     "data": {
      "text/plain": "date                object\ncity                object\nhouseType           object\nstatus              object\nnumberRooms          int64\nnumberBathrooms      int64\nnumberKitchens       int64\nnumberBalconies      int64\nhouseSpace         float64\nelevator             int64\ncarParking           int32\nheating              int32\npriceUS            float64\ndtype: object"
     },
     "metadata": {}
    }
   ],
   "source": [
    "df['heating'] = df['heating'].astype(int) \n",
    "df['carParking'] = df['carParking'].astype(int)  \n",
    "# displaying the datatypes \n",
    "display(df.dtypes) "
   ]
  },
  {
   "cell_type": "code",
   "execution_count": 6,
   "metadata": {},
   "outputs": [
    {
     "output_type": "execute_result",
     "data": {
      "text/plain": [
       "       numberRooms  numberBathrooms  numberKitchens  numberBalconies  \\\n",
       "count  8145.000000      8145.000000     8145.000000      8145.000000   \n",
       "mean      2.495028         1.864702        1.014979         1.095519   \n",
       "std       0.869990         0.747368        0.254182         3.198064   \n",
       "min       1.000000         0.000000        0.000000         0.000000   \n",
       "25%       2.000000         1.000000        1.000000         1.000000   \n",
       "50%       3.000000         2.000000        1.000000         1.000000   \n",
       "75%       3.000000         2.000000        1.000000         1.000000   \n",
       "max       6.000000         6.000000       11.000000       180.000000   \n",
       "\n",
       "        houseSpace     elevator   carParking      heating        priceUS  \n",
       "count  6063.000000  8145.000000  8145.000000  8145.000000    8145.000000  \n",
       "mean    135.996042     0.599386     0.654266     0.221977    1958.141217  \n",
       "std      54.645959     0.490053     0.475636     0.415601   13681.847786  \n",
       "min       0.000000     0.000000     0.000000     0.000000       0.300000  \n",
       "25%     110.000000     0.000000     0.000000     0.000000     390.000000  \n",
       "50%     140.000000     1.000000     1.000000     0.000000     500.000000  \n",
       "75%     160.000000     1.000000     1.000000     0.000000     700.000000  \n",
       "max    1200.000000     1.000000     1.000000     1.000000  450000.000000  "
      ],
      "text/html": "<div>\n<style scoped>\n    .dataframe tbody tr th:only-of-type {\n        vertical-align: middle;\n    }\n\n    .dataframe tbody tr th {\n        vertical-align: top;\n    }\n\n    .dataframe thead th {\n        text-align: right;\n    }\n</style>\n<table border=\"1\" class=\"dataframe\">\n  <thead>\n    <tr style=\"text-align: right;\">\n      <th></th>\n      <th>numberRooms</th>\n      <th>numberBathrooms</th>\n      <th>numberKitchens</th>\n      <th>numberBalconies</th>\n      <th>houseSpace</th>\n      <th>elevator</th>\n      <th>carParking</th>\n      <th>heating</th>\n      <th>priceUS</th>\n    </tr>\n  </thead>\n  <tbody>\n    <tr>\n      <th>count</th>\n      <td>8145.000000</td>\n      <td>8145.000000</td>\n      <td>8145.000000</td>\n      <td>8145.000000</td>\n      <td>6063.000000</td>\n      <td>8145.000000</td>\n      <td>8145.000000</td>\n      <td>8145.000000</td>\n      <td>8145.000000</td>\n    </tr>\n    <tr>\n      <th>mean</th>\n      <td>2.495028</td>\n      <td>1.864702</td>\n      <td>1.014979</td>\n      <td>1.095519</td>\n      <td>135.996042</td>\n      <td>0.599386</td>\n      <td>0.654266</td>\n      <td>0.221977</td>\n      <td>1958.141217</td>\n    </tr>\n    <tr>\n      <th>std</th>\n      <td>0.869990</td>\n      <td>0.747368</td>\n      <td>0.254182</td>\n      <td>3.198064</td>\n      <td>54.645959</td>\n      <td>0.490053</td>\n      <td>0.475636</td>\n      <td>0.415601</td>\n      <td>13681.847786</td>\n    </tr>\n    <tr>\n      <th>min</th>\n      <td>1.000000</td>\n      <td>0.000000</td>\n      <td>0.000000</td>\n      <td>0.000000</td>\n      <td>0.000000</td>\n      <td>0.000000</td>\n      <td>0.000000</td>\n      <td>0.000000</td>\n      <td>0.300000</td>\n    </tr>\n    <tr>\n      <th>25%</th>\n      <td>2.000000</td>\n      <td>1.000000</td>\n      <td>1.000000</td>\n      <td>1.000000</td>\n      <td>110.000000</td>\n      <td>0.000000</td>\n      <td>0.000000</td>\n      <td>0.000000</td>\n      <td>390.000000</td>\n    </tr>\n    <tr>\n      <th>50%</th>\n      <td>3.000000</td>\n      <td>2.000000</td>\n      <td>1.000000</td>\n      <td>1.000000</td>\n      <td>140.000000</td>\n      <td>1.000000</td>\n      <td>1.000000</td>\n      <td>0.000000</td>\n      <td>500.000000</td>\n    </tr>\n    <tr>\n      <th>75%</th>\n      <td>3.000000</td>\n      <td>2.000000</td>\n      <td>1.000000</td>\n      <td>1.000000</td>\n      <td>160.000000</td>\n      <td>1.000000</td>\n      <td>1.000000</td>\n      <td>0.000000</td>\n      <td>700.000000</td>\n    </tr>\n    <tr>\n      <th>max</th>\n      <td>6.000000</td>\n      <td>6.000000</td>\n      <td>11.000000</td>\n      <td>180.000000</td>\n      <td>1200.000000</td>\n      <td>1.000000</td>\n      <td>1.000000</td>\n      <td>1.000000</td>\n      <td>450000.000000</td>\n    </tr>\n  </tbody>\n</table>\n</div>"
     },
     "metadata": {},
     "execution_count": 6
    }
   ],
   "source": [
    "df.describe()"
   ]
  },
  {
   "cell_type": "code",
   "execution_count": null,
   "metadata": {},
   "outputs": [],
   "source": [
    "index_names = df[ df['numberBalconies'] > 5 ].index \n",
    "index_names\n",
    "# drop these row indexes \n",
    "# from dataFrame \n",
    "df.drop(index_names, inplace = True) \n"
   ]
  },
  {
   "cell_type": "code",
   "execution_count": null,
   "metadata": {},
   "outputs": [],
   "source": [
    "index_names = df[ df['numberBathrooms'] > 4 ].index \n",
    "index_names\n",
    "# drop these row indexes \n",
    "# from dataFrame \n",
    "df.drop(index_names, inplace = True) \n"
   ]
  },
  {
   "cell_type": "code",
   "execution_count": null,
   "metadata": {},
   "outputs": [],
   "source": [
    "index_names = df[ df['numberKitchens'] > 3 ].index \n",
    "index_names\n",
    "# drop these row indexes \n",
    "# from dataFrame \n",
    "df.drop(index_names, inplace = True) "
   ]
  },
  {
   "cell_type": "code",
   "execution_count": null,
   "metadata": {},
   "outputs": [],
   "source": [
    "df.to_csv (r'dfC.csv', index = False, header=True)"
   ]
  }
 ]
}