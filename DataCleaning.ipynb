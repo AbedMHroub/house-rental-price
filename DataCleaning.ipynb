{
 "metadata": {
  "language_info": {
   "codemirror_mode": {
    "name": "ipython",
    "version": 3
   },
   "file_extension": ".py",
   "mimetype": "text/x-python",
   "name": "python",
   "nbconvert_exporter": "python",
   "pygments_lexer": "ipython3",
   "version": "3.8.3"
  },
  "orig_nbformat": 2,
  "kernelspec": {
   "name": "python3",
   "display_name": "Python 3",
   "language": "python"
  }
 },
 "nbformat": 4,
 "nbformat_minor": 2,
 "cells": [
  {
   "cell_type": "code",
   "execution_count": 5,
   "metadata": {},
   "outputs": [],
   "source": [
    "import os\n",
    "import warnings\n",
    "from pathlib import Path\n",
    "\n",
    "#import matplotlib.pyplot as plt\n",
    "import numpy as np\n",
    "import pandas as pd\n",
    "#import seaborn as sns\n",
    "from IPython.display import display\n",
    "from pandas.api.types import CategoricalDtype\n",
    "\n",
    "from category_encoders import MEstimateEncoder\n",
    "from sklearn.cluster import KMeans\n",
    "from sklearn.decomposition import PCA\n",
    "from sklearn.feature_selection import mutual_info_regression\n",
    "from sklearn.model_selection import KFold, cross_val_score\n",
    "#from xgboost import XGBRegressor\n",
    "\n",
    "'''\n",
    "# Set Matplotlib defaults\n",
    "plt.style.use(\"seaborn-whitegrid\")\n",
    "plt.rc(\"figure\", autolayout=True)\n",
    "plt.rc(\n",
    "    \"axes\",\n",
    "    labelweight=\"bold\",\n",
    "    labelsize=\"large\",\n",
    "    titleweight=\"bold\",\n",
    "    titlesize=14,\n",
    "    titlepad=10,\n",
    ")\n",
    "'''\n",
    "# Mute warnings\n",
    "warnings.filterwarnings('ignore')"
   ]
  },
  {
   "cell_type": "code",
   "execution_count": 6,
   "metadata": {},
   "outputs": [
    {
     "output_type": "execute_result",
     "data": {
      "text/plain": [
       "            date  houseId city            address  houseType status  \\\n",
       "0     2020-01-29   240003   RB          - بيتونيا  apartment      A   \n",
       "1     2020-01-29   240005   RB  -  مدينة رام الله  apartment      A   \n",
       "2     2020-01-29   240006   RB  -  مدينة رام الله  apartment      A   \n",
       "3     2020-01-29   240007   RB  -  مدينة رام الله  apartment      A   \n",
       "4     2020-01-29   240008   RB  -  مدينة رام الله  apartment      A   \n",
       "...          ...      ...  ...                ...        ...    ...   \n",
       "8156  2021-03-03   260069   RB    -  مدينة البيرة  apartment      A   \n",
       "8157  2021-03-03   260076   RB    -  مدينة البيرة  apartment      B   \n",
       "8158  2021-03-03   260079    H    -  مدينة الخليل  apartment      B   \n",
       "8159  2021-03-03   260080    N     -  مدينة نابلس  apartment      A   \n",
       "8160  2021-03-03   260085   RB    -  مدينة البيرة  apartment      A   \n",
       "\n",
       "      numberRooms numberBathrooms1 numberBathrooms numberKitchens1  ...  \\\n",
       "0               1                0             NaN               0  ...   \n",
       "1               1                1               1               1  ...   \n",
       "2               3                3               3               0  ...   \n",
       "3               3                3               3               1  ...   \n",
       "4               3                3               3               0  ...   \n",
       "...           ...              ...             ...             ...  ...   \n",
       "8156            2                2               2               1  ...   \n",
       "8157            3                2               2               1  ...   \n",
       "8158            3                2               2               1  ...   \n",
       "8159            1                1               1               1  ...   \n",
       "8160            2                2               2               1  ...   \n",
       "\n",
       "     landArea elevator1 elevator carParking1 carParking  heating1  heating  \\\n",
       "0         NaN         1      نعم           1        نعم         0      NaN   \n",
       "1         NaN         1      نعم           1        نعم         0      NaN   \n",
       "2       100.0         1      نعم           1        نعم         1      نعم   \n",
       "3         NaN         1      نعم           1        نعم         1      نعم   \n",
       "4         NaN         1      نعم           1        نعم         0      NaN   \n",
       "...       ...       ...      ...         ...        ...       ...      ...   \n",
       "8156      NaN         1      نعم           1        نعم         0      NaN   \n",
       "8157      NaN         1      نعم           1        نعم         0      NaN   \n",
       "8158      NaN         0      NaN           0        NaN         0      NaN   \n",
       "8159   3500.0         1      نعم           1        نعم         1      نعم   \n",
       "8160      NaN         0      NaN           0        NaN         0      NaN   \n",
       "\n",
       "     price  priceType priceUS  \n",
       "0     1300       شيكل     390  \n",
       "1      550      دولار     550  \n",
       "2     1000      دولار    1000  \n",
       "3      950      دولار     950  \n",
       "4      800      دولار     800  \n",
       "...    ...        ...     ...  \n",
       "8156   600      دولار     600  \n",
       "8157   500      دولار     500  \n",
       "8158  1600       شيكل     480  \n",
       "8159  1000       شيكل     300  \n",
       "8160  1750       شيكل     525  \n",
       "\n",
       "[8161 rows x 25 columns]"
      ],
      "text/html": "<div>\n<style scoped>\n    .dataframe tbody tr th:only-of-type {\n        vertical-align: middle;\n    }\n\n    .dataframe tbody tr th {\n        vertical-align: top;\n    }\n\n    .dataframe thead th {\n        text-align: right;\n    }\n</style>\n<table border=\"1\" class=\"dataframe\">\n  <thead>\n    <tr style=\"text-align: right;\">\n      <th></th>\n      <th>date</th>\n      <th>houseId</th>\n      <th>city</th>\n      <th>address</th>\n      <th>houseType</th>\n      <th>status</th>\n      <th>numberRooms</th>\n      <th>numberBathrooms1</th>\n      <th>numberBathrooms</th>\n      <th>numberKitchens1</th>\n      <th>...</th>\n      <th>landArea</th>\n      <th>elevator1</th>\n      <th>elevator</th>\n      <th>carParking1</th>\n      <th>carParking</th>\n      <th>heating1</th>\n      <th>heating</th>\n      <th>price</th>\n      <th>priceType</th>\n      <th>priceUS</th>\n    </tr>\n  </thead>\n  <tbody>\n    <tr>\n      <th>0</th>\n      <td>2020-01-29</td>\n      <td>240003</td>\n      <td>RB</td>\n      <td>- بيتونيا</td>\n      <td>apartment</td>\n      <td>A</td>\n      <td>1</td>\n      <td>0</td>\n      <td>NaN</td>\n      <td>0</td>\n      <td>...</td>\n      <td>NaN</td>\n      <td>1</td>\n      <td>نعم</td>\n      <td>1</td>\n      <td>نعم</td>\n      <td>0</td>\n      <td>NaN</td>\n      <td>1300</td>\n      <td>شيكل</td>\n      <td>390</td>\n    </tr>\n    <tr>\n      <th>1</th>\n      <td>2020-01-29</td>\n      <td>240005</td>\n      <td>RB</td>\n      <td>-  مدينة رام الله</td>\n      <td>apartment</td>\n      <td>A</td>\n      <td>1</td>\n      <td>1</td>\n      <td>1</td>\n      <td>1</td>\n      <td>...</td>\n      <td>NaN</td>\n      <td>1</td>\n      <td>نعم</td>\n      <td>1</td>\n      <td>نعم</td>\n      <td>0</td>\n      <td>NaN</td>\n      <td>550</td>\n      <td>دولار</td>\n      <td>550</td>\n    </tr>\n    <tr>\n      <th>2</th>\n      <td>2020-01-29</td>\n      <td>240006</td>\n      <td>RB</td>\n      <td>-  مدينة رام الله</td>\n      <td>apartment</td>\n      <td>A</td>\n      <td>3</td>\n      <td>3</td>\n      <td>3</td>\n      <td>0</td>\n      <td>...</td>\n      <td>100.0</td>\n      <td>1</td>\n      <td>نعم</td>\n      <td>1</td>\n      <td>نعم</td>\n      <td>1</td>\n      <td>نعم</td>\n      <td>1000</td>\n      <td>دولار</td>\n      <td>1000</td>\n    </tr>\n    <tr>\n      <th>3</th>\n      <td>2020-01-29</td>\n      <td>240007</td>\n      <td>RB</td>\n      <td>-  مدينة رام الله</td>\n      <td>apartment</td>\n      <td>A</td>\n      <td>3</td>\n      <td>3</td>\n      <td>3</td>\n      <td>1</td>\n      <td>...</td>\n      <td>NaN</td>\n      <td>1</td>\n      <td>نعم</td>\n      <td>1</td>\n      <td>نعم</td>\n      <td>1</td>\n      <td>نعم</td>\n      <td>950</td>\n      <td>دولار</td>\n      <td>950</td>\n    </tr>\n    <tr>\n      <th>4</th>\n      <td>2020-01-29</td>\n      <td>240008</td>\n      <td>RB</td>\n      <td>-  مدينة رام الله</td>\n      <td>apartment</td>\n      <td>A</td>\n      <td>3</td>\n      <td>3</td>\n      <td>3</td>\n      <td>0</td>\n      <td>...</td>\n      <td>NaN</td>\n      <td>1</td>\n      <td>نعم</td>\n      <td>1</td>\n      <td>نعم</td>\n      <td>0</td>\n      <td>NaN</td>\n      <td>800</td>\n      <td>دولار</td>\n      <td>800</td>\n    </tr>\n    <tr>\n      <th>...</th>\n      <td>...</td>\n      <td>...</td>\n      <td>...</td>\n      <td>...</td>\n      <td>...</td>\n      <td>...</td>\n      <td>...</td>\n      <td>...</td>\n      <td>...</td>\n      <td>...</td>\n      <td>...</td>\n      <td>...</td>\n      <td>...</td>\n      <td>...</td>\n      <td>...</td>\n      <td>...</td>\n      <td>...</td>\n      <td>...</td>\n      <td>...</td>\n      <td>...</td>\n      <td>...</td>\n    </tr>\n    <tr>\n      <th>8156</th>\n      <td>2021-03-03</td>\n      <td>260069</td>\n      <td>RB</td>\n      <td>-  مدينة البيرة</td>\n      <td>apartment</td>\n      <td>A</td>\n      <td>2</td>\n      <td>2</td>\n      <td>2</td>\n      <td>1</td>\n      <td>...</td>\n      <td>NaN</td>\n      <td>1</td>\n      <td>نعم</td>\n      <td>1</td>\n      <td>نعم</td>\n      <td>0</td>\n      <td>NaN</td>\n      <td>600</td>\n      <td>دولار</td>\n      <td>600</td>\n    </tr>\n    <tr>\n      <th>8157</th>\n      <td>2021-03-03</td>\n      <td>260076</td>\n      <td>RB</td>\n      <td>-  مدينة البيرة</td>\n      <td>apartment</td>\n      <td>B</td>\n      <td>3</td>\n      <td>2</td>\n      <td>2</td>\n      <td>1</td>\n      <td>...</td>\n      <td>NaN</td>\n      <td>1</td>\n      <td>نعم</td>\n      <td>1</td>\n      <td>نعم</td>\n      <td>0</td>\n      <td>NaN</td>\n      <td>500</td>\n      <td>دولار</td>\n      <td>500</td>\n    </tr>\n    <tr>\n      <th>8158</th>\n      <td>2021-03-03</td>\n      <td>260079</td>\n      <td>H</td>\n      <td>-  مدينة الخليل</td>\n      <td>apartment</td>\n      <td>B</td>\n      <td>3</td>\n      <td>2</td>\n      <td>2</td>\n      <td>1</td>\n      <td>...</td>\n      <td>NaN</td>\n      <td>0</td>\n      <td>NaN</td>\n      <td>0</td>\n      <td>NaN</td>\n      <td>0</td>\n      <td>NaN</td>\n      <td>1600</td>\n      <td>شيكل</td>\n      <td>480</td>\n    </tr>\n    <tr>\n      <th>8159</th>\n      <td>2021-03-03</td>\n      <td>260080</td>\n      <td>N</td>\n      <td>-  مدينة نابلس</td>\n      <td>apartment</td>\n      <td>A</td>\n      <td>1</td>\n      <td>1</td>\n      <td>1</td>\n      <td>1</td>\n      <td>...</td>\n      <td>3500.0</td>\n      <td>1</td>\n      <td>نعم</td>\n      <td>1</td>\n      <td>نعم</td>\n      <td>1</td>\n      <td>نعم</td>\n      <td>1000</td>\n      <td>شيكل</td>\n      <td>300</td>\n    </tr>\n    <tr>\n      <th>8160</th>\n      <td>2021-03-03</td>\n      <td>260085</td>\n      <td>RB</td>\n      <td>-  مدينة البيرة</td>\n      <td>apartment</td>\n      <td>A</td>\n      <td>2</td>\n      <td>2</td>\n      <td>2</td>\n      <td>1</td>\n      <td>...</td>\n      <td>NaN</td>\n      <td>0</td>\n      <td>NaN</td>\n      <td>0</td>\n      <td>NaN</td>\n      <td>0</td>\n      <td>NaN</td>\n      <td>1750</td>\n      <td>شيكل</td>\n      <td>525</td>\n    </tr>\n  </tbody>\n</table>\n<p>8161 rows × 25 columns</p>\n</div>"
     },
     "metadata": {},
     "execution_count": 6
    }
   ],
   "source": [
    "df = pd.read_csv(\"newDataFrame.csv\", error_bad_lines=False)\n",
    "df"
   ]
  },
  {
   "cell_type": "code",
   "execution_count": 7,
   "metadata": {},
   "outputs": [
    {
     "output_type": "execute_result",
     "data": {
      "text/plain": [
       "<bound method DataFrame.info of             date  houseId city            address  houseType status  \\\n",
       "0     2020-01-29   240003   RB          - بيتونيا  apartment      A   \n",
       "1     2020-01-29   240005   RB  -  مدينة رام الله  apartment      A   \n",
       "2     2020-01-29   240006   RB  -  مدينة رام الله  apartment      A   \n",
       "3     2020-01-29   240007   RB  -  مدينة رام الله  apartment      A   \n",
       "4     2020-01-29   240008   RB  -  مدينة رام الله  apartment      A   \n",
       "...          ...      ...  ...                ...        ...    ...   \n",
       "8156  2021-03-03   260069   RB    -  مدينة البيرة  apartment      A   \n",
       "8157  2021-03-03   260076   RB    -  مدينة البيرة  apartment      B   \n",
       "8158  2021-03-03   260079    H    -  مدينة الخليل  apartment      B   \n",
       "8159  2021-03-03   260080    N     -  مدينة نابلس  apartment      A   \n",
       "8160  2021-03-03   260085   RB    -  مدينة البيرة  apartment      A   \n",
       "\n",
       "      numberRooms numberBathrooms1 numberBathrooms numberKitchens1  ...  \\\n",
       "0               1                0             NaN               0  ...   \n",
       "1               1                1               1               1  ...   \n",
       "2               3                3               3               0  ...   \n",
       "3               3                3               3               1  ...   \n",
       "4               3                3               3               0  ...   \n",
       "...           ...              ...             ...             ...  ...   \n",
       "8156            2                2               2               1  ...   \n",
       "8157            3                2               2               1  ...   \n",
       "8158            3                2               2               1  ...   \n",
       "8159            1                1               1               1  ...   \n",
       "8160            2                2               2               1  ...   \n",
       "\n",
       "     landArea elevator1 elevator carParking1 carParking  heating1  heating  \\\n",
       "0         NaN         1      نعم           1        نعم         0      NaN   \n",
       "1         NaN         1      نعم           1        نعم         0      NaN   \n",
       "2       100.0         1      نعم           1        نعم         1      نعم   \n",
       "3         NaN         1      نعم           1        نعم         1      نعم   \n",
       "4         NaN         1      نعم           1        نعم         0      NaN   \n",
       "...       ...       ...      ...         ...        ...       ...      ...   \n",
       "8156      NaN         1      نعم           1        نعم         0      NaN   \n",
       "8157      NaN         1      نعم           1        نعم         0      NaN   \n",
       "8158      NaN         0      NaN           0        NaN         0      NaN   \n",
       "8159   3500.0         1      نعم           1        نعم         1      نعم   \n",
       "8160      NaN         0      NaN           0        NaN         0      NaN   \n",
       "\n",
       "     price  priceType priceUS  \n",
       "0     1300       شيكل     390  \n",
       "1      550      دولار     550  \n",
       "2     1000      دولار    1000  \n",
       "3      950      دولار     950  \n",
       "4      800      دولار     800  \n",
       "...    ...        ...     ...  \n",
       "8156   600      دولار     600  \n",
       "8157   500      دولار     500  \n",
       "8158  1600       شيكل     480  \n",
       "8159  1000       شيكل     300  \n",
       "8160  1750       شيكل     525  \n",
       "\n",
       "[8161 rows x 25 columns]>"
      ]
     },
     "metadata": {},
     "execution_count": 7
    }
   ],
   "source": [
    "df.info"
   ]
  },
  {
   "cell_type": "code",
   "execution_count": 9,
   "metadata": {},
   "outputs": [
    {
     "output_type": "execute_result",
     "data": {
      "text/plain": [
       "date                   0\n",
       "houseId                0\n",
       "city                   0\n",
       "address               55\n",
       "houseType             17\n",
       "status                 0\n",
       "numberRooms            0\n",
       "numberBathrooms1       0\n",
       "numberBathrooms      272\n",
       "numberKitchens1        0\n",
       "numberKitchens       364\n",
       "numberBalconies1       0\n",
       "numberBalconies     1322\n",
       "loungeType           851\n",
       "houseSpace          2085\n",
       "landArea            5709\n",
       "elevator1              0\n",
       "elevator            3273\n",
       "carParking1            0\n",
       "carParking          2828\n",
       "heating1               0\n",
       "heating             6350\n",
       "price                  0\n",
       "priceType              1\n",
       "priceUS                0\n",
       "dtype: int64"
      ]
     },
     "metadata": {},
     "execution_count": 9
    }
   ],
   "source": [
    "#Handling Missing Values\n",
    "# get the number of missing data points per column\n",
    "missing_values = df.isnull().sum()\n",
    "# look at the # of missing points in the first 25 columns\n",
    "missing_values[0:25]"
   ]
  },
  {
   "cell_type": "code",
   "execution_count": 10,
   "metadata": {},
   "outputs": [
    {
     "output_type": "stream",
     "name": "stdout",
     "text": [
      "11.335375566719765\n"
     ]
    }
   ],
   "source": [
    "#total missing values do we have\n",
    "total_cells = np.product(df.shape)\n",
    "total_missing = missing_values.sum()\n",
    "# percent of data that is missing\n",
    "percent_missing = (total_missing/total_cells) * 100\n",
    "print(percent_missing)"
   ]
  },
  {
   "cell_type": "code",
   "execution_count": 11,
   "metadata": {},
   "outputs": [
    {
     "output_type": "execute_result",
     "data": {
      "text/plain": [
       "23127"
      ]
     },
     "metadata": {},
     "execution_count": 11
    }
   ],
   "source": [
    "total_missing"
   ]
  },
  {
   "cell_type": "code",
   "execution_count": 12,
   "metadata": {},
   "outputs": [
    {
     "output_type": "execute_result",
     "data": {
      "text/plain": [
       "204025"
      ]
     },
     "metadata": {},
     "execution_count": 12
    }
   ],
   "source": [
    "total_cells"
   ]
  },
  {
   "cell_type": "code",
   "execution_count": 13,
   "metadata": {},
   "outputs": [
    {
     "output_type": "execute_result",
     "data": {
      "text/plain": [
       "0"
      ]
     },
     "metadata": {},
     "execution_count": 13
    }
   ],
   "source": [
    "# replace all NA's the value that comes directly after it in the same column,\n",
    "numberBathroomsNew = df.numberBathrooms\n",
    "df.numberBathrooms = numberBathroomsNew.fillna(method='bfill', axis=0)\n",
    "df.numberBathrooms.isnull().sum()\n"
   ]
  },
  {
   "cell_type": "code",
   "execution_count": 14,
   "metadata": {},
   "outputs": [
    {
     "output_type": "execute_result",
     "data": {
      "text/plain": [
       "0"
      ]
     },
     "metadata": {},
     "execution_count": 14
    }
   ],
   "source": [
    "houseTypeNew = df.houseType\n",
    "df.houseType = houseTypeNew.fillna(method='bfill')\n",
    "df.houseType.isnull().sum()"
   ]
  },
  {
   "cell_type": "code",
   "execution_count": 15,
   "metadata": {},
   "outputs": [
    {
     "output_type": "execute_result",
     "data": {
      "text/plain": [
       "0"
      ]
     },
     "metadata": {},
     "execution_count": 15
    }
   ],
   "source": [
    "addressNew = df.address\n",
    "df.address = addressNew.fillna(method='bfill')\n",
    "df.address.isnull().sum()"
   ]
  },
  {
   "cell_type": "code",
   "execution_count": 16,
   "metadata": {},
   "outputs": [
    {
     "output_type": "execute_result",
     "data": {
      "text/plain": [
       "0"
      ]
     },
     "metadata": {},
     "execution_count": 16
    }
   ],
   "source": [
    "numberKitchensNew = df.numberKitchens\n",
    "df.numberKitchens = numberKitchensNew.fillna(method='bfill')\n",
    "df.numberKitchens.isnull().sum()"
   ]
  },
  {
   "cell_type": "code",
   "execution_count": 17,
   "metadata": {},
   "outputs": [
    {
     "output_type": "execute_result",
     "data": {
      "text/plain": [
       "0"
      ]
     },
     "metadata": {},
     "execution_count": 17
    }
   ],
   "source": [
    "# replace all NA's with 0\n",
    "numberBalconiesNew = df.numberBalconies\n",
    "df.numberBalconies = numberBalconiesNew.fillna(0)\n",
    "df.numberBalconies.isnull().sum()"
   ]
  },
  {
   "cell_type": "code",
   "execution_count": 18,
   "metadata": {},
   "outputs": [],
   "source": [
    "df.elevator = df.elevator1\n",
    "df.carParking = df.carParking1\n",
    "df.heating = df.heating1\n"
   ]
  },
  {
   "cell_type": "code",
   "execution_count": 19,
   "metadata": {},
   "outputs": [
    {
     "output_type": "execute_result",
     "data": {
      "text/plain": [
       "date                   0\n",
       "houseId                0\n",
       "city                   0\n",
       "address                0\n",
       "houseType              0\n",
       "status                 0\n",
       "numberRooms            0\n",
       "numberBathrooms1       0\n",
       "numberBathrooms        0\n",
       "numberKitchens1        0\n",
       "numberKitchens         0\n",
       "numberBalconies1       0\n",
       "numberBalconies        0\n",
       "loungeType           851\n",
       "houseSpace          2085\n",
       "landArea            5709\n",
       "elevator1              0\n",
       "elevator               0\n",
       "carParking1            0\n",
       "carParking             0\n",
       "heating1               0\n",
       "heating                0\n",
       "price                  0\n",
       "priceType              1\n",
       "priceUS                0\n",
       "dtype: int64"
      ]
     },
     "metadata": {},
     "execution_count": 19
    }
   ],
   "source": [
    "missing_values = df.isnull().sum()\n",
    "missing_values[0:25]"
   ]
  },
  {
   "cell_type": "code",
   "execution_count": 20,
   "metadata": {},
   "outputs": [],
   "source": [
    "# get all the unique values in the 'loungeType , city ' column\n",
    "lounge = df['loungeType'].unique()\n"
   ]
  },
  {
   "cell_type": "code",
   "execution_count": 21,
   "metadata": {},
   "outputs": [],
   "source": [
    "#city\n",
    "city = df['priceUS'].unique()\n"
   ]
  },
  {
   "cell_type": "code",
   "execution_count": 24,
   "metadata": {},
   "outputs": [
    {
     "output_type": "execute_result",
     "data": {
      "text/plain": [
       "            date city  houseType status  numberRooms numberBathrooms  \\\n",
       "0     2020-01-29   RB  apartment      A            1               1   \n",
       "1     2020-01-29   RB  apartment      A            1               1   \n",
       "2     2020-01-29   RB  apartment      A            3               3   \n",
       "3     2020-01-29   RB  apartment      A            3               3   \n",
       "4     2020-01-29   RB  apartment      A            3               3   \n",
       "...          ...  ...        ...    ...          ...             ...   \n",
       "8156  2021-03-03   RB  apartment      A            2               2   \n",
       "8157  2021-03-03   RB  apartment      B            3               2   \n",
       "8158  2021-03-03    H  apartment      B            3               2   \n",
       "8159  2021-03-03    N  apartment      A            1               1   \n",
       "8160  2021-03-03   RB  apartment      A            2               2   \n",
       "\n",
       "     numberKitchens numberBalconies houseSpace  elevator  carParking  heating  \\\n",
       "0                 1               0        NaN         1           1        0   \n",
       "1                 1               1         80         1           1        0   \n",
       "2                 1               2        190         1           1        1   \n",
       "3                 1               1        190         1           1        1   \n",
       "4                 1               3        160         1           1        0   \n",
       "...             ...             ...        ...       ...         ...      ...   \n",
       "8156              1               1        120         1           1        0   \n",
       "8157              1               1        140         1           1        0   \n",
       "8158              1               2        150         0           0        0   \n",
       "8159              1               1         70         1           1        1   \n",
       "8160              1               0        120         0           0        0   \n",
       "\n",
       "     priceUS  \n",
       "0        390  \n",
       "1        550  \n",
       "2       1000  \n",
       "3        950  \n",
       "4        800  \n",
       "...      ...  \n",
       "8156     600  \n",
       "8157     500  \n",
       "8158     480  \n",
       "8159     300  \n",
       "8160     525  \n",
       "\n",
       "[8161 rows x 13 columns]"
      ],
      "text/html": "<div>\n<style scoped>\n    .dataframe tbody tr th:only-of-type {\n        vertical-align: middle;\n    }\n\n    .dataframe tbody tr th {\n        vertical-align: top;\n    }\n\n    .dataframe thead th {\n        text-align: right;\n    }\n</style>\n<table border=\"1\" class=\"dataframe\">\n  <thead>\n    <tr style=\"text-align: right;\">\n      <th></th>\n      <th>date</th>\n      <th>city</th>\n      <th>houseType</th>\n      <th>status</th>\n      <th>numberRooms</th>\n      <th>numberBathrooms</th>\n      <th>numberKitchens</th>\n      <th>numberBalconies</th>\n      <th>houseSpace</th>\n      <th>elevator</th>\n      <th>carParking</th>\n      <th>heating</th>\n      <th>priceUS</th>\n    </tr>\n  </thead>\n  <tbody>\n    <tr>\n      <th>0</th>\n      <td>2020-01-29</td>\n      <td>RB</td>\n      <td>apartment</td>\n      <td>A</td>\n      <td>1</td>\n      <td>1</td>\n      <td>1</td>\n      <td>0</td>\n      <td>NaN</td>\n      <td>1</td>\n      <td>1</td>\n      <td>0</td>\n      <td>390</td>\n    </tr>\n    <tr>\n      <th>1</th>\n      <td>2020-01-29</td>\n      <td>RB</td>\n      <td>apartment</td>\n      <td>A</td>\n      <td>1</td>\n      <td>1</td>\n      <td>1</td>\n      <td>1</td>\n      <td>80</td>\n      <td>1</td>\n      <td>1</td>\n      <td>0</td>\n      <td>550</td>\n    </tr>\n    <tr>\n      <th>2</th>\n      <td>2020-01-29</td>\n      <td>RB</td>\n      <td>apartment</td>\n      <td>A</td>\n      <td>3</td>\n      <td>3</td>\n      <td>1</td>\n      <td>2</td>\n      <td>190</td>\n      <td>1</td>\n      <td>1</td>\n      <td>1</td>\n      <td>1000</td>\n    </tr>\n    <tr>\n      <th>3</th>\n      <td>2020-01-29</td>\n      <td>RB</td>\n      <td>apartment</td>\n      <td>A</td>\n      <td>3</td>\n      <td>3</td>\n      <td>1</td>\n      <td>1</td>\n      <td>190</td>\n      <td>1</td>\n      <td>1</td>\n      <td>1</td>\n      <td>950</td>\n    </tr>\n    <tr>\n      <th>4</th>\n      <td>2020-01-29</td>\n      <td>RB</td>\n      <td>apartment</td>\n      <td>A</td>\n      <td>3</td>\n      <td>3</td>\n      <td>1</td>\n      <td>3</td>\n      <td>160</td>\n      <td>1</td>\n      <td>1</td>\n      <td>0</td>\n      <td>800</td>\n    </tr>\n    <tr>\n      <th>...</th>\n      <td>...</td>\n      <td>...</td>\n      <td>...</td>\n      <td>...</td>\n      <td>...</td>\n      <td>...</td>\n      <td>...</td>\n      <td>...</td>\n      <td>...</td>\n      <td>...</td>\n      <td>...</td>\n      <td>...</td>\n      <td>...</td>\n    </tr>\n    <tr>\n      <th>8156</th>\n      <td>2021-03-03</td>\n      <td>RB</td>\n      <td>apartment</td>\n      <td>A</td>\n      <td>2</td>\n      <td>2</td>\n      <td>1</td>\n      <td>1</td>\n      <td>120</td>\n      <td>1</td>\n      <td>1</td>\n      <td>0</td>\n      <td>600</td>\n    </tr>\n    <tr>\n      <th>8157</th>\n      <td>2021-03-03</td>\n      <td>RB</td>\n      <td>apartment</td>\n      <td>B</td>\n      <td>3</td>\n      <td>2</td>\n      <td>1</td>\n      <td>1</td>\n      <td>140</td>\n      <td>1</td>\n      <td>1</td>\n      <td>0</td>\n      <td>500</td>\n    </tr>\n    <tr>\n      <th>8158</th>\n      <td>2021-03-03</td>\n      <td>H</td>\n      <td>apartment</td>\n      <td>B</td>\n      <td>3</td>\n      <td>2</td>\n      <td>1</td>\n      <td>2</td>\n      <td>150</td>\n      <td>0</td>\n      <td>0</td>\n      <td>0</td>\n      <td>480</td>\n    </tr>\n    <tr>\n      <th>8159</th>\n      <td>2021-03-03</td>\n      <td>N</td>\n      <td>apartment</td>\n      <td>A</td>\n      <td>1</td>\n      <td>1</td>\n      <td>1</td>\n      <td>1</td>\n      <td>70</td>\n      <td>1</td>\n      <td>1</td>\n      <td>1</td>\n      <td>300</td>\n    </tr>\n    <tr>\n      <th>8160</th>\n      <td>2021-03-03</td>\n      <td>RB</td>\n      <td>apartment</td>\n      <td>A</td>\n      <td>2</td>\n      <td>2</td>\n      <td>1</td>\n      <td>0</td>\n      <td>120</td>\n      <td>0</td>\n      <td>0</td>\n      <td>0</td>\n      <td>525</td>\n    </tr>\n  </tbody>\n</table>\n<p>8161 rows × 13 columns</p>\n</div>"
     },
     "metadata": {},
     "execution_count": 24
    }
   ],
   "source": [
    "#drop extra columns\n",
    "newdf = df.drop(['houseId', 'address', 'numberBathrooms1','numberKitchens1','numberBalconies1','loungeType','landArea','elevator1','carParking1','heating1','priceType','price'], axis=1)\n",
    "newdf"
   ]
  },
  {
   "cell_type": "code",
   "execution_count": 25,
   "metadata": {},
   "outputs": [
    {
     "output_type": "execute_result",
     "data": {
      "text/plain": [
       "            date city  houseType status  numberRooms numberBathrooms  \\\n",
       "0     2020-01-29   RB  apartment      A            1               1   \n",
       "1     2020-01-29   RB  apartment      A            1               1   \n",
       "2     2020-01-29   RB  apartment      A            3               3   \n",
       "3     2020-01-29   RB  apartment      A            3               3   \n",
       "4     2020-01-29   RB  apartment      A            3               3   \n",
       "...          ...  ...        ...    ...          ...             ...   \n",
       "8156  2021-03-03   RB  apartment      A            2               2   \n",
       "8157  2021-03-03   RB  apartment      B            3               2   \n",
       "8158  2021-03-03    H  apartment      B            3               2   \n",
       "8159  2021-03-03    N  apartment      A            1               1   \n",
       "8160  2021-03-03   RB  apartment      A            2               2   \n",
       "\n",
       "     numberKitchens numberBalconies  elevator  carParking  heating  \n",
       "0                 1               0         1           1        0  \n",
       "1                 1               1         1           1        0  \n",
       "2                 1               2         1           1        1  \n",
       "3                 1               1         1           1        1  \n",
       "4                 1               3         1           1        0  \n",
       "...             ...             ...       ...         ...      ...  \n",
       "8156              1               1         1           1        0  \n",
       "8157              1               1         1           1        0  \n",
       "8158              1               2         0           0        0  \n",
       "8159              1               1         1           1        1  \n",
       "8160              1               0         0           0        0  \n",
       "\n",
       "[8161 rows x 11 columns]"
      ],
      "text/html": "<div>\n<style scoped>\n    .dataframe tbody tr th:only-of-type {\n        vertical-align: middle;\n    }\n\n    .dataframe tbody tr th {\n        vertical-align: top;\n    }\n\n    .dataframe thead th {\n        text-align: right;\n    }\n</style>\n<table border=\"1\" class=\"dataframe\">\n  <thead>\n    <tr style=\"text-align: right;\">\n      <th></th>\n      <th>date</th>\n      <th>city</th>\n      <th>houseType</th>\n      <th>status</th>\n      <th>numberRooms</th>\n      <th>numberBathrooms</th>\n      <th>numberKitchens</th>\n      <th>numberBalconies</th>\n      <th>elevator</th>\n      <th>carParking</th>\n      <th>heating</th>\n    </tr>\n  </thead>\n  <tbody>\n    <tr>\n      <th>0</th>\n      <td>2020-01-29</td>\n      <td>RB</td>\n      <td>apartment</td>\n      <td>A</td>\n      <td>1</td>\n      <td>1</td>\n      <td>1</td>\n      <td>0</td>\n      <td>1</td>\n      <td>1</td>\n      <td>0</td>\n    </tr>\n    <tr>\n      <th>1</th>\n      <td>2020-01-29</td>\n      <td>RB</td>\n      <td>apartment</td>\n      <td>A</td>\n      <td>1</td>\n      <td>1</td>\n      <td>1</td>\n      <td>1</td>\n      <td>1</td>\n      <td>1</td>\n      <td>0</td>\n    </tr>\n    <tr>\n      <th>2</th>\n      <td>2020-01-29</td>\n      <td>RB</td>\n      <td>apartment</td>\n      <td>A</td>\n      <td>3</td>\n      <td>3</td>\n      <td>1</td>\n      <td>2</td>\n      <td>1</td>\n      <td>1</td>\n      <td>1</td>\n    </tr>\n    <tr>\n      <th>3</th>\n      <td>2020-01-29</td>\n      <td>RB</td>\n      <td>apartment</td>\n      <td>A</td>\n      <td>3</td>\n      <td>3</td>\n      <td>1</td>\n      <td>1</td>\n      <td>1</td>\n      <td>1</td>\n      <td>1</td>\n    </tr>\n    <tr>\n      <th>4</th>\n      <td>2020-01-29</td>\n      <td>RB</td>\n      <td>apartment</td>\n      <td>A</td>\n      <td>3</td>\n      <td>3</td>\n      <td>1</td>\n      <td>3</td>\n      <td>1</td>\n      <td>1</td>\n      <td>0</td>\n    </tr>\n    <tr>\n      <th>...</th>\n      <td>...</td>\n      <td>...</td>\n      <td>...</td>\n      <td>...</td>\n      <td>...</td>\n      <td>...</td>\n      <td>...</td>\n      <td>...</td>\n      <td>...</td>\n      <td>...</td>\n      <td>...</td>\n    </tr>\n    <tr>\n      <th>8156</th>\n      <td>2021-03-03</td>\n      <td>RB</td>\n      <td>apartment</td>\n      <td>A</td>\n      <td>2</td>\n      <td>2</td>\n      <td>1</td>\n      <td>1</td>\n      <td>1</td>\n      <td>1</td>\n      <td>0</td>\n    </tr>\n    <tr>\n      <th>8157</th>\n      <td>2021-03-03</td>\n      <td>RB</td>\n      <td>apartment</td>\n      <td>B</td>\n      <td>3</td>\n      <td>2</td>\n      <td>1</td>\n      <td>1</td>\n      <td>1</td>\n      <td>1</td>\n      <td>0</td>\n    </tr>\n    <tr>\n      <th>8158</th>\n      <td>2021-03-03</td>\n      <td>H</td>\n      <td>apartment</td>\n      <td>B</td>\n      <td>3</td>\n      <td>2</td>\n      <td>1</td>\n      <td>2</td>\n      <td>0</td>\n      <td>0</td>\n      <td>0</td>\n    </tr>\n    <tr>\n      <th>8159</th>\n      <td>2021-03-03</td>\n      <td>N</td>\n      <td>apartment</td>\n      <td>A</td>\n      <td>1</td>\n      <td>1</td>\n      <td>1</td>\n      <td>1</td>\n      <td>1</td>\n      <td>1</td>\n      <td>1</td>\n    </tr>\n    <tr>\n      <th>8160</th>\n      <td>2021-03-03</td>\n      <td>RB</td>\n      <td>apartment</td>\n      <td>A</td>\n      <td>2</td>\n      <td>2</td>\n      <td>1</td>\n      <td>0</td>\n      <td>0</td>\n      <td>0</td>\n      <td>0</td>\n    </tr>\n  </tbody>\n</table>\n<p>8161 rows × 11 columns</p>\n</div>"
     },
     "metadata": {},
     "execution_count": 25
    }
   ],
   "source": [
    "newdf = newdf.drop(['priceUS','houseSpace'], axis=1)\n",
    "newdf"
   ]
  },
  {
   "cell_type": "code",
   "execution_count": 27,
   "metadata": {},
   "outputs": [
    {
     "output_type": "execute_result",
     "data": {
      "text/plain": [
       "      houseSpace  PriceType_JOD  PriceType_NIS  PriceType_USD price\n",
       "0          140.0              0              1              0  1300\n",
       "1           80.0              0              0              1   550\n",
       "2          190.0              0              0              1  1000\n",
       "3          190.0              0              0              1   950\n",
       "4          160.0              0              0              1   800\n",
       "...          ...            ...            ...            ...   ...\n",
       "8156       120.0              0              0              1   600\n",
       "8157       140.0              0              0              1   500\n",
       "8158       150.0              0              1              0  1600\n",
       "8159        70.0              0              1              0  1000\n",
       "8160       120.0              0              1              0  1750\n",
       "\n",
       "[8161 rows x 5 columns]"
      ],
      "text/html": "<div>\n<style scoped>\n    .dataframe tbody tr th:only-of-type {\n        vertical-align: middle;\n    }\n\n    .dataframe tbody tr th {\n        vertical-align: top;\n    }\n\n    .dataframe thead th {\n        text-align: right;\n    }\n</style>\n<table border=\"1\" class=\"dataframe\">\n  <thead>\n    <tr style=\"text-align: right;\">\n      <th></th>\n      <th>houseSpace</th>\n      <th>PriceType_JOD</th>\n      <th>PriceType_NIS</th>\n      <th>PriceType_USD</th>\n      <th>price</th>\n    </tr>\n  </thead>\n  <tbody>\n    <tr>\n      <th>0</th>\n      <td>140.0</td>\n      <td>0</td>\n      <td>1</td>\n      <td>0</td>\n      <td>1300</td>\n    </tr>\n    <tr>\n      <th>1</th>\n      <td>80.0</td>\n      <td>0</td>\n      <td>0</td>\n      <td>1</td>\n      <td>550</td>\n    </tr>\n    <tr>\n      <th>2</th>\n      <td>190.0</td>\n      <td>0</td>\n      <td>0</td>\n      <td>1</td>\n      <td>1000</td>\n    </tr>\n    <tr>\n      <th>3</th>\n      <td>190.0</td>\n      <td>0</td>\n      <td>0</td>\n      <td>1</td>\n      <td>950</td>\n    </tr>\n    <tr>\n      <th>4</th>\n      <td>160.0</td>\n      <td>0</td>\n      <td>0</td>\n      <td>1</td>\n      <td>800</td>\n    </tr>\n    <tr>\n      <th>...</th>\n      <td>...</td>\n      <td>...</td>\n      <td>...</td>\n      <td>...</td>\n      <td>...</td>\n    </tr>\n    <tr>\n      <th>8156</th>\n      <td>120.0</td>\n      <td>0</td>\n      <td>0</td>\n      <td>1</td>\n      <td>600</td>\n    </tr>\n    <tr>\n      <th>8157</th>\n      <td>140.0</td>\n      <td>0</td>\n      <td>0</td>\n      <td>1</td>\n      <td>500</td>\n    </tr>\n    <tr>\n      <th>8158</th>\n      <td>150.0</td>\n      <td>0</td>\n      <td>1</td>\n      <td>0</td>\n      <td>1600</td>\n    </tr>\n    <tr>\n      <th>8159</th>\n      <td>70.0</td>\n      <td>0</td>\n      <td>1</td>\n      <td>0</td>\n      <td>1000</td>\n    </tr>\n    <tr>\n      <th>8160</th>\n      <td>120.0</td>\n      <td>0</td>\n      <td>1</td>\n      <td>0</td>\n      <td>1750</td>\n    </tr>\n  </tbody>\n</table>\n<p>8161 rows × 5 columns</p>\n</div>"
     },
     "metadata": {},
     "execution_count": 27
    }
   ],
   "source": [
    "ph = pd.read_csv(\"PriceType_houseSpace.csv\", error_bad_lines=False)\n",
    "ph = ph.drop(['Unnamed: 0'], axis=1)\n",
    "ph"
   ]
  },
  {
   "cell_type": "code",
   "execution_count": 28,
   "metadata": {},
   "outputs": [
    {
     "output_type": "execute_result",
     "data": {
      "text/plain": [
       "            date city  houseType status  numberRooms numberBathrooms  \\\n",
       "0     2020-01-29   RB  apartment      A            1               1   \n",
       "1     2020-01-29   RB  apartment      A            1               1   \n",
       "2     2020-01-29   RB  apartment      A            3               3   \n",
       "3     2020-01-29   RB  apartment      A            3               3   \n",
       "4     2020-01-29   RB  apartment      A            3               3   \n",
       "...          ...  ...        ...    ...          ...             ...   \n",
       "8156  2021-03-03   RB  apartment      A            2               2   \n",
       "8157  2021-03-03   RB  apartment      B            3               2   \n",
       "8158  2021-03-03    H  apartment      B            3               2   \n",
       "8159  2021-03-03    N  apartment      A            1               1   \n",
       "8160  2021-03-03   RB  apartment      A            2               2   \n",
       "\n",
       "     numberKitchens numberBalconies  elevator  carParking  heating  \\\n",
       "0                 1               0         1           1        0   \n",
       "1                 1               1         1           1        0   \n",
       "2                 1               2         1           1        1   \n",
       "3                 1               1         1           1        1   \n",
       "4                 1               3         1           1        0   \n",
       "...             ...             ...       ...         ...      ...   \n",
       "8156              1               1         1           1        0   \n",
       "8157              1               1         1           1        0   \n",
       "8158              1               2         0           0        0   \n",
       "8159              1               1         1           1        1   \n",
       "8160              1               0         0           0        0   \n",
       "\n",
       "      houseSpace  PriceType_JOD  PriceType_NIS  PriceType_USD price  \n",
       "0          140.0              0              1              0  1300  \n",
       "1           80.0              0              0              1   550  \n",
       "2          190.0              0              0              1  1000  \n",
       "3          190.0              0              0              1   950  \n",
       "4          160.0              0              0              1   800  \n",
       "...          ...            ...            ...            ...   ...  \n",
       "8156       120.0              0              0              1   600  \n",
       "8157       140.0              0              0              1   500  \n",
       "8158       150.0              0              1              0  1600  \n",
       "8159        70.0              0              1              0  1000  \n",
       "8160       120.0              0              1              0  1750  \n",
       "\n",
       "[8161 rows x 16 columns]"
      ],
      "text/html": "<div>\n<style scoped>\n    .dataframe tbody tr th:only-of-type {\n        vertical-align: middle;\n    }\n\n    .dataframe tbody tr th {\n        vertical-align: top;\n    }\n\n    .dataframe thead th {\n        text-align: right;\n    }\n</style>\n<table border=\"1\" class=\"dataframe\">\n  <thead>\n    <tr style=\"text-align: right;\">\n      <th></th>\n      <th>date</th>\n      <th>city</th>\n      <th>houseType</th>\n      <th>status</th>\n      <th>numberRooms</th>\n      <th>numberBathrooms</th>\n      <th>numberKitchens</th>\n      <th>numberBalconies</th>\n      <th>elevator</th>\n      <th>carParking</th>\n      <th>heating</th>\n      <th>houseSpace</th>\n      <th>PriceType_JOD</th>\n      <th>PriceType_NIS</th>\n      <th>PriceType_USD</th>\n      <th>price</th>\n    </tr>\n  </thead>\n  <tbody>\n    <tr>\n      <th>0</th>\n      <td>2020-01-29</td>\n      <td>RB</td>\n      <td>apartment</td>\n      <td>A</td>\n      <td>1</td>\n      <td>1</td>\n      <td>1</td>\n      <td>0</td>\n      <td>1</td>\n      <td>1</td>\n      <td>0</td>\n      <td>140.0</td>\n      <td>0</td>\n      <td>1</td>\n      <td>0</td>\n      <td>1300</td>\n    </tr>\n    <tr>\n      <th>1</th>\n      <td>2020-01-29</td>\n      <td>RB</td>\n      <td>apartment</td>\n      <td>A</td>\n      <td>1</td>\n      <td>1</td>\n      <td>1</td>\n      <td>1</td>\n      <td>1</td>\n      <td>1</td>\n      <td>0</td>\n      <td>80.0</td>\n      <td>0</td>\n      <td>0</td>\n      <td>1</td>\n      <td>550</td>\n    </tr>\n    <tr>\n      <th>2</th>\n      <td>2020-01-29</td>\n      <td>RB</td>\n      <td>apartment</td>\n      <td>A</td>\n      <td>3</td>\n      <td>3</td>\n      <td>1</td>\n      <td>2</td>\n      <td>1</td>\n      <td>1</td>\n      <td>1</td>\n      <td>190.0</td>\n      <td>0</td>\n      <td>0</td>\n      <td>1</td>\n      <td>1000</td>\n    </tr>\n    <tr>\n      <th>3</th>\n      <td>2020-01-29</td>\n      <td>RB</td>\n      <td>apartment</td>\n      <td>A</td>\n      <td>3</td>\n      <td>3</td>\n      <td>1</td>\n      <td>1</td>\n      <td>1</td>\n      <td>1</td>\n      <td>1</td>\n      <td>190.0</td>\n      <td>0</td>\n      <td>0</td>\n      <td>1</td>\n      <td>950</td>\n    </tr>\n    <tr>\n      <th>4</th>\n      <td>2020-01-29</td>\n      <td>RB</td>\n      <td>apartment</td>\n      <td>A</td>\n      <td>3</td>\n      <td>3</td>\n      <td>1</td>\n      <td>3</td>\n      <td>1</td>\n      <td>1</td>\n      <td>0</td>\n      <td>160.0</td>\n      <td>0</td>\n      <td>0</td>\n      <td>1</td>\n      <td>800</td>\n    </tr>\n    <tr>\n      <th>...</th>\n      <td>...</td>\n      <td>...</td>\n      <td>...</td>\n      <td>...</td>\n      <td>...</td>\n      <td>...</td>\n      <td>...</td>\n      <td>...</td>\n      <td>...</td>\n      <td>...</td>\n      <td>...</td>\n      <td>...</td>\n      <td>...</td>\n      <td>...</td>\n      <td>...</td>\n      <td>...</td>\n    </tr>\n    <tr>\n      <th>8156</th>\n      <td>2021-03-03</td>\n      <td>RB</td>\n      <td>apartment</td>\n      <td>A</td>\n      <td>2</td>\n      <td>2</td>\n      <td>1</td>\n      <td>1</td>\n      <td>1</td>\n      <td>1</td>\n      <td>0</td>\n      <td>120.0</td>\n      <td>0</td>\n      <td>0</td>\n      <td>1</td>\n      <td>600</td>\n    </tr>\n    <tr>\n      <th>8157</th>\n      <td>2021-03-03</td>\n      <td>RB</td>\n      <td>apartment</td>\n      <td>B</td>\n      <td>3</td>\n      <td>2</td>\n      <td>1</td>\n      <td>1</td>\n      <td>1</td>\n      <td>1</td>\n      <td>0</td>\n      <td>140.0</td>\n      <td>0</td>\n      <td>0</td>\n      <td>1</td>\n      <td>500</td>\n    </tr>\n    <tr>\n      <th>8158</th>\n      <td>2021-03-03</td>\n      <td>H</td>\n      <td>apartment</td>\n      <td>B</td>\n      <td>3</td>\n      <td>2</td>\n      <td>1</td>\n      <td>2</td>\n      <td>0</td>\n      <td>0</td>\n      <td>0</td>\n      <td>150.0</td>\n      <td>0</td>\n      <td>1</td>\n      <td>0</td>\n      <td>1600</td>\n    </tr>\n    <tr>\n      <th>8159</th>\n      <td>2021-03-03</td>\n      <td>N</td>\n      <td>apartment</td>\n      <td>A</td>\n      <td>1</td>\n      <td>1</td>\n      <td>1</td>\n      <td>1</td>\n      <td>1</td>\n      <td>1</td>\n      <td>1</td>\n      <td>70.0</td>\n      <td>0</td>\n      <td>1</td>\n      <td>0</td>\n      <td>1000</td>\n    </tr>\n    <tr>\n      <th>8160</th>\n      <td>2021-03-03</td>\n      <td>RB</td>\n      <td>apartment</td>\n      <td>A</td>\n      <td>2</td>\n      <td>2</td>\n      <td>1</td>\n      <td>0</td>\n      <td>0</td>\n      <td>0</td>\n      <td>0</td>\n      <td>120.0</td>\n      <td>0</td>\n      <td>1</td>\n      <td>0</td>\n      <td>1750</td>\n    </tr>\n  </tbody>\n</table>\n<p>8161 rows × 16 columns</p>\n</div>"
     },
     "metadata": {},
     "execution_count": 28
    }
   ],
   "source": [
    "newdf = pd.concat([newdf, ph], axis=1)\n",
    "newdf"
   ]
  },
  {
   "cell_type": "code",
   "execution_count": null,
   "metadata": {},
   "outputs": [],
   "source": []
  },
  {
   "cell_type": "code",
   "execution_count": 33,
   "metadata": {},
   "outputs": [
    {
     "output_type": "execute_result",
     "data": {
      "text/plain": [
       "date               0\n",
       "city               0\n",
       "houseType          0\n",
       "status             0\n",
       "numberRooms        0\n",
       "numberBathrooms    0\n",
       "numberKitchens     0\n",
       "numberBalconies    0\n",
       "elevator           0\n",
       "carParking         0\n",
       "heating            0\n",
       "houseSpace         0\n",
       "PriceType_JOD      0\n",
       "PriceType_NIS      0\n",
       "PriceType_USD      0\n",
       "price              0\n",
       "dtype: int64"
      ]
     },
     "metadata": {},
     "execution_count": 33
    }
   ],
   "source": [
    "missing_values = newdf.isnull().sum()\n",
    "missing_values[0:16]"
   ]
  },
  {
   "cell_type": "code",
   "execution_count": null,
   "metadata": {},
   "outputs": [],
   "source": []
  },
  {
   "cell_type": "code",
   "execution_count": null,
   "metadata": {},
   "outputs": [],
   "source": []
  },
  {
   "cell_type": "code",
   "execution_count": null,
   "metadata": {},
   "outputs": [],
   "source": []
  },
  {
   "cell_type": "code",
   "execution_count": 34,
   "metadata": {},
   "outputs": [
    {
     "output_type": "stream",
     "name": "stdout",
     "text": [
      "<class 'pandas.core.frame.DataFrame'>\nRangeIndex: 8161 entries, 0 to 8160\nData columns (total 16 columns):\n #   Column           Non-Null Count  Dtype  \n---  ------           --------------  -----  \n 0   date             8161 non-null   object \n 1   city             8161 non-null   object \n 2   houseType        8161 non-null   object \n 3   status           8161 non-null   object \n 4   numberRooms      8161 non-null   int64  \n 5   numberBathrooms  8161 non-null   object \n 6   numberKitchens   8161 non-null   object \n 7   numberBalconies  8161 non-null   object \n 8   elevator         8161 non-null   int64  \n 9   carParking       8161 non-null   int64  \n 10  heating          8161 non-null   int64  \n 11  houseSpace       8161 non-null   float64\n 12  PriceType_JOD    8161 non-null   int64  \n 13  PriceType_NIS    8161 non-null   int64  \n 14  PriceType_USD    8161 non-null   int64  \n 15  price            8161 non-null   object \ndtypes: float64(1), int64(7), object(8)\nmemory usage: 1020.2+ KB\n"
     ]
    }
   ],
   "source": [
    "newdf.info()"
   ]
  },
  {
   "cell_type": "code",
   "execution_count": 35,
   "metadata": {},
   "outputs": [
    {
     "output_type": "execute_result",
     "data": {
      "text/plain": [
       "array(['1', '3', '2', '-2', '-1', '-3', '-4', '2 حمام', '4', '0', '5',\n",
       "       '6', 'حمامين'], dtype=object)"
      ]
     },
     "metadata": {},
     "execution_count": 35
    }
   ],
   "source": [
    "#Handling unique data\n",
    "uniqueBathrooms = newdf['numberBathrooms'].unique()\n",
    "uniqueBathrooms"
   ]
  },
  {
   "cell_type": "code",
   "execution_count": 36,
   "metadata": {},
   "outputs": [],
   "source": [
    "#Handling unique data\n",
    "newdf['numberBathrooms'] = newdf['numberBathrooms'].replace(['حمامين'],'2')\n",
    "newdf['numberBathrooms'] = newdf['numberBathrooms'].replace(['-1'],'1')\n",
    "newdf['numberBathrooms'] = newdf['numberBathrooms'].replace(['-2'],'2')\n",
    "newdf['numberBathrooms'] = newdf['numberBathrooms'].replace(['-3'],'3')\n",
    "newdf['numberBathrooms'] = newdf['numberBathrooms'].replace(['-4'],'4')\n",
    "newdf['numberBathrooms'] = newdf['numberBathrooms'].replace(['حمام'],'1')"
   ]
  },
  {
   "cell_type": "code",
   "execution_count": 37,
   "metadata": {},
   "outputs": [
    {
     "output_type": "execute_result",
     "data": {
      "text/plain": [
       "array([0, '1', '2', '3', '4', '0', '-2', '-1', '5', '2 برنده', '120',\n",
       "       'واجده', '100', '12', '21', '150', '180', '6', '14', '-3'],\n",
       "      dtype=object)"
      ]
     },
     "metadata": {},
     "execution_count": 37
    }
   ],
   "source": [
    "uniqueBalconies = newdf['numberBalconies'].unique()\n",
    "uniqueBalconies"
   ]
  },
  {
   "cell_type": "code",
   "execution_count": 38,
   "metadata": {},
   "outputs": [],
   "source": [
    "newdf['numberKitchens'] = newdf['numberKitchens'].replace(['واجد'],'1')"
   ]
  },
  {
   "cell_type": "code",
   "execution_count": 39,
   "metadata": {},
   "outputs": [],
   "source": [
    "newdf['numberBalconies'] = newdf['numberBalconies'].replace(['واجده'],'1')"
   ]
  },
  {
   "cell_type": "code",
   "execution_count": 40,
   "metadata": {},
   "outputs": [],
   "source": [
    "newdf['numberBalconies'] = newdf['numberBalconies'].replace(['-2'],'2')"
   ]
  },
  {
   "cell_type": "code",
   "execution_count": 41,
   "metadata": {},
   "outputs": [],
   "source": [
    "newdf['numberBalconies'] = newdf['numberBalconies'].replace(['-1'],'1')"
   ]
  },
  {
   "cell_type": "code",
   "execution_count": 42,
   "metadata": {},
   "outputs": [],
   "source": [
    "newdf['numberBalconies'] = newdf['numberBalconies'].replace(['-3'],'3')"
   ]
  },
  {
   "cell_type": "code",
   "execution_count": 43,
   "metadata": {},
   "outputs": [
    {
     "output_type": "execute_result",
     "data": {
      "text/plain": [
       "array([ 1.4000e+02,  8.0000e+01,  1.9000e+02,  1.6000e+02,  1.5000e+02,\n",
       "        2.0000e+02,  1.3000e+02,  1.7500e+02,  1.3500e+02,  2.1000e+02,\n",
       "        1.2000e+02,  2.2000e+02,  9.0000e+01,  1.1900e+02,  1.2500e+02,\n",
       "        1.7400e+02,  1.4500e+02,  5.0000e+01,  7.0000e+01,  1.9500e+02,\n",
       "        1.1600e+02,  1.1000e+02,  1.6500e+02,  1.8000e+02,  1.7000e+02,\n",
       "        1.5500e+02,  2.0000e+01,  1.8500e+02,  1.0000e+02,  2.5000e+01,\n",
       "        1.1500e+02,  3.0000e+02,  0.0000e+00,  2.8000e+02,  4.5000e+01,\n",
       "        1.2400e+02,  1.2700e+02,  1.4400e+02,  1.6200e+02,  1.2300e+02,\n",
       "        1.6000e+01,  1.7200e+02,  1.4800e+02,  1.2200e+02,  8.8000e+01,\n",
       "        1.1800e+02,  6.0000e+01,  1.3800e+02,  1.0000e+00,  8.5000e+01,\n",
       "        4.0000e+01,  2.6000e+01,  2.1500e+02,  1.6600e+02,  1.6800e+02,\n",
       "        1.0000e+03,  1.3200e+02,  2.6000e+02,  2.7000e+02,  3.0000e+01,\n",
       "        7.5000e+01,  1.3900e+02,  1.6900e+02,  2.5000e+02, -1.4000e+02,\n",
       "        3.5000e+02,  1.8700e+02,  1.1500e+03,  1.0500e+02,  1.1700e+02,\n",
       "        2.3000e+02,  2.1000e+01,  3.2000e+01,  9.5000e+01,  4.2000e+02,\n",
       "        2.2500e+02,  1.0700e+02,  6.5000e+01,  8.9000e+01,  1.3600e+02,\n",
       "        5.0000e+02,  2.4000e+02,  1.5300e+02,  1.4900e+02,  2.8000e+01,\n",
       "        4.5000e+02,  3.5000e+01,  8.2000e+01,  8.6000e+01,  1.3300e+02,\n",
       "        5.7000e+01,  2.0500e+02,  1.4700e+02,  1.2600e+02,  1.6700e+02,\n",
       "        1.0900e+02,  2.0000e+00,  1.6300e+02,  1.8300e+02,  1.9200e+02,\n",
       "        1.7800e+02,  1.5000e+01,  3.0000e+00,  5.5000e+01,  1.7600e+02,\n",
       "        1.5400e+02,  2.3500e+02,  1.5700e+02,  1.5600e+02,  1.2800e+02,\n",
       "        1.8400e+02,  7.5000e+02,  1.9300e+02,  1.5200e+02,  1.5900e+02,\n",
       "        1.4200e+02,  1.5800e+02,  5.4000e+01,  3.7000e+01,  1.3100e+02,\n",
       "        1.1000e+03,  8.4000e+01,  4.0000e+02,  6.0000e+00,  2.1600e+02,\n",
       "        2.6600e+02,  1.9100e+02,  5.8000e+01,  1.8000e+01,  1.9000e+05,\n",
       "        8.0000e+02,  9.2000e+01,  9.3000e+01,  8.1000e+01,  5.6000e+01,\n",
       "        2.9000e+01,  2.5500e+02,  1.2000e+03,  3.6000e+02,  5.2000e+01,\n",
       "        3.4000e+01,  1.8800e+02,  1.6916e+05,  6.5000e+02,  4.7000e+02,\n",
       "        1.0600e+02,  6.0000e+02,  1.3700e+02,  4.7000e+01,  1.0800e+02,\n",
       "        1.8900e+02,  3.7000e+02,  3.3000e+02,  7.8000e+01])"
      ]
     },
     "metadata": {},
     "execution_count": 43
    }
   ],
   "source": []
  },
  {
   "cell_type": "code",
   "execution_count": 45,
   "metadata": {},
   "outputs": [
    {
     "output_type": "execute_result",
     "data": {
      "text/plain": [
       "array(['apartment', 'Roof', 'villa'], dtype=object)"
      ]
     },
     "metadata": {},
     "execution_count": 45
    }
   ],
   "source": [
    "uniquehouseType = newdf['houseType'].unique()\n",
    "uniquehouseType"
   ]
  },
  {
   "cell_type": "code",
   "execution_count": 46,
   "metadata": {},
   "outputs": [],
   "source": [
    "newdf.to_csv (r'df.csv', index = False, header=True)"
   ]
  },
  {
   "cell_type": "code",
   "execution_count": 70,
   "metadata": {},
   "outputs": [
    {
     "output_type": "execute_result",
     "data": {
      "text/plain": [
       "            date city  houseType status  numberRooms  numberBathrooms  \\\n",
       "0     2020-01-29   RB  apartment      A            1                1   \n",
       "1     2020-01-29   RB  apartment      A            1                1   \n",
       "2     2020-01-29   RB  apartment      A            3                3   \n",
       "3     2020-01-29   RB  apartment      A            3                3   \n",
       "4     2020-01-29   RB  apartment      A            3                3   \n",
       "...          ...  ...        ...    ...          ...              ...   \n",
       "8152  2021-03-03   RB  apartment      A            2                2   \n",
       "8153  2021-03-03   RB  apartment      B            3                2   \n",
       "8154  2021-03-03    H  apartment      B            3                2   \n",
       "8155  2021-03-03    N  apartment      A            1                1   \n",
       "8156  2021-03-03   RB  apartment      A            2                2   \n",
       "\n",
       "      numberKitchens  numberBalconies  elevator  carParking  heating  \\\n",
       "0                  1                0         1           1        0   \n",
       "1                  1                1         1           1        0   \n",
       "2                  1                2         1           1        1   \n",
       "3                  1                1         1           1        1   \n",
       "4                  1                3         1           1        0   \n",
       "...              ...              ...       ...         ...      ...   \n",
       "8152               1                1         1           1        0   \n",
       "8153               1                1         1           1        0   \n",
       "8154               1                2         0           0        0   \n",
       "8155               1                1         1           1        1   \n",
       "8156               1                0         0           0        0   \n",
       "\n",
       "      houseSpace  PriceType_JOD  PriceType_NIS  PriceType_USD  price  \n",
       "0          140.0              0              1              0   1300  \n",
       "1           80.0              0              0              1    550  \n",
       "2          190.0              0              0              1   1000  \n",
       "3          190.0              0              0              1    950  \n",
       "4          160.0              0              0              1    800  \n",
       "...          ...            ...            ...            ...    ...  \n",
       "8152       120.0              0              0              1    600  \n",
       "8153       140.0              0              0              1    500  \n",
       "8154       150.0              0              1              0   1600  \n",
       "8155        70.0              0              1              0   1000  \n",
       "8156       120.0              0              1              0   1750  \n",
       "\n",
       "[8157 rows x 16 columns]"
      ],
      "text/html": "<div>\n<style scoped>\n    .dataframe tbody tr th:only-of-type {\n        vertical-align: middle;\n    }\n\n    .dataframe tbody tr th {\n        vertical-align: top;\n    }\n\n    .dataframe thead th {\n        text-align: right;\n    }\n</style>\n<table border=\"1\" class=\"dataframe\">\n  <thead>\n    <tr style=\"text-align: right;\">\n      <th></th>\n      <th>date</th>\n      <th>city</th>\n      <th>houseType</th>\n      <th>status</th>\n      <th>numberRooms</th>\n      <th>numberBathrooms</th>\n      <th>numberKitchens</th>\n      <th>numberBalconies</th>\n      <th>elevator</th>\n      <th>carParking</th>\n      <th>heating</th>\n      <th>houseSpace</th>\n      <th>PriceType_JOD</th>\n      <th>PriceType_NIS</th>\n      <th>PriceType_USD</th>\n      <th>price</th>\n    </tr>\n  </thead>\n  <tbody>\n    <tr>\n      <th>0</th>\n      <td>2020-01-29</td>\n      <td>RB</td>\n      <td>apartment</td>\n      <td>A</td>\n      <td>1</td>\n      <td>1</td>\n      <td>1</td>\n      <td>0</td>\n      <td>1</td>\n      <td>1</td>\n      <td>0</td>\n      <td>140.0</td>\n      <td>0</td>\n      <td>1</td>\n      <td>0</td>\n      <td>1300</td>\n    </tr>\n    <tr>\n      <th>1</th>\n      <td>2020-01-29</td>\n      <td>RB</td>\n      <td>apartment</td>\n      <td>A</td>\n      <td>1</td>\n      <td>1</td>\n      <td>1</td>\n      <td>1</td>\n      <td>1</td>\n      <td>1</td>\n      <td>0</td>\n      <td>80.0</td>\n      <td>0</td>\n      <td>0</td>\n      <td>1</td>\n      <td>550</td>\n    </tr>\n    <tr>\n      <th>2</th>\n      <td>2020-01-29</td>\n      <td>RB</td>\n      <td>apartment</td>\n      <td>A</td>\n      <td>3</td>\n      <td>3</td>\n      <td>1</td>\n      <td>2</td>\n      <td>1</td>\n      <td>1</td>\n      <td>1</td>\n      <td>190.0</td>\n      <td>0</td>\n      <td>0</td>\n      <td>1</td>\n      <td>1000</td>\n    </tr>\n    <tr>\n      <th>3</th>\n      <td>2020-01-29</td>\n      <td>RB</td>\n      <td>apartment</td>\n      <td>A</td>\n      <td>3</td>\n      <td>3</td>\n      <td>1</td>\n      <td>1</td>\n      <td>1</td>\n      <td>1</td>\n      <td>1</td>\n      <td>190.0</td>\n      <td>0</td>\n      <td>0</td>\n      <td>1</td>\n      <td>950</td>\n    </tr>\n    <tr>\n      <th>4</th>\n      <td>2020-01-29</td>\n      <td>RB</td>\n      <td>apartment</td>\n      <td>A</td>\n      <td>3</td>\n      <td>3</td>\n      <td>1</td>\n      <td>3</td>\n      <td>1</td>\n      <td>1</td>\n      <td>0</td>\n      <td>160.0</td>\n      <td>0</td>\n      <td>0</td>\n      <td>1</td>\n      <td>800</td>\n    </tr>\n    <tr>\n      <th>...</th>\n      <td>...</td>\n      <td>...</td>\n      <td>...</td>\n      <td>...</td>\n      <td>...</td>\n      <td>...</td>\n      <td>...</td>\n      <td>...</td>\n      <td>...</td>\n      <td>...</td>\n      <td>...</td>\n      <td>...</td>\n      <td>...</td>\n      <td>...</td>\n      <td>...</td>\n      <td>...</td>\n    </tr>\n    <tr>\n      <th>8152</th>\n      <td>2021-03-03</td>\n      <td>RB</td>\n      <td>apartment</td>\n      <td>A</td>\n      <td>2</td>\n      <td>2</td>\n      <td>1</td>\n      <td>1</td>\n      <td>1</td>\n      <td>1</td>\n      <td>0</td>\n      <td>120.0</td>\n      <td>0</td>\n      <td>0</td>\n      <td>1</td>\n      <td>600</td>\n    </tr>\n    <tr>\n      <th>8153</th>\n      <td>2021-03-03</td>\n      <td>RB</td>\n      <td>apartment</td>\n      <td>B</td>\n      <td>3</td>\n      <td>2</td>\n      <td>1</td>\n      <td>1</td>\n      <td>1</td>\n      <td>1</td>\n      <td>0</td>\n      <td>140.0</td>\n      <td>0</td>\n      <td>0</td>\n      <td>1</td>\n      <td>500</td>\n    </tr>\n    <tr>\n      <th>8154</th>\n      <td>2021-03-03</td>\n      <td>H</td>\n      <td>apartment</td>\n      <td>B</td>\n      <td>3</td>\n      <td>2</td>\n      <td>1</td>\n      <td>2</td>\n      <td>0</td>\n      <td>0</td>\n      <td>0</td>\n      <td>150.0</td>\n      <td>0</td>\n      <td>1</td>\n      <td>0</td>\n      <td>1600</td>\n    </tr>\n    <tr>\n      <th>8155</th>\n      <td>2021-03-03</td>\n      <td>N</td>\n      <td>apartment</td>\n      <td>A</td>\n      <td>1</td>\n      <td>1</td>\n      <td>1</td>\n      <td>1</td>\n      <td>1</td>\n      <td>1</td>\n      <td>1</td>\n      <td>70.0</td>\n      <td>0</td>\n      <td>1</td>\n      <td>0</td>\n      <td>1000</td>\n    </tr>\n    <tr>\n      <th>8156</th>\n      <td>2021-03-03</td>\n      <td>RB</td>\n      <td>apartment</td>\n      <td>A</td>\n      <td>2</td>\n      <td>2</td>\n      <td>1</td>\n      <td>0</td>\n      <td>0</td>\n      <td>0</td>\n      <td>0</td>\n      <td>120.0</td>\n      <td>0</td>\n      <td>1</td>\n      <td>0</td>\n      <td>1750</td>\n    </tr>\n  </tbody>\n</table>\n<p>8157 rows × 16 columns</p>\n</div>"
     },
     "metadata": {},
     "execution_count": 70
    }
   ],
   "source": [
    "df = pd.read_csv(\"df.csv\", error_bad_lines=False)\n",
    "df"
   ]
  },
  {
   "cell_type": "code",
   "execution_count": 71,
   "metadata": {},
   "outputs": [
    {
     "output_type": "stream",
     "name": "stdout",
     "text": [
      "<class 'pandas.core.frame.DataFrame'>\nRangeIndex: 8157 entries, 0 to 8156\nData columns (total 16 columns):\n #   Column           Non-Null Count  Dtype  \n---  ------           --------------  -----  \n 0   date             8157 non-null   object \n 1   city             8157 non-null   object \n 2   houseType        8157 non-null   object \n 3   status           8157 non-null   object \n 4   numberRooms      8157 non-null   int64  \n 5   numberBathrooms  8157 non-null   int64  \n 6   numberKitchens   8157 non-null   int64  \n 7   numberBalconies  8157 non-null   int64  \n 8   elevator         8157 non-null   int64  \n 9   carParking       8157 non-null   int64  \n 10  heating          8157 non-null   int64  \n 11  houseSpace       8157 non-null   float64\n 12  PriceType_JOD    8157 non-null   int64  \n 13  PriceType_NIS    8157 non-null   int64  \n 14  PriceType_USD    8157 non-null   int64  \n 15  price            8157 non-null   int64  \ndtypes: float64(1), int64(11), object(4)\nmemory usage: 1019.8+ KB\n"
     ]
    }
   ],
   "source": [
    "df.info()"
   ]
  },
  {
   "cell_type": "code",
   "execution_count": 72,
   "metadata": {},
   "outputs": [
    {
     "output_type": "display_data",
     "data": {
      "text/plain": "date                object\ncity                object\nhouseType           object\nstatus              object\nnumberRooms          int64\nnumberBathrooms      int64\nnumberKitchens       int64\nnumberBalconies      int64\nelevator             int64\ncarParking           int32\nheating              int32\nhouseSpace         float64\nPriceType_JOD        int64\nPriceType_NIS        int64\nPriceType_USD        int64\nprice                int64\ndtype: object"
     },
     "metadata": {}
    }
   ],
   "source": [
    "df['heating'] = df['heating'].astype(int) \n",
    "df['carParking'] = df['carParking'].astype(int)  \n",
    "# displaying the datatypes \n",
    "display(df.dtypes) "
   ]
  },
  {
   "cell_type": "code",
   "execution_count": 73,
   "metadata": {},
   "outputs": [
    {
     "output_type": "execute_result",
     "data": {
      "text/plain": [
       "array([1, 3, 2, 4, 0, 5, 6], dtype=int64)"
      ]
     },
     "metadata": {},
     "execution_count": 73
    }
   ],
   "source": [
    "uniquenumberBathrooms = df['numberBathrooms'].unique()\n",
    "uniquenumberBathrooms"
   ]
  },
  {
   "cell_type": "code",
   "execution_count": 74,
   "metadata": {},
   "outputs": [
    {
     "output_type": "execute_result",
     "data": {
      "text/plain": [
       "array([   1300,     550,    1000,     950,     800,     450,     700,\n",
       "           600,    2300,    1100,    2700,     900,    2000,     500,\n",
       "           400,    2200,     850,    1600,     320,    1800,     200,\n",
       "          3000,    1200,    3300,     350,     430,  160000,   12000,\n",
       "           650,    1500,    1400,    1900,    1550,     750,    2500,\n",
       "           300,     280,  180000,    1450,    4000,    2400,     180,\n",
       "           425,    2800,    3500,    2600,    1650,     330,     340,\n",
       "          1250,   15000,    2100,    1150,    5009,    1700,     250,\n",
       "        140000,  310000,    3700,     170,   13200,    1750,   50000,\n",
       "           100,  235000,   10800,    3400,     125,  250000,    3200,\n",
       "           370,   70000,    1350,    5000,    3600,    2999,    6000,\n",
       "           680,     230,     660,    1670,     310,     480,     160,\n",
       "           260,  115000,  175000,      50,    7000,    3800,    2900,\n",
       "         80000,     290,   60000,      40,       1,     140,   18000,\n",
       "         20000,  190000,    2650,     110,     375,     360,    1499,\n",
       "           150,    1050,    1249,   17000,    1099,     270,   16000,\n",
       "         16200,     210,  123000, 1000000,     240,     120,    5500,\n",
       "           460,    2250,    4500,     485,     123,     225,    3100,\n",
       "           509,  125000,  130000,     399,    4200,   40000,   13000,\n",
       "        220000,  110000,  145000,  200000,  550000,   47000,     435,\n",
       "           166,     495,   30000,    1140,   99000,     508,    1575,\n",
       "            60,     440,  135000,  100000,     420,  555555,   87000,\n",
       "         11000,   55000,   10000,   90000,   15600,  600000,    7504,\n",
       "            45,     130,      11,   75000,   45000,  370000,   36000,\n",
       "         25000,   38000,      70, 1400000,     390,     115,   52000,\n",
       "        800000,   32000,  420000,  150000,   95000,  450000,    1850,\n",
       "           570,     580,  105000,    8000,     220,   66222], dtype=int64)"
      ]
     },
     "metadata": {},
     "execution_count": 74
    }
   ],
   "source": [
    "uniquenumberBalconies = df['price'].unique()\n",
    "uniquenumberBalconies"
   ]
  },
  {
   "cell_type": "code",
   "execution_count": 75,
   "metadata": {},
   "outputs": [
    {
     "output_type": "execute_result",
     "data": {
      "text/plain": [
       "       numberRooms  numberBathrooms  numberKitchens  numberBalconies  \\\n",
       "count  8157.000000      8157.000000     8157.000000      8157.000000   \n",
       "mean      2.495893         1.865514        1.033591         1.096236   \n",
       "std       0.871115         0.749323        1.669212         3.196358   \n",
       "min       1.000000         0.000000        0.000000         0.000000   \n",
       "25%       2.000000         1.000000        1.000000         1.000000   \n",
       "50%       3.000000         2.000000        1.000000         1.000000   \n",
       "75%       3.000000         2.000000        1.000000         1.000000   \n",
       "max       6.000000         6.000000      150.000000       180.000000   \n",
       "\n",
       "          elevator   carParking      heating     houseSpace  PriceType_JOD  \\\n",
       "count  8157.000000  8157.000000  8157.000000    8157.000000    8157.000000   \n",
       "mean      0.598750     0.653794     0.222018     180.989947       0.100405   \n",
       "std       0.490182     0.475789     0.415629    2814.771157       0.300557   \n",
       "min       0.000000     0.000000     0.000000    -140.000000       0.000000   \n",
       "25%       0.000000     0.000000     0.000000     120.000000       0.000000   \n",
       "50%       1.000000     1.000000     0.000000     140.000000       0.000000   \n",
       "75%       1.000000     1.000000     0.000000     150.000000       0.000000   \n",
       "max       1.000000     1.000000     1.000000  190000.000000       1.000000   \n",
       "\n",
       "       PriceType_NIS  PriceType_USD         price  \n",
       "count    8157.000000    8157.000000  8.157000e+03  \n",
       "mean        0.410690       0.488783  3.029254e+03  \n",
       "std         0.491989       0.499905  2.847031e+04  \n",
       "min         0.000000       0.000000  1.000000e+00  \n",
       "25%         0.000000       0.000000  5.000000e+02  \n",
       "50%         0.000000       0.000000  8.000000e+02  \n",
       "75%         1.000000       1.000000  1.400000e+03  \n",
       "max         1.000000       1.000000  1.400000e+06  "
      ],
      "text/html": "<div>\n<style scoped>\n    .dataframe tbody tr th:only-of-type {\n        vertical-align: middle;\n    }\n\n    .dataframe tbody tr th {\n        vertical-align: top;\n    }\n\n    .dataframe thead th {\n        text-align: right;\n    }\n</style>\n<table border=\"1\" class=\"dataframe\">\n  <thead>\n    <tr style=\"text-align: right;\">\n      <th></th>\n      <th>numberRooms</th>\n      <th>numberBathrooms</th>\n      <th>numberKitchens</th>\n      <th>numberBalconies</th>\n      <th>elevator</th>\n      <th>carParking</th>\n      <th>heating</th>\n      <th>houseSpace</th>\n      <th>PriceType_JOD</th>\n      <th>PriceType_NIS</th>\n      <th>PriceType_USD</th>\n      <th>price</th>\n    </tr>\n  </thead>\n  <tbody>\n    <tr>\n      <th>count</th>\n      <td>8157.000000</td>\n      <td>8157.000000</td>\n      <td>8157.000000</td>\n      <td>8157.000000</td>\n      <td>8157.000000</td>\n      <td>8157.000000</td>\n      <td>8157.000000</td>\n      <td>8157.000000</td>\n      <td>8157.000000</td>\n      <td>8157.000000</td>\n      <td>8157.000000</td>\n      <td>8.157000e+03</td>\n    </tr>\n    <tr>\n      <th>mean</th>\n      <td>2.495893</td>\n      <td>1.865514</td>\n      <td>1.033591</td>\n      <td>1.096236</td>\n      <td>0.598750</td>\n      <td>0.653794</td>\n      <td>0.222018</td>\n      <td>180.989947</td>\n      <td>0.100405</td>\n      <td>0.410690</td>\n      <td>0.488783</td>\n      <td>3.029254e+03</td>\n    </tr>\n    <tr>\n      <th>std</th>\n      <td>0.871115</td>\n      <td>0.749323</td>\n      <td>1.669212</td>\n      <td>3.196358</td>\n      <td>0.490182</td>\n      <td>0.475789</td>\n      <td>0.415629</td>\n      <td>2814.771157</td>\n      <td>0.300557</td>\n      <td>0.491989</td>\n      <td>0.499905</td>\n      <td>2.847031e+04</td>\n    </tr>\n    <tr>\n      <th>min</th>\n      <td>1.000000</td>\n      <td>0.000000</td>\n      <td>0.000000</td>\n      <td>0.000000</td>\n      <td>0.000000</td>\n      <td>0.000000</td>\n      <td>0.000000</td>\n      <td>-140.000000</td>\n      <td>0.000000</td>\n      <td>0.000000</td>\n      <td>0.000000</td>\n      <td>1.000000e+00</td>\n    </tr>\n    <tr>\n      <th>25%</th>\n      <td>2.000000</td>\n      <td>1.000000</td>\n      <td>1.000000</td>\n      <td>1.000000</td>\n      <td>0.000000</td>\n      <td>0.000000</td>\n      <td>0.000000</td>\n      <td>120.000000</td>\n      <td>0.000000</td>\n      <td>0.000000</td>\n      <td>0.000000</td>\n      <td>5.000000e+02</td>\n    </tr>\n    <tr>\n      <th>50%</th>\n      <td>3.000000</td>\n      <td>2.000000</td>\n      <td>1.000000</td>\n      <td>1.000000</td>\n      <td>1.000000</td>\n      <td>1.000000</td>\n      <td>0.000000</td>\n      <td>140.000000</td>\n      <td>0.000000</td>\n      <td>0.000000</td>\n      <td>0.000000</td>\n      <td>8.000000e+02</td>\n    </tr>\n    <tr>\n      <th>75%</th>\n      <td>3.000000</td>\n      <td>2.000000</td>\n      <td>1.000000</td>\n      <td>1.000000</td>\n      <td>1.000000</td>\n      <td>1.000000</td>\n      <td>0.000000</td>\n      <td>150.000000</td>\n      <td>0.000000</td>\n      <td>1.000000</td>\n      <td>1.000000</td>\n      <td>1.400000e+03</td>\n    </tr>\n    <tr>\n      <th>max</th>\n      <td>6.000000</td>\n      <td>6.000000</td>\n      <td>150.000000</td>\n      <td>180.000000</td>\n      <td>1.000000</td>\n      <td>1.000000</td>\n      <td>1.000000</td>\n      <td>190000.000000</td>\n      <td>1.000000</td>\n      <td>1.000000</td>\n      <td>1.000000</td>\n      <td>1.400000e+06</td>\n    </tr>\n  </tbody>\n</table>\n</div>"
     },
     "metadata": {},
     "execution_count": 75
    }
   ],
   "source": [
    "df.describe()"
   ]
  },
  {
   "cell_type": "code",
   "execution_count": 76,
   "metadata": {},
   "outputs": [],
   "source": [
    "index_names = df[ df['numberBalconies'] > 5 ].index \n",
    "index_names\n",
    "# drop these row indexes \n",
    "# from dataFrame \n",
    "df.drop(index_names, inplace = True) \n"
   ]
  },
  {
   "cell_type": "code",
   "execution_count": 77,
   "metadata": {},
   "outputs": [],
   "source": [
    "index_names = df[ df['numberBathrooms'] > 4 ].index \n",
    "index_names\n",
    "# drop these row indexes \n",
    "# from dataFrame \n",
    "df.drop(index_names, inplace = True) \n"
   ]
  },
  {
   "cell_type": "code",
   "execution_count": 78,
   "metadata": {},
   "outputs": [],
   "source": [
    "index_names = df[ df['numberKitchens'] > 3 ].index \n",
    "index_names\n",
    "# drop these row indexes \n",
    "# from dataFrame \n",
    "df.drop(index_names, inplace = True) "
   ]
  },
  {
   "cell_type": "code",
   "execution_count": 79,
   "metadata": {},
   "outputs": [],
   "source": [
    "df.to_csv (r'dfC.csv', index = False, header=True)"
   ]
  },
  {
   "cell_type": "code",
   "execution_count": null,
   "metadata": {},
   "outputs": [],
   "source": []
  }
 ]
}