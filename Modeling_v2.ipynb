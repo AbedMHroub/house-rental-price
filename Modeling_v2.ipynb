{
  "nbformat": 4,
  "nbformat_minor": 0,
  "metadata": {
    "colab": {
      "name": "Modeling_v2.ipynb",
      "provenance": [],
      "collapsed_sections": []
    },
    "kernelspec": {
      "name": "python3",
      "display_name": "Python 3"
    }
  },
  "cells": [
    {
      "cell_type": "code",
      "metadata": {
        "id": "ytCTiZWJe3ri"
      },
      "source": [
        "#!pip install category-encoders\n",
        "import os\n",
        "import warnings\n",
        "from pathlib import Path\n",
        "\n",
        "import matplotlib.pyplot as plt\n",
        "import numpy as np\n",
        "import pandas as pd\n",
        "import seaborn as sns\n",
        "from IPython.display import display\n",
        "from pandas.api.types import CategoricalDtype\n",
        "\n",
        "#from category_encoders import MEstimateEncoder\n",
        "from sklearn.cluster import KMeans\n",
        "from sklearn.decomposition import PCA\n",
        "from sklearn.feature_selection import mutual_info_regression\n",
        "from sklearn.model_selection import KFold, cross_val_score\n",
        "from xgboost import XGBRegressor\n",
        "from sklearn.linear_model import LinearRegression\n",
        "from sklearn.ensemble import RandomForestRegressor\n",
        "from sklearn.linear_model import Ridge\n",
        "\n",
        "# Set Matplotlib defaults\n",
        "plt.style.use(\"seaborn-whitegrid\")\n",
        "plt.rc(\"figure\", autolayout=True)\n",
        "plt.rc(\n",
        "    \"axes\",\n",
        "    labelweight=\"bold\",\n",
        "    labelsize=\"large\",\n",
        "    titleweight=\"bold\",\n",
        "    titlesize=14,\n",
        "    titlepad=10,\n",
        ")\n",
        "\n",
        "# Mute warnings\n",
        "warnings.filterwarnings('ignore')"
      ],
      "execution_count": 87,
      "outputs": []
    },
    {
      "cell_type": "code",
      "metadata": {
        "colab": {
          "base_uri": "https://localhost:8080/",
          "height": 439
        },
        "id": "2Vo0XdSTgdXz",
        "outputId": "f6454844-efe2-4e02-b992-cdc0f04f635f"
      },
      "source": [
        "data_dir = Path(\"/content/dfFE11-v2.csv\")\n",
        "df = pd.read_csv(data_dir)\n",
        "df"
      ],
      "execution_count": 88,
      "outputs": [
        {
          "output_type": "execute_result",
          "data": {
            "text/html": [
              "<div>\n",
              "<style scoped>\n",
              "    .dataframe tbody tr th:only-of-type {\n",
              "        vertical-align: middle;\n",
              "    }\n",
              "\n",
              "    .dataframe tbody tr th {\n",
              "        vertical-align: top;\n",
              "    }\n",
              "\n",
              "    .dataframe thead th {\n",
              "        text-align: right;\n",
              "    }\n",
              "</style>\n",
              "<table border=\"1\" class=\"dataframe\">\n",
              "  <thead>\n",
              "    <tr style=\"text-align: right;\">\n",
              "      <th></th>\n",
              "      <th>city</th>\n",
              "      <th>status</th>\n",
              "      <th>numberRooms</th>\n",
              "      <th>numberBathrooms</th>\n",
              "      <th>numberBalconies</th>\n",
              "      <th>elevator</th>\n",
              "      <th>carParking</th>\n",
              "      <th>heating</th>\n",
              "      <th>houseSpace</th>\n",
              "      <th>PriceType_JOD</th>\n",
              "      <th>PriceType_NIS</th>\n",
              "      <th>PriceType_USD</th>\n",
              "      <th>featurePlus</th>\n",
              "      <th>Bldg_A</th>\n",
              "      <th>Bldg_B</th>\n",
              "      <th>Bldg_C</th>\n",
              "      <th>MedstatusHouseSpace</th>\n",
              "      <th>city_encoded</th>\n",
              "      <th>price</th>\n",
              "    </tr>\n",
              "  </thead>\n",
              "  <tbody>\n",
              "    <tr>\n",
              "      <th>0</th>\n",
              "      <td>1</td>\n",
              "      <td>1</td>\n",
              "      <td>1</td>\n",
              "      <td>1</td>\n",
              "      <td>0</td>\n",
              "      <td>1</td>\n",
              "      <td>1</td>\n",
              "      <td>0</td>\n",
              "      <td>140.0</td>\n",
              "      <td>0</td>\n",
              "      <td>1</td>\n",
              "      <td>0</td>\n",
              "      <td>1.000000</td>\n",
              "      <td>0</td>\n",
              "      <td>0</td>\n",
              "      <td>0</td>\n",
              "      <td>140.0</td>\n",
              "      <td>2179.295502</td>\n",
              "      <td>1300</td>\n",
              "    </tr>\n",
              "    <tr>\n",
              "      <th>1</th>\n",
              "      <td>1</td>\n",
              "      <td>1</td>\n",
              "      <td>1</td>\n",
              "      <td>1</td>\n",
              "      <td>1</td>\n",
              "      <td>1</td>\n",
              "      <td>1</td>\n",
              "      <td>0</td>\n",
              "      <td>80.0</td>\n",
              "      <td>0</td>\n",
              "      <td>0</td>\n",
              "      <td>1</td>\n",
              "      <td>1.000000</td>\n",
              "      <td>1</td>\n",
              "      <td>0</td>\n",
              "      <td>0</td>\n",
              "      <td>140.0</td>\n",
              "      <td>2179.295502</td>\n",
              "      <td>550</td>\n",
              "    </tr>\n",
              "    <tr>\n",
              "      <th>2</th>\n",
              "      <td>1</td>\n",
              "      <td>1</td>\n",
              "      <td>3</td>\n",
              "      <td>3</td>\n",
              "      <td>2</td>\n",
              "      <td>1</td>\n",
              "      <td>1</td>\n",
              "      <td>1</td>\n",
              "      <td>190.0</td>\n",
              "      <td>0</td>\n",
              "      <td>0</td>\n",
              "      <td>1</td>\n",
              "      <td>1.000000</td>\n",
              "      <td>2</td>\n",
              "      <td>0</td>\n",
              "      <td>0</td>\n",
              "      <td>140.0</td>\n",
              "      <td>2179.295502</td>\n",
              "      <td>1000</td>\n",
              "    </tr>\n",
              "    <tr>\n",
              "      <th>3</th>\n",
              "      <td>1</td>\n",
              "      <td>1</td>\n",
              "      <td>3</td>\n",
              "      <td>3</td>\n",
              "      <td>1</td>\n",
              "      <td>1</td>\n",
              "      <td>1</td>\n",
              "      <td>1</td>\n",
              "      <td>190.0</td>\n",
              "      <td>0</td>\n",
              "      <td>0</td>\n",
              "      <td>1</td>\n",
              "      <td>1.000000</td>\n",
              "      <td>1</td>\n",
              "      <td>0</td>\n",
              "      <td>0</td>\n",
              "      <td>140.0</td>\n",
              "      <td>2179.295502</td>\n",
              "      <td>950</td>\n",
              "    </tr>\n",
              "    <tr>\n",
              "      <th>4</th>\n",
              "      <td>1</td>\n",
              "      <td>1</td>\n",
              "      <td>3</td>\n",
              "      <td>3</td>\n",
              "      <td>3</td>\n",
              "      <td>1</td>\n",
              "      <td>1</td>\n",
              "      <td>0</td>\n",
              "      <td>160.0</td>\n",
              "      <td>0</td>\n",
              "      <td>0</td>\n",
              "      <td>1</td>\n",
              "      <td>1.000000</td>\n",
              "      <td>3</td>\n",
              "      <td>0</td>\n",
              "      <td>0</td>\n",
              "      <td>140.0</td>\n",
              "      <td>2179.295502</td>\n",
              "      <td>800</td>\n",
              "    </tr>\n",
              "    <tr>\n",
              "      <th>...</th>\n",
              "      <td>...</td>\n",
              "      <td>...</td>\n",
              "      <td>...</td>\n",
              "      <td>...</td>\n",
              "      <td>...</td>\n",
              "      <td>...</td>\n",
              "      <td>...</td>\n",
              "      <td>...</td>\n",
              "      <td>...</td>\n",
              "      <td>...</td>\n",
              "      <td>...</td>\n",
              "      <td>...</td>\n",
              "      <td>...</td>\n",
              "      <td>...</td>\n",
              "      <td>...</td>\n",
              "      <td>...</td>\n",
              "      <td>...</td>\n",
              "      <td>...</td>\n",
              "      <td>...</td>\n",
              "    </tr>\n",
              "    <tr>\n",
              "      <th>7561</th>\n",
              "      <td>1</td>\n",
              "      <td>1</td>\n",
              "      <td>2</td>\n",
              "      <td>2</td>\n",
              "      <td>1</td>\n",
              "      <td>1</td>\n",
              "      <td>1</td>\n",
              "      <td>0</td>\n",
              "      <td>120.0</td>\n",
              "      <td>0</td>\n",
              "      <td>0</td>\n",
              "      <td>1</td>\n",
              "      <td>1.000000</td>\n",
              "      <td>1</td>\n",
              "      <td>0</td>\n",
              "      <td>0</td>\n",
              "      <td>140.0</td>\n",
              "      <td>1789.162426</td>\n",
              "      <td>600</td>\n",
              "    </tr>\n",
              "    <tr>\n",
              "      <th>7562</th>\n",
              "      <td>1</td>\n",
              "      <td>2</td>\n",
              "      <td>3</td>\n",
              "      <td>2</td>\n",
              "      <td>1</td>\n",
              "      <td>1</td>\n",
              "      <td>1</td>\n",
              "      <td>0</td>\n",
              "      <td>140.0</td>\n",
              "      <td>0</td>\n",
              "      <td>0</td>\n",
              "      <td>1</td>\n",
              "      <td>0.666667</td>\n",
              "      <td>0</td>\n",
              "      <td>1</td>\n",
              "      <td>0</td>\n",
              "      <td>140.0</td>\n",
              "      <td>1789.162426</td>\n",
              "      <td>500</td>\n",
              "    </tr>\n",
              "    <tr>\n",
              "      <th>7563</th>\n",
              "      <td>5</td>\n",
              "      <td>2</td>\n",
              "      <td>3</td>\n",
              "      <td>2</td>\n",
              "      <td>2</td>\n",
              "      <td>0</td>\n",
              "      <td>0</td>\n",
              "      <td>0</td>\n",
              "      <td>150.0</td>\n",
              "      <td>0</td>\n",
              "      <td>1</td>\n",
              "      <td>0</td>\n",
              "      <td>0.666667</td>\n",
              "      <td>0</td>\n",
              "      <td>2</td>\n",
              "      <td>0</td>\n",
              "      <td>140.0</td>\n",
              "      <td>4696.623612</td>\n",
              "      <td>1600</td>\n",
              "    </tr>\n",
              "    <tr>\n",
              "      <th>7564</th>\n",
              "      <td>4</td>\n",
              "      <td>1</td>\n",
              "      <td>1</td>\n",
              "      <td>1</td>\n",
              "      <td>1</td>\n",
              "      <td>1</td>\n",
              "      <td>1</td>\n",
              "      <td>1</td>\n",
              "      <td>70.0</td>\n",
              "      <td>0</td>\n",
              "      <td>1</td>\n",
              "      <td>0</td>\n",
              "      <td>1.000000</td>\n",
              "      <td>1</td>\n",
              "      <td>0</td>\n",
              "      <td>0</td>\n",
              "      <td>140.0</td>\n",
              "      <td>3882.401112</td>\n",
              "      <td>1000</td>\n",
              "    </tr>\n",
              "    <tr>\n",
              "      <th>7565</th>\n",
              "      <td>1</td>\n",
              "      <td>1</td>\n",
              "      <td>2</td>\n",
              "      <td>2</td>\n",
              "      <td>0</td>\n",
              "      <td>0</td>\n",
              "      <td>0</td>\n",
              "      <td>0</td>\n",
              "      <td>120.0</td>\n",
              "      <td>0</td>\n",
              "      <td>1</td>\n",
              "      <td>0</td>\n",
              "      <td>1.000000</td>\n",
              "      <td>0</td>\n",
              "      <td>0</td>\n",
              "      <td>0</td>\n",
              "      <td>140.0</td>\n",
              "      <td>1789.162426</td>\n",
              "      <td>1750</td>\n",
              "    </tr>\n",
              "  </tbody>\n",
              "</table>\n",
              "<p>7566 rows × 19 columns</p>\n",
              "</div>"
            ],
            "text/plain": [
              "      city  status  numberRooms  ...  MedstatusHouseSpace  city_encoded  price\n",
              "0        1       1            1  ...                140.0   2179.295502   1300\n",
              "1        1       1            1  ...                140.0   2179.295502    550\n",
              "2        1       1            3  ...                140.0   2179.295502   1000\n",
              "3        1       1            3  ...                140.0   2179.295502    950\n",
              "4        1       1            3  ...                140.0   2179.295502    800\n",
              "...    ...     ...          ...  ...                  ...           ...    ...\n",
              "7561     1       1            2  ...                140.0   1789.162426    600\n",
              "7562     1       2            3  ...                140.0   1789.162426    500\n",
              "7563     5       2            3  ...                140.0   4696.623612   1600\n",
              "7564     4       1            1  ...                140.0   3882.401112   1000\n",
              "7565     1       1            2  ...                140.0   1789.162426   1750\n",
              "\n",
              "[7566 rows x 19 columns]"
            ]
          },
          "metadata": {
            "tags": []
          },
          "execution_count": 88
        }
      ]
    },
    {
      "cell_type": "code",
      "metadata": {
        "colab": {
          "base_uri": "https://localhost:8080/",
          "height": 387
        },
        "id": "dOzjukK7kd2y",
        "outputId": "bd61c3d8-e417-46ce-a74b-74044a257a77"
      },
      "source": [
        "sns.relplot(x=\"city\", y=\"price\", data=df)"
      ],
      "execution_count": 89,
      "outputs": [
        {
          "output_type": "execute_result",
          "data": {
            "text/plain": [
              "<seaborn.axisgrid.FacetGrid at 0x7f08761c6590>"
            ]
          },
          "metadata": {
            "tags": []
          },
          "execution_count": 89
        },
        {
          "output_type": "display_data",
          "data": {
            "image/png": "[encoded data removed]",
            "text/plain": [
              "<Figure size 360x360 with 1 Axes>"
            ]
          },
          "metadata": {
            "tags": []
          }
        }
      ]
    },
    {
      "cell_type": "code",
      "metadata": {
        "colab": {
          "base_uri": "https://localhost:8080/",
          "height": 439
        },
        "id": "EfJgmW6xzYx5",
        "outputId": "efd44b4f-36ff-4d1a-a89d-c65fd2e1ec87"
      },
      "source": [
        "X = df.drop(\"price\", axis=1)\n",
        "X = X.drop(\"MedstatusHouseSpace\", axis=1)\n",
        "Y = df[\"price\"].copy()\n",
        "X"
      ],
      "execution_count": 90,
      "outputs": [
        {
          "output_type": "execute_result",
          "data": {
            "text/html": [
              "<div>\n",
              "<style scoped>\n",
              "    .dataframe tbody tr th:only-of-type {\n",
              "        vertical-align: middle;\n",
              "    }\n",
              "\n",
              "    .dataframe tbody tr th {\n",
              "        vertical-align: top;\n",
              "    }\n",
              "\n",
              "    .dataframe thead th {\n",
              "        text-align: right;\n",
              "    }\n",
              "</style>\n",
              "<table border=\"1\" class=\"dataframe\">\n",
              "  <thead>\n",
              "    <tr style=\"text-align: right;\">\n",
              "      <th></th>\n",
              "      <th>city</th>\n",
              "      <th>status</th>\n",
              "      <th>numberRooms</th>\n",
              "      <th>numberBathrooms</th>\n",
              "      <th>numberBalconies</th>\n",
              "      <th>elevator</th>\n",
              "      <th>carParking</th>\n",
              "      <th>heating</th>\n",
              "      <th>houseSpace</th>\n",
              "      <th>PriceType_JOD</th>\n",
              "      <th>PriceType_NIS</th>\n",
              "      <th>PriceType_USD</th>\n",
              "      <th>featurePlus</th>\n",
              "      <th>Bldg_A</th>\n",
              "      <th>Bldg_B</th>\n",
              "      <th>Bldg_C</th>\n",
              "      <th>city_encoded</th>\n",
              "    </tr>\n",
              "  </thead>\n",
              "  <tbody>\n",
              "    <tr>\n",
              "      <th>0</th>\n",
              "      <td>1</td>\n",
              "      <td>1</td>\n",
              "      <td>1</td>\n",
              "      <td>1</td>\n",
              "      <td>0</td>\n",
              "      <td>1</td>\n",
              "      <td>1</td>\n",
              "      <td>0</td>\n",
              "      <td>140.0</td>\n",
              "      <td>0</td>\n",
              "      <td>1</td>\n",
              "      <td>0</td>\n",
              "      <td>1.000000</td>\n",
              "      <td>0</td>\n",
              "      <td>0</td>\n",
              "      <td>0</td>\n",
              "      <td>2179.295502</td>\n",
              "    </tr>\n",
              "    <tr>\n",
              "      <th>1</th>\n",
              "      <td>1</td>\n",
              "      <td>1</td>\n",
              "      <td>1</td>\n",
              "      <td>1</td>\n",
              "      <td>1</td>\n",
              "      <td>1</td>\n",
              "      <td>1</td>\n",
              "      <td>0</td>\n",
              "      <td>80.0</td>\n",
              "      <td>0</td>\n",
              "      <td>0</td>\n",
              "      <td>1</td>\n",
              "      <td>1.000000</td>\n",
              "      <td>1</td>\n",
              "      <td>0</td>\n",
              "      <td>0</td>\n",
              "      <td>2179.295502</td>\n",
              "    </tr>\n",
              "    <tr>\n",
              "      <th>2</th>\n",
              "      <td>1</td>\n",
              "      <td>1</td>\n",
              "      <td>3</td>\n",
              "      <td>3</td>\n",
              "      <td>2</td>\n",
              "      <td>1</td>\n",
              "      <td>1</td>\n",
              "      <td>1</td>\n",
              "      <td>190.0</td>\n",
              "      <td>0</td>\n",
              "      <td>0</td>\n",
              "      <td>1</td>\n",
              "      <td>1.000000</td>\n",
              "      <td>2</td>\n",
              "      <td>0</td>\n",
              "      <td>0</td>\n",
              "      <td>2179.295502</td>\n",
              "    </tr>\n",
              "    <tr>\n",
              "      <th>3</th>\n",
              "      <td>1</td>\n",
              "      <td>1</td>\n",
              "      <td>3</td>\n",
              "      <td>3</td>\n",
              "      <td>1</td>\n",
              "      <td>1</td>\n",
              "      <td>1</td>\n",
              "      <td>1</td>\n",
              "      <td>190.0</td>\n",
              "      <td>0</td>\n",
              "      <td>0</td>\n",
              "      <td>1</td>\n",
              "      <td>1.000000</td>\n",
              "      <td>1</td>\n",
              "      <td>0</td>\n",
              "      <td>0</td>\n",
              "      <td>2179.295502</td>\n",
              "    </tr>\n",
              "    <tr>\n",
              "      <th>4</th>\n",
              "      <td>1</td>\n",
              "      <td>1</td>\n",
              "      <td>3</td>\n",
              "      <td>3</td>\n",
              "      <td>3</td>\n",
              "      <td>1</td>\n",
              "      <td>1</td>\n",
              "      <td>0</td>\n",
              "      <td>160.0</td>\n",
              "      <td>0</td>\n",
              "      <td>0</td>\n",
              "      <td>1</td>\n",
              "      <td>1.000000</td>\n",
              "      <td>3</td>\n",
              "      <td>0</td>\n",
              "      <td>0</td>\n",
              "      <td>2179.295502</td>\n",
              "    </tr>\n",
              "    <tr>\n",
              "      <th>...</th>\n",
              "      <td>...</td>\n",
              "      <td>...</td>\n",
              "      <td>...</td>\n",
              "      <td>...</td>\n",
              "      <td>...</td>\n",
              "      <td>...</td>\n",
              "      <td>...</td>\n",
              "      <td>...</td>\n",
              "      <td>...</td>\n",
              "      <td>...</td>\n",
              "      <td>...</td>\n",
              "      <td>...</td>\n",
              "      <td>...</td>\n",
              "      <td>...</td>\n",
              "      <td>...</td>\n",
              "      <td>...</td>\n",
              "      <td>...</td>\n",
              "    </tr>\n",
              "    <tr>\n",
              "      <th>7561</th>\n",
              "      <td>1</td>\n",
              "      <td>1</td>\n",
              "      <td>2</td>\n",
              "      <td>2</td>\n",
              "      <td>1</td>\n",
              "      <td>1</td>\n",
              "      <td>1</td>\n",
              "      <td>0</td>\n",
              "      <td>120.0</td>\n",
              "      <td>0</td>\n",
              "      <td>0</td>\n",
              "      <td>1</td>\n",
              "      <td>1.000000</td>\n",
              "      <td>1</td>\n",
              "      <td>0</td>\n",
              "      <td>0</td>\n",
              "      <td>1789.162426</td>\n",
              "    </tr>\n",
              "    <tr>\n",
              "      <th>7562</th>\n",
              "      <td>1</td>\n",
              "      <td>2</td>\n",
              "      <td>3</td>\n",
              "      <td>2</td>\n",
              "      <td>1</td>\n",
              "      <td>1</td>\n",
              "      <td>1</td>\n",
              "      <td>0</td>\n",
              "      <td>140.0</td>\n",
              "      <td>0</td>\n",
              "      <td>0</td>\n",
              "      <td>1</td>\n",
              "      <td>0.666667</td>\n",
              "      <td>0</td>\n",
              "      <td>1</td>\n",
              "      <td>0</td>\n",
              "      <td>1789.162426</td>\n",
              "    </tr>\n",
              "    <tr>\n",
              "      <th>7563</th>\n",
              "      <td>5</td>\n",
              "      <td>2</td>\n",
              "      <td>3</td>\n",
              "      <td>2</td>\n",
              "      <td>2</td>\n",
              "      <td>0</td>\n",
              "      <td>0</td>\n",
              "      <td>0</td>\n",
              "      <td>150.0</td>\n",
              "      <td>0</td>\n",
              "      <td>1</td>\n",
              "      <td>0</td>\n",
              "      <td>0.666667</td>\n",
              "      <td>0</td>\n",
              "      <td>2</td>\n",
              "      <td>0</td>\n",
              "      <td>4696.623612</td>\n",
              "    </tr>\n",
              "    <tr>\n",
              "      <th>7564</th>\n",
              "      <td>4</td>\n",
              "      <td>1</td>\n",
              "      <td>1</td>\n",
              "      <td>1</td>\n",
              "      <td>1</td>\n",
              "      <td>1</td>\n",
              "      <td>1</td>\n",
              "      <td>1</td>\n",
              "      <td>70.0</td>\n",
              "      <td>0</td>\n",
              "      <td>1</td>\n",
              "      <td>0</td>\n",
              "      <td>1.000000</td>\n",
              "      <td>1</td>\n",
              "      <td>0</td>\n",
              "      <td>0</td>\n",
              "      <td>3882.401112</td>\n",
              "    </tr>\n",
              "    <tr>\n",
              "      <th>7565</th>\n",
              "      <td>1</td>\n",
              "      <td>1</td>\n",
              "      <td>2</td>\n",
              "      <td>2</td>\n",
              "      <td>0</td>\n",
              "      <td>0</td>\n",
              "      <td>0</td>\n",
              "      <td>0</td>\n",
              "      <td>120.0</td>\n",
              "      <td>0</td>\n",
              "      <td>1</td>\n",
              "      <td>0</td>\n",
              "      <td>1.000000</td>\n",
              "      <td>0</td>\n",
              "      <td>0</td>\n",
              "      <td>0</td>\n",
              "      <td>1789.162426</td>\n",
              "    </tr>\n",
              "  </tbody>\n",
              "</table>\n",
              "<p>7566 rows × 17 columns</p>\n",
              "</div>"
            ],
            "text/plain": [
              "      city  status  numberRooms  ...  Bldg_B  Bldg_C  city_encoded\n",
              "0        1       1            1  ...       0       0   2179.295502\n",
              "1        1       1            1  ...       0       0   2179.295502\n",
              "2        1       1            3  ...       0       0   2179.295502\n",
              "3        1       1            3  ...       0       0   2179.295502\n",
              "4        1       1            3  ...       0       0   2179.295502\n",
              "...    ...     ...          ...  ...     ...     ...           ...\n",
              "7561     1       1            2  ...       0       0   1789.162426\n",
              "7562     1       2            3  ...       1       0   1789.162426\n",
              "7563     5       2            3  ...       2       0   4696.623612\n",
              "7564     4       1            1  ...       0       0   3882.401112\n",
              "7565     1       1            2  ...       0       0   1789.162426\n",
              "\n",
              "[7566 rows x 17 columns]"
            ]
          },
          "metadata": {
            "tags": []
          },
          "execution_count": 90
        }
      ]
    },
    {
      "cell_type": "code",
      "metadata": {
        "id": "-SBZxI7g0IUV"
      },
      "source": [
        "from sklearn.model_selection import train_test_split\n",
        "x_train, x_test, y_train, y_test = train_test_split(X,Y, test_size = .05, random_state= 42)"
      ],
      "execution_count": 91,
      "outputs": []
    },
    {
      "cell_type": "code",
      "metadata": {
        "colab": {
          "base_uri": "https://localhost:8080/"
        },
        "id": "YqRZmHUz0XZh",
        "outputId": "737a9c0e-4c12-40b8-a2c0-b2966d365133"
      },
      "source": [
        "from sklearn.tree import DecisionTreeRegressor\n",
        "#fit decision tree\n",
        "tree = DecisionTreeRegressor()\n",
        "tree.fit(x_train, y_train)\n",
        "#fit random forest\n",
        "forest = RandomForestRegressor(n_jobs=-1)\n",
        "forest.fit(x_train, y_train)\n",
        "#fit regression\n",
        "lin_reg = LinearRegression(n_jobs=-1)\n",
        "lin_reg.fit(x_train, y_train)"
      ],
      "execution_count": 92,
      "outputs": [
        {
          "output_type": "execute_result",
          "data": {
            "text/plain": [
              "LinearRegression(copy_X=True, fit_intercept=True, n_jobs=-1, normalize=False)"
            ]
          },
          "metadata": {
            "tags": []
          },
          "execution_count": 92
        }
      ]
    },
    {
      "cell_type": "code",
      "metadata": {
        "colab": {
          "base_uri": "https://localhost:8080/"
        },
        "id": "tRu4C6gX0q2B",
        "outputId": "ddd1fcaa-e226-46e6-c9f6-0194c0d7569e"
      },
      "source": [
        "models= [('lin_reg', lin_reg), ('random forest', forest), ('decision tree', tree)]\n",
        "from sklearn.metrics import mean_squared_error\n",
        "for i, model in models:    \n",
        "    predictions = model.predict(x_train)\n",
        "    MSE = mean_squared_error(y_train, predictions)\n",
        "    RMSE = np.sqrt(MSE)\n",
        "    msg = \"%s = %.2f\" % (i, round(RMSE, 2))\n",
        "    print('RMSE of', msg)"
      ],
      "execution_count": 93,
      "outputs": [
        {
          "output_type": "stream",
          "text": [
            "RMSE of lin_reg = 450.89\n",
            "RMSE of random forest = 160.38\n",
            "RMSE of decision tree = 111.79\n"
          ],
          "name": "stdout"
        }
      ]
    },
    {
      "cell_type": "code",
      "metadata": {
        "colab": {
          "base_uri": "https://localhost:8080/"
        },
        "id": "TCPJIYR31AAn",
        "outputId": "3eab4c8e-40f8-46ab-8f83-9632dac7072d"
      },
      "source": [
        "for i, model in models:\n",
        "    # Make predictions on train data\n",
        "    predictions = model.predict(x_train)\n",
        "    # Performance metrics\n",
        "    errors = abs(predictions - y_train)\n",
        "    # Calculate mean absolute percentage error (MAPE)\n",
        "    mape = np.mean(100 * (errors / y_train))\n",
        "    # Calculate and display accuracy\n",
        "    accuracy = 100 - mape    \n",
        "    #print result\n",
        "    msg = \"%s= %.2f\"% (i, round(accuracy, 2))\n",
        "    print('Accuracy of', msg,'%')"
      ],
      "execution_count": 94,
      "outputs": [
        {
          "output_type": "stream",
          "text": [
            "Accuracy of lin_reg= 59.73 %\n",
            "Accuracy of random forest= 88.19 %\n",
            "Accuracy of decision tree= 94.13 %\n"
          ],
          "name": "stdout"
        }
      ]
    },
    {
      "cell_type": "code",
      "metadata": {
        "id": "uSExpY_x1VH5"
      },
      "source": [
        "from sklearn.model_selection import cross_validate\n",
        "models= [('lin_reg', lin_reg), ('forest', forest), ('dt', tree)]\n",
        "scoring = ['neg_mean_squared_error', 'neg_mean_absolute_error', 'r2']\n",
        "\n",
        "\n",
        "results= []\n",
        "metric= []\n",
        "for name, model in models:\n",
        "    for i in scoring:\n",
        "        scores = cross_validate(model, x_train, y_train, scoring=i, cv=10, return_train_score=True)\n",
        "        results.append(scores)"
      ],
      "execution_count": 95,
      "outputs": []
    },
    {
      "cell_type": "code",
      "metadata": {
        "id": "klaHTFwc12HA"
      },
      "source": [
        "\n"
      ],
      "execution_count": 95,
      "outputs": []
    },
    {
      "cell_type": "code",
      "metadata": {
        "id": "84MId-6Z2IJP"
      },
      "source": [
        "#THIS IS FOR Linear regression\n",
        "#RMSE\n",
        "LR_RMSE_mean = np.sqrt(-results[0]['test_score'].mean())\n",
        "LR_RMSE_std= results[0]['test_score'].std()\n",
        "# I changed the sign, as the result is originally a negative number for ease of computation\n",
        "LR_MAE_mean = -results[1]['test_score'].mean()\n",
        "LR_MAE_std= results[1]['test_score'].std()\n",
        "LR_r2_mean = results[2]['test_score'].mean()\n",
        "LR_r2_std = results[2]['test_score'].std()\n",
        "\n",
        "#THIS IS FOR RF\n",
        "RF_RMSE_mean = np.sqrt(-results[3]['test_score'].mean())\n",
        "RF_RMSE_std= results[3]['test_score'].std()\n",
        "RF_MAE_mean = -results[4]['test_score'].mean()\n",
        "RF_MAE_std= results[4]['test_score'].std()\n",
        "RF_r2_mean = results[5]['test_score'].mean()\n",
        "RF_r2_std = results[5]['test_score'].std()\n",
        "\n",
        "#THIS IS FOR DT\n",
        "DT_RMSE_mean = np.sqrt(-results[6]['test_score'].mean())\n",
        "DT_RMSE_std= results[6]['test_score'].std()\n",
        "DT_MAE_mean = -results[7]['test_score'].mean()\n",
        "DT_MAE_std= results[7]['test_score'].std()\n",
        "DT_r2_mean = results[8]['test_score'].mean()\n",
        "DT_r2_std = results[8]['test_score'].std()"
      ],
      "execution_count": 96,
      "outputs": []
    },
    {
      "cell_type": "code",
      "metadata": {
        "colab": {
          "base_uri": "https://localhost:8080/",
          "height": 142
        },
        "id": "sEXyfmYx2c5I",
        "outputId": "35685fd8-6644-4427-b463-59be65b7e4ac"
      },
      "source": [
        "modelDF = pd.DataFrame({\n",
        "    'Model'       : ['Linear Regression', 'Random Forest', 'Decision Trees'],\n",
        "    'RMSE_mean'    : [LR_RMSE_mean, RF_RMSE_mean, DT_RMSE_mean],\n",
        "    'RMSE_std'    : [LR_RMSE_std, RF_RMSE_std, DT_RMSE_std],\n",
        "    'MAE_mean'   : [LR_MAE_mean, RF_MAE_mean, DT_MAE_mean],\n",
        "    'MAE_std'   : [LR_MAE_std, RF_MAE_std, DT_MAE_std],\n",
        "    'r2_mean'      : [LR_r2_mean, RF_r2_mean, DT_r2_mean],\n",
        "    'r2_std'      : [LR_r2_std, RF_r2_std, DT_r2_std],\n",
        "    }, columns = ['Model', 'RMSE_mean', 'RMSE_std', 'MAE_mean', 'MAE_std', 'r2_mean', 'r2_std'])\n",
        "\n",
        "modelDF.sort_values(by='r2_mean', ascending=False)"
      ],
      "execution_count": 97,
      "outputs": [
        {
          "output_type": "execute_result",
          "data": {
            "text/html": [
              "<div>\n",
              "<style scoped>\n",
              "    .dataframe tbody tr th:only-of-type {\n",
              "        vertical-align: middle;\n",
              "    }\n",
              "\n",
              "    .dataframe tbody tr th {\n",
              "        vertical-align: top;\n",
              "    }\n",
              "\n",
              "    .dataframe thead th {\n",
              "        text-align: right;\n",
              "    }\n",
              "</style>\n",
              "<table border=\"1\" class=\"dataframe\">\n",
              "  <thead>\n",
              "    <tr style=\"text-align: right;\">\n",
              "      <th></th>\n",
              "      <th>Model</th>\n",
              "      <th>RMSE_mean</th>\n",
              "      <th>RMSE_std</th>\n",
              "      <th>MAE_mean</th>\n",
              "      <th>MAE_std</th>\n",
              "      <th>r2_mean</th>\n",
              "      <th>r2_std</th>\n",
              "    </tr>\n",
              "  </thead>\n",
              "  <tbody>\n",
              "    <tr>\n",
              "      <th>1</th>\n",
              "      <td>Random Forest</td>\n",
              "      <td>346.801765</td>\n",
              "      <td>13033.208192</td>\n",
              "      <td>191.639899</td>\n",
              "      <td>7.944748</td>\n",
              "      <td>0.765897</td>\n",
              "      <td>0.025794</td>\n",
              "    </tr>\n",
              "    <tr>\n",
              "      <th>2</th>\n",
              "      <td>Decision Trees</td>\n",
              "      <td>453.389128</td>\n",
              "      <td>27379.696922</td>\n",
              "      <td>222.806609</td>\n",
              "      <td>13.622359</td>\n",
              "      <td>0.611836</td>\n",
              "      <td>0.056828</td>\n",
              "    </tr>\n",
              "    <tr>\n",
              "      <th>0</th>\n",
              "      <td>Linear Regression</td>\n",
              "      <td>452.457160</td>\n",
              "      <td>20999.472725</td>\n",
              "      <td>280.702287</td>\n",
              "      <td>13.890589</td>\n",
              "      <td>0.599385</td>\n",
              "      <td>0.032068</td>\n",
              "    </tr>\n",
              "  </tbody>\n",
              "</table>\n",
              "</div>"
            ],
            "text/plain": [
              "               Model   RMSE_mean      RMSE_std  ...    MAE_std   r2_mean    r2_std\n",
              "1      Random Forest  346.801765  13033.208192  ...   7.944748  0.765897  0.025794\n",
              "2     Decision Trees  453.389128  27379.696922  ...  13.622359  0.611836  0.056828\n",
              "0  Linear Regression  452.457160  20999.472725  ...  13.890589  0.599385  0.032068\n",
              "\n",
              "[3 rows x 7 columns]"
            ]
          },
          "metadata": {
            "tags": []
          },
          "execution_count": 97
        }
      ]
    },
    {
      "cell_type": "code",
      "metadata": {
        "colab": {
          "base_uri": "https://localhost:8080/",
          "height": 387
        },
        "id": "OSCt-PWJ2d_T",
        "outputId": "7ea7061c-2dc1-42a7-b73e-440a5a4a7e03"
      },
      "source": [
        "sns.factorplot(x= 'Model', y= 'RMSE_mean', data= modelDF, kind='bar', legend='True')"
      ],
      "execution_count": 98,
      "outputs": [
        {
          "output_type": "execute_result",
          "data": {
            "text/plain": [
              "<seaborn.axisgrid.FacetGrid at 0x7f087674ed50>"
            ]
          },
          "metadata": {
            "tags": []
          },
          "execution_count": 98
        },
        {
          "output_type": "display_data",
          "data": {
            "image/png": "[encoded data removed]",
            "text/plain": [
              "<Figure size 360x360 with 1 Axes>"
            ]
          },
          "metadata": {
            "tags": []
          }
        }
      ]
    },
    {
      "cell_type": "code",
      "metadata": {
        "colab": {
          "base_uri": "https://localhost:8080/"
        },
        "id": "kKaMf2YV2rk3",
        "outputId": "577ce7c0-d258-4f85-ab8b-7c4c034d2565"
      },
      "source": [
        "from sklearn.model_selection import GridSearchCV\n",
        "\n",
        "param_grid = [\n",
        "{'n_estimators': [10, 25], 'max_features': [5, 10], \n",
        " 'max_depth': [10, 50, None], 'bootstrap': [True, False]}\n",
        "]\n",
        "\n",
        "grid_search_forest = GridSearchCV(forest, param_grid, cv=10, scoring='neg_mean_squared_error')\n",
        "grid_search_forest.fit(x_train, y_train)"
      ],
      "execution_count": 99,
      "outputs": [
        {
          "output_type": "execute_result",
          "data": {
            "text/plain": [
              "GridSearchCV(cv=10, error_score=nan,\n",
              "             estimator=RandomForestRegressor(bootstrap=True, ccp_alpha=0.0,\n",
              "                                             criterion='mse', max_depth=None,\n",
              "                                             max_features='auto',\n",
              "                                             max_leaf_nodes=None,\n",
              "                                             max_samples=None,\n",
              "                                             min_impurity_decrease=0.0,\n",
              "                                             min_impurity_split=None,\n",
              "                                             min_samples_leaf=1,\n",
              "                                             min_samples_split=2,\n",
              "                                             min_weight_fraction_leaf=0.0,\n",
              "                                             n_estimators=100, n_jobs=-1,\n",
              "                                             oob_score=False, random_state=None,\n",
              "                                             verbose=0, warm_start=False),\n",
              "             iid='deprecated', n_jobs=None,\n",
              "             param_grid=[{'bootstrap': [True, False],\n",
              "                          'max_depth': [10, 50, None], 'max_features': [5, 10],\n",
              "                          'n_estimators': [10, 25]}],\n",
              "             pre_dispatch='2*n_jobs', refit=True, return_train_score=False,\n",
              "             scoring='neg_mean_squared_error', verbose=0)"
            ]
          },
          "metadata": {
            "tags": []
          },
          "execution_count": 99
        }
      ]
    },
    {
      "cell_type": "code",
      "metadata": {
        "colab": {
          "base_uri": "https://localhost:8080/"
        },
        "id": "jJHbiqZf7Nb8",
        "outputId": "bebbce57-cdce-404b-cc77-a75692f6688a"
      },
      "source": [
        "#now let's how the RMSE changes for each parameter configuration\n",
        "cvres = grid_search_forest.cv_results_\n",
        "for mean_score, params in zip(cvres[\"mean_test_score\"], cvres[\"params\"]):\n",
        "    print(np.sqrt(-mean_score), params)"
      ],
      "execution_count": 100,
      "outputs": [
        {
          "output_type": "stream",
          "text": [
            "354.66273134998164 {'bootstrap': True, 'max_depth': 10, 'max_features': 5, 'n_estimators': 10}\n",
            "344.875688284748 {'bootstrap': True, 'max_depth': 10, 'max_features': 5, 'n_estimators': 25}\n",
            "350.00225404591026 {'bootstrap': True, 'max_depth': 10, 'max_features': 10, 'n_estimators': 10}\n",
            "348.2569393380057 {'bootstrap': True, 'max_depth': 10, 'max_features': 10, 'n_estimators': 25}\n",
            "354.1115061294712 {'bootstrap': True, 'max_depth': 50, 'max_features': 5, 'n_estimators': 10}\n",
            "344.00852150590214 {'bootstrap': True, 'max_depth': 50, 'max_features': 5, 'n_estimators': 25}\n",
            "357.8212624300169 {'bootstrap': True, 'max_depth': 50, 'max_features': 10, 'n_estimators': 10}\n",
            "343.6449226699986 {'bootstrap': True, 'max_depth': 50, 'max_features': 10, 'n_estimators': 25}\n",
            "354.0398424502533 {'bootstrap': True, 'max_depth': None, 'max_features': 5, 'n_estimators': 10}\n",
            "343.77139904763965 {'bootstrap': True, 'max_depth': None, 'max_features': 5, 'n_estimators': 25}\n",
            "354.42907279226716 {'bootstrap': True, 'max_depth': None, 'max_features': 10, 'n_estimators': 10}\n",
            "343.4469573066686 {'bootstrap': True, 'max_depth': None, 'max_features': 10, 'n_estimators': 25}\n",
            "349.1157586456124 {'bootstrap': False, 'max_depth': 10, 'max_features': 5, 'n_estimators': 10}\n",
            "346.3929801630261 {'bootstrap': False, 'max_depth': 10, 'max_features': 5, 'n_estimators': 25}\n",
            "348.8439293465437 {'bootstrap': False, 'max_depth': 10, 'max_features': 10, 'n_estimators': 10}\n",
            "347.86974158126293 {'bootstrap': False, 'max_depth': 10, 'max_features': 10, 'n_estimators': 25}\n",
            "355.6835473116 {'bootstrap': False, 'max_depth': 50, 'max_features': 5, 'n_estimators': 10}\n",
            "351.6310573204945 {'bootstrap': False, 'max_depth': 50, 'max_features': 5, 'n_estimators': 25}\n",
            "367.4055832126026 {'bootstrap': False, 'max_depth': 50, 'max_features': 10, 'n_estimators': 10}\n",
            "359.0753920559418 {'bootstrap': False, 'max_depth': 50, 'max_features': 10, 'n_estimators': 25}\n",
            "356.81747899127924 {'bootstrap': False, 'max_depth': None, 'max_features': 5, 'n_estimators': 10}\n",
            "350.60126715805904 {'bootstrap': False, 'max_depth': None, 'max_features': 5, 'n_estimators': 25}\n",
            "368.1469317049797 {'bootstrap': False, 'max_depth': None, 'max_features': 10, 'n_estimators': 10}\n",
            "358.6680908610839 {'bootstrap': False, 'max_depth': None, 'max_features': 10, 'n_estimators': 25}\n"
          ],
          "name": "stdout"
        }
      ]
    },
    {
      "cell_type": "code",
      "metadata": {
        "colab": {
          "base_uri": "https://localhost:8080/"
        },
        "id": "_AbwKyug7cgj",
        "outputId": "43405dab-a9c0-455a-c208-af98d38a801f"
      },
      "source": [
        "#find the best model of grid search\n",
        "grid_search_forest.best_estimator_"
      ],
      "execution_count": 101,
      "outputs": [
        {
          "output_type": "execute_result",
          "data": {
            "text/plain": [
              "RandomForestRegressor(bootstrap=True, ccp_alpha=0.0, criterion='mse',\n",
              "                      max_depth=None, max_features=10, max_leaf_nodes=None,\n",
              "                      max_samples=None, min_impurity_decrease=0.0,\n",
              "                      min_impurity_split=None, min_samples_leaf=1,\n",
              "                      min_samples_split=2, min_weight_fraction_leaf=0.0,\n",
              "                      n_estimators=25, n_jobs=-1, oob_score=False,\n",
              "                      random_state=None, verbose=0, warm_start=False)"
            ]
          },
          "metadata": {
            "tags": []
          },
          "execution_count": 101
        }
      ]
    },
    {
      "cell_type": "code",
      "metadata": {
        "colab": {
          "base_uri": "https://localhost:8080/"
        },
        "id": "lYUg3XDO7jgD",
        "outputId": "adbe897d-a8b6-4751-e031-57ea63e4a240"
      },
      "source": [
        "grid_best= grid_search_forest.best_estimator_.predict(x_train)\n",
        "errors = abs(grid_best - y_train)\n",
        "# Calculate mean absolute percentage error (MAPE)\n",
        "mape = np.mean(100 * (errors / y_train))\n",
        "accuracy = 100 - mape    \n",
        "#print result\n",
        "print('The best model from grid-search has an accuracy of', round(accuracy, 2),'%')"
      ],
      "execution_count": 102,
      "outputs": [
        {
          "output_type": "stream",
          "text": [
            "The best model from grid-search has an accuracy of 88.1 %\n"
          ],
          "name": "stdout"
        }
      ]
    },
    {
      "cell_type": "code",
      "metadata": {
        "colab": {
          "base_uri": "https://localhost:8080/"
        },
        "id": "EA5nDwa57vsK",
        "outputId": "23880717-9c9b-4790-d15c-9ec5a90ea221"
      },
      "source": [
        "#RMSE\n",
        "grid_mse = mean_squared_error(y_train, grid_best)\n",
        "grid_rmse = np.sqrt(grid_mse)\n",
        "print('The best model from the grid search has a RMSE of', round(grid_rmse, 2))"
      ],
      "execution_count": 103,
      "outputs": [
        {
          "output_type": "stream",
          "text": [
            "The best model from the grid search has a RMSE of 165.13\n"
          ],
          "name": "stdout"
        }
      ]
    },
    {
      "cell_type": "code",
      "metadata": {
        "colab": {
          "base_uri": "https://localhost:8080/"
        },
        "id": "lYOJ3cDu71Qm",
        "outputId": "b3b337d4-b46c-4b75-da95-4d423ef69f64"
      },
      "source": [
        "from sklearn.model_selection import RandomizedSearchCV\n",
        "from pprint import pprint\n",
        "\n",
        "# Number of trees in random forest\n",
        "n_estimators = [int(x) for x in np.linspace(start = 20, stop = 200, num = 5)]\n",
        "# Number of features to consider at every split\n",
        "max_features = ['auto', 'sqrt']\n",
        "# Maximum number of levels in tree\n",
        "max_depth = [int(x) for x in np.linspace(1, 45, num = 3)]\n",
        "# Minimum number of samples required to split a node\n",
        "min_samples_split = [5, 10]\n",
        "\n",
        "# Create the random grid\n",
        "random_grid = {'n_estimators': n_estimators,\n",
        "               'max_features': max_features,\n",
        "               'max_depth': max_depth,\n",
        "               'min_samples_split': min_samples_split}\n",
        "\n",
        "pprint(random_grid)"
      ],
      "execution_count": 104,
      "outputs": [
        {
          "output_type": "stream",
          "text": [
            "{'max_depth': [1, 23, 45],\n",
            " 'max_features': ['auto', 'sqrt'],\n",
            " 'min_samples_split': [5, 10],\n",
            " 'n_estimators': [20, 65, 110, 155, 200]}\n"
          ],
          "name": "stdout"
        }
      ]
    },
    {
      "cell_type": "code",
      "metadata": {
        "colab": {
          "base_uri": "https://localhost:8080/"
        },
        "id": "VmrsJ90r7_Im",
        "outputId": "0b8ee8fa-c80f-4845-e7db-b956260a97f8"
      },
      "source": [
        "\n",
        "# Random search of parameters, using 3 fold cross validation, \n",
        "# search across 100 different combinations\n",
        "rf_random = RandomizedSearchCV(estimator = forest, param_distributions = random_grid, n_iter = 10, cv = 10, verbose=2, random_state=42, n_jobs = -1, scoring='neg_mean_squared_error')\n",
        "# Fit the random search model\n",
        "rf_random.fit(x_train, y_train)"
      ],
      "execution_count": 105,
      "outputs": [
        {
          "output_type": "stream",
          "text": [
            "Fitting 10 folds for each of 10 candidates, totalling 100 fits\n"
          ],
          "name": "stdout"
        },
        {
          "output_type": "stream",
          "text": [
            "[Parallel(n_jobs=-1)]: Using backend LokyBackend with 2 concurrent workers.\n",
            "[Parallel(n_jobs=-1)]: Done  37 tasks      | elapsed:    7.8s\n",
            "[Parallel(n_jobs=-1)]: Done 100 out of 100 | elapsed:   49.7s finished\n"
          ],
          "name": "stderr"
        },
        {
          "output_type": "execute_result",
          "data": {
            "text/plain": [
              "RandomizedSearchCV(cv=10, error_score=nan,\n",
              "                   estimator=RandomForestRegressor(bootstrap=True,\n",
              "                                                   ccp_alpha=0.0,\n",
              "                                                   criterion='mse',\n",
              "                                                   max_depth=None,\n",
              "                                                   max_features='auto',\n",
              "                                                   max_leaf_nodes=None,\n",
              "                                                   max_samples=None,\n",
              "                                                   min_impurity_decrease=0.0,\n",
              "                                                   min_impurity_split=None,\n",
              "                                                   min_samples_leaf=1,\n",
              "                                                   min_samples_split=2,\n",
              "                                                   min_weight_fraction_leaf=0.0,\n",
              "                                                   n_estimators=100, n_jobs=-1,\n",
              "                                                   oob_score=False,\n",
              "                                                   random_state=None, verbose=0,\n",
              "                                                   warm_start=False),\n",
              "                   iid='deprecated', n_iter=10, n_jobs=-1,\n",
              "                   param_distributions={'max_depth': [1, 23, 45],\n",
              "                                        'max_features': ['auto', 'sqrt'],\n",
              "                                        'min_samples_split': [5, 10],\n",
              "                                        'n_estimators': [20, 65, 110, 155,\n",
              "                                                         200]},\n",
              "                   pre_dispatch='2*n_jobs', random_state=42, refit=True,\n",
              "                   return_train_score=False, scoring='neg_mean_squared_error',\n",
              "                   verbose=2)"
            ]
          },
          "metadata": {
            "tags": []
          },
          "execution_count": 105
        }
      ]
    },
    {
      "cell_type": "code",
      "metadata": {
        "colab": {
          "base_uri": "https://localhost:8080/"
        },
        "id": "u8OUjBWO8XEL",
        "outputId": "155d4324-8d8d-4bac-b982-3e0729a8065d"
      },
      "source": [
        "#now let's how the RMSE changes for each parameter configuration\n",
        "cvres2 = rf_random.cv_results_\n",
        "for mean_score, params in zip(cvres2[\"mean_test_score\"], cvres2[\"params\"]):\n",
        "    print(np.sqrt(-mean_score), params)"
      ],
      "execution_count": 106,
      "outputs": [
        {
          "output_type": "stream",
          "text": [
            "555.7527436276469 {'n_estimators': 20, 'min_samples_split': 5, 'max_features': 'auto', 'max_depth': 1}\n",
            "555.7760068013688 {'n_estimators': 20, 'min_samples_split': 10, 'max_features': 'auto', 'max_depth': 1}\n",
            "343.87514872815467 {'n_estimators': 65, 'min_samples_split': 10, 'max_features': 'sqrt', 'max_depth': 23}\n",
            "347.2283700948945 {'n_estimators': 20, 'min_samples_split': 10, 'max_features': 'auto', 'max_depth': 45}\n",
            "570.9530674741832 {'n_estimators': 155, 'min_samples_split': 5, 'max_features': 'sqrt', 'max_depth': 1}\n",
            "338.534345606422 {'n_estimators': 200, 'min_samples_split': 5, 'max_features': 'sqrt', 'max_depth': 45}\n",
            "339.0917386786354 {'n_estimators': 155, 'min_samples_split': 5, 'max_features': 'sqrt', 'max_depth': 23}\n",
            "345.6329447840632 {'n_estimators': 155, 'min_samples_split': 10, 'max_features': 'auto', 'max_depth': 45}\n",
            "570.8304444641101 {'n_estimators': 110, 'min_samples_split': 5, 'max_features': 'sqrt', 'max_depth': 1}\n",
            "343.50122892465856 {'n_estimators': 110, 'min_samples_split': 10, 'max_features': 'sqrt', 'max_depth': 45}\n"
          ],
          "name": "stdout"
        }
      ]
    },
    {
      "cell_type": "code",
      "metadata": {
        "colab": {
          "base_uri": "https://localhost:8080/"
        },
        "id": "R6xcnUqd8YDs",
        "outputId": "43176d04-63e7-4a85-ba7f-7c05fa3e7661"
      },
      "source": [
        "# best random model \n",
        "rf_random.best_estimator_"
      ],
      "execution_count": 107,
      "outputs": [
        {
          "output_type": "execute_result",
          "data": {
            "text/plain": [
              "RandomForestRegressor(bootstrap=True, ccp_alpha=0.0, criterion='mse',\n",
              "                      max_depth=45, max_features='sqrt', max_leaf_nodes=None,\n",
              "                      max_samples=None, min_impurity_decrease=0.0,\n",
              "                      min_impurity_split=None, min_samples_leaf=1,\n",
              "                      min_samples_split=5, min_weight_fraction_leaf=0.0,\n",
              "                      n_estimators=200, n_jobs=-1, oob_score=False,\n",
              "                      random_state=None, verbose=0, warm_start=False)"
            ]
          },
          "metadata": {
            "tags": []
          },
          "execution_count": 107
        }
      ]
    },
    {
      "cell_type": "code",
      "metadata": {
        "colab": {
          "base_uri": "https://localhost:8080/"
        },
        "id": "re1CbSxn8gMD",
        "outputId": "2efbe8f4-2c80-49b2-e850-0e502a525590"
      },
      "source": [
        "# best combination of parameters of random search\n",
        "rf_random.best_params_"
      ],
      "execution_count": 108,
      "outputs": [
        {
          "output_type": "execute_result",
          "data": {
            "text/plain": [
              "{'max_depth': 45,\n",
              " 'max_features': 'sqrt',\n",
              " 'min_samples_split': 5,\n",
              " 'n_estimators': 200}"
            ]
          },
          "metadata": {
            "tags": []
          },
          "execution_count": 108
        }
      ]
    },
    {
      "cell_type": "code",
      "metadata": {
        "colab": {
          "base_uri": "https://localhost:8080/"
        },
        "id": "Lzb_MXBq8ncE",
        "outputId": "9c19cebd-e7ef-442f-c0e5-3baf36528106"
      },
      "source": [
        "rf_random.best_estimator_"
      ],
      "execution_count": 109,
      "outputs": [
        {
          "output_type": "execute_result",
          "data": {
            "text/plain": [
              "RandomForestRegressor(bootstrap=True, ccp_alpha=0.0, criterion='mse',\n",
              "                      max_depth=45, max_features='sqrt', max_leaf_nodes=None,\n",
              "                      max_samples=None, min_impurity_decrease=0.0,\n",
              "                      min_impurity_split=None, min_samples_leaf=1,\n",
              "                      min_samples_split=5, min_weight_fraction_leaf=0.0,\n",
              "                      n_estimators=200, n_jobs=-1, oob_score=False,\n",
              "                      random_state=None, verbose=0, warm_start=False)"
            ]
          },
          "metadata": {
            "tags": []
          },
          "execution_count": 109
        }
      ]
    },
    {
      "cell_type": "code",
      "metadata": {
        "colab": {
          "base_uri": "https://localhost:8080/"
        },
        "id": "Aje1i8Bl8oGW",
        "outputId": "1c6b4a11-4f56-4992-a5bd-0c6d29bb0c53"
      },
      "source": [
        "# Performance metrics (MAPE)\n",
        "random_best= rf_random.best_estimator_.predict(x_train)\n",
        "errors = abs(random_best - y_train)\n",
        "# Calculate mean absolute percentage error (MAPE)\n",
        "mape = np.mean(100 * (errors / y_train))\n",
        "accuracy = 100 - mape    \n",
        "#print result\n",
        "print('The best model from the randomized search has an accuracy of', round(accuracy, 2),'%')"
      ],
      "execution_count": 110,
      "outputs": [
        {
          "output_type": "stream",
          "text": [
            "The best model from the randomized search has an accuracy of 83.7 %\n"
          ],
          "name": "stdout"
        }
      ]
    },
    {
      "cell_type": "code",
      "metadata": {
        "colab": {
          "base_uri": "https://localhost:8080/"
        },
        "id": "ndsr3Afm8xJE",
        "outputId": "ad079736-4248-4826-9c88-924a5a77330f"
      },
      "source": [
        "#this is the RMSE\n",
        "final_mse = mean_squared_error(y_train, random_best)\n",
        "final_rmse = np.sqrt(final_mse)\n",
        "print('The best model from the randomized search has a RMSE of', round(final_rmse, 2))"
      ],
      "execution_count": 111,
      "outputs": [
        {
          "output_type": "stream",
          "text": [
            "The best model from the randomized search has a RMSE of 217.7\n"
          ],
          "name": "stdout"
        }
      ]
    },
    {
      "cell_type": "code",
      "metadata": {
        "colab": {
          "base_uri": "https://localhost:8080/"
        },
        "id": "S4q2PzuX9ApD",
        "outputId": "73aeddde-ea15-406f-8f75-038e4fbff780"
      },
      "source": [
        "# extract the numerical values of feature importance from the grid search\n",
        "importances = rf_random.best_estimator_.feature_importances_\n",
        "\n",
        "#create a feature list from the original dataset (list of columns)\n",
        "feature_list = list(X.columns)\n",
        "\n",
        "#create a list of tuples\n",
        "feature_importance= sorted(zip(importances, feature_list), reverse=True)\n",
        "\n",
        "#create two lists from the previous list of tuples\n",
        "df2 = pd.DataFrame(feature_importance, columns=['importance', 'feature'])\n",
        "importance= list(df2['importance'])\n",
        "feature= list(df2['feature'])\n",
        "\n",
        "print(df2)"
      ],
      "execution_count": 112,
      "outputs": [
        {
          "output_type": "stream",
          "text": [
            "    importance          feature\n",
            "0     0.197380    PriceType_USD\n",
            "1     0.160902     city_encoded\n",
            "2     0.126270             city\n",
            "3     0.119763    PriceType_JOD\n",
            "4     0.106031    PriceType_NIS\n",
            "5     0.071002       houseSpace\n",
            "6     0.035008  numberBathrooms\n",
            "7     0.031765      numberRooms\n",
            "8     0.027496           status\n",
            "9     0.027255      featurePlus\n",
            "10    0.019318         elevator\n",
            "11    0.016677           Bldg_A\n",
            "12    0.015163  numberBalconies\n",
            "13    0.013836       carParking\n",
            "14    0.012820          heating\n",
            "15    0.011025           Bldg_B\n",
            "16    0.008289           Bldg_C\n"
          ],
          "name": "stdout"
        }
      ]
    },
    {
      "cell_type": "code",
      "metadata": {
        "colab": {
          "base_uri": "https://localhost:8080/",
          "height": 586
        },
        "id": "xGF4z2kD9Si8",
        "outputId": "f273e9c9-c5d4-46a3-9b5a-d1dd9ceda528"
      },
      "source": [
        "# Set the style\n",
        "plt.style.use('bmh')\n",
        "# list of x locations for plotting\n",
        "x_values = list(range(len(feature_importance)))\n",
        "\n",
        "# Make a bar chart\n",
        "plt.figure(figsize=(15,10))\n",
        "plt.bar(x_values, importance, orientation = 'vertical')\n",
        "plt.xticks(x_values, feature, rotation='vertical')\n",
        "plt.ylabel('Importance'); plt.xlabel('Variable'); plt.title('Variable Importances');"
      ],
      "execution_count": 113,
      "outputs": [
        {
          "output_type": "display_data",
          "data": {
            "image/png": "[encoded data removed]",
            "text/plain": [
              "<Figure size 1080x720 with 1 Axes>"
            ]
          },
          "metadata": {
            "tags": []
          }
        }
      ]
    },
    {
      "cell_type": "code",
      "metadata": {
        "colab": {
          "base_uri": "https://localhost:8080/"
        },
        "id": "Q4scLTzZ96eu",
        "outputId": "fb80a09e-09f5-4bef-c27b-792c7dca840f"
      },
      "source": [
        "final_model = rf_random.best_estimator_\n",
        "# Predicting test set results\n",
        "final_pred = final_model.predict(x_test)\n",
        "final_mse = mean_squared_error(y_test, final_pred)\n",
        "final_rmse = np.sqrt(final_mse)\n",
        "print('The final RMSE on the test set is', round(final_rmse, 2))"
      ],
      "execution_count": 114,
      "outputs": [
        {
          "output_type": "stream",
          "text": [
            "The final RMSE on the test set is 333.63\n"
          ],
          "name": "stdout"
        }
      ]
    },
    {
      "cell_type": "code",
      "metadata": {
        "colab": {
          "base_uri": "https://localhost:8080/"
        },
        "id": "ebjsZCni998U",
        "outputId": "7720b491-39ee-4010-814e-1dec55f86886"
      },
      "source": [
        "\n",
        "errors = abs(final_pred - y_test)\n",
        "# Calculate mean absolute percentage error (MAPE)\n",
        "mape = np.mean(100 * (errors / y_test))\n",
        "# Calculate and display accuracy\n",
        "accuracy = 100 - mape    \n",
        "#print result\n",
        "print('The best model achieves on the test set an accuracy of', round(accuracy, 2),'%')"
      ],
      "execution_count": 115,
      "outputs": [
        {
          "output_type": "stream",
          "text": [
            "The best model achieves on the test set an accuracy of 74.63 %\n"
          ],
          "name": "stdout"
        }
      ]
    },
    {
      "cell_type": "code",
      "metadata": {
        "id": "HoHjN1ldFmcx"
      },
      "source": [
        "from joblib import dump,load\n",
        "#dump(rf_random,'priceprediction.joblib')"
      ],
      "execution_count": 116,
      "outputs": []
    },
    {
      "cell_type": "code",
      "metadata": {
        "colab": {
          "base_uri": "https://localhost:8080/"
        },
        "id": "-CDiwoOI6vW3",
        "outputId": "ad987976-c675-4580-ef8b-504d13d56e0f"
      },
      "source": [
        "index_names = x_test[ x_test['PriceType_NIS'] == 0  ].index \n",
        "index_names\n",
        "# drop these row indexes \n",
        "# from dataFrame \n",
        "x_test.drop(index_names, inplace = True)\n",
        "y_test.drop(index_names, inplace = True)\n",
        "\n",
        "final_pred = final_model.predict(x_test)\n",
        "\n",
        "errors = abs(final_pred - y_test)\n",
        "# Calculate mean absolute percentage error (MAPE)\n",
        "mape = np.mean(100 * (errors / y_test))\n",
        "# Calculate and display accuracy\n",
        "accuracy = 100 - mape    \n",
        "#print result\n",
        "print('The best model achieves on the test set an accuracy of', round(accuracy, 2),'%')"
      ],
      "execution_count": 117,
      "outputs": [
        {
          "output_type": "stream",
          "text": [
            "The best model achieves on the test set an accuracy of 68.21 %\n"
          ],
          "name": "stdout"
        }
      ]
    },
    {
      "cell_type": "code",
      "metadata": {
        "id": "mimO5Hpx6vf0"
      },
      "source": [
        ""
      ],
      "execution_count": 117,
      "outputs": []
    },
    {
      "cell_type": "code",
      "metadata": {
        "id": "xrJfdlux6vor"
      },
      "source": [
        ""
      ],
      "execution_count": 117,
      "outputs": []
    },
    {
      "cell_type": "code",
      "metadata": {
        "id": "IhOXKd3H1StK"
      },
      "source": [
        ""
      ],
      "execution_count": 118,
      "outputs": []
    }
  ]
}