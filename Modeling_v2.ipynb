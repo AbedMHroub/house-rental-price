{
  "nbformat": 4,
  "nbformat_minor": 0,
  "metadata": {
    "colab": {
      "name": "Modeling_v2.ipynb",
      "provenance": [],
      "collapsed_sections": [],
      "include_colab_link": true
    },
    "kernelspec": {
      "name": "python3",
      "display_name": "Python 3"
    }
  },
  "cells": [
    {
      "cell_type": "markdown",
      "metadata": {
        "id": "view-in-github",
        "colab_type": "text"
      },
      "source": [
        "<a href=\"https://colab.research.google.com/github/AbedMHroub/house-rental-price/blob/Modeling/Modeling_v2.ipynb\" target=\"_parent\"><img src=\"https://colab.research.google.com/assets/colab-badge.svg\" alt=\"Open In Colab\"/></a>"
      ]
    },
    {
      "cell_type": "code",
      "metadata": {
        "id": "ytCTiZWJe3ri"
      },
      "source": [
        "#!pip install category-encoders\n",
        "import os\n",
        "import warnings\n",
        "from pathlib import Path\n",
        "\n",
        "import matplotlib.pyplot as plt\n",
        "import numpy as np\n",
        "import pandas as pd\n",
        "import seaborn as sns\n",
        "from IPython.display import display\n",
        "from pandas.api.types import CategoricalDtype\n",
        "\n",
        "#from category_encoders import MEstimateEncoder\n",
        "from sklearn.cluster import KMeans\n",
        "from sklearn.decomposition import PCA\n",
        "from sklearn.feature_selection import mutual_info_regression\n",
        "from sklearn.model_selection import KFold, cross_val_score\n",
        "from xgboost import XGBRegressor\n",
        "from sklearn.linear_model import LinearRegression\n",
        "from sklearn.ensemble import RandomForestRegressor\n",
        "from sklearn.linear_model import Ridge\n",
        "\n",
        "# Set Matplotlib defaults\n",
        "plt.style.use(\"seaborn-whitegrid\")\n",
        "plt.rc(\"figure\", autolayout=True)\n",
        "plt.rc(\n",
        "    \"axes\",\n",
        "    labelweight=\"bold\",\n",
        "    labelsize=\"large\",\n",
        "    titleweight=\"bold\",\n",
        "    titlesize=14,\n",
        "    titlepad=10,\n",
        ")\n",
        "\n",
        "# Mute warnings\n",
        "warnings.filterwarnings('ignore')"
      ],
      "execution_count": 2,
      "outputs": []
    },
    {
      "cell_type": "code",
      "metadata": {
        "colab": {
          "base_uri": "https://localhost:8080/",
          "height": 422
        },
        "id": "2Vo0XdSTgdXz",
        "outputId": "27e2e4f1-8168-447d-91d1-41aba827d90d"
      },
      "source": [
        "data_dir = Path(\"/content/dfFE11-v2.csv\")\n",
        "df = pd.read_csv(data_dir)\n",
        "df"
      ],
      "execution_count": 3,
      "outputs": [
        {
          "output_type": "execute_result",
          "data": {
            "text/html": [
              "<div>\n",
              "<style scoped>\n",
              "    .dataframe tbody tr th:only-of-type {\n",
              "        vertical-align: middle;\n",
              "    }\n",
              "\n",
              "    .dataframe tbody tr th {\n",
              "        vertical-align: top;\n",
              "    }\n",
              "\n",
              "    .dataframe thead th {\n",
              "        text-align: right;\n",
              "    }\n",
              "</style>\n",
              "<table border=\"1\" class=\"dataframe\">\n",
              "  <thead>\n",
              "    <tr style=\"text-align: right;\">\n",
              "      <th></th>\n",
              "      <th>city</th>\n",
              "      <th>status</th>\n",
              "      <th>numberRooms</th>\n",
              "      <th>numberBathrooms</th>\n",
              "      <th>numberBalconies</th>\n",
              "      <th>elevator</th>\n",
              "      <th>carParking</th>\n",
              "      <th>heating</th>\n",
              "      <th>houseSpace</th>\n",
              "      <th>PriceType_JOD</th>\n",
              "      <th>PriceType_NIS</th>\n",
              "      <th>PriceType_USD</th>\n",
              "      <th>featurePlus</th>\n",
              "      <th>Bldg_A</th>\n",
              "      <th>Bldg_B</th>\n",
              "      <th>Bldg_C</th>\n",
              "      <th>MedstatusHouseSpace</th>\n",
              "      <th>city_encoded</th>\n",
              "      <th>price</th>\n",
              "    </tr>\n",
              "  </thead>\n",
              "  <tbody>\n",
              "    <tr>\n",
              "      <th>0</th>\n",
              "      <td>1</td>\n",
              "      <td>1</td>\n",
              "      <td>1</td>\n",
              "      <td>1</td>\n",
              "      <td>0</td>\n",
              "      <td>1</td>\n",
              "      <td>1</td>\n",
              "      <td>0</td>\n",
              "      <td>140.0</td>\n",
              "      <td>0</td>\n",
              "      <td>1</td>\n",
              "      <td>0</td>\n",
              "      <td>1.000000</td>\n",
              "      <td>0</td>\n",
              "      <td>0</td>\n",
              "      <td>0</td>\n",
              "      <td>140.0</td>\n",
              "      <td>2179.295502</td>\n",
              "      <td>1300</td>\n",
              "    </tr>\n",
              "    <tr>\n",
              "      <th>1</th>\n",
              "      <td>1</td>\n",
              "      <td>1</td>\n",
              "      <td>1</td>\n",
              "      <td>1</td>\n",
              "      <td>1</td>\n",
              "      <td>1</td>\n",
              "      <td>1</td>\n",
              "      <td>0</td>\n",
              "      <td>80.0</td>\n",
              "      <td>0</td>\n",
              "      <td>0</td>\n",
              "      <td>1</td>\n",
              "      <td>1.000000</td>\n",
              "      <td>1</td>\n",
              "      <td>0</td>\n",
              "      <td>0</td>\n",
              "      <td>140.0</td>\n",
              "      <td>2179.295502</td>\n",
              "      <td>550</td>\n",
              "    </tr>\n",
              "    <tr>\n",
              "      <th>2</th>\n",
              "      <td>1</td>\n",
              "      <td>1</td>\n",
              "      <td>3</td>\n",
              "      <td>3</td>\n",
              "      <td>2</td>\n",
              "      <td>1</td>\n",
              "      <td>1</td>\n",
              "      <td>1</td>\n",
              "      <td>190.0</td>\n",
              "      <td>0</td>\n",
              "      <td>0</td>\n",
              "      <td>1</td>\n",
              "      <td>1.000000</td>\n",
              "      <td>2</td>\n",
              "      <td>0</td>\n",
              "      <td>0</td>\n",
              "      <td>140.0</td>\n",
              "      <td>2179.295502</td>\n",
              "      <td>1000</td>\n",
              "    </tr>\n",
              "    <tr>\n",
              "      <th>3</th>\n",
              "      <td>1</td>\n",
              "      <td>1</td>\n",
              "      <td>3</td>\n",
              "      <td>3</td>\n",
              "      <td>1</td>\n",
              "      <td>1</td>\n",
              "      <td>1</td>\n",
              "      <td>1</td>\n",
              "      <td>190.0</td>\n",
              "      <td>0</td>\n",
              "      <td>0</td>\n",
              "      <td>1</td>\n",
              "      <td>1.000000</td>\n",
              "      <td>1</td>\n",
              "      <td>0</td>\n",
              "      <td>0</td>\n",
              "      <td>140.0</td>\n",
              "      <td>2179.295502</td>\n",
              "      <td>950</td>\n",
              "    </tr>\n",
              "    <tr>\n",
              "      <th>4</th>\n",
              "      <td>1</td>\n",
              "      <td>1</td>\n",
              "      <td>3</td>\n",
              "      <td>3</td>\n",
              "      <td>3</td>\n",
              "      <td>1</td>\n",
              "      <td>1</td>\n",
              "      <td>0</td>\n",
              "      <td>160.0</td>\n",
              "      <td>0</td>\n",
              "      <td>0</td>\n",
              "      <td>1</td>\n",
              "      <td>1.000000</td>\n",
              "      <td>3</td>\n",
              "      <td>0</td>\n",
              "      <td>0</td>\n",
              "      <td>140.0</td>\n",
              "      <td>2179.295502</td>\n",
              "      <td>800</td>\n",
              "    </tr>\n",
              "    <tr>\n",
              "      <th>...</th>\n",
              "      <td>...</td>\n",
              "      <td>...</td>\n",
              "      <td>...</td>\n",
              "      <td>...</td>\n",
              "      <td>...</td>\n",
              "      <td>...</td>\n",
              "      <td>...</td>\n",
              "      <td>...</td>\n",
              "      <td>...</td>\n",
              "      <td>...</td>\n",
              "      <td>...</td>\n",
              "      <td>...</td>\n",
              "      <td>...</td>\n",
              "      <td>...</td>\n",
              "      <td>...</td>\n",
              "      <td>...</td>\n",
              "      <td>...</td>\n",
              "      <td>...</td>\n",
              "      <td>...</td>\n",
              "    </tr>\n",
              "    <tr>\n",
              "      <th>7561</th>\n",
              "      <td>1</td>\n",
              "      <td>1</td>\n",
              "      <td>2</td>\n",
              "      <td>2</td>\n",
              "      <td>1</td>\n",
              "      <td>1</td>\n",
              "      <td>1</td>\n",
              "      <td>0</td>\n",
              "      <td>120.0</td>\n",
              "      <td>0</td>\n",
              "      <td>0</td>\n",
              "      <td>1</td>\n",
              "      <td>1.000000</td>\n",
              "      <td>1</td>\n",
              "      <td>0</td>\n",
              "      <td>0</td>\n",
              "      <td>140.0</td>\n",
              "      <td>1789.162426</td>\n",
              "      <td>600</td>\n",
              "    </tr>\n",
              "    <tr>\n",
              "      <th>7562</th>\n",
              "      <td>1</td>\n",
              "      <td>2</td>\n",
              "      <td>3</td>\n",
              "      <td>2</td>\n",
              "      <td>1</td>\n",
              "      <td>1</td>\n",
              "      <td>1</td>\n",
              "      <td>0</td>\n",
              "      <td>140.0</td>\n",
              "      <td>0</td>\n",
              "      <td>0</td>\n",
              "      <td>1</td>\n",
              "      <td>0.666667</td>\n",
              "      <td>0</td>\n",
              "      <td>1</td>\n",
              "      <td>0</td>\n",
              "      <td>140.0</td>\n",
              "      <td>1789.162426</td>\n",
              "      <td>500</td>\n",
              "    </tr>\n",
              "    <tr>\n",
              "      <th>7563</th>\n",
              "      <td>5</td>\n",
              "      <td>2</td>\n",
              "      <td>3</td>\n",
              "      <td>2</td>\n",
              "      <td>2</td>\n",
              "      <td>0</td>\n",
              "      <td>0</td>\n",
              "      <td>0</td>\n",
              "      <td>150.0</td>\n",
              "      <td>0</td>\n",
              "      <td>1</td>\n",
              "      <td>0</td>\n",
              "      <td>0.666667</td>\n",
              "      <td>0</td>\n",
              "      <td>2</td>\n",
              "      <td>0</td>\n",
              "      <td>140.0</td>\n",
              "      <td>4696.623612</td>\n",
              "      <td>1600</td>\n",
              "    </tr>\n",
              "    <tr>\n",
              "      <th>7564</th>\n",
              "      <td>4</td>\n",
              "      <td>1</td>\n",
              "      <td>1</td>\n",
              "      <td>1</td>\n",
              "      <td>1</td>\n",
              "      <td>1</td>\n",
              "      <td>1</td>\n",
              "      <td>1</td>\n",
              "      <td>70.0</td>\n",
              "      <td>0</td>\n",
              "      <td>1</td>\n",
              "      <td>0</td>\n",
              "      <td>1.000000</td>\n",
              "      <td>1</td>\n",
              "      <td>0</td>\n",
              "      <td>0</td>\n",
              "      <td>140.0</td>\n",
              "      <td>3882.401112</td>\n",
              "      <td>1000</td>\n",
              "    </tr>\n",
              "    <tr>\n",
              "      <th>7565</th>\n",
              "      <td>1</td>\n",
              "      <td>1</td>\n",
              "      <td>2</td>\n",
              "      <td>2</td>\n",
              "      <td>0</td>\n",
              "      <td>0</td>\n",
              "      <td>0</td>\n",
              "      <td>0</td>\n",
              "      <td>120.0</td>\n",
              "      <td>0</td>\n",
              "      <td>1</td>\n",
              "      <td>0</td>\n",
              "      <td>1.000000</td>\n",
              "      <td>0</td>\n",
              "      <td>0</td>\n",
              "      <td>0</td>\n",
              "      <td>140.0</td>\n",
              "      <td>1789.162426</td>\n",
              "      <td>1750</td>\n",
              "    </tr>\n",
              "  </tbody>\n",
              "</table>\n",
              "<p>7566 rows × 19 columns</p>\n",
              "</div>"
            ],
            "text/plain": [
              "      city  status  numberRooms  ...  MedstatusHouseSpace  city_encoded  price\n",
              "0        1       1            1  ...                140.0   2179.295502   1300\n",
              "1        1       1            1  ...                140.0   2179.295502    550\n",
              "2        1       1            3  ...                140.0   2179.295502   1000\n",
              "3        1       1            3  ...                140.0   2179.295502    950\n",
              "4        1       1            3  ...                140.0   2179.295502    800\n",
              "...    ...     ...          ...  ...                  ...           ...    ...\n",
              "7561     1       1            2  ...                140.0   1789.162426    600\n",
              "7562     1       2            3  ...                140.0   1789.162426    500\n",
              "7563     5       2            3  ...                140.0   4696.623612   1600\n",
              "7564     4       1            1  ...                140.0   3882.401112   1000\n",
              "7565     1       1            2  ...                140.0   1789.162426   1750\n",
              "\n",
              "[7566 rows x 19 columns]"
            ]
          },
          "metadata": {
            "tags": []
          },
          "execution_count": 3
        }
      ]
    },
    {
      "cell_type": "code",
      "metadata": {
        "colab": {
          "base_uri": "https://localhost:8080/",
          "height": 386
        },
        "id": "dOzjukK7kd2y",
        "outputId": "ec55e8a9-9afe-4d20-ca0e-2a59a2f4d24d"
      },
      "source": [
        "sns.relplot(x=\"city\", y=\"price\", data=df)"
      ],
      "execution_count": 4,
      "outputs": [
        {
          "output_type": "execute_result",
          "data": {
            "text/plain": [
              "<seaborn.axisgrid.FacetGrid at 0x7f05d7924a90>"
            ]
          },
          "metadata": {
            "tags": []
          },
          "execution_count": 4
        },
        {
          "output_type": "display_data",
          "data": {
            "image/png": "[encoded data removed]",
            "text/plain": [
              "<Figure size 360x360 with 1 Axes>"
            ]
          },
          "metadata": {
            "tags": []
          }
        }
      ]
    },
    {
      "cell_type": "code",
      "metadata": {
        "colab": {
          "base_uri": "https://localhost:8080/",
          "height": 422
        },
        "id": "EfJgmW6xzYx5",
        "outputId": "f8aa30de-84e5-4470-fecb-d2ad6bceeae2"
      },
      "source": [
        "X = df.drop(\"price\", axis=1)\n",
        "X = X.drop(\"MedstatusHouseSpace\", axis=1)\n",
        "Y = df[\"price\"].copy()\n",
        "X"
      ],
      "execution_count": 5,
      "outputs": [
        {
          "output_type": "execute_result",
          "data": {
            "text/html": [
              "<div>\n",
              "<style scoped>\n",
              "    .dataframe tbody tr th:only-of-type {\n",
              "        vertical-align: middle;\n",
              "    }\n",
              "\n",
              "    .dataframe tbody tr th {\n",
              "        vertical-align: top;\n",
              "    }\n",
              "\n",
              "    .dataframe thead th {\n",
              "        text-align: right;\n",
              "    }\n",
              "</style>\n",
              "<table border=\"1\" class=\"dataframe\">\n",
              "  <thead>\n",
              "    <tr style=\"text-align: right;\">\n",
              "      <th></th>\n",
              "      <th>city</th>\n",
              "      <th>status</th>\n",
              "      <th>numberRooms</th>\n",
              "      <th>numberBathrooms</th>\n",
              "      <th>numberBalconies</th>\n",
              "      <th>elevator</th>\n",
              "      <th>carParking</th>\n",
              "      <th>heating</th>\n",
              "      <th>houseSpace</th>\n",
              "      <th>PriceType_JOD</th>\n",
              "      <th>PriceType_NIS</th>\n",
              "      <th>PriceType_USD</th>\n",
              "      <th>featurePlus</th>\n",
              "      <th>Bldg_A</th>\n",
              "      <th>Bldg_B</th>\n",
              "      <th>Bldg_C</th>\n",
              "      <th>city_encoded</th>\n",
              "    </tr>\n",
              "  </thead>\n",
              "  <tbody>\n",
              "    <tr>\n",
              "      <th>0</th>\n",
              "      <td>1</td>\n",
              "      <td>1</td>\n",
              "      <td>1</td>\n",
              "      <td>1</td>\n",
              "      <td>0</td>\n",
              "      <td>1</td>\n",
              "      <td>1</td>\n",
              "      <td>0</td>\n",
              "      <td>140.0</td>\n",
              "      <td>0</td>\n",
              "      <td>1</td>\n",
              "      <td>0</td>\n",
              "      <td>1.000000</td>\n",
              "      <td>0</td>\n",
              "      <td>0</td>\n",
              "      <td>0</td>\n",
              "      <td>2179.295502</td>\n",
              "    </tr>\n",
              "    <tr>\n",
              "      <th>1</th>\n",
              "      <td>1</td>\n",
              "      <td>1</td>\n",
              "      <td>1</td>\n",
              "      <td>1</td>\n",
              "      <td>1</td>\n",
              "      <td>1</td>\n",
              "      <td>1</td>\n",
              "      <td>0</td>\n",
              "      <td>80.0</td>\n",
              "      <td>0</td>\n",
              "      <td>0</td>\n",
              "      <td>1</td>\n",
              "      <td>1.000000</td>\n",
              "      <td>1</td>\n",
              "      <td>0</td>\n",
              "      <td>0</td>\n",
              "      <td>2179.295502</td>\n",
              "    </tr>\n",
              "    <tr>\n",
              "      <th>2</th>\n",
              "      <td>1</td>\n",
              "      <td>1</td>\n",
              "      <td>3</td>\n",
              "      <td>3</td>\n",
              "      <td>2</td>\n",
              "      <td>1</td>\n",
              "      <td>1</td>\n",
              "      <td>1</td>\n",
              "      <td>190.0</td>\n",
              "      <td>0</td>\n",
              "      <td>0</td>\n",
              "      <td>1</td>\n",
              "      <td>1.000000</td>\n",
              "      <td>2</td>\n",
              "      <td>0</td>\n",
              "      <td>0</td>\n",
              "      <td>2179.295502</td>\n",
              "    </tr>\n",
              "    <tr>\n",
              "      <th>3</th>\n",
              "      <td>1</td>\n",
              "      <td>1</td>\n",
              "      <td>3</td>\n",
              "      <td>3</td>\n",
              "      <td>1</td>\n",
              "      <td>1</td>\n",
              "      <td>1</td>\n",
              "      <td>1</td>\n",
              "      <td>190.0</td>\n",
              "      <td>0</td>\n",
              "      <td>0</td>\n",
              "      <td>1</td>\n",
              "      <td>1.000000</td>\n",
              "      <td>1</td>\n",
              "      <td>0</td>\n",
              "      <td>0</td>\n",
              "      <td>2179.295502</td>\n",
              "    </tr>\n",
              "    <tr>\n",
              "      <th>4</th>\n",
              "      <td>1</td>\n",
              "      <td>1</td>\n",
              "      <td>3</td>\n",
              "      <td>3</td>\n",
              "      <td>3</td>\n",
              "      <td>1</td>\n",
              "      <td>1</td>\n",
              "      <td>0</td>\n",
              "      <td>160.0</td>\n",
              "      <td>0</td>\n",
              "      <td>0</td>\n",
              "      <td>1</td>\n",
              "      <td>1.000000</td>\n",
              "      <td>3</td>\n",
              "      <td>0</td>\n",
              "      <td>0</td>\n",
              "      <td>2179.295502</td>\n",
              "    </tr>\n",
              "    <tr>\n",
              "      <th>...</th>\n",
              "      <td>...</td>\n",
              "      <td>...</td>\n",
              "      <td>...</td>\n",
              "      <td>...</td>\n",
              "      <td>...</td>\n",
              "      <td>...</td>\n",
              "      <td>...</td>\n",
              "      <td>...</td>\n",
              "      <td>...</td>\n",
              "      <td>...</td>\n",
              "      <td>...</td>\n",
              "      <td>...</td>\n",
              "      <td>...</td>\n",
              "      <td>...</td>\n",
              "      <td>...</td>\n",
              "      <td>...</td>\n",
              "      <td>...</td>\n",
              "    </tr>\n",
              "    <tr>\n",
              "      <th>7561</th>\n",
              "      <td>1</td>\n",
              "      <td>1</td>\n",
              "      <td>2</td>\n",
              "      <td>2</td>\n",
              "      <td>1</td>\n",
              "      <td>1</td>\n",
              "      <td>1</td>\n",
              "      <td>0</td>\n",
              "      <td>120.0</td>\n",
              "      <td>0</td>\n",
              "      <td>0</td>\n",
              "      <td>1</td>\n",
              "      <td>1.000000</td>\n",
              "      <td>1</td>\n",
              "      <td>0</td>\n",
              "      <td>0</td>\n",
              "      <td>1789.162426</td>\n",
              "    </tr>\n",
              "    <tr>\n",
              "      <th>7562</th>\n",
              "      <td>1</td>\n",
              "      <td>2</td>\n",
              "      <td>3</td>\n",
              "      <td>2</td>\n",
              "      <td>1</td>\n",
              "      <td>1</td>\n",
              "      <td>1</td>\n",
              "      <td>0</td>\n",
              "      <td>140.0</td>\n",
              "      <td>0</td>\n",
              "      <td>0</td>\n",
              "      <td>1</td>\n",
              "      <td>0.666667</td>\n",
              "      <td>0</td>\n",
              "      <td>1</td>\n",
              "      <td>0</td>\n",
              "      <td>1789.162426</td>\n",
              "    </tr>\n",
              "    <tr>\n",
              "      <th>7563</th>\n",
              "      <td>5</td>\n",
              "      <td>2</td>\n",
              "      <td>3</td>\n",
              "      <td>2</td>\n",
              "      <td>2</td>\n",
              "      <td>0</td>\n",
              "      <td>0</td>\n",
              "      <td>0</td>\n",
              "      <td>150.0</td>\n",
              "      <td>0</td>\n",
              "      <td>1</td>\n",
              "      <td>0</td>\n",
              "      <td>0.666667</td>\n",
              "      <td>0</td>\n",
              "      <td>2</td>\n",
              "      <td>0</td>\n",
              "      <td>4696.623612</td>\n",
              "    </tr>\n",
              "    <tr>\n",
              "      <th>7564</th>\n",
              "      <td>4</td>\n",
              "      <td>1</td>\n",
              "      <td>1</td>\n",
              "      <td>1</td>\n",
              "      <td>1</td>\n",
              "      <td>1</td>\n",
              "      <td>1</td>\n",
              "      <td>1</td>\n",
              "      <td>70.0</td>\n",
              "      <td>0</td>\n",
              "      <td>1</td>\n",
              "      <td>0</td>\n",
              "      <td>1.000000</td>\n",
              "      <td>1</td>\n",
              "      <td>0</td>\n",
              "      <td>0</td>\n",
              "      <td>3882.401112</td>\n",
              "    </tr>\n",
              "    <tr>\n",
              "      <th>7565</th>\n",
              "      <td>1</td>\n",
              "      <td>1</td>\n",
              "      <td>2</td>\n",
              "      <td>2</td>\n",
              "      <td>0</td>\n",
              "      <td>0</td>\n",
              "      <td>0</td>\n",
              "      <td>0</td>\n",
              "      <td>120.0</td>\n",
              "      <td>0</td>\n",
              "      <td>1</td>\n",
              "      <td>0</td>\n",
              "      <td>1.000000</td>\n",
              "      <td>0</td>\n",
              "      <td>0</td>\n",
              "      <td>0</td>\n",
              "      <td>1789.162426</td>\n",
              "    </tr>\n",
              "  </tbody>\n",
              "</table>\n",
              "<p>7566 rows × 17 columns</p>\n",
              "</div>"
            ],
            "text/plain": [
              "      city  status  numberRooms  ...  Bldg_B  Bldg_C  city_encoded\n",
              "0        1       1            1  ...       0       0   2179.295502\n",
              "1        1       1            1  ...       0       0   2179.295502\n",
              "2        1       1            3  ...       0       0   2179.295502\n",
              "3        1       1            3  ...       0       0   2179.295502\n",
              "4        1       1            3  ...       0       0   2179.295502\n",
              "...    ...     ...          ...  ...     ...     ...           ...\n",
              "7561     1       1            2  ...       0       0   1789.162426\n",
              "7562     1       2            3  ...       1       0   1789.162426\n",
              "7563     5       2            3  ...       2       0   4696.623612\n",
              "7564     4       1            1  ...       0       0   3882.401112\n",
              "7565     1       1            2  ...       0       0   1789.162426\n",
              "\n",
              "[7566 rows x 17 columns]"
            ]
          },
          "metadata": {
            "tags": []
          },
          "execution_count": 5
        }
      ]
    },
    {
      "cell_type": "code",
      "metadata": {
        "id": "-SBZxI7g0IUV"
      },
      "source": [
        "from sklearn.model_selection import train_test_split\n",
        "x_train, x_test, y_train, y_test = train_test_split(X,Y, test_size = .05, random_state= 42)"
      ],
      "execution_count": 6,
      "outputs": []
    },
    {
      "cell_type": "code",
      "metadata": {
        "colab": {
          "base_uri": "https://localhost:8080/"
        },
        "id": "YqRZmHUz0XZh",
        "outputId": "198b6b78-cbe2-43bb-c8f4-f8f24451adb1"
      },
      "source": [
        "from sklearn.tree import DecisionTreeRegressor\n",
        "#fit decision tree\n",
        "tree = DecisionTreeRegressor()\n",
        "tree.fit(x_train, y_train)\n",
        "#fit random forest\n",
        "forest = RandomForestRegressor(n_jobs=-1)\n",
        "forest.fit(x_train, y_train)\n",
        "#fit regression\n",
        "lin_reg = LinearRegression(n_jobs=-1)\n",
        "lin_reg.fit(x_train, y_train)"
      ],
      "execution_count": 7,
      "outputs": [
        {
          "output_type": "execute_result",
          "data": {
            "text/plain": [
              "LinearRegression(copy_X=True, fit_intercept=True, n_jobs=-1, normalize=False)"
            ]
          },
          "metadata": {
            "tags": []
          },
          "execution_count": 7
        }
      ]
    },
    {
      "cell_type": "code",
      "metadata": {
        "colab": {
          "base_uri": "https://localhost:8080/"
        },
        "id": "tRu4C6gX0q2B",
        "outputId": "e9aa825e-634f-4608-e200-71e91cfdc5ed"
      },
      "source": [
        "models= [('lin_reg', lin_reg), ('random forest', forest), ('decision tree', tree)]\n",
        "from sklearn.metrics import mean_squared_error\n",
        "for i, model in models:    \n",
        "    predictions = model.predict(x_train)\n",
        "    MSE = mean_squared_error(y_train, predictions)\n",
        "    RMSE = np.sqrt(MSE)\n",
        "    msg = \"%s = %.2f\" % (i, round(RMSE, 2))\n",
        "    print('RMSE of', msg)"
      ],
      "execution_count": 8,
      "outputs": [
        {
          "output_type": "stream",
          "text": [
            "RMSE of lin_reg = 450.89\n",
            "RMSE of random forest = 162.27\n",
            "RMSE of decision tree = 111.79\n"
          ],
          "name": "stdout"
        }
      ]
    },
    {
      "cell_type": "code",
      "metadata": {
        "colab": {
          "base_uri": "https://localhost:8080/"
        },
        "id": "TCPJIYR31AAn",
        "outputId": "29926d9b-8a24-4102-baf2-fe494f296039"
      },
      "source": [
        "for i, model in models:\n",
        "    # Make predictions on train data\n",
        "    predictions = model.predict(x_train)\n",
        "    # Performance metrics\n",
        "    errors = abs(predictions - y_train)\n",
        "    # Calculate mean absolute percentage error (MAPE)\n",
        "    mape = np.mean(100 * (errors / y_train))\n",
        "    # Calculate and display accuracy\n",
        "    accuracy = 100 - mape    \n",
        "    #print result\n",
        "    msg = \"%s= %.2f\"% (i, round(accuracy, 2))\n",
        "    print('Accuracy of', msg,'%')"
      ],
      "execution_count": 9,
      "outputs": [
        {
          "output_type": "stream",
          "text": [
            "Accuracy of lin_reg= 59.73 %\n",
            "Accuracy of random forest= 88.18 %\n",
            "Accuracy of decision tree= 94.13 %\n"
          ],
          "name": "stdout"
        }
      ]
    },
    {
      "cell_type": "code",
      "metadata": {
        "id": "uSExpY_x1VH5"
      },
      "source": [
        "from sklearn.model_selection import cross_validate\n",
        "models= [('lin_reg', lin_reg), ('forest', forest), ('dt', tree)]\n",
        "scoring = ['neg_mean_squared_error', 'neg_mean_absolute_error', 'r2']\n",
        "\n",
        "\n",
        "results= []\n",
        "metric= []\n",
        "for name, model in models:\n",
        "    for i in scoring:\n",
        "        scores = cross_validate(model, x_train, y_train, scoring=i, cv=10, return_train_score=True)\n",
        "        results.append(scores)"
      ],
      "execution_count": 10,
      "outputs": []
    },
    {
      "cell_type": "code",
      "metadata": {
        "id": "klaHTFwc12HA"
      },
      "source": [
        "\n"
      ],
      "execution_count": 10,
      "outputs": []
    },
    {
      "cell_type": "code",
      "metadata": {
        "id": "84MId-6Z2IJP"
      },
      "source": [
        "#THIS IS FOR Linear regression\n",
        "#RMSE\n",
        "LR_RMSE_mean = np.sqrt(-results[0]['test_score'].mean())\n",
        "LR_RMSE_std= results[0]['test_score'].std()\n",
        "# I changed the sign, as the result is originally a negative number for ease of computation\n",
        "LR_MAE_mean = -results[1]['test_score'].mean()\n",
        "LR_MAE_std= results[1]['test_score'].std()\n",
        "LR_r2_mean = results[2]['test_score'].mean()\n",
        "LR_r2_std = results[2]['test_score'].std()\n",
        "\n",
        "#THIS IS FOR RF\n",
        "RF_RMSE_mean = np.sqrt(-results[3]['test_score'].mean())\n",
        "RF_RMSE_std= results[3]['test_score'].std()\n",
        "RF_MAE_mean = -results[4]['test_score'].mean()\n",
        "RF_MAE_std= results[4]['test_score'].std()\n",
        "RF_r2_mean = results[5]['test_score'].mean()\n",
        "RF_r2_std = results[5]['test_score'].std()\n",
        "\n",
        "#THIS IS FOR DT\n",
        "DT_RMSE_mean = np.sqrt(-results[6]['test_score'].mean())\n",
        "DT_RMSE_std= results[6]['test_score'].std()\n",
        "DT_MAE_mean = -results[7]['test_score'].mean()\n",
        "DT_MAE_std= results[7]['test_score'].std()\n",
        "DT_r2_mean = results[8]['test_score'].mean()\n",
        "DT_r2_std = results[8]['test_score'].std()"
      ],
      "execution_count": 11,
      "outputs": []
    },
    {
      "cell_type": "code",
      "metadata": {
        "colab": {
          "base_uri": "https://localhost:8080/",
          "height": 136
        },
        "id": "sEXyfmYx2c5I",
        "outputId": "219981f0-d8b9-4c3e-fb12-57b1927fb501"
      },
      "source": [
        "modelDF = pd.DataFrame({\n",
        "    'Model'       : ['Linear Regression', 'Random Forest', 'Decision Trees'],\n",
        "    'RMSE_mean'    : [LR_RMSE_mean, RF_RMSE_mean, DT_RMSE_mean],\n",
        "    'RMSE_std'    : [LR_RMSE_std, RF_RMSE_std, DT_RMSE_std],\n",
        "    'MAE_mean'   : [LR_MAE_mean, RF_MAE_mean, DT_MAE_mean],\n",
        "    'MAE_std'   : [LR_MAE_std, RF_MAE_std, DT_MAE_std],\n",
        "    'r2_mean'      : [LR_r2_mean, RF_r2_mean, DT_r2_mean],\n",
        "    'r2_std'      : [LR_r2_std, RF_r2_std, DT_r2_std],\n",
        "    }, columns = ['Model', 'RMSE_mean', 'RMSE_std', 'MAE_mean', 'MAE_std', 'r2_mean', 'r2_std'])\n",
        "\n",
        "modelDF.sort_values(by='r2_mean', ascending=False)"
      ],
      "execution_count": 12,
      "outputs": [
        {
          "output_type": "execute_result",
          "data": {
            "text/html": [
              "<div>\n",
              "<style scoped>\n",
              "    .dataframe tbody tr th:only-of-type {\n",
              "        vertical-align: middle;\n",
              "    }\n",
              "\n",
              "    .dataframe tbody tr th {\n",
              "        vertical-align: top;\n",
              "    }\n",
              "\n",
              "    .dataframe thead th {\n",
              "        text-align: right;\n",
              "    }\n",
              "</style>\n",
              "<table border=\"1\" class=\"dataframe\">\n",
              "  <thead>\n",
              "    <tr style=\"text-align: right;\">\n",
              "      <th></th>\n",
              "      <th>Model</th>\n",
              "      <th>RMSE_mean</th>\n",
              "      <th>RMSE_std</th>\n",
              "      <th>MAE_mean</th>\n",
              "      <th>MAE_std</th>\n",
              "      <th>r2_mean</th>\n",
              "      <th>r2_std</th>\n",
              "    </tr>\n",
              "  </thead>\n",
              "  <tbody>\n",
              "    <tr>\n",
              "      <th>1</th>\n",
              "      <td>Random Forest</td>\n",
              "      <td>346.362835</td>\n",
              "      <td>12737.318463</td>\n",
              "      <td>191.590402</td>\n",
              "      <td>7.957582</td>\n",
              "      <td>0.765104</td>\n",
              "      <td>0.025225</td>\n",
              "    </tr>\n",
              "    <tr>\n",
              "      <th>2</th>\n",
              "      <td>Decision Trees</td>\n",
              "      <td>449.150294</td>\n",
              "      <td>25610.623338</td>\n",
              "      <td>223.482771</td>\n",
              "      <td>15.650028</td>\n",
              "      <td>0.604908</td>\n",
              "      <td>0.050850</td>\n",
              "    </tr>\n",
              "    <tr>\n",
              "      <th>0</th>\n",
              "      <td>Linear Regression</td>\n",
              "      <td>452.457160</td>\n",
              "      <td>20999.472725</td>\n",
              "      <td>280.702287</td>\n",
              "      <td>13.890589</td>\n",
              "      <td>0.599385</td>\n",
              "      <td>0.032068</td>\n",
              "    </tr>\n",
              "  </tbody>\n",
              "</table>\n",
              "</div>"
            ],
            "text/plain": [
              "               Model   RMSE_mean      RMSE_std  ...    MAE_std   r2_mean    r2_std\n",
              "1      Random Forest  346.362835  12737.318463  ...   7.957582  0.765104  0.025225\n",
              "2     Decision Trees  449.150294  25610.623338  ...  15.650028  0.604908  0.050850\n",
              "0  Linear Regression  452.457160  20999.472725  ...  13.890589  0.599385  0.032068\n",
              "\n",
              "[3 rows x 7 columns]"
            ]
          },
          "metadata": {
            "tags": []
          },
          "execution_count": 12
        }
      ]
    },
    {
      "cell_type": "code",
      "metadata": {
        "colab": {
          "base_uri": "https://localhost:8080/",
          "height": 386
        },
        "id": "OSCt-PWJ2d_T",
        "outputId": "103f8658-7970-40ac-8c2a-158af3a97d8e"
      },
      "source": [
        "sns.factorplot(x= 'Model', y= 'RMSE_mean', data= modelDF, kind='bar', legend='True')"
      ],
      "execution_count": 13,
      "outputs": [
        {
          "output_type": "execute_result",
          "data": {
            "text/plain": [
              "<seaborn.axisgrid.FacetGrid at 0x7f05bfe32390>"
            ]
          },
          "metadata": {
            "tags": []
          },
          "execution_count": 13
        },
        {
          "output_type": "display_data",
          "data": {
            "image/png": "[encoded data removed]",
            "text/plain": [
              "<Figure size 360x360 with 1 Axes>"
            ]
          },
          "metadata": {
            "tags": []
          }
        }
      ]
    },
    {
      "cell_type": "code",
      "metadata": {
        "colab": {
          "base_uri": "https://localhost:8080/"
        },
        "id": "kKaMf2YV2rk3",
        "outputId": "f3a220d8-697b-4e34-af50-a625322963a7"
      },
      "source": [
        "from sklearn.model_selection import GridSearchCV\n",
        "\n",
        "param_grid = [\n",
        "{'n_estimators': [10, 25], 'max_features': [5, 10], \n",
        " 'max_depth': [10, 50, None], 'bootstrap': [True, False]}\n",
        "]\n",
        "\n",
        "grid_search_forest = GridSearchCV(forest, param_grid, cv=10, scoring='neg_mean_squared_error')\n",
        "grid_search_forest.fit(x_train, y_train)"
      ],
      "execution_count": 14,
      "outputs": [
        {
          "output_type": "execute_result",
          "data": {
            "text/plain": [
              "GridSearchCV(cv=10, error_score=nan,\n",
              "             estimator=RandomForestRegressor(bootstrap=True, ccp_alpha=0.0,\n",
              "                                             criterion='mse', max_depth=None,\n",
              "                                             max_features='auto',\n",
              "                                             max_leaf_nodes=None,\n",
              "                                             max_samples=None,\n",
              "                                             min_impurity_decrease=0.0,\n",
              "                                             min_impurity_split=None,\n",
              "                                             min_samples_leaf=1,\n",
              "                                             min_samples_split=2,\n",
              "                                             min_weight_fraction_leaf=0.0,\n",
              "                                             n_estimators=100, n_jobs=-1,\n",
              "                                             oob_score=False, random_state=None,\n",
              "                                             verbose=0, warm_start=False),\n",
              "             iid='deprecated', n_jobs=None,\n",
              "             param_grid=[{'bootstrap': [True, False],\n",
              "                          'max_depth': [10, 50, None], 'max_features': [5, 10],\n",
              "                          'n_estimators': [10, 25]}],\n",
              "             pre_dispatch='2*n_jobs', refit=True, return_train_score=False,\n",
              "             scoring='neg_mean_squared_error', verbose=0)"
            ]
          },
          "metadata": {
            "tags": []
          },
          "execution_count": 14
        }
      ]
    },
    {
      "cell_type": "code",
      "metadata": {
        "colab": {
          "base_uri": "https://localhost:8080/"
        },
        "id": "jJHbiqZf7Nb8",
        "outputId": "3be8f411-9f45-49d3-dda1-893df2f17247"
      },
      "source": [
        "#now let's how the RMSE changes for each parameter configuration\n",
        "cvres = grid_search_forest.cv_results_\n",
        "for mean_score, params in zip(cvres[\"mean_test_score\"], cvres[\"params\"]):\n",
        "    print(np.sqrt(-mean_score), params)"
      ],
      "execution_count": 15,
      "outputs": [
        {
          "output_type": "stream",
          "text": [
            "350.8124592942784 {'bootstrap': True, 'max_depth': 10, 'max_features': 5, 'n_estimators': 10}\n",
            "347.73368768982755 {'bootstrap': True, 'max_depth': 10, 'max_features': 5, 'n_estimators': 25}\n",
            "350.3883084704995 {'bootstrap': True, 'max_depth': 10, 'max_features': 10, 'n_estimators': 10}\n",
            "348.3071086279065 {'bootstrap': True, 'max_depth': 10, 'max_features': 10, 'n_estimators': 25}\n",
            "354.0310438099423 {'bootstrap': True, 'max_depth': 50, 'max_features': 5, 'n_estimators': 10}\n",
            "340.2000969266329 {'bootstrap': True, 'max_depth': 50, 'max_features': 5, 'n_estimators': 25}\n",
            "351.76971930111887 {'bootstrap': True, 'max_depth': 50, 'max_features': 10, 'n_estimators': 10}\n",
            "345.3775729993359 {'bootstrap': True, 'max_depth': 50, 'max_features': 10, 'n_estimators': 25}\n",
            "352.3985903487693 {'bootstrap': True, 'max_depth': None, 'max_features': 5, 'n_estimators': 10}\n",
            "342.15870661787585 {'bootstrap': True, 'max_depth': None, 'max_features': 5, 'n_estimators': 25}\n",
            "352.5080601710392 {'bootstrap': True, 'max_depth': None, 'max_features': 10, 'n_estimators': 10}\n",
            "344.0547700758816 {'bootstrap': True, 'max_depth': None, 'max_features': 10, 'n_estimators': 25}\n",
            "350.4778274198574 {'bootstrap': False, 'max_depth': 10, 'max_features': 5, 'n_estimators': 10}\n",
            "343.5884289994116 {'bootstrap': False, 'max_depth': 10, 'max_features': 5, 'n_estimators': 25}\n",
            "353.6507056274496 {'bootstrap': False, 'max_depth': 10, 'max_features': 10, 'n_estimators': 10}\n",
            "349.9635257879289 {'bootstrap': False, 'max_depth': 10, 'max_features': 10, 'n_estimators': 25}\n",
            "353.8323036060928 {'bootstrap': False, 'max_depth': 50, 'max_features': 5, 'n_estimators': 10}\n",
            "352.2545854718341 {'bootstrap': False, 'max_depth': 50, 'max_features': 5, 'n_estimators': 25}\n",
            "366.69832599329203 {'bootstrap': False, 'max_depth': 50, 'max_features': 10, 'n_estimators': 10}\n",
            "360.7878288413681 {'bootstrap': False, 'max_depth': 50, 'max_features': 10, 'n_estimators': 25}\n",
            "359.65253653485416 {'bootstrap': False, 'max_depth': None, 'max_features': 5, 'n_estimators': 10}\n",
            "353.2941402321658 {'bootstrap': False, 'max_depth': None, 'max_features': 5, 'n_estimators': 25}\n",
            "365.65606154380737 {'bootstrap': False, 'max_depth': None, 'max_features': 10, 'n_estimators': 10}\n",
            "359.97145890164967 {'bootstrap': False, 'max_depth': None, 'max_features': 10, 'n_estimators': 25}\n"
          ],
          "name": "stdout"
        }
      ]
    },
    {
      "cell_type": "code",
      "metadata": {
        "colab": {
          "base_uri": "https://localhost:8080/"
        },
        "id": "_AbwKyug7cgj",
        "outputId": "199e8f39-4191-4a3d-977e-faeb7ad478af"
      },
      "source": [
        "#find the best model of grid search\n",
        "grid_search_forest.best_estimator_"
      ],
      "execution_count": 16,
      "outputs": [
        {
          "output_type": "execute_result",
          "data": {
            "text/plain": [
              "RandomForestRegressor(bootstrap=True, ccp_alpha=0.0, criterion='mse',\n",
              "                      max_depth=50, max_features=5, max_leaf_nodes=None,\n",
              "                      max_samples=None, min_impurity_decrease=0.0,\n",
              "                      min_impurity_split=None, min_samples_leaf=1,\n",
              "                      min_samples_split=2, min_weight_fraction_leaf=0.0,\n",
              "                      n_estimators=25, n_jobs=-1, oob_score=False,\n",
              "                      random_state=None, verbose=0, warm_start=False)"
            ]
          },
          "metadata": {
            "tags": []
          },
          "execution_count": 16
        }
      ]
    },
    {
      "cell_type": "code",
      "metadata": {
        "colab": {
          "base_uri": "https://localhost:8080/"
        },
        "id": "lYUg3XDO7jgD",
        "outputId": "d191f842-672d-4701-f5e5-14a01cd11673"
      },
      "source": [
        "grid_best= grid_search_forest.best_estimator_.predict(x_train)\n",
        "errors = abs(grid_best - y_train)\n",
        "# Calculate mean absolute percentage error (MAPE)\n",
        "mape = np.mean(100 * (errors / y_train))\n",
        "accuracy = 100 - mape    \n",
        "#print result\n",
        "print('The best model from grid-search has an accuracy of', round(accuracy, 2),'%')"
      ],
      "execution_count": 17,
      "outputs": [
        {
          "output_type": "stream",
          "text": [
            "The best model from grid-search has an accuracy of 87.98 %\n"
          ],
          "name": "stdout"
        }
      ]
    },
    {
      "cell_type": "code",
      "metadata": {
        "colab": {
          "base_uri": "https://localhost:8080/"
        },
        "id": "EA5nDwa57vsK",
        "outputId": "85937376-9e9b-42de-ec20-49b932596fdc"
      },
      "source": [
        "#RMSE\n",
        "grid_mse = mean_squared_error(y_train, grid_best)\n",
        "grid_rmse = np.sqrt(grid_mse)\n",
        "print('The best model from the grid search has a RMSE of', round(grid_rmse, 2))"
      ],
      "execution_count": 18,
      "outputs": [
        {
          "output_type": "stream",
          "text": [
            "The best model from the grid search has a RMSE of 164.03\n"
          ],
          "name": "stdout"
        }
      ]
    },
    {
      "cell_type": "code",
      "metadata": {
        "colab": {
          "base_uri": "https://localhost:8080/"
        },
        "id": "lYOJ3cDu71Qm",
        "outputId": "16b04534-48e9-4a32-daf4-c53aceb9c88a"
      },
      "source": [
        "from sklearn.model_selection import RandomizedSearchCV\n",
        "from pprint import pprint\n",
        "\n",
        "# Number of trees in random forest\n",
        "n_estimators = [int(x) for x in np.linspace(start = 20, stop = 200, num = 5)]\n",
        "# Number of features to consider at every split\n",
        "max_features = ['auto', 'sqrt']\n",
        "# Maximum number of levels in tree\n",
        "max_depth = [int(x) for x in np.linspace(1, 45, num = 3)]\n",
        "# Minimum number of samples required to split a node\n",
        "min_samples_split = [5, 10]\n",
        "\n",
        "# Create the random grid\n",
        "random_grid = {'n_estimators': n_estimators,\n",
        "               'max_features': max_features,\n",
        "               'max_depth': max_depth,\n",
        "               'min_samples_split': min_samples_split}\n",
        "\n",
        "pprint(random_grid)"
      ],
      "execution_count": 19,
      "outputs": [
        {
          "output_type": "stream",
          "text": [
            "{'max_depth': [1, 23, 45],\n",
            " 'max_features': ['auto', 'sqrt'],\n",
            " 'min_samples_split': [5, 10],\n",
            " 'n_estimators': [20, 65, 110, 155, 200]}\n"
          ],
          "name": "stdout"
        }
      ]
    },
    {
      "cell_type": "code",
      "metadata": {
        "colab": {
          "base_uri": "https://localhost:8080/"
        },
        "id": "VmrsJ90r7_Im",
        "outputId": "7ca90e98-e2c3-4ea6-91e2-a5c806be6b1b"
      },
      "source": [
        "\n",
        "# Random search of parameters, using 3 fold cross validation, \n",
        "# search across 100 different combinations\n",
        "rf_random = RandomizedSearchCV(estimator = forest, param_distributions = random_grid, n_iter = 10, cv = 10, verbose=2, random_state=42, n_jobs = -1, scoring='neg_mean_squared_error')\n",
        "# Fit the random search model\n",
        "rf_random.fit(x_train, y_train)"
      ],
      "execution_count": 20,
      "outputs": [
        {
          "output_type": "stream",
          "text": [
            "Fitting 10 folds for each of 10 candidates, totalling 100 fits\n"
          ],
          "name": "stdout"
        },
        {
          "output_type": "stream",
          "text": [
            "[Parallel(n_jobs=-1)]: Using backend LokyBackend with 2 concurrent workers.\n",
            "[Parallel(n_jobs=-1)]: Done  37 tasks      | elapsed:    7.6s\n",
            "[Parallel(n_jobs=-1)]: Done 100 out of 100 | elapsed:   51.5s finished\n"
          ],
          "name": "stderr"
        },
        {
          "output_type": "execute_result",
          "data": {
            "text/plain": [
              "RandomizedSearchCV(cv=10, error_score=nan,\n",
              "                   estimator=RandomForestRegressor(bootstrap=True,\n",
              "                                                   ccp_alpha=0.0,\n",
              "                                                   criterion='mse',\n",
              "                                                   max_depth=None,\n",
              "                                                   max_features='auto',\n",
              "                                                   max_leaf_nodes=None,\n",
              "                                                   max_samples=None,\n",
              "                                                   min_impurity_decrease=0.0,\n",
              "                                                   min_impurity_split=None,\n",
              "                                                   min_samples_leaf=1,\n",
              "                                                   min_samples_split=2,\n",
              "                                                   min_weight_fraction_leaf=0.0,\n",
              "                                                   n_estimators=100, n_jobs=-1,\n",
              "                                                   oob_score=False,\n",
              "                                                   random_state=None, verbose=0,\n",
              "                                                   warm_start=False),\n",
              "                   iid='deprecated', n_iter=10, n_jobs=-1,\n",
              "                   param_distributions={'max_depth': [1, 23, 45],\n",
              "                                        'max_features': ['auto', 'sqrt'],\n",
              "                                        'min_samples_split': [5, 10],\n",
              "                                        'n_estimators': [20, 65, 110, 155,\n",
              "                                                         200]},\n",
              "                   pre_dispatch='2*n_jobs', random_state=42, refit=True,\n",
              "                   return_train_score=False, scoring='neg_mean_squared_error',\n",
              "                   verbose=2)"
            ]
          },
          "metadata": {
            "tags": []
          },
          "execution_count": 20
        }
      ]
    },
    {
      "cell_type": "code",
      "metadata": {
        "colab": {
          "base_uri": "https://localhost:8080/"
        },
        "id": "u8OUjBWO8XEL",
        "outputId": "060a3226-bad8-45b5-bd9d-d93acd669e19"
      },
      "source": [
        "#now let's how the RMSE changes for each parameter configuration\n",
        "cvres2 = rf_random.cv_results_\n",
        "for mean_score, params in zip(cvres2[\"mean_test_score\"], cvres2[\"params\"]):\n",
        "    print(np.sqrt(-mean_score), params)"
      ],
      "execution_count": 21,
      "outputs": [
        {
          "output_type": "stream",
          "text": [
            "555.7468993430655 {'n_estimators': 20, 'min_samples_split': 5, 'max_features': 'auto', 'max_depth': 1}\n",
            "555.7766703166578 {'n_estimators': 20, 'min_samples_split': 10, 'max_features': 'auto', 'max_depth': 1}\n",
            "342.9394030601834 {'n_estimators': 65, 'min_samples_split': 10, 'max_features': 'sqrt', 'max_depth': 23}\n",
            "347.89762737763454 {'n_estimators': 20, 'min_samples_split': 10, 'max_features': 'auto', 'max_depth': 45}\n",
            "570.7130163466642 {'n_estimators': 155, 'min_samples_split': 5, 'max_features': 'sqrt', 'max_depth': 1}\n",
            "339.1779367709832 {'n_estimators': 200, 'min_samples_split': 5, 'max_features': 'sqrt', 'max_depth': 45}\n",
            "338.990670595885 {'n_estimators': 155, 'min_samples_split': 5, 'max_features': 'sqrt', 'max_depth': 23}\n",
            "344.82474144258447 {'n_estimators': 155, 'min_samples_split': 10, 'max_features': 'auto', 'max_depth': 45}\n",
            "571.9929855964925 {'n_estimators': 110, 'min_samples_split': 5, 'max_features': 'sqrt', 'max_depth': 1}\n",
            "342.65791196892394 {'n_estimators': 110, 'min_samples_split': 10, 'max_features': 'sqrt', 'max_depth': 45}\n"
          ],
          "name": "stdout"
        }
      ]
    },
    {
      "cell_type": "code",
      "metadata": {
        "colab": {
          "base_uri": "https://localhost:8080/"
        },
        "id": "R6xcnUqd8YDs",
        "outputId": "3c42d5d5-2c05-40b0-8753-08c4f8873a42"
      },
      "source": [
        "# best random model \n",
        "rf_random.best_estimator_"
      ],
      "execution_count": 22,
      "outputs": [
        {
          "output_type": "execute_result",
          "data": {
            "text/plain": [
              "RandomForestRegressor(bootstrap=True, ccp_alpha=0.0, criterion='mse',\n",
              "                      max_depth=23, max_features='sqrt', max_leaf_nodes=None,\n",
              "                      max_samples=None, min_impurity_decrease=0.0,\n",
              "                      min_impurity_split=None, min_samples_leaf=1,\n",
              "                      min_samples_split=5, min_weight_fraction_leaf=0.0,\n",
              "                      n_estimators=155, n_jobs=-1, oob_score=False,\n",
              "                      random_state=None, verbose=0, warm_start=False)"
            ]
          },
          "metadata": {
            "tags": []
          },
          "execution_count": 22
        }
      ]
    },
    {
      "cell_type": "code",
      "metadata": {
        "colab": {
          "base_uri": "https://localhost:8080/"
        },
        "id": "re1CbSxn8gMD",
        "outputId": "4aed9e9a-311a-462c-de08-c7da910b4bd1"
      },
      "source": [
        "# best combination of parameters of random search\n",
        "rf_random.best_params_"
      ],
      "execution_count": 23,
      "outputs": [
        {
          "output_type": "execute_result",
          "data": {
            "text/plain": [
              "{'max_depth': 23,\n",
              " 'max_features': 'sqrt',\n",
              " 'min_samples_split': 5,\n",
              " 'n_estimators': 155}"
            ]
          },
          "metadata": {
            "tags": []
          },
          "execution_count": 23
        }
      ]
    },
    {
      "cell_type": "code",
      "metadata": {
        "colab": {
          "base_uri": "https://localhost:8080/"
        },
        "id": "Lzb_MXBq8ncE",
        "outputId": "3dd72cfe-8352-4f42-8d55-5f38c6666333"
      },
      "source": [
        "rf_random.best_estimator_"
      ],
      "execution_count": 24,
      "outputs": [
        {
          "output_type": "execute_result",
          "data": {
            "text/plain": [
              "RandomForestRegressor(bootstrap=True, ccp_alpha=0.0, criterion='mse',\n",
              "                      max_depth=23, max_features='sqrt', max_leaf_nodes=None,\n",
              "                      max_samples=None, min_impurity_decrease=0.0,\n",
              "                      min_impurity_split=None, min_samples_leaf=1,\n",
              "                      min_samples_split=5, min_weight_fraction_leaf=0.0,\n",
              "                      n_estimators=155, n_jobs=-1, oob_score=False,\n",
              "                      random_state=None, verbose=0, warm_start=False)"
            ]
          },
          "metadata": {
            "tags": []
          },
          "execution_count": 24
        }
      ]
    },
    {
      "cell_type": "code",
      "metadata": {
        "colab": {
          "base_uri": "https://localhost:8080/"
        },
        "id": "Aje1i8Bl8oGW",
        "outputId": "da064d0d-9023-4432-e73e-841d668f9af1"
      },
      "source": [
        "# Performance metrics (MAPE)\n",
        "random_best= rf_random.best_estimator_.predict(x_train)\n",
        "errors = abs(random_best - y_train)\n",
        "# Calculate mean absolute percentage error (MAPE)\n",
        "mape = np.mean(100 * (errors / y_train))\n",
        "accuracy = 100 - mape    \n",
        "#print result\n",
        "print('The best model from the randomized search has an accuracy of', round(accuracy, 2),'%')"
      ],
      "execution_count": 25,
      "outputs": [
        {
          "output_type": "stream",
          "text": [
            "The best model from the randomized search has an accuracy of 83.6 %\n"
          ],
          "name": "stdout"
        }
      ]
    },
    {
      "cell_type": "code",
      "metadata": {
        "colab": {
          "base_uri": "https://localhost:8080/"
        },
        "id": "ndsr3Afm8xJE",
        "outputId": "bffd7101-7e47-4a9b-ba84-2734b40608c3"
      },
      "source": [
        "#this is the RMSE\n",
        "final_mse = mean_squared_error(y_train, random_best)\n",
        "final_rmse = np.sqrt(final_mse)\n",
        "print('The best model from the randomized search has a RMSE of', round(final_rmse, 2))"
      ],
      "execution_count": 26,
      "outputs": [
        {
          "output_type": "stream",
          "text": [
            "The best model from the randomized search has a RMSE of 218.99\n"
          ],
          "name": "stdout"
        }
      ]
    },
    {
      "cell_type": "code",
      "metadata": {
        "colab": {
          "base_uri": "https://localhost:8080/"
        },
        "id": "S4q2PzuX9ApD",
        "outputId": "65c352d3-bc47-4944-c2ed-6592226eeceb"
      },
      "source": [
        "# extract the numerical values of feature importance from the grid search\n",
        "importances = rf_random.best_estimator_.feature_importances_\n",
        "\n",
        "#create a feature list from the original dataset (list of columns)\n",
        "feature_list = list(X.columns)\n",
        "\n",
        "#create a list of tuples\n",
        "feature_importance= sorted(zip(importances, feature_list), reverse=True)\n",
        "\n",
        "#create two lists from the previous list of tuples\n",
        "df2 = pd.DataFrame(feature_importance, columns=['importance', 'feature'])\n",
        "importance= list(df2['importance'])\n",
        "feature= list(df2['feature'])\n",
        "\n",
        "print(df2)"
      ],
      "execution_count": 27,
      "outputs": [
        {
          "output_type": "stream",
          "text": [
            "    importance          feature\n",
            "0     0.191543    PriceType_USD\n",
            "1     0.154401     city_encoded\n",
            "2     0.147219             city\n",
            "3     0.112276    PriceType_NIS\n",
            "4     0.103410    PriceType_JOD\n",
            "5     0.071137       houseSpace\n",
            "6     0.034816  numberBathrooms\n",
            "7     0.031681      numberRooms\n",
            "8     0.026388           status\n",
            "9     0.025950      featurePlus\n",
            "10    0.020216         elevator\n",
            "11    0.017419           Bldg_A\n",
            "12    0.015444  numberBalconies\n",
            "13    0.014478       carParking\n",
            "14    0.012961          heating\n",
            "15    0.010887           Bldg_B\n",
            "16    0.009774           Bldg_C\n"
          ],
          "name": "stdout"
        }
      ]
    },
    {
      "cell_type": "code",
      "metadata": {
        "colab": {
          "base_uri": "https://localhost:8080/",
          "height": 729
        },
        "id": "xGF4z2kD9Si8",
        "outputId": "857c1195-d103-4aa3-8fe7-8ac1eae9b4c8"
      },
      "source": [
        "# Set the style\n",
        "plt.style.use('bmh')\n",
        "# list of x locations for plotting\n",
        "x_values = list(range(len(feature_importance)))\n",
        "\n",
        "# Make a bar chart\n",
        "plt.figure(figsize=(15,10))\n",
        "plt.bar(x_values, importance, orientation = 'vertical')\n",
        "plt.xticks(x_values, feature, rotation='vertical')\n",
        "plt.ylabel('Importance'); plt.xlabel('Variable'); plt.title('Variable Importances');"
      ],
      "execution_count": 28,
      "outputs": [
        {
          "output_type": "display_data",
          "data": {
            "image/png": "[encoded data removed]",
            "text/plain": [
              "<Figure size 1080x720 with 1 Axes>"
            ]
          },
          "metadata": {
            "tags": []
          }
        }
      ]
    },
    {
      "cell_type": "code",
      "metadata": {
        "colab": {
          "base_uri": "https://localhost:8080/"
        },
        "id": "Q4scLTzZ96eu",
        "outputId": "4ca746a0-223c-4482-9bd0-6851a8b2f0ea"
      },
      "source": [
        "final_model = rf_random.best_estimator_\n",
        "# Predicting test set results\n",
        "final_pred = final_model.predict(x_test)\n",
        "final_mse = mean_squared_error(y_test, final_pred)\n",
        "final_rmse = np.sqrt(final_mse)\n",
        "print('The final RMSE on the test set is', round(final_rmse, 2))"
      ],
      "execution_count": 29,
      "outputs": [
        {
          "output_type": "stream",
          "text": [
            "The final RMSE on the test set is 333.27\n"
          ],
          "name": "stdout"
        }
      ]
    },
    {
      "cell_type": "code",
      "metadata": {
        "colab": {
          "base_uri": "https://localhost:8080/"
        },
        "id": "ebjsZCni998U",
        "outputId": "bd550348-0f84-4c8e-e5b6-86401438a1db"
      },
      "source": [
        "\n",
        "errors = abs(final_pred - y_test)\n",
        "# Calculate mean absolute percentage error (MAPE)\n",
        "mape = np.mean(100 * (errors / y_test))\n",
        "# Calculate and display accuracy\n",
        "accuracy = 100 - mape    \n",
        "#print result\n",
        "print('The best model achieves on the test set an accuracy of', round(accuracy, 2),'%')"
      ],
      "execution_count": 30,
      "outputs": [
        {
          "output_type": "stream",
          "text": [
            "The best model achieves on the test set an accuracy of 74.63 %\n"
          ],
          "name": "stdout"
        }
      ]
    },
    {
      "cell_type": "code",
      "metadata": {
        "id": "HoHjN1ldFmcx"
      },
      "source": [
        "from joblib import dump,load\n",
        "#dump(rf_random,'priceprediction.joblib')"
      ],
      "execution_count": 31,
      "outputs": []
    },
    {
      "cell_type": "code",
      "metadata": {
        "colab": {
          "base_uri": "https://localhost:8080/",
          "height": 402
        },
        "id": "xrJfdlux6vor",
        "outputId": "fa977840-02e4-4f54-da5b-533ef18b7853"
      },
      "source": [
        "s=y_train.reset_index() \n",
        "df = pd.DataFrame(random_best, columns = ['Column_A'])\n",
        "result = pd.concat([df, s], axis=1)\n",
        "result = result.sort_values(by=['Column_A'])\n",
        "result = result.reset_index() \n",
        "\n",
        "result"
      ],
      "execution_count": 32,
      "outputs": [
        {
          "output_type": "execute_result",
          "data": {
            "text/html": [
              "<div>\n",
              "<style scoped>\n",
              "    .dataframe tbody tr th:only-of-type {\n",
              "        vertical-align: middle;\n",
              "    }\n",
              "\n",
              "    .dataframe tbody tr th {\n",
              "        vertical-align: top;\n",
              "    }\n",
              "\n",
              "    .dataframe thead th {\n",
              "        text-align: right;\n",
              "    }\n",
              "</style>\n",
              "<table border=\"1\" class=\"dataframe\">\n",
              "  <thead>\n",
              "    <tr style=\"text-align: right;\">\n",
              "      <th></th>\n",
              "      <th>level_0</th>\n",
              "      <th>Column_A</th>\n",
              "      <th>index</th>\n",
              "      <th>price</th>\n",
              "    </tr>\n",
              "  </thead>\n",
              "  <tbody>\n",
              "    <tr>\n",
              "      <th>0</th>\n",
              "      <td>2264</td>\n",
              "      <td>243.747056</td>\n",
              "      <td>5054</td>\n",
              "      <td>200</td>\n",
              "    </tr>\n",
              "    <tr>\n",
              "      <th>1</th>\n",
              "      <td>265</td>\n",
              "      <td>243.747056</td>\n",
              "      <td>4630</td>\n",
              "      <td>200</td>\n",
              "    </tr>\n",
              "    <tr>\n",
              "      <th>2</th>\n",
              "      <td>5029</td>\n",
              "      <td>243.747056</td>\n",
              "      <td>4850</td>\n",
              "      <td>200</td>\n",
              "    </tr>\n",
              "    <tr>\n",
              "      <th>3</th>\n",
              "      <td>6688</td>\n",
              "      <td>252.468638</td>\n",
              "      <td>5211</td>\n",
              "      <td>250</td>\n",
              "    </tr>\n",
              "    <tr>\n",
              "      <th>4</th>\n",
              "      <td>7094</td>\n",
              "      <td>252.468638</td>\n",
              "      <td>5675</td>\n",
              "      <td>250</td>\n",
              "    </tr>\n",
              "    <tr>\n",
              "      <th>...</th>\n",
              "      <td>...</td>\n",
              "      <td>...</td>\n",
              "      <td>...</td>\n",
              "      <td>...</td>\n",
              "    </tr>\n",
              "    <tr>\n",
              "      <th>7182</th>\n",
              "      <td>4584</td>\n",
              "      <td>3680.509798</td>\n",
              "      <td>1953</td>\n",
              "      <td>4000</td>\n",
              "    </tr>\n",
              "    <tr>\n",
              "      <th>7183</th>\n",
              "      <td>2666</td>\n",
              "      <td>3683.788368</td>\n",
              "      <td>3838</td>\n",
              "      <td>4000</td>\n",
              "    </tr>\n",
              "    <tr>\n",
              "      <th>7184</th>\n",
              "      <td>6404</td>\n",
              "      <td>3698.403063</td>\n",
              "      <td>4186</td>\n",
              "      <td>4000</td>\n",
              "    </tr>\n",
              "    <tr>\n",
              "      <th>7185</th>\n",
              "      <td>476</td>\n",
              "      <td>3730.524391</td>\n",
              "      <td>2298</td>\n",
              "      <td>3700</td>\n",
              "    </tr>\n",
              "    <tr>\n",
              "      <th>7186</th>\n",
              "      <td>2077</td>\n",
              "      <td>3735.255574</td>\n",
              "      <td>2248</td>\n",
              "      <td>3700</td>\n",
              "    </tr>\n",
              "  </tbody>\n",
              "</table>\n",
              "<p>7187 rows × 4 columns</p>\n",
              "</div>"
            ],
            "text/plain": [
              "      level_0     Column_A  index  price\n",
              "0        2264   243.747056   5054    200\n",
              "1         265   243.747056   4630    200\n",
              "2        5029   243.747056   4850    200\n",
              "3        6688   252.468638   5211    250\n",
              "4        7094   252.468638   5675    250\n",
              "...       ...          ...    ...    ...\n",
              "7182     4584  3680.509798   1953   4000\n",
              "7183     2666  3683.788368   3838   4000\n",
              "7184     6404  3698.403063   4186   4000\n",
              "7185      476  3730.524391   2298   3700\n",
              "7186     2077  3735.255574   2248   3700\n",
              "\n",
              "[7187 rows x 4 columns]"
            ]
          },
          "metadata": {
            "tags": []
          },
          "execution_count": 32
        }
      ]
    },
    {
      "cell_type": "code",
      "metadata": {
        "colab": {
          "base_uri": "https://localhost:8080/",
          "height": 459
        },
        "id": "mimO5Hpx6vf0",
        "outputId": "97a2f74c-1971-40dd-e8cf-c9055c1edcc4"
      },
      "source": [
        "plt.figure(figsize=(25, 10))\n",
        "plt.plot(result.index,result.Column_A,label='Predict line')\n",
        "plt.scatter(result.index,result.price,s=10, c='#ff0000',label='Original test values')\n",
        "plt.legend()\n",
        "plt.xlabel('index ')\n",
        "plt.ylabel('value ')\n",
        "plt.show()"
      ],
      "execution_count": 34,
      "outputs": [
        {
          "output_type": "display_data",
          "data": {
            "image/png": "[encoded data removed]",
            "text/plain": [
              "<Figure size 1800x720 with 1 Axes>"
            ]
          },
          "metadata": {
            "tags": []
          }
        }
      ]
    },
    {
      "cell_type": "code",
      "metadata": {
        "id": "IhOXKd3H1StK"
      },
      "source": [
        ""
      ],
      "execution_count": 33,
      "outputs": []
    }
  ]
}