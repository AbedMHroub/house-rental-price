{
  "nbformat": 4,
  "nbformat_minor": 0,
  "metadata": {
    "colab": {
      "name": "\"\"usd Modeling_v2.ipynb",
      "provenance": [],
      "collapsed_sections": [],
      "history_visible": true,
      "include_colab_link": true
    },
    "kernelspec": {
      "name": "python3",
      "display_name": "Python 3"
    }
  },
  "cells": [
    {
      "cell_type": "markdown",
      "metadata": {
        "id": "view-in-github",
        "colab_type": "text"
      },
      "source": [
        "<a href=\"https://colab.research.google.com/github/AbedMHroub/house-rental-price/blob/Modeling/%22%22usd_Modeling_v2.ipynb\" target=\"_parent\"><img src=\"https://colab.research.google.com/assets/colab-badge.svg\" alt=\"Open In Colab\"/></a>"
      ]
    },
    {
      "cell_type": "code",
      "metadata": {
        "id": "ytCTiZWJe3ri",
        "colab": {
          "base_uri": "https://localhost:8080/"
        },
        "outputId": "06382037-bd71-46a1-ffbe-ab032202d71a"
      },
      "source": [
        "#!pip install category-encoders\n",
        "import os\n",
        "import warnings\n",
        "from pathlib import Path\n",
        "\n",
        "import matplotlib.pyplot as plt\n",
        "import numpy as np\n",
        "import pandas as pd\n",
        "import seaborn as sns\n",
        "from IPython.display import display\n",
        "from pandas.api.types import CategoricalDtype\n",
        "\n",
        "#from category_encoders import MEstimateEncoder\n",
        "from sklearn.cluster import KMeans\n",
        "from sklearn.decomposition import PCA\n",
        "from sklearn.feature_selection import mutual_info_regression\n",
        "from sklearn.model_selection import KFold, cross_val_score\n",
        "from xgboost import XGBRegressor\n",
        "from sklearn.linear_model import LinearRegression\n",
        "from sklearn.ensemble import RandomForestRegressor\n",
        "from sklearn.linear_model import Ridge\n",
        "\n",
        "# Set Matplotlib defaults\n",
        "plt.style.use(\"seaborn-whitegrid\")\n",
        "plt.rc(\"figure\", autolayout=True)\n",
        "plt.rc(\n",
        "    \"axes\",\n",
        "    labelweight=\"bold\",\n",
        "    labelsize=\"large\",\n",
        "    titleweight=\"bold\",\n",
        "    titlesize=14,\n",
        "    titlepad=10,\n",
        ")\n",
        "\n",
        "# Mute warnings\n",
        "warnings.filterwarnings('ignore')"
      ],
      "execution_count": 5,
      "outputs": [
        {
          "output_type": "stream",
          "text": [
            "Collecting category-encoders\n",
            "\u001b[?25l  Downloading https://files.pythonhosted.org/packages/44/57/fcef41c248701ee62e8325026b90c432adea35555cbc870aff9cfba23727/category_encoders-2.2.2-py2.py3-none-any.whl (80kB)\n",
            "\r\u001b[K     |████                            | 10kB 16.4MB/s eta 0:00:01\r\u001b[K     |████████▏                       | 20kB 21.9MB/s eta 0:00:01\r\u001b[K     |████████████▏                   | 30kB 25.9MB/s eta 0:00:01\r\u001b[K     |████████████████▎               | 40kB 13.7MB/s eta 0:00:01\r\u001b[K     |████████████████████▎           | 51kB 5.1MB/s eta 0:00:01\r\u001b[K     |████████████████████████▍       | 61kB 5.3MB/s eta 0:00:01\r\u001b[K     |████████████████████████████▍   | 71kB 5.4MB/s eta 0:00:01\r\u001b[K     |████████████████████████████████| 81kB 3.4MB/s \n",
            "\u001b[?25hRequirement already satisfied: scipy>=1.0.0 in /usr/local/lib/python3.7/dist-packages (from category-encoders) (1.4.1)\n",
            "Requirement already satisfied: numpy>=1.14.0 in /usr/local/lib/python3.7/dist-packages (from category-encoders) (1.19.5)\n",
            "Requirement already satisfied: statsmodels>=0.9.0 in /usr/local/lib/python3.7/dist-packages (from category-encoders) (0.10.2)\n",
            "Requirement already satisfied: pandas>=0.21.1 in /usr/local/lib/python3.7/dist-packages (from category-encoders) (1.1.5)\n",
            "Requirement already satisfied: patsy>=0.5.1 in /usr/local/lib/python3.7/dist-packages (from category-encoders) (0.5.1)\n",
            "Requirement already satisfied: scikit-learn>=0.20.0 in /usr/local/lib/python3.7/dist-packages (from category-encoders) (0.22.2.post1)\n",
            "Requirement already satisfied: pytz>=2017.2 in /usr/local/lib/python3.7/dist-packages (from pandas>=0.21.1->category-encoders) (2018.9)\n",
            "Requirement already satisfied: python-dateutil>=2.7.3 in /usr/local/lib/python3.7/dist-packages (from pandas>=0.21.1->category-encoders) (2.8.1)\n",
            "Requirement already satisfied: six in /usr/local/lib/python3.7/dist-packages (from patsy>=0.5.1->category-encoders) (1.15.0)\n",
            "Requirement already satisfied: joblib>=0.11 in /usr/local/lib/python3.7/dist-packages (from scikit-learn>=0.20.0->category-encoders) (1.0.1)\n",
            "Installing collected packages: category-encoders\n",
            "Successfully installed category-encoders-2.2.2\n"
          ],
          "name": "stdout"
        }
      ]
    },
    {
      "cell_type": "code",
      "metadata": {
        "colab": {
          "base_uri": "https://localhost:8080/",
          "height": 422
        },
        "id": "2Vo0XdSTgdXz",
        "outputId": "b468fe7d-18a8-4c84-f0ac-f9ad983e3bc1"
      },
      "source": [
        "data_dir = Path(\"/content/dfFE11-v2.csv\")\n",
        "df = pd.read_csv(data_dir)\n",
        "df"
      ],
      "execution_count": 6,
      "outputs": [
        {
          "output_type": "execute_result",
          "data": {
            "text/html": [
              "<div>\n",
              "<style scoped>\n",
              "    .dataframe tbody tr th:only-of-type {\n",
              "        vertical-align: middle;\n",
              "    }\n",
              "\n",
              "    .dataframe tbody tr th {\n",
              "        vertical-align: top;\n",
              "    }\n",
              "\n",
              "    .dataframe thead th {\n",
              "        text-align: right;\n",
              "    }\n",
              "</style>\n",
              "<table border=\"1\" class=\"dataframe\">\n",
              "  <thead>\n",
              "    <tr style=\"text-align: right;\">\n",
              "      <th></th>\n",
              "      <th>city</th>\n",
              "      <th>status</th>\n",
              "      <th>numberRooms</th>\n",
              "      <th>numberBathrooms</th>\n",
              "      <th>numberBalconies</th>\n",
              "      <th>elevator</th>\n",
              "      <th>carParking</th>\n",
              "      <th>heating</th>\n",
              "      <th>houseSpace</th>\n",
              "      <th>PriceType_JOD</th>\n",
              "      <th>PriceType_NIS</th>\n",
              "      <th>PriceType_USD</th>\n",
              "      <th>featurePlus</th>\n",
              "      <th>Bldg_A</th>\n",
              "      <th>Bldg_B</th>\n",
              "      <th>Bldg_C</th>\n",
              "      <th>MedstatusHouseSpace</th>\n",
              "      <th>city_encoded</th>\n",
              "      <th>price</th>\n",
              "    </tr>\n",
              "  </thead>\n",
              "  <tbody>\n",
              "    <tr>\n",
              "      <th>0</th>\n",
              "      <td>1</td>\n",
              "      <td>1</td>\n",
              "      <td>1</td>\n",
              "      <td>1</td>\n",
              "      <td>0</td>\n",
              "      <td>1</td>\n",
              "      <td>1</td>\n",
              "      <td>0</td>\n",
              "      <td>140.0</td>\n",
              "      <td>0</td>\n",
              "      <td>1</td>\n",
              "      <td>0</td>\n",
              "      <td>1.000000</td>\n",
              "      <td>0</td>\n",
              "      <td>0</td>\n",
              "      <td>0</td>\n",
              "      <td>140.0</td>\n",
              "      <td>2179.295502</td>\n",
              "      <td>1300</td>\n",
              "    </tr>\n",
              "    <tr>\n",
              "      <th>1</th>\n",
              "      <td>1</td>\n",
              "      <td>1</td>\n",
              "      <td>1</td>\n",
              "      <td>1</td>\n",
              "      <td>1</td>\n",
              "      <td>1</td>\n",
              "      <td>1</td>\n",
              "      <td>0</td>\n",
              "      <td>80.0</td>\n",
              "      <td>0</td>\n",
              "      <td>0</td>\n",
              "      <td>1</td>\n",
              "      <td>1.000000</td>\n",
              "      <td>1</td>\n",
              "      <td>0</td>\n",
              "      <td>0</td>\n",
              "      <td>140.0</td>\n",
              "      <td>2179.295502</td>\n",
              "      <td>550</td>\n",
              "    </tr>\n",
              "    <tr>\n",
              "      <th>2</th>\n",
              "      <td>1</td>\n",
              "      <td>1</td>\n",
              "      <td>3</td>\n",
              "      <td>3</td>\n",
              "      <td>2</td>\n",
              "      <td>1</td>\n",
              "      <td>1</td>\n",
              "      <td>1</td>\n",
              "      <td>190.0</td>\n",
              "      <td>0</td>\n",
              "      <td>0</td>\n",
              "      <td>1</td>\n",
              "      <td>1.000000</td>\n",
              "      <td>2</td>\n",
              "      <td>0</td>\n",
              "      <td>0</td>\n",
              "      <td>140.0</td>\n",
              "      <td>2179.295502</td>\n",
              "      <td>1000</td>\n",
              "    </tr>\n",
              "    <tr>\n",
              "      <th>3</th>\n",
              "      <td>1</td>\n",
              "      <td>1</td>\n",
              "      <td>3</td>\n",
              "      <td>3</td>\n",
              "      <td>1</td>\n",
              "      <td>1</td>\n",
              "      <td>1</td>\n",
              "      <td>1</td>\n",
              "      <td>190.0</td>\n",
              "      <td>0</td>\n",
              "      <td>0</td>\n",
              "      <td>1</td>\n",
              "      <td>1.000000</td>\n",
              "      <td>1</td>\n",
              "      <td>0</td>\n",
              "      <td>0</td>\n",
              "      <td>140.0</td>\n",
              "      <td>2179.295502</td>\n",
              "      <td>950</td>\n",
              "    </tr>\n",
              "    <tr>\n",
              "      <th>4</th>\n",
              "      <td>1</td>\n",
              "      <td>1</td>\n",
              "      <td>3</td>\n",
              "      <td>3</td>\n",
              "      <td>3</td>\n",
              "      <td>1</td>\n",
              "      <td>1</td>\n",
              "      <td>0</td>\n",
              "      <td>160.0</td>\n",
              "      <td>0</td>\n",
              "      <td>0</td>\n",
              "      <td>1</td>\n",
              "      <td>1.000000</td>\n",
              "      <td>3</td>\n",
              "      <td>0</td>\n",
              "      <td>0</td>\n",
              "      <td>140.0</td>\n",
              "      <td>2179.295502</td>\n",
              "      <td>800</td>\n",
              "    </tr>\n",
              "    <tr>\n",
              "      <th>...</th>\n",
              "      <td>...</td>\n",
              "      <td>...</td>\n",
              "      <td>...</td>\n",
              "      <td>...</td>\n",
              "      <td>...</td>\n",
              "      <td>...</td>\n",
              "      <td>...</td>\n",
              "      <td>...</td>\n",
              "      <td>...</td>\n",
              "      <td>...</td>\n",
              "      <td>...</td>\n",
              "      <td>...</td>\n",
              "      <td>...</td>\n",
              "      <td>...</td>\n",
              "      <td>...</td>\n",
              "      <td>...</td>\n",
              "      <td>...</td>\n",
              "      <td>...</td>\n",
              "      <td>...</td>\n",
              "    </tr>\n",
              "    <tr>\n",
              "      <th>7561</th>\n",
              "      <td>1</td>\n",
              "      <td>1</td>\n",
              "      <td>2</td>\n",
              "      <td>2</td>\n",
              "      <td>1</td>\n",
              "      <td>1</td>\n",
              "      <td>1</td>\n",
              "      <td>0</td>\n",
              "      <td>120.0</td>\n",
              "      <td>0</td>\n",
              "      <td>0</td>\n",
              "      <td>1</td>\n",
              "      <td>1.000000</td>\n",
              "      <td>1</td>\n",
              "      <td>0</td>\n",
              "      <td>0</td>\n",
              "      <td>140.0</td>\n",
              "      <td>1789.162426</td>\n",
              "      <td>600</td>\n",
              "    </tr>\n",
              "    <tr>\n",
              "      <th>7562</th>\n",
              "      <td>1</td>\n",
              "      <td>2</td>\n",
              "      <td>3</td>\n",
              "      <td>2</td>\n",
              "      <td>1</td>\n",
              "      <td>1</td>\n",
              "      <td>1</td>\n",
              "      <td>0</td>\n",
              "      <td>140.0</td>\n",
              "      <td>0</td>\n",
              "      <td>0</td>\n",
              "      <td>1</td>\n",
              "      <td>0.666667</td>\n",
              "      <td>0</td>\n",
              "      <td>1</td>\n",
              "      <td>0</td>\n",
              "      <td>140.0</td>\n",
              "      <td>1789.162426</td>\n",
              "      <td>500</td>\n",
              "    </tr>\n",
              "    <tr>\n",
              "      <th>7563</th>\n",
              "      <td>5</td>\n",
              "      <td>2</td>\n",
              "      <td>3</td>\n",
              "      <td>2</td>\n",
              "      <td>2</td>\n",
              "      <td>0</td>\n",
              "      <td>0</td>\n",
              "      <td>0</td>\n",
              "      <td>150.0</td>\n",
              "      <td>0</td>\n",
              "      <td>1</td>\n",
              "      <td>0</td>\n",
              "      <td>0.666667</td>\n",
              "      <td>0</td>\n",
              "      <td>2</td>\n",
              "      <td>0</td>\n",
              "      <td>140.0</td>\n",
              "      <td>4696.623612</td>\n",
              "      <td>1600</td>\n",
              "    </tr>\n",
              "    <tr>\n",
              "      <th>7564</th>\n",
              "      <td>4</td>\n",
              "      <td>1</td>\n",
              "      <td>1</td>\n",
              "      <td>1</td>\n",
              "      <td>1</td>\n",
              "      <td>1</td>\n",
              "      <td>1</td>\n",
              "      <td>1</td>\n",
              "      <td>70.0</td>\n",
              "      <td>0</td>\n",
              "      <td>1</td>\n",
              "      <td>0</td>\n",
              "      <td>1.000000</td>\n",
              "      <td>1</td>\n",
              "      <td>0</td>\n",
              "      <td>0</td>\n",
              "      <td>140.0</td>\n",
              "      <td>3882.401112</td>\n",
              "      <td>1000</td>\n",
              "    </tr>\n",
              "    <tr>\n",
              "      <th>7565</th>\n",
              "      <td>1</td>\n",
              "      <td>1</td>\n",
              "      <td>2</td>\n",
              "      <td>2</td>\n",
              "      <td>0</td>\n",
              "      <td>0</td>\n",
              "      <td>0</td>\n",
              "      <td>0</td>\n",
              "      <td>120.0</td>\n",
              "      <td>0</td>\n",
              "      <td>1</td>\n",
              "      <td>0</td>\n",
              "      <td>1.000000</td>\n",
              "      <td>0</td>\n",
              "      <td>0</td>\n",
              "      <td>0</td>\n",
              "      <td>140.0</td>\n",
              "      <td>1789.162426</td>\n",
              "      <td>1750</td>\n",
              "    </tr>\n",
              "  </tbody>\n",
              "</table>\n",
              "<p>7566 rows × 19 columns</p>\n",
              "</div>"
            ],
            "text/plain": [
              "      city  status  numberRooms  ...  MedstatusHouseSpace  city_encoded  price\n",
              "0        1       1            1  ...                140.0   2179.295502   1300\n",
              "1        1       1            1  ...                140.0   2179.295502    550\n",
              "2        1       1            3  ...                140.0   2179.295502   1000\n",
              "3        1       1            3  ...                140.0   2179.295502    950\n",
              "4        1       1            3  ...                140.0   2179.295502    800\n",
              "...    ...     ...          ...  ...                  ...           ...    ...\n",
              "7561     1       1            2  ...                140.0   1789.162426    600\n",
              "7562     1       2            3  ...                140.0   1789.162426    500\n",
              "7563     5       2            3  ...                140.0   4696.623612   1600\n",
              "7564     4       1            1  ...                140.0   3882.401112   1000\n",
              "7565     1       1            2  ...                140.0   1789.162426   1750\n",
              "\n",
              "[7566 rows x 19 columns]"
            ]
          },
          "metadata": {
            "tags": []
          },
          "execution_count": 6
        }
      ]
    },
    {
      "cell_type": "code",
      "metadata": {
        "id": "qeaIYLT4cWna"
      },
      "source": [
        "index_names = df[ df['PriceType_USD'] == 0  ].index \n",
        "index_names\n",
        "# drop these row indexes \n",
        "# from dataFrame \n",
        "df.drop(index_names, inplace = True)\n"
      ],
      "execution_count": 7,
      "outputs": []
    },
    {
      "cell_type": "code",
      "metadata": {
        "colab": {
          "base_uri": "https://localhost:8080/",
          "height": 386
        },
        "id": "dOzjukK7kd2y",
        "outputId": "3b974c5a-4b02-4ed6-a2b1-076de74f0698"
      },
      "source": [
        "sns.relplot(x=\"city\", y=\"price\", data=df)"
      ],
      "execution_count": 8,
      "outputs": [
        {
          "output_type": "execute_result",
          "data": {
            "text/plain": [
              "<seaborn.axisgrid.FacetGrid at 0x7f7d593fc690>"
            ]
          },
          "metadata": {
            "tags": []
          },
          "execution_count": 8
        },
        {
          "output_type": "display_data",
          "data": {
            "image/png": "[encoded data removed]",
            "text/plain": [
              "<Figure size 360x360 with 1 Axes>"
            ]
          },
          "metadata": {
            "tags": []
          }
        }
      ]
    },
    {
      "cell_type": "code",
      "metadata": {
        "colab": {
          "base_uri": "https://localhost:8080/",
          "height": 402
        },
        "id": "EfJgmW6xzYx5",
        "outputId": "beeea4ce-9a64-4e40-834b-e2ac10e398a7"
      },
      "source": [
        "X = df.drop(\"price\", axis=1)\n",
        "X = X.drop(\"MedstatusHouseSpace\", axis=1)\n",
        "X = X.drop(\"PriceType_JOD\", axis=1)\n",
        "X = X.drop(\"PriceType_NIS\", axis=1)\n",
        "X = X.drop(\"PriceType_USD\", axis=1)\n",
        "\n",
        "Y = df[\"price\"].copy()\n",
        "X"
      ],
      "execution_count": 9,
      "outputs": [
        {
          "output_type": "execute_result",
          "data": {
            "text/html": [
              "<div>\n",
              "<style scoped>\n",
              "    .dataframe tbody tr th:only-of-type {\n",
              "        vertical-align: middle;\n",
              "    }\n",
              "\n",
              "    .dataframe tbody tr th {\n",
              "        vertical-align: top;\n",
              "    }\n",
              "\n",
              "    .dataframe thead th {\n",
              "        text-align: right;\n",
              "    }\n",
              "</style>\n",
              "<table border=\"1\" class=\"dataframe\">\n",
              "  <thead>\n",
              "    <tr style=\"text-align: right;\">\n",
              "      <th></th>\n",
              "      <th>city</th>\n",
              "      <th>status</th>\n",
              "      <th>numberRooms</th>\n",
              "      <th>numberBathrooms</th>\n",
              "      <th>numberBalconies</th>\n",
              "      <th>elevator</th>\n",
              "      <th>carParking</th>\n",
              "      <th>heating</th>\n",
              "      <th>houseSpace</th>\n",
              "      <th>featurePlus</th>\n",
              "      <th>Bldg_A</th>\n",
              "      <th>Bldg_B</th>\n",
              "      <th>Bldg_C</th>\n",
              "      <th>city_encoded</th>\n",
              "    </tr>\n",
              "  </thead>\n",
              "  <tbody>\n",
              "    <tr>\n",
              "      <th>1</th>\n",
              "      <td>1</td>\n",
              "      <td>1</td>\n",
              "      <td>1</td>\n",
              "      <td>1</td>\n",
              "      <td>1</td>\n",
              "      <td>1</td>\n",
              "      <td>1</td>\n",
              "      <td>0</td>\n",
              "      <td>80.0</td>\n",
              "      <td>1.000000</td>\n",
              "      <td>1</td>\n",
              "      <td>0</td>\n",
              "      <td>0</td>\n",
              "      <td>2179.295502</td>\n",
              "    </tr>\n",
              "    <tr>\n",
              "      <th>2</th>\n",
              "      <td>1</td>\n",
              "      <td>1</td>\n",
              "      <td>3</td>\n",
              "      <td>3</td>\n",
              "      <td>2</td>\n",
              "      <td>1</td>\n",
              "      <td>1</td>\n",
              "      <td>1</td>\n",
              "      <td>190.0</td>\n",
              "      <td>1.000000</td>\n",
              "      <td>2</td>\n",
              "      <td>0</td>\n",
              "      <td>0</td>\n",
              "      <td>2179.295502</td>\n",
              "    </tr>\n",
              "    <tr>\n",
              "      <th>3</th>\n",
              "      <td>1</td>\n",
              "      <td>1</td>\n",
              "      <td>3</td>\n",
              "      <td>3</td>\n",
              "      <td>1</td>\n",
              "      <td>1</td>\n",
              "      <td>1</td>\n",
              "      <td>1</td>\n",
              "      <td>190.0</td>\n",
              "      <td>1.000000</td>\n",
              "      <td>1</td>\n",
              "      <td>0</td>\n",
              "      <td>0</td>\n",
              "      <td>2179.295502</td>\n",
              "    </tr>\n",
              "    <tr>\n",
              "      <th>4</th>\n",
              "      <td>1</td>\n",
              "      <td>1</td>\n",
              "      <td>3</td>\n",
              "      <td>3</td>\n",
              "      <td>3</td>\n",
              "      <td>1</td>\n",
              "      <td>1</td>\n",
              "      <td>0</td>\n",
              "      <td>160.0</td>\n",
              "      <td>1.000000</td>\n",
              "      <td>3</td>\n",
              "      <td>0</td>\n",
              "      <td>0</td>\n",
              "      <td>2179.295502</td>\n",
              "    </tr>\n",
              "    <tr>\n",
              "      <th>5</th>\n",
              "      <td>1</td>\n",
              "      <td>2</td>\n",
              "      <td>3</td>\n",
              "      <td>3</td>\n",
              "      <td>1</td>\n",
              "      <td>1</td>\n",
              "      <td>1</td>\n",
              "      <td>0</td>\n",
              "      <td>150.0</td>\n",
              "      <td>1.000000</td>\n",
              "      <td>0</td>\n",
              "      <td>1</td>\n",
              "      <td>0</td>\n",
              "      <td>2179.295502</td>\n",
              "    </tr>\n",
              "    <tr>\n",
              "      <th>...</th>\n",
              "      <td>...</td>\n",
              "      <td>...</td>\n",
              "      <td>...</td>\n",
              "      <td>...</td>\n",
              "      <td>...</td>\n",
              "      <td>...</td>\n",
              "      <td>...</td>\n",
              "      <td>...</td>\n",
              "      <td>...</td>\n",
              "      <td>...</td>\n",
              "      <td>...</td>\n",
              "      <td>...</td>\n",
              "      <td>...</td>\n",
              "      <td>...</td>\n",
              "    </tr>\n",
              "    <tr>\n",
              "      <th>7557</th>\n",
              "      <td>1</td>\n",
              "      <td>2</td>\n",
              "      <td>3</td>\n",
              "      <td>2</td>\n",
              "      <td>2</td>\n",
              "      <td>1</td>\n",
              "      <td>1</td>\n",
              "      <td>0</td>\n",
              "      <td>140.0</td>\n",
              "      <td>0.666667</td>\n",
              "      <td>0</td>\n",
              "      <td>2</td>\n",
              "      <td>0</td>\n",
              "      <td>1789.162426</td>\n",
              "    </tr>\n",
              "    <tr>\n",
              "      <th>7558</th>\n",
              "      <td>1</td>\n",
              "      <td>2</td>\n",
              "      <td>3</td>\n",
              "      <td>3</td>\n",
              "      <td>1</td>\n",
              "      <td>1</td>\n",
              "      <td>1</td>\n",
              "      <td>0</td>\n",
              "      <td>140.0</td>\n",
              "      <td>1.000000</td>\n",
              "      <td>0</td>\n",
              "      <td>1</td>\n",
              "      <td>0</td>\n",
              "      <td>1789.162426</td>\n",
              "    </tr>\n",
              "    <tr>\n",
              "      <th>7560</th>\n",
              "      <td>1</td>\n",
              "      <td>1</td>\n",
              "      <td>3</td>\n",
              "      <td>3</td>\n",
              "      <td>2</td>\n",
              "      <td>1</td>\n",
              "      <td>1</td>\n",
              "      <td>0</td>\n",
              "      <td>180.0</td>\n",
              "      <td>1.000000</td>\n",
              "      <td>2</td>\n",
              "      <td>0</td>\n",
              "      <td>0</td>\n",
              "      <td>1789.162426</td>\n",
              "    </tr>\n",
              "    <tr>\n",
              "      <th>7561</th>\n",
              "      <td>1</td>\n",
              "      <td>1</td>\n",
              "      <td>2</td>\n",
              "      <td>2</td>\n",
              "      <td>1</td>\n",
              "      <td>1</td>\n",
              "      <td>1</td>\n",
              "      <td>0</td>\n",
              "      <td>120.0</td>\n",
              "      <td>1.000000</td>\n",
              "      <td>1</td>\n",
              "      <td>0</td>\n",
              "      <td>0</td>\n",
              "      <td>1789.162426</td>\n",
              "    </tr>\n",
              "    <tr>\n",
              "      <th>7562</th>\n",
              "      <td>1</td>\n",
              "      <td>2</td>\n",
              "      <td>3</td>\n",
              "      <td>2</td>\n",
              "      <td>1</td>\n",
              "      <td>1</td>\n",
              "      <td>1</td>\n",
              "      <td>0</td>\n",
              "      <td>140.0</td>\n",
              "      <td>0.666667</td>\n",
              "      <td>0</td>\n",
              "      <td>1</td>\n",
              "      <td>0</td>\n",
              "      <td>1789.162426</td>\n",
              "    </tr>\n",
              "  </tbody>\n",
              "</table>\n",
              "<p>3819 rows × 14 columns</p>\n",
              "</div>"
            ],
            "text/plain": [
              "      city  status  numberRooms  ...  Bldg_B  Bldg_C  city_encoded\n",
              "1        1       1            1  ...       0       0   2179.295502\n",
              "2        1       1            3  ...       0       0   2179.295502\n",
              "3        1       1            3  ...       0       0   2179.295502\n",
              "4        1       1            3  ...       0       0   2179.295502\n",
              "5        1       2            3  ...       1       0   2179.295502\n",
              "...    ...     ...          ...  ...     ...     ...           ...\n",
              "7557     1       2            3  ...       2       0   1789.162426\n",
              "7558     1       2            3  ...       1       0   1789.162426\n",
              "7560     1       1            3  ...       0       0   1789.162426\n",
              "7561     1       1            2  ...       0       0   1789.162426\n",
              "7562     1       2            3  ...       1       0   1789.162426\n",
              "\n",
              "[3819 rows x 14 columns]"
            ]
          },
          "metadata": {
            "tags": []
          },
          "execution_count": 9
        }
      ]
    },
    {
      "cell_type": "code",
      "metadata": {
        "id": "-SBZxI7g0IUV"
      },
      "source": [
        "from sklearn.model_selection import train_test_split\n",
        "x_train, x_test, y_train, y_test = train_test_split(X,Y, test_size = .2, random_state= 42)"
      ],
      "execution_count": 10,
      "outputs": []
    },
    {
      "cell_type": "code",
      "metadata": {
        "colab": {
          "base_uri": "https://localhost:8080/"
        },
        "id": "YqRZmHUz0XZh",
        "outputId": "95ad94a6-2782-4abe-a90f-dd97b99440ec"
      },
      "source": [
        "from sklearn.tree import DecisionTreeRegressor\n",
        "#fit decision tree\n",
        "tree = DecisionTreeRegressor()\n",
        "tree.fit(x_train, y_train)\n",
        "#fit random forest\n",
        "forest = RandomForestRegressor(n_jobs=-1)\n",
        "forest.fit(x_train, y_train)\n",
        "#fit regression\n",
        "lin_reg = LinearRegression(n_jobs=-1)\n",
        "lin_reg.fit(x_train, y_train)"
      ],
      "execution_count": 11,
      "outputs": [
        {
          "output_type": "execute_result",
          "data": {
            "text/plain": [
              "LinearRegression(copy_X=True, fit_intercept=True, n_jobs=-1, normalize=False)"
            ]
          },
          "metadata": {
            "tags": []
          },
          "execution_count": 11
        }
      ]
    },
    {
      "cell_type": "code",
      "metadata": {
        "colab": {
          "base_uri": "https://localhost:8080/"
        },
        "id": "tRu4C6gX0q2B",
        "outputId": "9e00155d-4d6b-4a87-fef9-3ce17dce2dd9"
      },
      "source": [
        "models= [('lin_reg', lin_reg), ('random forest', forest), ('decision tree', tree)]\n",
        "from sklearn.metrics import mean_squared_error\n",
        "for i, model in models:    \n",
        "    predictions = model.predict(x_train)\n",
        "    MSE = mean_squared_error(y_train, predictions)\n",
        "    RMSE = np.sqrt(MSE)\n",
        "    msg = \"%s = %.2f\" % (i, round(RMSE, 2))\n",
        "    print('RMSE of', msg)"
      ],
      "execution_count": 12,
      "outputs": [
        {
          "output_type": "stream",
          "text": [
            "RMSE of lin_reg = 148.07\n",
            "RMSE of random forest = 86.53\n",
            "RMSE of decision tree = 77.20\n"
          ],
          "name": "stdout"
        }
      ]
    },
    {
      "cell_type": "code",
      "metadata": {
        "colab": {
          "base_uri": "https://localhost:8080/"
        },
        "id": "TCPJIYR31AAn",
        "outputId": "32019449-1115-4909-9538-5e62e3182b7d"
      },
      "source": [
        "for i, model in models:\n",
        "    # Make predictions on train data\n",
        "    predictions = model.predict(x_train)\n",
        "    # Performance metrics\n",
        "    errors = abs(predictions - y_train)\n",
        "    # Calculate mean absolute percentage error (MAPE)\n",
        "    mape = np.mean(100 * (errors / y_train))\n",
        "    # Calculate and display accuracy\n",
        "    accuracy = 100 - mape    \n",
        "    #print result\n",
        "    msg = \"%s= %.2f\"% (i, round(accuracy, 2))\n",
        "    print('Accuracy of', msg,'%')"
      ],
      "execution_count": 13,
      "outputs": [
        {
          "output_type": "stream",
          "text": [
            "Accuracy of lin_reg= 83.73 %\n",
            "Accuracy of random forest= 91.21 %\n",
            "Accuracy of decision tree= 93.90 %\n"
          ],
          "name": "stdout"
        }
      ]
    },
    {
      "cell_type": "code",
      "metadata": {
        "id": "uSExpY_x1VH5"
      },
      "source": [
        "from sklearn.model_selection import cross_validate\n",
        "models= [('lin_reg', lin_reg), ('forest', forest), ('dt', tree)]\n",
        "scoring = ['neg_mean_squared_error', 'neg_mean_absolute_error', 'r2']\n",
        "\n",
        "\n",
        "results= []\n",
        "metric= []\n",
        "for name, model in models:\n",
        "    for i in scoring:\n",
        "        scores = cross_validate(model, x_train, y_train, scoring=i, cv=10, return_train_score=True)\n",
        "        results.append(scores)"
      ],
      "execution_count": 14,
      "outputs": []
    },
    {
      "cell_type": "code",
      "metadata": {
        "id": "klaHTFwc12HA"
      },
      "source": [
        "\n"
      ],
      "execution_count": 14,
      "outputs": []
    },
    {
      "cell_type": "code",
      "metadata": {
        "id": "84MId-6Z2IJP"
      },
      "source": [
        "#THIS IS FOR Linear regression\n",
        "#RMSE\n",
        "LR_RMSE_mean = np.sqrt(-results[0]['test_score'].mean())\n",
        "LR_RMSE_std= results[0]['test_score'].std()\n",
        "# I changed the sign, as the result is originally a negative number for ease of computation\n",
        "LR_MAE_mean = -results[1]['test_score'].mean()\n",
        "LR_MAE_std= results[1]['test_score'].std()\n",
        "LR_r2_mean = results[2]['test_score'].mean()\n",
        "LR_r2_std = results[2]['test_score'].std()\n",
        "\n",
        "#THIS IS FOR RF\n",
        "RF_RMSE_mean = np.sqrt(-results[3]['test_score'].mean())\n",
        "RF_RMSE_std= results[3]['test_score'].std()\n",
        "RF_MAE_mean = -results[4]['test_score'].mean()\n",
        "RF_MAE_std= results[4]['test_score'].std()\n",
        "RF_r2_mean = results[5]['test_score'].mean()\n",
        "RF_r2_std = results[5]['test_score'].std()\n",
        "\n",
        "#THIS IS FOR DT\n",
        "DT_RMSE_mean = np.sqrt(-results[6]['test_score'].mean())\n",
        "DT_RMSE_std= results[6]['test_score'].std()\n",
        "DT_MAE_mean = -results[7]['test_score'].mean()\n",
        "DT_MAE_std= results[7]['test_score'].std()\n",
        "DT_r2_mean = results[8]['test_score'].mean()\n",
        "DT_r2_std = results[8]['test_score'].std()"
      ],
      "execution_count": 15,
      "outputs": []
    },
    {
      "cell_type": "code",
      "metadata": {
        "colab": {
          "base_uri": "https://localhost:8080/",
          "height": 136
        },
        "id": "sEXyfmYx2c5I",
        "outputId": "3a24d3d8-82b6-4774-90a7-561c6d3cee3b"
      },
      "source": [
        "modelDF = pd.DataFrame({\n",
        "    'Model'       : ['Linear Regression', 'Random Forest', 'Decision Trees'],\n",
        "    'RMSE_mean'    : [LR_RMSE_mean, RF_RMSE_mean, DT_RMSE_mean],\n",
        "    'RMSE_std'    : [LR_RMSE_std, RF_RMSE_std, DT_RMSE_std],\n",
        "    'MAE_mean'   : [LR_MAE_mean, RF_MAE_mean, DT_MAE_mean],\n",
        "    'MAE_std'   : [LR_MAE_std, RF_MAE_std, DT_MAE_std],\n",
        "    'r2_mean'      : [LR_r2_mean, RF_r2_mean, DT_r2_mean],\n",
        "    'r2_std'      : [LR_r2_std, RF_r2_std, DT_r2_std],\n",
        "    }, columns = ['Model', 'RMSE_mean', 'RMSE_std', 'MAE_mean', 'MAE_std', 'r2_mean', 'r2_std'])\n",
        "\n",
        "modelDF.sort_values(by='r2_mean', ascending=False)"
      ],
      "execution_count": 16,
      "outputs": [
        {
          "output_type": "execute_result",
          "data": {
            "text/html": [
              "<div>\n",
              "<style scoped>\n",
              "    .dataframe tbody tr th:only-of-type {\n",
              "        vertical-align: middle;\n",
              "    }\n",
              "\n",
              "    .dataframe tbody tr th {\n",
              "        vertical-align: top;\n",
              "    }\n",
              "\n",
              "    .dataframe thead th {\n",
              "        text-align: right;\n",
              "    }\n",
              "</style>\n",
              "<table border=\"1\" class=\"dataframe\">\n",
              "  <thead>\n",
              "    <tr style=\"text-align: right;\">\n",
              "      <th></th>\n",
              "      <th>Model</th>\n",
              "      <th>RMSE_mean</th>\n",
              "      <th>RMSE_std</th>\n",
              "      <th>MAE_mean</th>\n",
              "      <th>MAE_std</th>\n",
              "      <th>r2_mean</th>\n",
              "      <th>r2_std</th>\n",
              "    </tr>\n",
              "  </thead>\n",
              "  <tbody>\n",
              "    <tr>\n",
              "      <th>1</th>\n",
              "      <td>Random Forest</td>\n",
              "      <td>145.928740</td>\n",
              "      <td>4535.537289</td>\n",
              "      <td>89.273256</td>\n",
              "      <td>6.319900</td>\n",
              "      <td>0.497757</td>\n",
              "      <td>0.066798</td>\n",
              "    </tr>\n",
              "    <tr>\n",
              "      <th>0</th>\n",
              "      <td>Linear Regression</td>\n",
              "      <td>149.004626</td>\n",
              "      <td>4031.520531</td>\n",
              "      <td>96.009127</td>\n",
              "      <td>4.544266</td>\n",
              "      <td>0.480053</td>\n",
              "      <td>0.033154</td>\n",
              "    </tr>\n",
              "    <tr>\n",
              "      <th>2</th>\n",
              "      <td>Decision Trees</td>\n",
              "      <td>168.658511</td>\n",
              "      <td>5652.697618</td>\n",
              "      <td>98.415389</td>\n",
              "      <td>7.252236</td>\n",
              "      <td>0.338713</td>\n",
              "      <td>0.105717</td>\n",
              "    </tr>\n",
              "  </tbody>\n",
              "</table>\n",
              "</div>"
            ],
            "text/plain": [
              "               Model   RMSE_mean     RMSE_std  ...   MAE_std   r2_mean    r2_std\n",
              "1      Random Forest  145.928740  4535.537289  ...  6.319900  0.497757  0.066798\n",
              "0  Linear Regression  149.004626  4031.520531  ...  4.544266  0.480053  0.033154\n",
              "2     Decision Trees  168.658511  5652.697618  ...  7.252236  0.338713  0.105717\n",
              "\n",
              "[3 rows x 7 columns]"
            ]
          },
          "metadata": {
            "tags": []
          },
          "execution_count": 16
        }
      ]
    },
    {
      "cell_type": "code",
      "metadata": {
        "colab": {
          "base_uri": "https://localhost:8080/",
          "height": 386
        },
        "id": "OSCt-PWJ2d_T",
        "outputId": "0f481a37-9e96-4fae-bfbb-0565b5f6a46f"
      },
      "source": [
        "sns.factorplot(x= 'Model', y= 'RMSE_mean', data= modelDF, kind='bar', legend='True')"
      ],
      "execution_count": 17,
      "outputs": [
        {
          "output_type": "execute_result",
          "data": {
            "text/plain": [
              "<seaborn.axisgrid.FacetGrid at 0x7f7d40349690>"
            ]
          },
          "metadata": {
            "tags": []
          },
          "execution_count": 17
        },
        {
          "output_type": "display_data",
          "data": {
            "image/png": "[encoded data removed]",
            "text/plain": [
              "<Figure size 360x360 with 1 Axes>"
            ]
          },
          "metadata": {
            "tags": []
          }
        }
      ]
    },
    {
      "cell_type": "code",
      "metadata": {
        "colab": {
          "base_uri": "https://localhost:8080/"
        },
        "id": "kKaMf2YV2rk3",
        "outputId": "89550cdb-82d4-43f0-f9d7-7fd1fe6e0df2"
      },
      "source": [
        "from sklearn.model_selection import GridSearchCV\n",
        "\n",
        "param_grid = [\n",
        "{'n_estimators': [10, 25], 'max_features': [5, 10], \n",
        " 'max_depth': [10, 50, None], 'bootstrap': [True, False]}\n",
        "]\n",
        "\n",
        "grid_search_forest = GridSearchCV(forest, param_grid, cv=10, scoring='neg_mean_squared_error')\n",
        "grid_search_forest.fit(x_train, y_train)"
      ],
      "execution_count": 18,
      "outputs": [
        {
          "output_type": "execute_result",
          "data": {
            "text/plain": [
              "GridSearchCV(cv=10, error_score=nan,\n",
              "             estimator=RandomForestRegressor(bootstrap=True, ccp_alpha=0.0,\n",
              "                                             criterion='mse', max_depth=None,\n",
              "                                             max_features='auto',\n",
              "                                             max_leaf_nodes=None,\n",
              "                                             max_samples=None,\n",
              "                                             min_impurity_decrease=0.0,\n",
              "                                             min_impurity_split=None,\n",
              "                                             min_samples_leaf=1,\n",
              "                                             min_samples_split=2,\n",
              "                                             min_weight_fraction_leaf=0.0,\n",
              "                                             n_estimators=100, n_jobs=-1,\n",
              "                                             oob_score=False, random_state=None,\n",
              "                                             verbose=0, warm_start=False),\n",
              "             iid='deprecated', n_jobs=None,\n",
              "             param_grid=[{'bootstrap': [True, False],\n",
              "                          'max_depth': [10, 50, None], 'max_features': [5, 10],\n",
              "                          'n_estimators': [10, 25]}],\n",
              "             pre_dispatch='2*n_jobs', refit=True, return_train_score=False,\n",
              "             scoring='neg_mean_squared_error', verbose=0)"
            ]
          },
          "metadata": {
            "tags": []
          },
          "execution_count": 18
        }
      ]
    },
    {
      "cell_type": "code",
      "metadata": {
        "colab": {
          "base_uri": "https://localhost:8080/"
        },
        "id": "jJHbiqZf7Nb8",
        "outputId": "efa1d3e7-f42f-4b71-a777-d4a84a6752ea"
      },
      "source": [
        "#now let's how the RMSE changes for each parameter configuration\n",
        "cvres = grid_search_forest.cv_results_\n",
        "for mean_score, params in zip(cvres[\"mean_test_score\"], cvres[\"params\"]):\n",
        "    print(np.sqrt(-mean_score), params)"
      ],
      "execution_count": 19,
      "outputs": [
        {
          "output_type": "stream",
          "text": [
            "138.2405695100064 {'bootstrap': True, 'max_depth': 10, 'max_features': 5, 'n_estimators': 10}\n",
            "137.38238140788084 {'bootstrap': True, 'max_depth': 10, 'max_features': 5, 'n_estimators': 25}\n",
            "141.52270235431806 {'bootstrap': True, 'max_depth': 10, 'max_features': 10, 'n_estimators': 10}\n",
            "138.55708568751464 {'bootstrap': True, 'max_depth': 10, 'max_features': 10, 'n_estimators': 25}\n",
            "145.3322973196311 {'bootstrap': True, 'max_depth': 50, 'max_features': 5, 'n_estimators': 10}\n",
            "145.35952591563026 {'bootstrap': True, 'max_depth': 50, 'max_features': 5, 'n_estimators': 25}\n",
            "148.10561926055388 {'bootstrap': True, 'max_depth': 50, 'max_features': 10, 'n_estimators': 10}\n",
            "146.52139737916286 {'bootstrap': True, 'max_depth': 50, 'max_features': 10, 'n_estimators': 25}\n",
            "148.72038945030306 {'bootstrap': True, 'max_depth': None, 'max_features': 5, 'n_estimators': 10}\n",
            "144.24311412157877 {'bootstrap': True, 'max_depth': None, 'max_features': 5, 'n_estimators': 25}\n",
            "147.97495352608166 {'bootstrap': True, 'max_depth': None, 'max_features': 10, 'n_estimators': 10}\n",
            "145.69459051717496 {'bootstrap': True, 'max_depth': None, 'max_features': 10, 'n_estimators': 25}\n",
            "138.1434966449187 {'bootstrap': False, 'max_depth': 10, 'max_features': 5, 'n_estimators': 10}\n",
            "137.79959252127648 {'bootstrap': False, 'max_depth': 10, 'max_features': 5, 'n_estimators': 25}\n",
            "143.12799231638311 {'bootstrap': False, 'max_depth': 10, 'max_features': 10, 'n_estimators': 10}\n",
            "142.1493100939442 {'bootstrap': False, 'max_depth': 10, 'max_features': 10, 'n_estimators': 25}\n",
            "153.82489059437134 {'bootstrap': False, 'max_depth': 50, 'max_features': 5, 'n_estimators': 10}\n",
            "152.40160122223378 {'bootstrap': False, 'max_depth': 50, 'max_features': 5, 'n_estimators': 25}\n",
            "157.48272864891933 {'bootstrap': False, 'max_depth': 50, 'max_features': 10, 'n_estimators': 10}\n",
            "155.98405028813625 {'bootstrap': False, 'max_depth': 50, 'max_features': 10, 'n_estimators': 25}\n",
            "153.10565353858462 {'bootstrap': False, 'max_depth': None, 'max_features': 5, 'n_estimators': 10}\n",
            "152.94989654908193 {'bootstrap': False, 'max_depth': None, 'max_features': 5, 'n_estimators': 25}\n",
            "157.5214045575521 {'bootstrap': False, 'max_depth': None, 'max_features': 10, 'n_estimators': 10}\n",
            "155.6791150500163 {'bootstrap': False, 'max_depth': None, 'max_features': 10, 'n_estimators': 25}\n"
          ],
          "name": "stdout"
        }
      ]
    },
    {
      "cell_type": "code",
      "metadata": {
        "colab": {
          "base_uri": "https://localhost:8080/"
        },
        "id": "_AbwKyug7cgj",
        "outputId": "6511faf1-585f-4854-c064-e4e8e9c7464b"
      },
      "source": [
        "#find the best model of grid search\n",
        "grid_search_forest.best_estimator_"
      ],
      "execution_count": 20,
      "outputs": [
        {
          "output_type": "execute_result",
          "data": {
            "text/plain": [
              "RandomForestRegressor(bootstrap=True, ccp_alpha=0.0, criterion='mse',\n",
              "                      max_depth=10, max_features=5, max_leaf_nodes=None,\n",
              "                      max_samples=None, min_impurity_decrease=0.0,\n",
              "                      min_impurity_split=None, min_samples_leaf=1,\n",
              "                      min_samples_split=2, min_weight_fraction_leaf=0.0,\n",
              "                      n_estimators=25, n_jobs=-1, oob_score=False,\n",
              "                      random_state=None, verbose=0, warm_start=False)"
            ]
          },
          "metadata": {
            "tags": []
          },
          "execution_count": 20
        }
      ]
    },
    {
      "cell_type": "code",
      "metadata": {
        "colab": {
          "base_uri": "https://localhost:8080/"
        },
        "id": "lYUg3XDO7jgD",
        "outputId": "f523bf9b-75f6-44a7-838e-3b08aaeb6477"
      },
      "source": [
        "grid_best= grid_search_forest.best_estimator_.predict(x_train)\n",
        "errors = abs(grid_best - y_train)\n",
        "# Calculate mean absolute percentage error (MAPE)\n",
        "mape = np.mean(100 * (errors / y_train))\n",
        "accuracy = 100 - mape    \n",
        "#print result\n",
        "print('The best model from grid-search has an accuracy of', round(accuracy, 2),'%')"
      ],
      "execution_count": 21,
      "outputs": [
        {
          "output_type": "stream",
          "text": [
            "The best model from grid-search has an accuracy of 88.48 %\n"
          ],
          "name": "stdout"
        }
      ]
    },
    {
      "cell_type": "code",
      "metadata": {
        "colab": {
          "base_uri": "https://localhost:8080/"
        },
        "id": "EA5nDwa57vsK",
        "outputId": "5f92692f-af13-4670-c829-2033f66dd970"
      },
      "source": [
        "#RMSE\n",
        "grid_mse = mean_squared_error(y_train, grid_best)\n",
        "grid_rmse = np.sqrt(grid_mse)\n",
        "print('The best model from the grid search has a RMSE of', round(grid_rmse, 2))"
      ],
      "execution_count": 22,
      "outputs": [
        {
          "output_type": "stream",
          "text": [
            "The best model from the grid search has a RMSE of 107.7\n"
          ],
          "name": "stdout"
        }
      ]
    },
    {
      "cell_type": "code",
      "metadata": {
        "colab": {
          "base_uri": "https://localhost:8080/"
        },
        "id": "lYOJ3cDu71Qm",
        "outputId": "09214aea-8ed7-41a7-be4a-165b274e1d06"
      },
      "source": [
        "from sklearn.model_selection import RandomizedSearchCV\n",
        "from pprint import pprint\n",
        "\n",
        "# Number of trees in random forest\n",
        "n_estimators = [int(x) for x in np.linspace(start = 20, stop = 200, num = 5)]\n",
        "# Number of features to consider at every split\n",
        "max_features = ['auto', 'sqrt']\n",
        "# Maximum number of levels in tree\n",
        "max_depth = [int(x) for x in np.linspace(1, 45, num = 3)]\n",
        "# Minimum number of samples required to split a node\n",
        "min_samples_split = [5, 10]\n",
        "\n",
        "# Create the random grid\n",
        "random_grid = {'n_estimators': n_estimators,\n",
        "               'max_features': max_features,\n",
        "               'max_depth': max_depth,\n",
        "               'min_samples_split': min_samples_split}\n",
        "\n",
        "pprint(random_grid)"
      ],
      "execution_count": 23,
      "outputs": [
        {
          "output_type": "stream",
          "text": [
            "{'max_depth': [1, 23, 45],\n",
            " 'max_features': ['auto', 'sqrt'],\n",
            " 'min_samples_split': [5, 10],\n",
            " 'n_estimators': [20, 65, 110, 155, 200]}\n"
          ],
          "name": "stdout"
        }
      ]
    },
    {
      "cell_type": "code",
      "metadata": {
        "colab": {
          "base_uri": "https://localhost:8080/"
        },
        "id": "VmrsJ90r7_Im",
        "outputId": "3cbc48de-0ddb-4e04-f7b2-4d431710586e"
      },
      "source": [
        "\n",
        "# Random search of parameters, using 3 fold cross validation, \n",
        "# search across 100 different combinations\n",
        "rf_random = RandomizedSearchCV(estimator = forest, param_distributions = random_grid, n_iter = 10, cv = 10, verbose=2, random_state=42, n_jobs = -1, scoring='neg_mean_squared_error')\n",
        "# Fit the random search model\n",
        "rf_random.fit(x_train, y_train)"
      ],
      "execution_count": 24,
      "outputs": [
        {
          "output_type": "stream",
          "text": [
            "Fitting 10 folds for each of 10 candidates, totalling 100 fits\n"
          ],
          "name": "stdout"
        },
        {
          "output_type": "stream",
          "text": [
            "[Parallel(n_jobs=-1)]: Using backend LokyBackend with 2 concurrent workers.\n",
            "[Parallel(n_jobs=-1)]: Done  37 tasks      | elapsed:    6.1s\n",
            "[Parallel(n_jobs=-1)]: Done 100 out of 100 | elapsed:   29.6s finished\n"
          ],
          "name": "stderr"
        },
        {
          "output_type": "execute_result",
          "data": {
            "text/plain": [
              "RandomizedSearchCV(cv=10, error_score=nan,\n",
              "                   estimator=RandomForestRegressor(bootstrap=True,\n",
              "                                                   ccp_alpha=0.0,\n",
              "                                                   criterion='mse',\n",
              "                                                   max_depth=None,\n",
              "                                                   max_features='auto',\n",
              "                                                   max_leaf_nodes=None,\n",
              "                                                   max_samples=None,\n",
              "                                                   min_impurity_decrease=0.0,\n",
              "                                                   min_impurity_split=None,\n",
              "                                                   min_samples_leaf=1,\n",
              "                                                   min_samples_split=2,\n",
              "                                                   min_weight_fraction_leaf=0.0,\n",
              "                                                   n_estimators=100, n_jobs=-1,\n",
              "                                                   oob_score=False,\n",
              "                                                   random_state=None, verbose=0,\n",
              "                                                   warm_start=False),\n",
              "                   iid='deprecated', n_iter=10, n_jobs=-1,\n",
              "                   param_distributions={'max_depth': [1, 23, 45],\n",
              "                                        'max_features': ['auto', 'sqrt'],\n",
              "                                        'min_samples_split': [5, 10],\n",
              "                                        'n_estimators': [20, 65, 110, 155,\n",
              "                                                         200]},\n",
              "                   pre_dispatch='2*n_jobs', random_state=42, refit=True,\n",
              "                   return_train_score=False, scoring='neg_mean_squared_error',\n",
              "                   verbose=2)"
            ]
          },
          "metadata": {
            "tags": []
          },
          "execution_count": 24
        }
      ]
    },
    {
      "cell_type": "code",
      "metadata": {
        "colab": {
          "base_uri": "https://localhost:8080/"
        },
        "id": "u8OUjBWO8XEL",
        "outputId": "2b5eb142-d818-4c54-ac28-c3a9583a34e8"
      },
      "source": [
        "#now let's how the RMSE changes for each parameter configuration\n",
        "cvres2 = rf_random.cv_results_\n",
        "for mean_score, params in zip(cvres2[\"mean_test_score\"], cvres2[\"params\"]):\n",
        "    print(np.sqrt(-mean_score), params)"
      ],
      "execution_count": 25,
      "outputs": [
        {
          "output_type": "stream",
          "text": [
            "183.7286791693083 {'n_estimators': 20, 'min_samples_split': 5, 'max_features': 'auto', 'max_depth': 1}\n",
            "182.80583109911436 {'n_estimators': 20, 'min_samples_split': 10, 'max_features': 'auto', 'max_depth': 1}\n",
            "138.15537436389926 {'n_estimators': 65, 'min_samples_split': 10, 'max_features': 'sqrt', 'max_depth': 23}\n",
            "141.57224485600898 {'n_estimators': 20, 'min_samples_split': 10, 'max_features': 'auto', 'max_depth': 45}\n",
            "182.76101321477847 {'n_estimators': 155, 'min_samples_split': 5, 'max_features': 'sqrt', 'max_depth': 1}\n",
            "139.5789183556799 {'n_estimators': 200, 'min_samples_split': 5, 'max_features': 'sqrt', 'max_depth': 45}\n",
            "139.36862011014534 {'n_estimators': 155, 'min_samples_split': 5, 'max_features': 'sqrt', 'max_depth': 23}\n",
            "139.6901611503758 {'n_estimators': 155, 'min_samples_split': 10, 'max_features': 'auto', 'max_depth': 45}\n",
            "182.88976564028295 {'n_estimators': 110, 'min_samples_split': 5, 'max_features': 'sqrt', 'max_depth': 1}\n",
            "137.69493851172697 {'n_estimators': 110, 'min_samples_split': 10, 'max_features': 'sqrt', 'max_depth': 45}\n"
          ],
          "name": "stdout"
        }
      ]
    },
    {
      "cell_type": "code",
      "metadata": {
        "colab": {
          "base_uri": "https://localhost:8080/"
        },
        "id": "R6xcnUqd8YDs",
        "outputId": "1e51638f-c791-4962-d26c-9acba280a71d"
      },
      "source": [
        "# best random model \n",
        "rf_random.best_estimator_"
      ],
      "execution_count": 26,
      "outputs": [
        {
          "output_type": "execute_result",
          "data": {
            "text/plain": [
              "RandomForestRegressor(bootstrap=True, ccp_alpha=0.0, criterion='mse',\n",
              "                      max_depth=45, max_features='sqrt', max_leaf_nodes=None,\n",
              "                      max_samples=None, min_impurity_decrease=0.0,\n",
              "                      min_impurity_split=None, min_samples_leaf=1,\n",
              "                      min_samples_split=10, min_weight_fraction_leaf=0.0,\n",
              "                      n_estimators=110, n_jobs=-1, oob_score=False,\n",
              "                      random_state=None, verbose=0, warm_start=False)"
            ]
          },
          "metadata": {
            "tags": []
          },
          "execution_count": 26
        }
      ]
    },
    {
      "cell_type": "code",
      "metadata": {
        "colab": {
          "base_uri": "https://localhost:8080/"
        },
        "id": "re1CbSxn8gMD",
        "outputId": "82e8a3f2-1145-4dbb-a8e7-944504d7316c"
      },
      "source": [
        "# best combination of parameters of random search\n",
        "rf_random.best_params_"
      ],
      "execution_count": 27,
      "outputs": [
        {
          "output_type": "execute_result",
          "data": {
            "text/plain": [
              "{'max_depth': 45,\n",
              " 'max_features': 'sqrt',\n",
              " 'min_samples_split': 10,\n",
              " 'n_estimators': 110}"
            ]
          },
          "metadata": {
            "tags": []
          },
          "execution_count": 27
        }
      ]
    },
    {
      "cell_type": "code",
      "metadata": {
        "colab": {
          "base_uri": "https://localhost:8080/"
        },
        "id": "Lzb_MXBq8ncE",
        "outputId": "00530abb-7024-4590-92f0-a4f1a95fb9b4"
      },
      "source": [
        "rf_random.best_estimator_"
      ],
      "execution_count": 28,
      "outputs": [
        {
          "output_type": "execute_result",
          "data": {
            "text/plain": [
              "RandomForestRegressor(bootstrap=True, ccp_alpha=0.0, criterion='mse',\n",
              "                      max_depth=45, max_features='sqrt', max_leaf_nodes=None,\n",
              "                      max_samples=None, min_impurity_decrease=0.0,\n",
              "                      min_impurity_split=None, min_samples_leaf=1,\n",
              "                      min_samples_split=10, min_weight_fraction_leaf=0.0,\n",
              "                      n_estimators=110, n_jobs=-1, oob_score=False,\n",
              "                      random_state=None, verbose=0, warm_start=False)"
            ]
          },
          "metadata": {
            "tags": []
          },
          "execution_count": 28
        }
      ]
    },
    {
      "cell_type": "code",
      "metadata": {
        "colab": {
          "base_uri": "https://localhost:8080/"
        },
        "id": "Aje1i8Bl8oGW",
        "outputId": "45500eac-56e3-4d34-f88e-5f5758a4b957"
      },
      "source": [
        "# Performance metrics (MAPE)\n",
        "random_best= rf_random.best_estimator_.predict(x_train)\n",
        "errors = abs(random_best - y_train)\n",
        "# Calculate mean absolute percentage error (MAPE)\n",
        "mape = np.mean(100 * (errors / y_train))\n",
        "accuracy = 100 - mape    \n",
        "#print result\n",
        "print('The best model from the randomized search has an accuracy of', round(accuracy, 2),'%')"
      ],
      "execution_count": 29,
      "outputs": [
        {
          "output_type": "stream",
          "text": [
            "The best model from the randomized search has an accuracy of 88.2 %\n"
          ],
          "name": "stdout"
        }
      ]
    },
    {
      "cell_type": "code",
      "metadata": {
        "colab": {
          "base_uri": "https://localhost:8080/"
        },
        "id": "ndsr3Afm8xJE",
        "outputId": "b3fc1b56-2dd2-4386-f254-eaff31370457"
      },
      "source": [
        "#this is the RMSE\n",
        "final_mse = mean_squared_error(y_train, random_best)\n",
        "final_rmse = np.sqrt(final_mse)\n",
        "print('The best model from the randomized search has a RMSE of', round(final_rmse, 2))"
      ],
      "execution_count": 30,
      "outputs": [
        {
          "output_type": "stream",
          "text": [
            "The best model from the randomized search has a RMSE of 110.81\n"
          ],
          "name": "stdout"
        }
      ]
    },
    {
      "cell_type": "code",
      "metadata": {
        "colab": {
          "base_uri": "https://localhost:8080/"
        },
        "id": "S4q2PzuX9ApD",
        "outputId": "a04a550f-81d1-4f75-99b4-d740f05e9629"
      },
      "source": [
        "# extract the numerical values of feature importance from the grid search\n",
        "importances = rf_random.best_estimator_.feature_importances_\n",
        "\n",
        "#create a feature list from the original dataset (list of columns)\n",
        "feature_list = list(X.columns)\n",
        "\n",
        "#create a list of tuples\n",
        "feature_importance= sorted(zip(importances, feature_list), reverse=True)\n",
        "\n",
        "#create two lists from the previous list of tuples\n",
        "df2 = pd.DataFrame(feature_importance, columns=['importance', 'feature'])\n",
        "importance= list(df2['importance'])\n",
        "feature= list(df2['feature'])\n",
        "\n",
        "print(df2)"
      ],
      "execution_count": 31,
      "outputs": [
        {
          "output_type": "stream",
          "text": [
            "    importance          feature\n",
            "0     0.198584       houseSpace\n",
            "1     0.126038      numberRooms\n",
            "2     0.118436  numberBathrooms\n",
            "3     0.115973           Bldg_A\n",
            "4     0.107086          heating\n",
            "5     0.094822           status\n",
            "6     0.064724     city_encoded\n",
            "7     0.047760           Bldg_B\n",
            "8     0.047375      featurePlus\n",
            "9     0.032578  numberBalconies\n",
            "10    0.023316       carParking\n",
            "11    0.016715         elevator\n",
            "12    0.004630             city\n",
            "13    0.001964           Bldg_C\n"
          ],
          "name": "stdout"
        }
      ]
    },
    {
      "cell_type": "code",
      "metadata": {
        "colab": {
          "base_uri": "https://localhost:8080/",
          "height": 729
        },
        "id": "xGF4z2kD9Si8",
        "outputId": "6125d3e0-72c8-43df-b3de-d318864cc0d1"
      },
      "source": [
        "# Set the style\n",
        "plt.style.use('bmh')\n",
        "# list of x locations for plotting\n",
        "x_values = list(range(len(feature_importance)))\n",
        "\n",
        "# Make a bar chart\n",
        "plt.figure(figsize=(15,10))\n",
        "plt.bar(x_values, importance, orientation = 'vertical')\n",
        "plt.xticks(x_values, feature, rotation='vertical')\n",
        "plt.ylabel('Importance'); plt.xlabel('Variable'); plt.title('Variable Importances');"
      ],
      "execution_count": 32,
      "outputs": [
        {
          "output_type": "display_data",
          "data": {
            "image/png": "[encoded data removed]",
            "text/plain": [
              "<Figure size 1080x720 with 1 Axes>"
            ]
          },
          "metadata": {
            "tags": []
          }
        }
      ]
    },
    {
      "cell_type": "code",
      "metadata": {
        "colab": {
          "base_uri": "https://localhost:8080/"
        },
        "id": "Q4scLTzZ96eu",
        "outputId": "64fbcc0a-94a1-4332-8382-e308453585f1"
      },
      "source": [
        "final_model = rf_random.best_estimator_\n",
        "# Predicting test set results\n",
        "final_pred = final_model.predict(x_test)\n",
        "final_mse = mean_squared_error(y_test, final_pred)\n",
        "final_rmse = np.sqrt(final_mse)\n",
        "print('The final RMSE on the test set is', round(final_rmse, 2))"
      ],
      "execution_count": 33,
      "outputs": [
        {
          "output_type": "stream",
          "text": [
            "The final RMSE on the test set is 122.27\n"
          ],
          "name": "stdout"
        }
      ]
    },
    {
      "cell_type": "code",
      "metadata": {
        "colab": {
          "base_uri": "https://localhost:8080/"
        },
        "id": "ebjsZCni998U",
        "outputId": "13aa3f52-14a1-4b30-ac88-b5b4ab400334"
      },
      "source": [
        "\n",
        "errors = abs(final_pred - y_test)\n",
        "# Calculate mean absolute percentage error (MAPE)\n",
        "mape = np.mean(100 * (errors / y_test))\n",
        "# Calculate and display accuracy\n",
        "accuracy = 100 - mape    \n",
        "#print result\n",
        "print('The best model achieves on the test set an accuracy of', round(accuracy, 2),'%')"
      ],
      "execution_count": 34,
      "outputs": [
        {
          "output_type": "stream",
          "text": [
            "The best model achieves on the test set an accuracy of 84.78 %\n"
          ],
          "name": "stdout"
        }
      ]
    },
    {
      "cell_type": "code",
      "metadata": {
        "id": "HoHjN1ldFmcx"
      },
      "source": [
        "from joblib import dump,load\n",
        "#dump(rf_random,'priceprediction.joblib')"
      ],
      "execution_count": null,
      "outputs": []
    },
    {
      "cell_type": "code",
      "metadata": {
        "colab": {
          "base_uri": "https://localhost:8080/"
        },
        "id": "-CDiwoOI6vW3",
        "outputId": "ad987976-c675-4580-ef8b-504d13d56e0f"
      },
      "source": [
        "index_names = x_test[ x_test['PriceType_NIS'] == 0  ].index \n",
        "index_names\n",
        "# drop these row indexes \n",
        "# from dataFrame \n",
        "x_test.drop(index_names, inplace = True)\n",
        "y_test.drop(index_names, inplace = True)\n",
        "\n",
        "final_pred = final_model.predict(x_test)\n",
        "\n",
        "errors = abs(final_pred - y_test)\n",
        "# Calculate mean absolute percentage error (MAPE)\n",
        "mape = np.mean(100 * (errors / y_test))\n",
        "# Calculate and display accuracy\n",
        "accuracy = 100 - mape    \n",
        "#print result\n",
        "print('The best model achieves on the test set an accuracy of', round(accuracy, 2),'%')"
      ],
      "execution_count": null,
      "outputs": [
        {
          "output_type": "stream",
          "text": [
            "The best model achieves on the test set an accuracy of 68.21 %\n"
          ],
          "name": "stdout"
        }
      ]
    },
    {
      "cell_type": "code",
      "metadata": {
        "id": "mimO5Hpx6vf0"
      },
      "source": [
        ""
      ],
      "execution_count": null,
      "outputs": []
    },
    {
      "cell_type": "code",
      "metadata": {
        "id": "xrJfdlux6vor",
        "colab": {
          "base_uri": "https://localhost:8080/",
          "height": 365
        },
        "outputId": "289df953-9981-438d-d133-95a19bb29b19"
      },
      "source": [
        "plt.figure(figsize=(20, 5))\n",
        "plt.plot(result.index,result.Column_A,label='Predict line')\n",
        "plt.scatter(result.index,result.price,s=15, c='#ff0000',label='Original test values')\n",
        "plt.legend()\n",
        "plt.xlabel('index ')\n",
        "plt.ylabel('value ')\n",
        "plt.show()"
      ],
      "execution_count": 84,
      "outputs": [
        {
          "output_type": "display_data",
          "data": {
            "image/png": "[encoded data removed]",
            "text/plain": [
              "<Figure size 1440x360 with 1 Axes>"
            ]
          },
          "metadata": {
            "tags": []
          }
        }
      ]
    },
    {
      "cell_type": "code",
      "metadata": {
        "colab": {
          "base_uri": "https://localhost:8080/",
          "height": 294
        },
        "id": "UA1mfJlozggh",
        "outputId": "5f642739-9fa1-4973-ac66-ab5321305c51"
      },
      "source": [
        "plt.figure(figsize=(25, 5))\n",
        "plt.plot(result.index,result.Column_A,label='Predict line')\n",
        "plt.scatter(result.index,result.price,s=10, c='#ff0000',label='Original test values')\n",
        "plt.legend()\n",
        "plt.xlabel('index ')\n",
        "plt.ylabel('value ')\n",
        "plt.show()"
      ],
      "execution_count": 93,
      "outputs": [
        {
          "output_type": "display_data",
          "data": {
            "image/png": "[encoded data removed]",
            "text/plain": [
              "<Figure size 1800x360 with 1 Axes>"
            ]
          },
          "metadata": {
            "tags": []
          }
        }
      ]
    },
    {
      "cell_type": "code",
      "metadata": {
        "colab": {
          "base_uri": "https://localhost:8080/",
          "height": 402
        },
        "id": "kXGV2CGLp3hn",
        "outputId": "2812d792-c638-428f-cb81-c4f474e0a612"
      },
      "source": [
        "s=y_train.reset_index() \n",
        "df = pd.DataFrame(random_best, columns = ['Column_A'])\n",
        "result = pd.concat([df, s], axis=1)\n",
        "result = result.sort_values(by=['Column_A'])\n",
        "result = result.reset_index() \n",
        "\n",
        "result"
      ],
      "execution_count": 94,
      "outputs": [
        {
          "output_type": "execute_result",
          "data": {
            "text/html": [
              "<div>\n",
              "<style scoped>\n",
              "    .dataframe tbody tr th:only-of-type {\n",
              "        vertical-align: middle;\n",
              "    }\n",
              "\n",
              "    .dataframe tbody tr th {\n",
              "        vertical-align: top;\n",
              "    }\n",
              "\n",
              "    .dataframe thead th {\n",
              "        text-align: right;\n",
              "    }\n",
              "</style>\n",
              "<table border=\"1\" class=\"dataframe\">\n",
              "  <thead>\n",
              "    <tr style=\"text-align: right;\">\n",
              "      <th></th>\n",
              "      <th>level_0</th>\n",
              "      <th>Column_A</th>\n",
              "      <th>index</th>\n",
              "      <th>price</th>\n",
              "    </tr>\n",
              "  </thead>\n",
              "  <tbody>\n",
              "    <tr>\n",
              "      <th>0</th>\n",
              "      <td>970</td>\n",
              "      <td>342.187308</td>\n",
              "      <td>2100</td>\n",
              "      <td>300</td>\n",
              "    </tr>\n",
              "    <tr>\n",
              "      <th>1</th>\n",
              "      <td>2874</td>\n",
              "      <td>342.187308</td>\n",
              "      <td>2756</td>\n",
              "      <td>400</td>\n",
              "    </tr>\n",
              "    <tr>\n",
              "      <th>2</th>\n",
              "      <td>1448</td>\n",
              "      <td>342.187308</td>\n",
              "      <td>2627</td>\n",
              "      <td>350</td>\n",
              "    </tr>\n",
              "    <tr>\n",
              "      <th>3</th>\n",
              "      <td>1775</td>\n",
              "      <td>342.187308</td>\n",
              "      <td>2218</td>\n",
              "      <td>300</td>\n",
              "    </tr>\n",
              "    <tr>\n",
              "      <th>4</th>\n",
              "      <td>629</td>\n",
              "      <td>342.187308</td>\n",
              "      <td>2184</td>\n",
              "      <td>350</td>\n",
              "    </tr>\n",
              "    <tr>\n",
              "      <th>...</th>\n",
              "      <td>...</td>\n",
              "      <td>...</td>\n",
              "      <td>...</td>\n",
              "      <td>...</td>\n",
              "    </tr>\n",
              "    <tr>\n",
              "      <th>3050</th>\n",
              "      <td>894</td>\n",
              "      <td>1303.585130</td>\n",
              "      <td>4837</td>\n",
              "      <td>1800</td>\n",
              "    </tr>\n",
              "    <tr>\n",
              "      <th>3051</th>\n",
              "      <td>2690</td>\n",
              "      <td>1306.006388</td>\n",
              "      <td>6119</td>\n",
              "      <td>1800</td>\n",
              "    </tr>\n",
              "    <tr>\n",
              "      <th>3052</th>\n",
              "      <td>2149</td>\n",
              "      <td>1527.203664</td>\n",
              "      <td>7518</td>\n",
              "      <td>1500</td>\n",
              "    </tr>\n",
              "    <tr>\n",
              "      <th>3053</th>\n",
              "      <td>555</td>\n",
              "      <td>1527.203664</td>\n",
              "      <td>6917</td>\n",
              "      <td>2000</td>\n",
              "    </tr>\n",
              "    <tr>\n",
              "      <th>3054</th>\n",
              "      <td>930</td>\n",
              "      <td>1540.020423</td>\n",
              "      <td>6260</td>\n",
              "      <td>2000</td>\n",
              "    </tr>\n",
              "  </tbody>\n",
              "</table>\n",
              "<p>3055 rows × 4 columns</p>\n",
              "</div>"
            ],
            "text/plain": [
              "      level_0     Column_A  index  price\n",
              "0         970   342.187308   2100    300\n",
              "1        2874   342.187308   2756    400\n",
              "2        1448   342.187308   2627    350\n",
              "3        1775   342.187308   2218    300\n",
              "4         629   342.187308   2184    350\n",
              "...       ...          ...    ...    ...\n",
              "3050      894  1303.585130   4837   1800\n",
              "3051     2690  1306.006388   6119   1800\n",
              "3052     2149  1527.203664   7518   1500\n",
              "3053      555  1527.203664   6917   2000\n",
              "3054      930  1540.020423   6260   2000\n",
              "\n",
              "[3055 rows x 4 columns]"
            ]
          },
          "metadata": {
            "tags": []
          },
          "execution_count": 94
        }
      ]
    },
    {
      "cell_type": "code",
      "metadata": {
        "id": "IhOXKd3H1StK"
      },
      "source": [
        "l=sorted(final_pred)\n",
        "df = pd.DataFrame(random_best, columns = ['Column_A'])"
      ],
      "execution_count": 86,
      "outputs": []
    },
    {
      "cell_type": "code",
      "metadata": {
        "colab": {
          "base_uri": "https://localhost:8080/",
          "height": 402
        },
        "id": "D1SrIY4Gop_i",
        "outputId": "fcaf96e2-ced8-4bd1-8d43-b6dff7a23be5"
      },
      "source": [
        "df"
      ],
      "execution_count": 87,
      "outputs": [
        {
          "output_type": "execute_result",
          "data": {
            "text/html": [
              "<div>\n",
              "<style scoped>\n",
              "    .dataframe tbody tr th:only-of-type {\n",
              "        vertical-align: middle;\n",
              "    }\n",
              "\n",
              "    .dataframe tbody tr th {\n",
              "        vertical-align: top;\n",
              "    }\n",
              "\n",
              "    .dataframe thead th {\n",
              "        text-align: right;\n",
              "    }\n",
              "</style>\n",
              "<table border=\"1\" class=\"dataframe\">\n",
              "  <thead>\n",
              "    <tr style=\"text-align: right;\">\n",
              "      <th></th>\n",
              "      <th>Column_A</th>\n",
              "    </tr>\n",
              "  </thead>\n",
              "  <tbody>\n",
              "    <tr>\n",
              "      <th>0</th>\n",
              "      <td>648.021035</td>\n",
              "    </tr>\n",
              "    <tr>\n",
              "      <th>1</th>\n",
              "      <td>473.974049</td>\n",
              "    </tr>\n",
              "    <tr>\n",
              "      <th>2</th>\n",
              "      <td>409.913762</td>\n",
              "    </tr>\n",
              "    <tr>\n",
              "      <th>3</th>\n",
              "      <td>745.533197</td>\n",
              "    </tr>\n",
              "    <tr>\n",
              "      <th>4</th>\n",
              "      <td>473.974049</td>\n",
              "    </tr>\n",
              "    <tr>\n",
              "      <th>...</th>\n",
              "      <td>...</td>\n",
              "    </tr>\n",
              "    <tr>\n",
              "      <th>3050</th>\n",
              "      <td>342.187308</td>\n",
              "    </tr>\n",
              "    <tr>\n",
              "      <th>3051</th>\n",
              "      <td>583.347861</td>\n",
              "    </tr>\n",
              "    <tr>\n",
              "      <th>3052</th>\n",
              "      <td>742.559808</td>\n",
              "    </tr>\n",
              "    <tr>\n",
              "      <th>3053</th>\n",
              "      <td>919.773440</td>\n",
              "    </tr>\n",
              "    <tr>\n",
              "      <th>3054</th>\n",
              "      <td>979.722480</td>\n",
              "    </tr>\n",
              "  </tbody>\n",
              "</table>\n",
              "<p>3055 rows × 1 columns</p>\n",
              "</div>"
            ],
            "text/plain": [
              "        Column_A\n",
              "0     648.021035\n",
              "1     473.974049\n",
              "2     409.913762\n",
              "3     745.533197\n",
              "4     473.974049\n",
              "...          ...\n",
              "3050  342.187308\n",
              "3051  583.347861\n",
              "3052  742.559808\n",
              "3053  919.773440\n",
              "3054  979.722480\n",
              "\n",
              "[3055 rows x 1 columns]"
            ]
          },
          "metadata": {
            "tags": []
          },
          "execution_count": 87
        }
      ]
    },
    {
      "cell_type": "code",
      "metadata": {
        "colab": {
          "base_uri": "https://localhost:8080/",
          "height": 402
        },
        "id": "q3oAKwQAorHq",
        "outputId": "6fbbadf4-da00-456d-c49c-f6307579c1c9"
      },
      "source": [
        "result = pd.concat([df, s], axis=1)\n",
        "\n",
        "result"
      ],
      "execution_count": 88,
      "outputs": [
        {
          "output_type": "execute_result",
          "data": {
            "text/html": [
              "<div>\n",
              "<style scoped>\n",
              "    .dataframe tbody tr th:only-of-type {\n",
              "        vertical-align: middle;\n",
              "    }\n",
              "\n",
              "    .dataframe tbody tr th {\n",
              "        vertical-align: top;\n",
              "    }\n",
              "\n",
              "    .dataframe thead th {\n",
              "        text-align: right;\n",
              "    }\n",
              "</style>\n",
              "<table border=\"1\" class=\"dataframe\">\n",
              "  <thead>\n",
              "    <tr style=\"text-align: right;\">\n",
              "      <th></th>\n",
              "      <th>Column_A</th>\n",
              "      <th>index</th>\n",
              "      <th>price</th>\n",
              "    </tr>\n",
              "  </thead>\n",
              "  <tbody>\n",
              "    <tr>\n",
              "      <th>0</th>\n",
              "      <td>648.021035</td>\n",
              "      <td>1226</td>\n",
              "      <td>700</td>\n",
              "    </tr>\n",
              "    <tr>\n",
              "      <th>1</th>\n",
              "      <td>473.974049</td>\n",
              "      <td>3926</td>\n",
              "      <td>500</td>\n",
              "    </tr>\n",
              "    <tr>\n",
              "      <th>2</th>\n",
              "      <td>409.913762</td>\n",
              "      <td>1126</td>\n",
              "      <td>400</td>\n",
              "    </tr>\n",
              "    <tr>\n",
              "      <th>3</th>\n",
              "      <td>745.533197</td>\n",
              "      <td>5406</td>\n",
              "      <td>700</td>\n",
              "    </tr>\n",
              "    <tr>\n",
              "      <th>4</th>\n",
              "      <td>473.974049</td>\n",
              "      <td>4235</td>\n",
              "      <td>450</td>\n",
              "    </tr>\n",
              "    <tr>\n",
              "      <th>...</th>\n",
              "      <td>...</td>\n",
              "      <td>...</td>\n",
              "      <td>...</td>\n",
              "    </tr>\n",
              "    <tr>\n",
              "      <th>3050</th>\n",
              "      <td>342.187308</td>\n",
              "      <td>2075</td>\n",
              "      <td>400</td>\n",
              "    </tr>\n",
              "    <tr>\n",
              "      <th>3051</th>\n",
              "      <td>583.347861</td>\n",
              "      <td>2412</td>\n",
              "      <td>600</td>\n",
              "    </tr>\n",
              "    <tr>\n",
              "      <th>3052</th>\n",
              "      <td>742.559808</td>\n",
              "      <td>1556</td>\n",
              "      <td>700</td>\n",
              "    </tr>\n",
              "    <tr>\n",
              "      <th>3053</th>\n",
              "      <td>919.773440</td>\n",
              "      <td>6876</td>\n",
              "      <td>1100</td>\n",
              "    </tr>\n",
              "    <tr>\n",
              "      <th>3054</th>\n",
              "      <td>979.722480</td>\n",
              "      <td>6104</td>\n",
              "      <td>1300</td>\n",
              "    </tr>\n",
              "  </tbody>\n",
              "</table>\n",
              "<p>3055 rows × 3 columns</p>\n",
              "</div>"
            ],
            "text/plain": [
              "        Column_A  index  price\n",
              "0     648.021035   1226    700\n",
              "1     473.974049   3926    500\n",
              "2     409.913762   1126    400\n",
              "3     745.533197   5406    700\n",
              "4     473.974049   4235    450\n",
              "...          ...    ...    ...\n",
              "3050  342.187308   2075    400\n",
              "3051  583.347861   2412    600\n",
              "3052  742.559808   1556    700\n",
              "3053  919.773440   6876   1100\n",
              "3054  979.722480   6104   1300\n",
              "\n",
              "[3055 rows x 3 columns]"
            ]
          },
          "metadata": {
            "tags": []
          },
          "execution_count": 88
        }
      ]
    },
    {
      "cell_type": "code",
      "metadata": {
        "colab": {
          "base_uri": "https://localhost:8080/",
          "height": 402
        },
        "id": "wBkL9WOSsrLp",
        "outputId": "1e019780-a1b4-41bc-b870-8af2a99e16a6"
      },
      "source": [
        "result = result.sort_values(by=['Column_A'])\n",
        "result = result.reset_index() \n",
        "\n",
        "result"
      ],
      "execution_count": 89,
      "outputs": [
        {
          "output_type": "execute_result",
          "data": {
            "text/html": [
              "<div>\n",
              "<style scoped>\n",
              "    .dataframe tbody tr th:only-of-type {\n",
              "        vertical-align: middle;\n",
              "    }\n",
              "\n",
              "    .dataframe tbody tr th {\n",
              "        vertical-align: top;\n",
              "    }\n",
              "\n",
              "    .dataframe thead th {\n",
              "        text-align: right;\n",
              "    }\n",
              "</style>\n",
              "<table border=\"1\" class=\"dataframe\">\n",
              "  <thead>\n",
              "    <tr style=\"text-align: right;\">\n",
              "      <th></th>\n",
              "      <th>level_0</th>\n",
              "      <th>Column_A</th>\n",
              "      <th>index</th>\n",
              "      <th>price</th>\n",
              "    </tr>\n",
              "  </thead>\n",
              "  <tbody>\n",
              "    <tr>\n",
              "      <th>0</th>\n",
              "      <td>970</td>\n",
              "      <td>342.187308</td>\n",
              "      <td>2100</td>\n",
              "      <td>300</td>\n",
              "    </tr>\n",
              "    <tr>\n",
              "      <th>1</th>\n",
              "      <td>2874</td>\n",
              "      <td>342.187308</td>\n",
              "      <td>2756</td>\n",
              "      <td>400</td>\n",
              "    </tr>\n",
              "    <tr>\n",
              "      <th>2</th>\n",
              "      <td>1448</td>\n",
              "      <td>342.187308</td>\n",
              "      <td>2627</td>\n",
              "      <td>350</td>\n",
              "    </tr>\n",
              "    <tr>\n",
              "      <th>3</th>\n",
              "      <td>1775</td>\n",
              "      <td>342.187308</td>\n",
              "      <td>2218</td>\n",
              "      <td>300</td>\n",
              "    </tr>\n",
              "    <tr>\n",
              "      <th>4</th>\n",
              "      <td>629</td>\n",
              "      <td>342.187308</td>\n",
              "      <td>2184</td>\n",
              "      <td>350</td>\n",
              "    </tr>\n",
              "    <tr>\n",
              "      <th>...</th>\n",
              "      <td>...</td>\n",
              "      <td>...</td>\n",
              "      <td>...</td>\n",
              "      <td>...</td>\n",
              "    </tr>\n",
              "    <tr>\n",
              "      <th>3050</th>\n",
              "      <td>894</td>\n",
              "      <td>1303.585130</td>\n",
              "      <td>4837</td>\n",
              "      <td>1800</td>\n",
              "    </tr>\n",
              "    <tr>\n",
              "      <th>3051</th>\n",
              "      <td>2690</td>\n",
              "      <td>1306.006388</td>\n",
              "      <td>6119</td>\n",
              "      <td>1800</td>\n",
              "    </tr>\n",
              "    <tr>\n",
              "      <th>3052</th>\n",
              "      <td>2149</td>\n",
              "      <td>1527.203664</td>\n",
              "      <td>7518</td>\n",
              "      <td>1500</td>\n",
              "    </tr>\n",
              "    <tr>\n",
              "      <th>3053</th>\n",
              "      <td>555</td>\n",
              "      <td>1527.203664</td>\n",
              "      <td>6917</td>\n",
              "      <td>2000</td>\n",
              "    </tr>\n",
              "    <tr>\n",
              "      <th>3054</th>\n",
              "      <td>930</td>\n",
              "      <td>1540.020423</td>\n",
              "      <td>6260</td>\n",
              "      <td>2000</td>\n",
              "    </tr>\n",
              "  </tbody>\n",
              "</table>\n",
              "<p>3055 rows × 4 columns</p>\n",
              "</div>"
            ],
            "text/plain": [
              "      level_0     Column_A  index  price\n",
              "0         970   342.187308   2100    300\n",
              "1        2874   342.187308   2756    400\n",
              "2        1448   342.187308   2627    350\n",
              "3        1775   342.187308   2218    300\n",
              "4         629   342.187308   2184    350\n",
              "...       ...          ...    ...    ...\n",
              "3050      894  1303.585130   4837   1800\n",
              "3051     2690  1306.006388   6119   1800\n",
              "3052     2149  1527.203664   7518   1500\n",
              "3053      555  1527.203664   6917   2000\n",
              "3054      930  1540.020423   6260   2000\n",
              "\n",
              "[3055 rows x 4 columns]"
            ]
          },
          "metadata": {
            "tags": []
          },
          "execution_count": 89
        }
      ]
    },
    {
      "cell_type": "code",
      "metadata": {
        "id": "nZTZAh1otTWZ"
      },
      "source": [
        ""
      ],
      "execution_count": null,
      "outputs": []
    }
  ]
}